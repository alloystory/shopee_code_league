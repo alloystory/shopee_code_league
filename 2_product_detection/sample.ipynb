{
 "cells": [
  {
   "cell_type": "code",
   "execution_count": 5,
   "metadata": {},
   "outputs": [],
   "source": [
    "import pandas as pd\n",
    "import shutil\n",
    "import time\n",
    "from pathlib import Path\n",
    "\n",
    "NUM_SAMPLE_PER_CAT = 400"
   ]
  },
  {
   "cell_type": "code",
   "execution_count": 2,
   "metadata": {},
   "outputs": [
    {
     "data": {
      "text/html": [
       "<div>\n",
       "<style scoped>\n",
       "    .dataframe tbody tr th:only-of-type {\n",
       "        vertical-align: middle;\n",
       "    }\n",
       "\n",
       "    .dataframe tbody tr th {\n",
       "        vertical-align: top;\n",
       "    }\n",
       "\n",
       "    .dataframe thead th {\n",
       "        text-align: right;\n",
       "    }\n",
       "</style>\n",
       "<table border=\"1\" class=\"dataframe\">\n",
       "  <thead>\n",
       "    <tr style=\"text-align: right;\">\n",
       "      <th></th>\n",
       "      <th>filename</th>\n",
       "      <th>category</th>\n",
       "    </tr>\n",
       "  </thead>\n",
       "  <tbody>\n",
       "    <tr>\n",
       "      <th>49034</th>\n",
       "      <td>32e60381a80c8ae7d44f976aedc3598d.jpg</td>\n",
       "      <td>7</td>\n",
       "    </tr>\n",
       "    <tr>\n",
       "      <th>94448</th>\n",
       "      <td>6dac1e737bad8d8d3022ec7d92f31b3b.jpg</td>\n",
       "      <td>40</td>\n",
       "    </tr>\n",
       "    <tr>\n",
       "      <th>22076</th>\n",
       "      <td>81a4875c18c92c588187fc6d88fbc974.jpg</td>\n",
       "      <td>18</td>\n",
       "    </tr>\n",
       "    <tr>\n",
       "      <th>29975</th>\n",
       "      <td>5b13a8300e46e97c3d93aead9bc778c6.jpg</td>\n",
       "      <td>29</td>\n",
       "    </tr>\n",
       "    <tr>\n",
       "      <th>72995</th>\n",
       "      <td>4c3f0671d975a9c6ea1fd6f138ec27cf.jpg</td>\n",
       "      <td>1</td>\n",
       "    </tr>\n",
       "  </tbody>\n",
       "</table>\n",
       "</div>"
      ],
      "text/plain": [
       "                                   filename  category\n",
       "49034  32e60381a80c8ae7d44f976aedc3598d.jpg         7\n",
       "94448  6dac1e737bad8d8d3022ec7d92f31b3b.jpg        40\n",
       "22076  81a4875c18c92c588187fc6d88fbc974.jpg        18\n",
       "29975  5b13a8300e46e97c3d93aead9bc778c6.jpg        29\n",
       "72995  4c3f0671d975a9c6ea1fd6f138ec27cf.jpg         1"
      ]
     },
     "execution_count": 2,
     "metadata": {},
     "output_type": "execute_result"
    }
   ],
   "source": [
    "train_df = pd.read_csv(\"./data/train.csv\")\n",
    "sample_df = train_df.sample(frac = 1).groupby(\"category\").head(NUM_SAMPLE_PER_CAT)\n",
    "sample_df.head()"
   ]
  },
  {
   "cell_type": "code",
   "execution_count": 3,
   "metadata": {},
   "outputs": [
    {
     "data": {
      "text/html": [
       "<div>\n",
       "<style scoped>\n",
       "    .dataframe tbody tr th:only-of-type {\n",
       "        vertical-align: middle;\n",
       "    }\n",
       "\n",
       "    .dataframe tbody tr th {\n",
       "        vertical-align: top;\n",
       "    }\n",
       "\n",
       "    .dataframe thead th {\n",
       "        text-align: right;\n",
       "    }\n",
       "</style>\n",
       "<table border=\"1\" class=\"dataframe\">\n",
       "  <thead>\n",
       "    <tr style=\"text-align: right;\">\n",
       "      <th></th>\n",
       "      <th>filename</th>\n",
       "      <th>category</th>\n",
       "      <th>path</th>\n",
       "    </tr>\n",
       "  </thead>\n",
       "  <tbody>\n",
       "    <tr>\n",
       "      <th>49034</th>\n",
       "      <td>32e60381a80c8ae7d44f976aedc3598d.jpg</td>\n",
       "      <td>7</td>\n",
       "      <td>07/32e60381a80c8ae7d44f976aedc3598d.jpg</td>\n",
       "    </tr>\n",
       "    <tr>\n",
       "      <th>94448</th>\n",
       "      <td>6dac1e737bad8d8d3022ec7d92f31b3b.jpg</td>\n",
       "      <td>40</td>\n",
       "      <td>40/6dac1e737bad8d8d3022ec7d92f31b3b.jpg</td>\n",
       "    </tr>\n",
       "    <tr>\n",
       "      <th>22076</th>\n",
       "      <td>81a4875c18c92c588187fc6d88fbc974.jpg</td>\n",
       "      <td>18</td>\n",
       "      <td>18/81a4875c18c92c588187fc6d88fbc974.jpg</td>\n",
       "    </tr>\n",
       "    <tr>\n",
       "      <th>29975</th>\n",
       "      <td>5b13a8300e46e97c3d93aead9bc778c6.jpg</td>\n",
       "      <td>29</td>\n",
       "      <td>29/5b13a8300e46e97c3d93aead9bc778c6.jpg</td>\n",
       "    </tr>\n",
       "    <tr>\n",
       "      <th>72995</th>\n",
       "      <td>4c3f0671d975a9c6ea1fd6f138ec27cf.jpg</td>\n",
       "      <td>1</td>\n",
       "      <td>01/4c3f0671d975a9c6ea1fd6f138ec27cf.jpg</td>\n",
       "    </tr>\n",
       "  </tbody>\n",
       "</table>\n",
       "</div>"
      ],
      "text/plain": [
       "                                   filename  category  \\\n",
       "49034  32e60381a80c8ae7d44f976aedc3598d.jpg         7   \n",
       "94448  6dac1e737bad8d8d3022ec7d92f31b3b.jpg        40   \n",
       "22076  81a4875c18c92c588187fc6d88fbc974.jpg        18   \n",
       "29975  5b13a8300e46e97c3d93aead9bc778c6.jpg        29   \n",
       "72995  4c3f0671d975a9c6ea1fd6f138ec27cf.jpg         1   \n",
       "\n",
       "                                          path  \n",
       "49034  07/32e60381a80c8ae7d44f976aedc3598d.jpg  \n",
       "94448  40/6dac1e737bad8d8d3022ec7d92f31b3b.jpg  \n",
       "22076  18/81a4875c18c92c588187fc6d88fbc974.jpg  \n",
       "29975  29/5b13a8300e46e97c3d93aead9bc778c6.jpg  \n",
       "72995  01/4c3f0671d975a9c6ea1fd6f138ec27cf.jpg  "
      ]
     },
     "execution_count": 3,
     "metadata": {},
     "output_type": "execute_result"
    }
   ],
   "source": [
    "sample_df[\"path\"] = sample_df[\"category\"].apply(lambda x: \"{:02d}/\".format(x))\n",
    "sample_df[\"path\"] = sample_df[\"path\"] + sample_df[\"filename\"]\n",
    "sample_df.head()"
   ]
  },
  {
   "cell_type": "code",
   "execution_count": 6,
   "metadata": {},
   "outputs": [
    {
     "name": "stdout",
     "output_type": "stream",
     "text": [
      "Completed 16800 in 31.32s\r"
     ]
    }
   ],
   "source": [
    "train_dir = Path(\"./data/train/\")\n",
    "sample_dir = Path(\"./data/sample/\")\n",
    "\n",
    "start_time = time.time()\n",
    "count = 0\n",
    "for path in sample_df[\"path\"]:\n",
    "    input_filepath = train_dir / path\n",
    "    output_filepath = sample_dir / path\n",
    "    output_filepath.parent.mkdir(parents = True, exist_ok = True)\n",
    "    shutil.copy(str(input_filepath), str(output_filepath))\n",
    "    count += 1\n",
    "    print(\"Completed {} in {:.2f}s\".format(count, time.time() - start_time), end = \"\\r\")"
   ]
  },
  {
   "cell_type": "code",
   "execution_count": null,
   "metadata": {},
   "outputs": [],
   "source": []
  }
 ],
 "metadata": {
  "kernelspec": {
   "display_name": "Python 3",
   "language": "python",
   "name": "python3"
  },
  "language_info": {
   "codemirror_mode": {
    "name": "ipython",
    "version": 3
   },
   "file_extension": ".py",
   "mimetype": "text/x-python",
   "name": "python",
   "nbconvert_exporter": "python",
   "pygments_lexer": "ipython3",
   "version": "3.7.6"
  }
 },
 "nbformat": 4,
 "nbformat_minor": 4
}
