{
 "cells": [
  {
   "cell_type": "markdown",
   "metadata": {},
   "source": [
    "# Resize Images"
   ]
  },
  {
   "cell_type": "code",
   "execution_count": 20,
   "metadata": {
    "tags": []
   },
   "outputs": [],
   "source": [
    "from PIL import Image\n",
    "from pathlib import Path\n",
    "from multiprocessing import Pool"
   ]
  },
  {
   "cell_type": "code",
   "execution_count": 21,
   "metadata": {},
   "outputs": [],
   "source": [
    "def resize(args):\n",
    "    input_file, input_dir, output_dir, size = args\n",
    "    \n",
    "    filename = input_file.name\n",
    "    extended_dir = str(input_file.parent).replace(str(input_dir), \"\")\n",
    "    if extended_dir and extended_dir[0] == '/':\n",
    "        extended_dir = extended_dir[1:]\n",
    "    im = Image.open(input_file)\n",
    "    im = im.resize(size, reducing_gap = 3.0)\n",
    "    im = im.convert('RGB')\n",
    "\n",
    "    output_filepath = output_dir / extended_dir / filename\n",
    "    output_filepath.parent.mkdir(exist_ok=True, parents=True)\n",
    "    im.save(output_filepath)\n",
    "\n",
    "    return True"
   ]
  },
  {
   "cell_type": "code",
   "execution_count": 22,
   "metadata": {
    "tags": []
   },
   "outputs": [
    {
     "output_type": "stream",
     "name": "stdout",
     "text": "Completed: 0\nCompleted: 1000\nCompleted: 2000\nCompleted: 3000\nCompleted: 4000\nCompleted: 5000\nCompleted: 6000\nCompleted: 7000\nCompleted: 8000\nCompleted: 9000\nCompleted: 10000\nCompleted: 11000\nCompleted: 12000\nCompleted: 13000\nCompleted: 14000\nCompleted: 15000\nCompleted: 16000\nCompleted: 17000\nCompleted: 18000\nCompleted: 19000\nCompleted: 20000\nCompleted: 21000\nCompleted: 22000\nCompleted: 23000\nCompleted: 24000\nCompleted: 25000\nCompleted: 26000\nCompleted: 27000\nCompleted: 28000\nCompleted: 29000\nCompleted: 30000\nCompleted: 31000\nCompleted: 32000\nCompleted: 33000\nCompleted: 34000\nCompleted: 35000\nCompleted: 36000\nCompleted: 37000\nCompleted: 38000\nCompleted: 39000\nCompleted: 40000\nCompleted: 41000\nCompleted: 42000\nCompleted: 43000\nCompleted: 44000\nCompleted: 45000\nCompleted: 46000\nCompleted: 47000\nCompleted: 48000\nCompleted: 49000\nCompleted: 50000\nCompleted: 51000\nCompleted: 52000\nCompleted: 53000\nCompleted: 54000\nCompleted: 55000\nCompleted: 56000\nCompleted: 57000\nCompleted: 58000\nCompleted: 59000\nCompleted: 60000\nCompleted: 61000\nCompleted: 62000\nCompleted: 63000\nCompleted: 64000\nCompleted: 65000\nCompleted: 66000\nCompleted: 67000\nCompleted: 68000\nCompleted: 69000\nCompleted: 70000\nCompleted: 71000\nCompleted: 72000\nCompleted: 73000\nCompleted: 74000\nCompleted: 75000\nCompleted: 76000\nCompleted: 77000\nCompleted: 78000\nCompleted: 79000\nCompleted: 80000\nCompleted: 81000\nCompleted: 82000\nCompleted: 83000\nCompleted: 84000\nCompleted: 85000\nCompleted: 86000\nCompleted: 87000\nCompleted: 88000\nCompleted: 89000\nCompleted: 90000\nCompleted: 91000\nCompleted: 92000\nCompleted: 93000\nCompleted: 94000\nCompleted: 95000\nCompleted: 96000\nCompleted: 97000\nCompleted: 98000\nCompleted: 99000\nCompleted: 100000\nCompleted: 101000\nCompleted: 102000\nCompleted: 103000\nCompleted: 104000\nCompleted: 105000\nCompleted: 106000\nCompleted: 107000\nCompleted: 108000\nCompleted: 109000\nCompleted: 110000\nCompleted: 111000\nCompleted: 112000\nCompleted: 113000\nCompleted: 114000\nCompleted: 115000\nCompleted: 116000\nCompleted: 117000\n"
    }
   ],
   "source": [
    "size = 128, 128     # Size in Pixels\n",
    "count = 0\n",
    "\n",
    "for type in {\"train\", \"test\"}:\n",
    "    input_dir = Path(\"./data/{}/\".format(type))\n",
    "    output_dir = Path(\"./data/{}_small/\".format(type))\n",
    "    input_args = [(input_file, input_dir, output_dir, size) for input_file in input_dir.glob(\"**/*.jpg\")]\n",
    "\n",
    "    with Pool() as p:\n",
    "        for x in p.imap(resize, input_args):\n",
    "            if count % 1000 == 0:\n",
    "                print(\"Completed: {}\".format(count))\n",
    "            count += 1"
   ]
  }
 ],
 "metadata": {
  "language_info": {
   "codemirror_mode": {
    "name": "ipython",
    "version": 3
   },
   "file_extension": ".py",
   "mimetype": "text/x-python",
   "name": "python",
   "nbconvert_exporter": "python",
   "pygments_lexer": "ipython3",
   "version": "3.8.2-final"
  },
  "orig_nbformat": 2,
  "kernelspec": {
   "name": "python38264bitc33b5bec8ffd4f23bb1994339b3553a2",
   "display_name": "Python 3.8.2 64-bit"
  }
 },
 "nbformat": 4,
 "nbformat_minor": 2
}