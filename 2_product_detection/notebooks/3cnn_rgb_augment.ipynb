{
 "cells": [
  {
   "cell_type": "markdown",
   "metadata": {},
   "source": [
    "# 3 Layer Convolutional Neural Network"
   ]
  },
  {
   "cell_type": "code",
   "execution_count": 1,
   "metadata": {
    "tags": []
   },
   "outputs": [],
   "source": [
    "import matplotlib.pyplot as plt\n",
    "import tensorflow as tf\n",
    "from tensorflow import keras\n",
    "from tensorflow.keras.preprocessing.image import ImageDataGenerator"
   ]
  },
  {
   "cell_type": "code",
   "execution_count": 2,
   "metadata": {},
   "outputs": [],
   "source": [
    "# Constant Parameters\n",
    "# Preprocessing Parameters\n",
    "TRAIN_DIR = \"../data/train/\"\n",
    "MODEL_DIR = \"../models/\"\n",
    "VALIDATION_SPLIT = 0.2\n",
    "IMAGE_HEIGHT = IMAGE_WIDTH = 128\n",
    "SEED = 1\n",
    "\n",
    "# Training Parameters\n",
    "NUM_EPOCHS = 50\n",
    "OPTIMIZER = keras.optimizers.Adam()\n",
    "LOSS_FN = keras.losses.CategoricalCrossentropy()"
   ]
  },
  {
   "cell_type": "code",
   "execution_count": 3,
   "metadata": {},
   "outputs": [],
   "source": [
    "# Model Architecture\n",
    "def get_model(image_depth, num_classes):\n",
    "    return keras.models.Sequential([\n",
    "        # Conv Layer 1\n",
    "        keras.layers.Conv2D(32, 3, strides = 2, activation = \"relu\", input_shape = (IMAGE_HEIGHT, IMAGE_WIDTH, image_depth)),\n",
    "        keras.layers.BatchNormalization(),\n",
    "        keras.layers.MaxPool2D(pool_size = (2, 2)),\n",
    "        keras.layers.Dropout(0.2),\n",
    "        \n",
    "        # Conv Layer 2\n",
    "        keras.layers.Conv2D(64, 3, activation = \"relu\"),\n",
    "        keras.layers.BatchNormalization(),\n",
    "        keras.layers.MaxPool2D(pool_size = (2, 2)),\n",
    "        keras.layers.Dropout(0.2),\n",
    "        \n",
    "        # Conv Layer 3\n",
    "        keras.layers.Conv2D(128, 3, activation = \"relu\"),\n",
    "        keras.layers.BatchNormalization(),\n",
    "        keras.layers.MaxPool2D(pool_size = (2, 2)),\n",
    "        keras.layers.Dropout(0.2),\n",
    "        \n",
    "        keras.layers.Flatten(),\n",
    "        keras.layers.Dense(512, activation = \"relu\"),\n",
    "        keras.layers.Dense(num_classes, activation = \"softmax\")\n",
    "    ])"
   ]
  },
  {
   "cell_type": "markdown",
   "metadata": {},
   "source": [
    "## Preprocessing - RGB + Augment"
   ]
  },
  {
   "cell_type": "code",
   "execution_count": 4,
   "metadata": {
    "code_folding": []
   },
   "outputs": [],
   "source": [
    "model_id = \"3cnn_rgb_augment\"              # Unique Identifier used for saving model\n",
    "color_mode = \"rgb\"                        # \"rgb\", \"rgba\" or \"grayscale\"\n",
    "\n",
    "# DO NOT CHANGE\n",
    "if color_mode == \"grayscale\":\n",
    "    image_depth = 1\n",
    "elif color_mode == \"rgb\":\n",
    "    image_depth = 3\n",
    "elif color_mode == \"rgba\":\n",
    "    image_depth = 4\n",
    "else:\n",
    "    raise Exception()"
   ]
  },
  {
   "cell_type": "code",
   "execution_count": 5,
   "metadata": {},
   "outputs": [],
   "source": [
    "# Data Augmentation Parameters\n",
    "image_generator = ImageDataGenerator(\n",
    "    validation_split = VALIDATION_SPLIT,\n",
    "    rescale = 1./255,\n",
    "    rotation_range = 45,\n",
    "    horizontal_flip = True,\n",
    "    vertical_flip = True,\n",
    "    zoom_range = 0.4\n",
    ")"
   ]
  },
  {
   "cell_type": "code",
   "execution_count": 6,
   "metadata": {
    "tags": []
   },
   "outputs": [
    {
     "name": "stdout",
     "output_type": "stream",
     "text": [
      "Found 84331 images belonging to 42 classes.\n"
     ]
    }
   ],
   "source": [
    "train_data_gen = image_generator.flow_from_directory(\n",
    "    color_mode = color_mode,\n",
    "    directory = TRAIN_DIR,\n",
    "    target_size = (IMAGE_HEIGHT, IMAGE_WIDTH),\n",
    "    shuffle = True,\n",
    "    seed = SEED,\n",
    "    class_mode = \"categorical\",\n",
    "    subset = \"training\"\n",
    ")"
   ]
  },
  {
   "cell_type": "code",
   "execution_count": 7,
   "metadata": {
    "tags": []
   },
   "outputs": [
    {
     "name": "stdout",
     "output_type": "stream",
     "text": [
      "Found 21061 images belonging to 42 classes.\n"
     ]
    }
   ],
   "source": [
    "validation_data_gen = image_generator.flow_from_directory(\n",
    "    color_mode = color_mode,\n",
    "    directory = TRAIN_DIR,\n",
    "    target_size = (IMAGE_HEIGHT, IMAGE_WIDTH),\n",
    "    class_mode = \"categorical\",\n",
    "    subset = \"validation\"\n",
    ")"
   ]
  },
  {
   "cell_type": "code",
   "execution_count": 8,
   "metadata": {},
   "outputs": [],
   "source": [
    "model = get_model(image_depth, train_data_gen.num_classes)"
   ]
  },
  {
   "cell_type": "code",
   "execution_count": 9,
   "metadata": {},
   "outputs": [],
   "source": [
    "model.compile(\n",
    "    optimizer = OPTIMIZER,\n",
    "    loss = LOSS_FN,\n",
    "    metrics = [\"accuracy\"]\n",
    ")"
   ]
  },
  {
   "cell_type": "code",
   "execution_count": 10,
   "metadata": {
    "scrolled": false
   },
   "outputs": [
    {
     "name": "stdout",
     "output_type": "stream",
     "text": [
      "Model: \"sequential\"\n",
      "_________________________________________________________________\n",
      "Layer (type)                 Output Shape              Param #   \n",
      "=================================================================\n",
      "conv2d (Conv2D)              (None, 63, 63, 32)        896       \n",
      "_________________________________________________________________\n",
      "batch_normalization (BatchNo (None, 63, 63, 32)        128       \n",
      "_________________________________________________________________\n",
      "max_pooling2d (MaxPooling2D) (None, 31, 31, 32)        0         \n",
      "_________________________________________________________________\n",
      "dropout (Dropout)            (None, 31, 31, 32)        0         \n",
      "_________________________________________________________________\n",
      "conv2d_1 (Conv2D)            (None, 29, 29, 64)        18496     \n",
      "_________________________________________________________________\n",
      "batch_normalization_1 (Batch (None, 29, 29, 64)        256       \n",
      "_________________________________________________________________\n",
      "max_pooling2d_1 (MaxPooling2 (None, 14, 14, 64)        0         \n",
      "_________________________________________________________________\n",
      "dropout_1 (Dropout)          (None, 14, 14, 64)        0         \n",
      "_________________________________________________________________\n",
      "conv2d_2 (Conv2D)            (None, 12, 12, 128)       73856     \n",
      "_________________________________________________________________\n",
      "batch_normalization_2 (Batch (None, 12, 12, 128)       512       \n",
      "_________________________________________________________________\n",
      "max_pooling2d_2 (MaxPooling2 (None, 6, 6, 128)         0         \n",
      "_________________________________________________________________\n",
      "dropout_2 (Dropout)          (None, 6, 6, 128)         0         \n",
      "_________________________________________________________________\n",
      "flatten (Flatten)            (None, 4608)              0         \n",
      "_________________________________________________________________\n",
      "dense (Dense)                (None, 512)               2359808   \n",
      "_________________________________________________________________\n",
      "dense_1 (Dense)              (None, 42)                21546     \n",
      "=================================================================\n",
      "Total params: 2,475,498\n",
      "Trainable params: 2,475,050\n",
      "Non-trainable params: 448\n",
      "_________________________________________________________________\n"
     ]
    }
   ],
   "source": [
    "model.summary()"
   ]
  },
  {
   "cell_type": "code",
   "execution_count": null,
   "metadata": {
    "tags": []
   },
   "outputs": [
    {
     "name": "stdout",
     "output_type": "stream",
     "text": [
      "Epoch 1/50\n",
      "2636/2636 [==============================] - 1410s 535ms/step - loss: 3.4304 - accuracy: 0.1108 - val_loss: 3.2675 - val_accuracy: 0.1383\n",
      "Epoch 2/50\n",
      "2636/2636 [==============================] - 1329s 504ms/step - loss: 3.1680 - accuracy: 0.1627 - val_loss: 3.2269 - val_accuracy: 0.1541\n",
      "Epoch 3/50\n",
      "2636/2636 [==============================] - 1308s 496ms/step - loss: 3.0572 - accuracy: 0.1882 - val_loss: 3.3086 - val_accuracy: 0.1578\n",
      "Epoch 4/50\n",
      "2636/2636 [==============================] - 1282s 486ms/step - loss: 2.9802 - accuracy: 0.2090 - val_loss: 3.0817 - val_accuracy: 0.1898\n",
      "Epoch 5/50\n",
      "2636/2636 [==============================] - 1427s 541ms/step - loss: 2.9137 - accuracy: 0.2255 - val_loss: 2.8739 - val_accuracy: 0.2382\n",
      "Epoch 6/50\n",
      "2636/2636 [==============================] - 1262s 479ms/step - loss: 2.8626 - accuracy: 0.2391 - val_loss: 2.8542 - val_accuracy: 0.2447\n",
      "Epoch 7/50\n",
      "2636/2636 [==============================] - 1268s 481ms/step - loss: 2.8114 - accuracy: 0.2497 - val_loss: 2.8609 - val_accuracy: 0.2480\n",
      "Epoch 8/50\n",
      "2636/2636 [==============================] - 1224s 464ms/step - loss: 2.7730 - accuracy: 0.2595 - val_loss: 3.2217 - val_accuracy: 0.1787\n",
      "Epoch 9/50\n",
      "1194/2636 [============>.................] - ETA: 7:47 - loss: 2.7333 - accuracy: 0.2715"
     ]
    }
   ],
   "source": [
    "history = model.fit(\n",
    "    train_data_gen,\n",
    "    epochs = NUM_EPOCHS,\n",
    "    validation_data = validation_data_gen\n",
    ")"
   ]
  },
  {
   "cell_type": "code",
   "execution_count": null,
   "metadata": {},
   "outputs": [],
   "source": [
    "acc = history.history[\"accuracy\"]\n",
    "loss = history.history[\"loss\"]\n",
    "validation_acc = history.history[\"val_accuracy\"]\n",
    "validation_loss = history.history[\"val_loss\"]\n",
    "\n",
    "epochs_range = range(NUM_EPOCHS)\n",
    "\n",
    "plt.figure(figsize = (8, 8))\n",
    "plt.subplot(1, 2, 1)\n",
    "plt.plot(epochs_range, acc, label = \"Training Accuracy\")\n",
    "plt.plot(epochs_range, validation_acc, label = \"Validation Accuracy\")\n",
    "plt.legend(loc = \"lower right\")\n",
    "plt.title(\"Training and Validation Accuracy\")\n",
    "\n",
    "plt.subplot(1, 2, 2)\n",
    "plt.plot(epochs_range, loss, label = \"Training Loss\")\n",
    "plt.plot(epochs_range, validation_loss, label = \"Validation Loss\")\n",
    "plt.legend(loc = \"lower right\")\n",
    "plt.title(\"Training and Validation Loss\")\n",
    "plt.show()"
   ]
  },
  {
   "cell_type": "code",
   "execution_count": null,
   "metadata": {},
   "outputs": [],
   "source": [
    "model.save(MODEL_DIR + \"{}.h5\".format(model_id))"
   ]
  }
 ],
 "metadata": {
  "kernelspec": {
   "display_name": "Python 3",
   "language": "python",
   "name": "python3"
  },
  "language_info": {
   "codemirror_mode": {
    "name": "ipython",
    "version": 3
   },
   "file_extension": ".py",
   "mimetype": "text/x-python",
   "name": "python",
   "nbconvert_exporter": "python",
   "pygments_lexer": "ipython3",
   "version": "3.7.6"
  },
  "toc": {
   "base_numbering": 1,
   "nav_menu": {},
   "number_sections": false,
   "sideBar": true,
   "skip_h1_title": false,
   "title_cell": "Table of Contents",
   "title_sidebar": "Contents",
   "toc_cell": false,
   "toc_position": {},
   "toc_section_display": true,
   "toc_window_display": false
  }
 },
 "nbformat": 4,
 "nbformat_minor": 2
}
