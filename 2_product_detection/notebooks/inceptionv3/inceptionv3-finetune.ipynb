{
 "cells": [
  {
   "cell_type": "markdown",
   "metadata": {},
   "source": [
    "# Inception V3"
   ]
  },
  {
   "cell_type": "code",
   "execution_count": 1,
   "metadata": {
    "tags": []
   },
   "outputs": [],
   "source": [
    "import os\n",
    "import shutil\n",
    "import numpy as np\n",
    "import matplotlib.pyplot as plt\n",
    "import tensorflow as tf\n",
    "from pathlib import Path\n",
    "from sklearn.model_selection import train_test_split\n",
    "from sklearn.utils import class_weight\n",
    "from imgaug import augmenters as iaa"
   ]
  },
  {
   "cell_type": "code",
   "execution_count": 2,
   "metadata": {
    "code_folding": []
   },
   "outputs": [],
   "source": [
    "MODEL_ID = \"iv3_last5\"\n",
    "\n",
    "TRAIN_DIR = Path(\"../../data/train_clean\")\n",
    "MODEL_DIR = Path(\"./models\")\n",
    "LOG_DIR = Path(\"./log\")\n",
    "CACHE_DIR = Path(\"./tmp/cache\")\n",
    "\n",
    "BATCH_SIZE = 64\n",
    "VAL_SPLIT = 0.25\n",
    "IMG_HEIGHT = IMG_WIDTH = 224\n",
    "GPU_MEMORY_LIMIT = None\n",
    "SEED = 1\n",
    "\n",
    "NUM_EPOCHS = 100\n",
    "INITIAL_EPOCH = 0\n",
    "LOAD_MODEL_PATH = None"
   ]
  },
  {
   "cell_type": "code",
   "execution_count": 3,
   "metadata": {},
   "outputs": [],
   "source": [
    "# Remove cache directory if available\n",
    "if CACHE_DIR.exists():\n",
    "    shutil.rmtree(CACHE_DIR, ignore_errors = True)\n",
    "\n",
    "MODEL_DIR.mkdir(parents = True, exist_ok = True)\n",
    "LOG_DIR.mkdir(parents = True, exist_ok = True)\n",
    "CACHE_DIR.mkdir(parents = True, exist_ok = True)"
   ]
  },
  {
   "cell_type": "code",
   "execution_count": 4,
   "metadata": {},
   "outputs": [],
   "source": [
    "# Set global seed for reproducible results\n",
    "tf.random.set_seed(SEED)"
   ]
  },
  {
   "cell_type": "code",
   "execution_count": 5,
   "metadata": {},
   "outputs": [],
   "source": [
    "# Limit GPU Memory Usage to GPU_MEMORY_LIMIT\n",
    "gpus = tf.config.experimental.list_physical_devices('GPU')\n",
    "if gpus and GPU_MEMORY_LIMIT:\n",
    "    try:\n",
    "        tf.config.experimental.set_virtual_device_configuration(\n",
    "            gpus[0],\n",
    "            [tf.config.experimental.VirtualDeviceConfiguration(memory_limit = GPU_MEMORY_LIMIT)])\n",
    "        logical_gpus = tf.config.experimental.list_logical_devices('GPU')\n",
    "        print(len(gpus), \"Physical GPUs,\", len(logical_gpus), \"Logical GPUs\")\n",
    "    except RuntimeError as e:\n",
    "        # Virtual devices must be set before GPUs have been initialized\n",
    "        print(e)"
   ]
  },
  {
   "cell_type": "markdown",
   "metadata": {},
   "source": [
    "## Loading Images"
   ]
  },
  {
   "cell_type": "code",
   "execution_count": 6,
   "metadata": {},
   "outputs": [
    {
     "name": "stdout",
     "output_type": "stream",
     "text": [
      "Train: Found 76660 images belonging to 42 classes\n",
      "Validation: Found 25554 images belonging to 42 classes\n"
     ]
    }
   ],
   "source": [
    "X_train, X_test = train_test_split(\n",
    "    list(TRAIN_DIR.glob(\"**/*.jpg\")),\n",
    "    test_size = VAL_SPLIT,\n",
    "    random_state = SEED\n",
    ")\n",
    "\n",
    "train_filepaths = []\n",
    "train_classes = []\n",
    "\n",
    "val_filepaths = []\n",
    "val_classes = []\n",
    "\n",
    "for filepath in X_train:\n",
    "    train_filepaths.append(str(filepath))\n",
    "    train_classes.append(filepath.parts[-2])\n",
    "print(\"Train: Found {} images belonging to {} classes\".format(len(train_filepaths), len(set(train_classes))))\n",
    "    \n",
    "for filepath in X_test:\n",
    "    val_filepaths.append(str(filepath))\n",
    "    val_classes.append(filepath.parts[-2])\n",
    "print(\"Validation: Found {} images belonging to {} classes\".format(len(val_filepaths), len(set(val_classes))))\n",
    "    \n",
    "train_filepaths = np.array(train_filepaths)\n",
    "val_filepaths = np.array(val_filepaths)\n",
    "\n",
    "classes = np.array(train_classes + val_classes)\n",
    "classes = np.unique(classes)\n",
    "classes = np.sort(classes)\n",
    "\n",
    "class_weights = class_weight.compute_class_weight(\"balanced\", np.unique(train_classes), train_classes)"
   ]
  },
  {
   "cell_type": "code",
   "execution_count": 7,
   "metadata": {
    "scrolled": false
   },
   "outputs": [
    {
     "name": "stdout",
     "output_type": "stream",
     "text": [
      "b'..\\\\..\\\\data\\\\train_clean\\\\15\\\\aea73be6a13ef3f176ea83af10d3a44f.jpg'\n",
      "b'..\\\\..\\\\data\\\\train_clean\\\\15\\\\0f266821a01473426ad2a4c1eea6559b.jpg'\n",
      "b'..\\\\..\\\\data\\\\train_clean\\\\22\\\\fda5669644e01774dee3589b6b3096ff.jpg'\n"
     ]
    }
   ],
   "source": [
    "train_fp_ds = tf.data.Dataset.from_tensor_slices(train_filepaths)\n",
    "for f in train_fp_ds.take(3):\n",
    "    print(f.numpy())"
   ]
  },
  {
   "cell_type": "code",
   "execution_count": 8,
   "metadata": {
    "scrolled": false
   },
   "outputs": [
    {
     "name": "stdout",
     "output_type": "stream",
     "text": [
      "b'..\\\\..\\\\data\\\\train_clean\\\\41\\\\6c56a80536904eb7e9d9d189e9a61e40.jpg'\n",
      "b'..\\\\..\\\\data\\\\train_clean\\\\28\\\\dc96785cf7bea661993b0149dfca0f68.jpg'\n",
      "b'..\\\\..\\\\data\\\\train_clean\\\\23\\\\6e4d7a14361d145621d7ab5424ad766a.jpg'\n"
     ]
    }
   ],
   "source": [
    "val_fp_ds = tf.data.Dataset.from_tensor_slices(val_filepaths)\n",
    "for f in val_fp_ds.take(3):\n",
    "    print(f.numpy())"
   ]
  },
  {
   "cell_type": "code",
   "execution_count": 9,
   "metadata": {},
   "outputs": [],
   "source": [
    "def load_img(file_path):\n",
    "    parts = tf.strings.split(file_path, os.path.sep)\n",
    "    label = parts[-2] == classes\n",
    "    \n",
    "    img = tf.io.read_file(file_path)\n",
    "    img = tf.image.decode_jpeg(img, channels = 3)\n",
    "    img = tf.image.convert_image_dtype(img, tf.float32)\n",
    "    img = tf.image.resize(img, [IMG_HEIGHT, IMG_WIDTH]) \n",
    "    \n",
    "    return img, label"
   ]
  },
  {
   "cell_type": "code",
   "execution_count": 10,
   "metadata": {},
   "outputs": [
    {
     "name": "stdout",
     "output_type": "stream",
     "text": [
      "Image shape:  (224, 224, 3)\n",
      "Label:  [False False False False False False False False False False False False\n",
      " False False False  True False False False False False False False False\n",
      " False False False False False False False False False False False False\n",
      " False False False False False False]\n"
     ]
    }
   ],
   "source": [
    "train_img_ds = train_fp_ds.map(load_img, num_parallel_calls = tf.data.experimental.AUTOTUNE)\n",
    "for image, label in train_img_ds.take(1):\n",
    "    print(\"Image shape: \", image.numpy().shape)\n",
    "    print(\"Label: \", label.numpy())"
   ]
  },
  {
   "cell_type": "code",
   "execution_count": 11,
   "metadata": {
    "scrolled": true
   },
   "outputs": [
    {
     "name": "stdout",
     "output_type": "stream",
     "text": [
      "Image shape:  (224, 224, 3)\n",
      "Label:  [False False False False False False False False False False False False\n",
      " False False False False False False False False False False False False\n",
      " False False False False False False False False False False False False\n",
      " False False False False False  True]\n"
     ]
    }
   ],
   "source": [
    "val_img_ds = val_fp_ds.map(load_img, num_parallel_calls = tf.data.experimental.AUTOTUNE)\n",
    "for image, label in val_img_ds.take(1):\n",
    "    print(\"Image shape: \", image.numpy().shape)\n",
    "    print(\"Label: \", label.numpy())"
   ]
  },
  {
   "cell_type": "markdown",
   "metadata": {},
   "source": [
    "## Image Preprocessing"
   ]
  },
  {
   "cell_type": "code",
   "execution_count": 12,
   "metadata": {},
   "outputs": [],
   "source": [
    "def augment(img, label):\n",
    "    def augment_inner(img, label):\n",
    "        img = img.numpy()\n",
    "        augmenters = iaa.OneOf([\n",
    "            iaa.Affine(rotate=(-35, 35), mode=\"edge\"),\n",
    "            iaa.Affine(scale=(1.0, 1.2), rotate=(-22.5, 22.5), mode=\"edge\"),\n",
    "            iaa.LinearContrast((0.8, 1.3)),\n",
    "            iaa.Sequential([iaa.Affine(rotate=(-22.5, 22.5), mode=\"edge\"), iaa.LinearContrast((0.8, 1.2))]),\n",
    "            iaa.Fliplr(1),\n",
    "            iaa.Sequential([iaa.Fliplr(1), iaa.Affine(rotate=(-35, 35), mode=\"edge\")]),\n",
    "            iaa.Sequential([iaa.Fliplr(1), iaa.Affine(scale=(1.0, 1.2))]),\n",
    "            iaa.Sequential([iaa.Fliplr(1), iaa.Affine(scale=(1.0, 1.2), rotate=(-22.5, 22.5), mode=\"edge\")]),\n",
    "            iaa.GaussianBlur(sigma=(0.0, 1.3)),\n",
    "            iaa.Cutout(nb_iterations=(1, 2), size=0.4),\n",
    "            iaa.Cutout(nb_iterations=(3, 5), size=0.2),\n",
    "        ]) \n",
    "        img = augmenters.augment_image(img)\n",
    "        img = tf.clip_by_value(img, 0, 1)\n",
    "        return img, label\n",
    "    output = tf.py_function(augment_inner, [img, label], [tf.float32, tf.bool])\n",
    "    output[0].set_shape(img.get_shape())\n",
    "    output[1].set_shape(label.get_shape())\n",
    "    return output"
   ]
  },
  {
   "cell_type": "code",
   "execution_count": 13,
   "metadata": {},
   "outputs": [],
   "source": [
    "processed_train_ds = train_img_ds \\\n",
    "                        .cache(str(CACHE_DIR / \"train.tfcache\")) \\\n",
    "                        .map(augment, num_parallel_calls = tf.data.experimental.AUTOTUNE) \\\n",
    "                        .shuffle(BATCH_SIZE * 20, seed = SEED) \\\n",
    "                        .repeat() \\\n",
    "                        .batch(BATCH_SIZE) \\\n",
    "                        .prefetch(tf.data.experimental.AUTOTUNE)"
   ]
  },
  {
   "cell_type": "code",
   "execution_count": 14,
   "metadata": {},
   "outputs": [],
   "source": [
    "processed_val_ds = val_img_ds \\\n",
    "                        .batch(BATCH_SIZE) \\\n",
    "                        .prefetch(tf.data.experimental.AUTOTUNE)"
   ]
  },
  {
   "cell_type": "markdown",
   "metadata": {},
   "source": [
    "## Training Model"
   ]
  },
  {
   "cell_type": "code",
   "execution_count": 15,
   "metadata": {},
   "outputs": [],
   "source": [
    "if not LOAD_MODEL_PATH:\n",
    "    model = tf.keras.models.Sequential()\n",
    "    model.add(tf.keras.applications.InceptionV3(\n",
    "            include_top = False,\n",
    "            input_shape = (IMG_HEIGHT, IMG_WIDTH, 3)\n",
    "    ))\n",
    "    model.add(tf.keras.layers.Flatten())\n",
    "    model.add(tf.keras.layers.Dense(4096, activation = \"relu\"))\n",
    "    model.add(tf.keras.layers.Dropout(0.3))\n",
    "    model.add(tf.keras.layers.Dense(len(classes), activation = \"softmax\"))\n",
    "\n",
    "    model.compile(\n",
    "        optimizer = tf.keras.optimizers.SGD(),\n",
    "        loss = tf.keras.losses.CategoricalCrossentropy(label_smoothing = 0.1),\n",
    "        metrics = [\"accuracy\"]\n",
    "    )\n",
    "else:\n",
    "    model = tf.keras.models.load_model(str(LOAD_MODEL_PATH))"
   ]
  },
  {
   "cell_type": "code",
   "execution_count": 16,
   "metadata": {
    "scrolled": false
   },
   "outputs": [
    {
     "name": "stdout",
     "output_type": "stream",
     "text": [
      "Model: \"sequential\"\n",
      "_________________________________________________________________\n",
      "Layer (type)                 Output Shape              Param #   \n",
      "=================================================================\n",
      "inception_v3 (Model)         (None, 5, 5, 2048)        21802784  \n",
      "_________________________________________________________________\n",
      "flatten (Flatten)            (None, 51200)             0         \n",
      "_________________________________________________________________\n",
      "dense (Dense)                (None, 4096)              209719296 \n",
      "_________________________________________________________________\n",
      "dropout (Dropout)            (None, 4096)              0         \n",
      "_________________________________________________________________\n",
      "dense_1 (Dense)              (None, 42)                172074    \n",
      "=================================================================\n",
      "Total params: 231,694,154\n",
      "Trainable params: 231,659,722\n",
      "Non-trainable params: 34,432\n",
      "_________________________________________________________________\n"
     ]
    }
   ],
   "source": [
    "model.summary()"
   ]
  },
  {
   "cell_type": "code",
   "execution_count": 17,
   "metadata": {
    "scrolled": true
   },
   "outputs": [
    {
     "name": "stdout",
     "output_type": "stream",
     "text": [
      "models\\iv3_last5.{epoch:03d}-{val_accuracy:.4f}.h5\n",
      "log\\iv3_last5.csv\n"
     ]
    }
   ],
   "source": [
    "checkpoint_path = MODEL_DIR / (MODEL_ID + \".{epoch:03d}-{val_accuracy:.4f}.h5\")\n",
    "log_path = (LOG_DIR / MODEL_ID).with_suffix(\".csv\")\n",
    "\n",
    "print(checkpoint_path)\n",
    "print(log_path)"
   ]
  },
  {
   "cell_type": "code",
   "execution_count": 18,
   "metadata": {
    "scrolled": false,
    "tags": []
   },
   "outputs": [
    {
     "name": "stdout",
     "output_type": "stream",
     "text": [
      "Epoch 1/100\n",
      "1197/1197 [==============================] - 866s 723ms/step - loss: 1.9188 - accuracy: 0.5979 - val_loss: 1.5464 - val_accuracy: 0.7157\n",
      "Epoch 2/100\n",
      "1197/1197 [==============================] - 770s 643ms/step - loss: 1.5340 - accuracy: 0.7191 - val_loss: 1.4666 - val_accuracy: 0.7437\n",
      "Epoch 3/100\n",
      "1197/1197 [==============================] - 767s 641ms/step - loss: 1.4040 - accuracy: 0.7622 - val_loss: 1.4240 - val_accuracy: 0.7577\n",
      "Epoch 4/100\n",
      "1197/1197 [==============================] - 768s 642ms/step - loss: 1.3105 - accuracy: 0.7929 - val_loss: 1.4114 - val_accuracy: 0.7646\n",
      "Epoch 5/100\n",
      "1197/1197 [==============================] - 769s 643ms/step - loss: 1.2414 - accuracy: 0.8161 - val_loss: 1.4065 - val_accuracy: 0.7687\n",
      "Epoch 6/100\n",
      "1197/1197 [==============================] - 774s 647ms/step - loss: 1.1801 - accuracy: 0.8382 - val_loss: 1.3942 - val_accuracy: 0.7736\n",
      "Epoch 7/100\n",
      "1197/1197 [==============================] - 773s 646ms/step - loss: 1.1259 - accuracy: 0.8580 - val_loss: 1.4129 - val_accuracy: 0.7723\n",
      "Epoch 8/100\n",
      "1197/1197 [==============================] - 795s 664ms/step - loss: 1.0793 - accuracy: 0.8751 - val_loss: 1.4063 - val_accuracy: 0.7767\n",
      "Epoch 9/100\n",
      "1197/1197 [==============================] - 778s 650ms/step - loss: 1.0364 - accuracy: 0.8932 - val_loss: 1.4058 - val_accuracy: 0.7784\n",
      "Epoch 10/100\n",
      "1197/1197 [==============================] - 778s 650ms/step - loss: 1.0011 - accuracy: 0.9064 - val_loss: 1.4145 - val_accuracy: 0.7796\n",
      "Epoch 11/100\n",
      "1197/1197 [==============================] - 763s 637ms/step - loss: 0.9727 - accuracy: 0.9169 - val_loss: 1.4222 - val_accuracy: 0.7794\n",
      "Epoch 12/100\n",
      "1197/1197 [==============================] - 765s 639ms/step - loss: 0.9436 - accuracy: 0.9283 - val_loss: 1.4277 - val_accuracy: 0.7786\n",
      "Epoch 13/100\n",
      "1197/1197 [==============================] - 774s 647ms/step - loss: 0.9205 - accuracy: 0.9376 - val_loss: 1.4155 - val_accuracy: 0.7816\n",
      "Epoch 14/100\n",
      "1197/1197 [==============================] - 766s 640ms/step - loss: 0.9047 - accuracy: 0.9426 - val_loss: 1.4195 - val_accuracy: 0.7808\n",
      "Epoch 15/100\n",
      "1197/1197 [==============================] - 762s 636ms/step - loss: 0.8873 - accuracy: 0.9497 - val_loss: 1.4208 - val_accuracy: 0.7805\n",
      "Epoch 16/100\n",
      "1197/1197 [==============================] - 793s 663ms/step - loss: 0.8738 - accuracy: 0.9543 - val_loss: 1.4214 - val_accuracy: 0.7831\n",
      "Epoch 17/100\n",
      "1197/1197 [==============================] - 783s 654ms/step - loss: 0.8599 - accuracy: 0.9595 - val_loss: 1.4177 - val_accuracy: 0.7832\n",
      "Epoch 18/100\n",
      "1197/1197 [==============================] - 779s 651ms/step - loss: 0.8483 - accuracy: 0.9638 - val_loss: 1.4151 - val_accuracy: 0.7839\n",
      "Epoch 19/100\n",
      "1197/1197 [==============================] - 769s 643ms/step - loss: 0.8390 - accuracy: 0.9669 - val_loss: 1.4121 - val_accuracy: 0.7838\n",
      "Epoch 20/100\n",
      "1197/1197 [==============================] - 768s 641ms/step - loss: 0.8321 - accuracy: 0.9700 - val_loss: 1.4338 - val_accuracy: 0.7827\n",
      "Epoch 21/100\n",
      "1197/1197 [==============================] - 800s 668ms/step - loss: 0.8251 - accuracy: 0.9710 - val_loss: 1.4148 - val_accuracy: 0.7856\n",
      "Epoch 22/100\n",
      "1197/1197 [==============================] - 787s 658ms/step - loss: 0.8146 - accuracy: 0.9754 - val_loss: 1.4084 - val_accuracy: 0.7869\n",
      "Epoch 23/100\n",
      "1197/1197 [==============================] - 772s 645ms/step - loss: 0.8121 - accuracy: 0.9754 - val_loss: 1.4090 - val_accuracy: 0.7861\n",
      "Epoch 24/100\n",
      "  31/1197 [..............................] - ETA: 7:39 - loss: 0.8103 - accuracy: 0.9743"
     ]
    },
    {
     "ename": "KeyboardInterrupt",
     "evalue": "",
     "output_type": "error",
     "traceback": [
      "\u001b[1;31m---------------------------------------------------------------------------\u001b[0m",
      "\u001b[1;31mKeyboardInterrupt\u001b[0m                         Traceback (most recent call last)",
      "\u001b[1;32m<ipython-input-18-143a5425e00e>\u001b[0m in \u001b[0;36m<module>\u001b[1;34m\u001b[0m\n\u001b[0;32m     19\u001b[0m             \u001b[0mmonitor\u001b[0m \u001b[1;33m=\u001b[0m \u001b[1;34m\"val_accuracy\"\u001b[0m\u001b[1;33m,\u001b[0m\u001b[1;33m\u001b[0m\u001b[1;33m\u001b[0m\u001b[0m\n\u001b[0;32m     20\u001b[0m             \u001b[0mmode\u001b[0m \u001b[1;33m=\u001b[0m \u001b[1;34m\"max\"\u001b[0m\u001b[1;33m,\u001b[0m\u001b[1;33m\u001b[0m\u001b[1;33m\u001b[0m\u001b[0m\n\u001b[1;32m---> 21\u001b[1;33m             \u001b[0msave_best_only\u001b[0m \u001b[1;33m=\u001b[0m \u001b[1;32mTrue\u001b[0m\u001b[1;33m\u001b[0m\u001b[1;33m\u001b[0m\u001b[0m\n\u001b[0m\u001b[0;32m     22\u001b[0m         )\n\u001b[0;32m     23\u001b[0m     ]\n",
      "\u001b[1;32m~\\anaconda3\\lib\\site-packages\\tensorflow\\python\\keras\\engine\\training.py\u001b[0m in \u001b[0;36m_method_wrapper\u001b[1;34m(self, *args, **kwargs)\u001b[0m\n\u001b[0;32m     64\u001b[0m   \u001b[1;32mdef\u001b[0m \u001b[0m_method_wrapper\u001b[0m\u001b[1;33m(\u001b[0m\u001b[0mself\u001b[0m\u001b[1;33m,\u001b[0m \u001b[1;33m*\u001b[0m\u001b[0margs\u001b[0m\u001b[1;33m,\u001b[0m \u001b[1;33m**\u001b[0m\u001b[0mkwargs\u001b[0m\u001b[1;33m)\u001b[0m\u001b[1;33m:\u001b[0m\u001b[1;33m\u001b[0m\u001b[1;33m\u001b[0m\u001b[0m\n\u001b[0;32m     65\u001b[0m     \u001b[1;32mif\u001b[0m \u001b[1;32mnot\u001b[0m \u001b[0mself\u001b[0m\u001b[1;33m.\u001b[0m\u001b[0m_in_multi_worker_mode\u001b[0m\u001b[1;33m(\u001b[0m\u001b[1;33m)\u001b[0m\u001b[1;33m:\u001b[0m  \u001b[1;31m# pylint: disable=protected-access\u001b[0m\u001b[1;33m\u001b[0m\u001b[1;33m\u001b[0m\u001b[0m\n\u001b[1;32m---> 66\u001b[1;33m       \u001b[1;32mreturn\u001b[0m \u001b[0mmethod\u001b[0m\u001b[1;33m(\u001b[0m\u001b[0mself\u001b[0m\u001b[1;33m,\u001b[0m \u001b[1;33m*\u001b[0m\u001b[0margs\u001b[0m\u001b[1;33m,\u001b[0m \u001b[1;33m**\u001b[0m\u001b[0mkwargs\u001b[0m\u001b[1;33m)\u001b[0m\u001b[1;33m\u001b[0m\u001b[1;33m\u001b[0m\u001b[0m\n\u001b[0m\u001b[0;32m     67\u001b[0m \u001b[1;33m\u001b[0m\u001b[0m\n\u001b[0;32m     68\u001b[0m     \u001b[1;31m# Running inside `run_distribute_coordinator` already.\u001b[0m\u001b[1;33m\u001b[0m\u001b[1;33m\u001b[0m\u001b[1;33m\u001b[0m\u001b[0m\n",
      "\u001b[1;32m~\\anaconda3\\lib\\site-packages\\tensorflow\\python\\keras\\engine\\training.py\u001b[0m in \u001b[0;36mfit\u001b[1;34m(self, x, y, batch_size, epochs, verbose, callbacks, validation_split, validation_data, shuffle, class_weight, sample_weight, initial_epoch, steps_per_epoch, validation_steps, validation_batch_size, validation_freq, max_queue_size, workers, use_multiprocessing)\u001b[0m\n\u001b[0;32m    846\u001b[0m                 batch_size=batch_size):\n\u001b[0;32m    847\u001b[0m               \u001b[0mcallbacks\u001b[0m\u001b[1;33m.\u001b[0m\u001b[0mon_train_batch_begin\u001b[0m\u001b[1;33m(\u001b[0m\u001b[0mstep\u001b[0m\u001b[1;33m)\u001b[0m\u001b[1;33m\u001b[0m\u001b[1;33m\u001b[0m\u001b[0m\n\u001b[1;32m--> 848\u001b[1;33m               \u001b[0mtmp_logs\u001b[0m \u001b[1;33m=\u001b[0m \u001b[0mtrain_function\u001b[0m\u001b[1;33m(\u001b[0m\u001b[0miterator\u001b[0m\u001b[1;33m)\u001b[0m\u001b[1;33m\u001b[0m\u001b[1;33m\u001b[0m\u001b[0m\n\u001b[0m\u001b[0;32m    849\u001b[0m               \u001b[1;31m# Catch OutOfRangeError for Datasets of unknown size.\u001b[0m\u001b[1;33m\u001b[0m\u001b[1;33m\u001b[0m\u001b[1;33m\u001b[0m\u001b[0m\n\u001b[0;32m    850\u001b[0m               \u001b[1;31m# This blocks until the batch has finished executing.\u001b[0m\u001b[1;33m\u001b[0m\u001b[1;33m\u001b[0m\u001b[1;33m\u001b[0m\u001b[0m\n",
      "\u001b[1;32m~\\anaconda3\\lib\\site-packages\\tensorflow\\python\\eager\\def_function.py\u001b[0m in \u001b[0;36m__call__\u001b[1;34m(self, *args, **kwds)\u001b[0m\n\u001b[0;32m    578\u001b[0m         \u001b[0mxla_context\u001b[0m\u001b[1;33m.\u001b[0m\u001b[0mExit\u001b[0m\u001b[1;33m(\u001b[0m\u001b[1;33m)\u001b[0m\u001b[1;33m\u001b[0m\u001b[1;33m\u001b[0m\u001b[0m\n\u001b[0;32m    579\u001b[0m     \u001b[1;32melse\u001b[0m\u001b[1;33m:\u001b[0m\u001b[1;33m\u001b[0m\u001b[1;33m\u001b[0m\u001b[0m\n\u001b[1;32m--> 580\u001b[1;33m       \u001b[0mresult\u001b[0m \u001b[1;33m=\u001b[0m \u001b[0mself\u001b[0m\u001b[1;33m.\u001b[0m\u001b[0m_call\u001b[0m\u001b[1;33m(\u001b[0m\u001b[1;33m*\u001b[0m\u001b[0margs\u001b[0m\u001b[1;33m,\u001b[0m \u001b[1;33m**\u001b[0m\u001b[0mkwds\u001b[0m\u001b[1;33m)\u001b[0m\u001b[1;33m\u001b[0m\u001b[1;33m\u001b[0m\u001b[0m\n\u001b[0m\u001b[0;32m    581\u001b[0m \u001b[1;33m\u001b[0m\u001b[0m\n\u001b[0;32m    582\u001b[0m     \u001b[1;32mif\u001b[0m \u001b[0mtracing_count\u001b[0m \u001b[1;33m==\u001b[0m \u001b[0mself\u001b[0m\u001b[1;33m.\u001b[0m\u001b[0m_get_tracing_count\u001b[0m\u001b[1;33m(\u001b[0m\u001b[1;33m)\u001b[0m\u001b[1;33m:\u001b[0m\u001b[1;33m\u001b[0m\u001b[1;33m\u001b[0m\u001b[0m\n",
      "\u001b[1;32m~\\anaconda3\\lib\\site-packages\\tensorflow\\python\\eager\\def_function.py\u001b[0m in \u001b[0;36m_call\u001b[1;34m(self, *args, **kwds)\u001b[0m\n\u001b[0;32m    609\u001b[0m       \u001b[1;31m# In this case we have created variables on the first call, so we run the\u001b[0m\u001b[1;33m\u001b[0m\u001b[1;33m\u001b[0m\u001b[1;33m\u001b[0m\u001b[0m\n\u001b[0;32m    610\u001b[0m       \u001b[1;31m# defunned version which is guaranteed to never create variables.\u001b[0m\u001b[1;33m\u001b[0m\u001b[1;33m\u001b[0m\u001b[1;33m\u001b[0m\u001b[0m\n\u001b[1;32m--> 611\u001b[1;33m       \u001b[1;32mreturn\u001b[0m \u001b[0mself\u001b[0m\u001b[1;33m.\u001b[0m\u001b[0m_stateless_fn\u001b[0m\u001b[1;33m(\u001b[0m\u001b[1;33m*\u001b[0m\u001b[0margs\u001b[0m\u001b[1;33m,\u001b[0m \u001b[1;33m**\u001b[0m\u001b[0mkwds\u001b[0m\u001b[1;33m)\u001b[0m  \u001b[1;31m# pylint: disable=not-callable\u001b[0m\u001b[1;33m\u001b[0m\u001b[1;33m\u001b[0m\u001b[0m\n\u001b[0m\u001b[0;32m    612\u001b[0m     \u001b[1;32melif\u001b[0m \u001b[0mself\u001b[0m\u001b[1;33m.\u001b[0m\u001b[0m_stateful_fn\u001b[0m \u001b[1;32mis\u001b[0m \u001b[1;32mnot\u001b[0m \u001b[1;32mNone\u001b[0m\u001b[1;33m:\u001b[0m\u001b[1;33m\u001b[0m\u001b[1;33m\u001b[0m\u001b[0m\n\u001b[0;32m    613\u001b[0m       \u001b[1;31m# Release the lock early so that multiple threads can perform the call\u001b[0m\u001b[1;33m\u001b[0m\u001b[1;33m\u001b[0m\u001b[1;33m\u001b[0m\u001b[0m\n",
      "\u001b[1;32m~\\anaconda3\\lib\\site-packages\\tensorflow\\python\\eager\\function.py\u001b[0m in \u001b[0;36m__call__\u001b[1;34m(self, *args, **kwargs)\u001b[0m\n\u001b[0;32m   2418\u001b[0m     \u001b[1;32mwith\u001b[0m \u001b[0mself\u001b[0m\u001b[1;33m.\u001b[0m\u001b[0m_lock\u001b[0m\u001b[1;33m:\u001b[0m\u001b[1;33m\u001b[0m\u001b[1;33m\u001b[0m\u001b[0m\n\u001b[0;32m   2419\u001b[0m       \u001b[0mgraph_function\u001b[0m\u001b[1;33m,\u001b[0m \u001b[0margs\u001b[0m\u001b[1;33m,\u001b[0m \u001b[0mkwargs\u001b[0m \u001b[1;33m=\u001b[0m \u001b[0mself\u001b[0m\u001b[1;33m.\u001b[0m\u001b[0m_maybe_define_function\u001b[0m\u001b[1;33m(\u001b[0m\u001b[0margs\u001b[0m\u001b[1;33m,\u001b[0m \u001b[0mkwargs\u001b[0m\u001b[1;33m)\u001b[0m\u001b[1;33m\u001b[0m\u001b[1;33m\u001b[0m\u001b[0m\n\u001b[1;32m-> 2420\u001b[1;33m     \u001b[1;32mreturn\u001b[0m \u001b[0mgraph_function\u001b[0m\u001b[1;33m.\u001b[0m\u001b[0m_filtered_call\u001b[0m\u001b[1;33m(\u001b[0m\u001b[0margs\u001b[0m\u001b[1;33m,\u001b[0m \u001b[0mkwargs\u001b[0m\u001b[1;33m)\u001b[0m  \u001b[1;31m# pylint: disable=protected-access\u001b[0m\u001b[1;33m\u001b[0m\u001b[1;33m\u001b[0m\u001b[0m\n\u001b[0m\u001b[0;32m   2421\u001b[0m \u001b[1;33m\u001b[0m\u001b[0m\n\u001b[0;32m   2422\u001b[0m   \u001b[1;33m@\u001b[0m\u001b[0mproperty\u001b[0m\u001b[1;33m\u001b[0m\u001b[1;33m\u001b[0m\u001b[0m\n",
      "\u001b[1;32m~\\anaconda3\\lib\\site-packages\\tensorflow\\python\\eager\\function.py\u001b[0m in \u001b[0;36m_filtered_call\u001b[1;34m(self, args, kwargs)\u001b[0m\n\u001b[0;32m   1663\u001b[0m          if isinstance(t, (ops.Tensor,\n\u001b[0;32m   1664\u001b[0m                            resource_variable_ops.BaseResourceVariable))),\n\u001b[1;32m-> 1665\u001b[1;33m         self.captured_inputs)\n\u001b[0m\u001b[0;32m   1666\u001b[0m \u001b[1;33m\u001b[0m\u001b[0m\n\u001b[0;32m   1667\u001b[0m   \u001b[1;32mdef\u001b[0m \u001b[0m_call_flat\u001b[0m\u001b[1;33m(\u001b[0m\u001b[0mself\u001b[0m\u001b[1;33m,\u001b[0m \u001b[0margs\u001b[0m\u001b[1;33m,\u001b[0m \u001b[0mcaptured_inputs\u001b[0m\u001b[1;33m,\u001b[0m \u001b[0mcancellation_manager\u001b[0m\u001b[1;33m=\u001b[0m\u001b[1;32mNone\u001b[0m\u001b[1;33m)\u001b[0m\u001b[1;33m:\u001b[0m\u001b[1;33m\u001b[0m\u001b[1;33m\u001b[0m\u001b[0m\n",
      "\u001b[1;32m~\\anaconda3\\lib\\site-packages\\tensorflow\\python\\eager\\function.py\u001b[0m in \u001b[0;36m_call_flat\u001b[1;34m(self, args, captured_inputs, cancellation_manager)\u001b[0m\n\u001b[0;32m   1744\u001b[0m       \u001b[1;31m# No tape is watching; skip to running the function.\u001b[0m\u001b[1;33m\u001b[0m\u001b[1;33m\u001b[0m\u001b[1;33m\u001b[0m\u001b[0m\n\u001b[0;32m   1745\u001b[0m       return self._build_call_outputs(self._inference_function.call(\n\u001b[1;32m-> 1746\u001b[1;33m           ctx, args, cancellation_manager=cancellation_manager))\n\u001b[0m\u001b[0;32m   1747\u001b[0m     forward_backward = self._select_forward_and_backward_functions(\n\u001b[0;32m   1748\u001b[0m         \u001b[0margs\u001b[0m\u001b[1;33m,\u001b[0m\u001b[1;33m\u001b[0m\u001b[1;33m\u001b[0m\u001b[0m\n",
      "\u001b[1;32m~\\anaconda3\\lib\\site-packages\\tensorflow\\python\\eager\\function.py\u001b[0m in \u001b[0;36mcall\u001b[1;34m(self, ctx, args, cancellation_manager)\u001b[0m\n\u001b[0;32m    596\u001b[0m               \u001b[0minputs\u001b[0m\u001b[1;33m=\u001b[0m\u001b[0margs\u001b[0m\u001b[1;33m,\u001b[0m\u001b[1;33m\u001b[0m\u001b[1;33m\u001b[0m\u001b[0m\n\u001b[0;32m    597\u001b[0m               \u001b[0mattrs\u001b[0m\u001b[1;33m=\u001b[0m\u001b[0mattrs\u001b[0m\u001b[1;33m,\u001b[0m\u001b[1;33m\u001b[0m\u001b[1;33m\u001b[0m\u001b[0m\n\u001b[1;32m--> 598\u001b[1;33m               ctx=ctx)\n\u001b[0m\u001b[0;32m    599\u001b[0m         \u001b[1;32melse\u001b[0m\u001b[1;33m:\u001b[0m\u001b[1;33m\u001b[0m\u001b[1;33m\u001b[0m\u001b[0m\n\u001b[0;32m    600\u001b[0m           outputs = execute.execute_with_cancellation(\n",
      "\u001b[1;32m~\\anaconda3\\lib\\site-packages\\tensorflow\\python\\eager\\execute.py\u001b[0m in \u001b[0;36mquick_execute\u001b[1;34m(op_name, num_outputs, inputs, attrs, ctx, name)\u001b[0m\n\u001b[0;32m     58\u001b[0m     \u001b[0mctx\u001b[0m\u001b[1;33m.\u001b[0m\u001b[0mensure_initialized\u001b[0m\u001b[1;33m(\u001b[0m\u001b[1;33m)\u001b[0m\u001b[1;33m\u001b[0m\u001b[1;33m\u001b[0m\u001b[0m\n\u001b[0;32m     59\u001b[0m     tensors = pywrap_tfe.TFE_Py_Execute(ctx._handle, device_name, op_name,\n\u001b[1;32m---> 60\u001b[1;33m                                         inputs, attrs, num_outputs)\n\u001b[0m\u001b[0;32m     61\u001b[0m   \u001b[1;32mexcept\u001b[0m \u001b[0mcore\u001b[0m\u001b[1;33m.\u001b[0m\u001b[0m_NotOkStatusException\u001b[0m \u001b[1;32mas\u001b[0m \u001b[0me\u001b[0m\u001b[1;33m:\u001b[0m\u001b[1;33m\u001b[0m\u001b[1;33m\u001b[0m\u001b[0m\n\u001b[0;32m     62\u001b[0m     \u001b[1;32mif\u001b[0m \u001b[0mname\u001b[0m \u001b[1;32mis\u001b[0m \u001b[1;32mnot\u001b[0m \u001b[1;32mNone\u001b[0m\u001b[1;33m:\u001b[0m\u001b[1;33m\u001b[0m\u001b[1;33m\u001b[0m\u001b[0m\n",
      "\u001b[1;31mKeyboardInterrupt\u001b[0m: "
     ]
    }
   ],
   "source": [
    "history = model.fit(\n",
    "    processed_train_ds,\n",
    "    epochs = NUM_EPOCHS,\n",
    "    initial_epoch = INITIAL_EPOCH,\n",
    "    steps_per_epoch = len(train_filepaths) // BATCH_SIZE,\n",
    "    validation_data = processed_val_ds,\n",
    "    validation_steps = len(val_filepaths) // BATCH_SIZE,\n",
    "    callbacks = [\n",
    "        tf.keras.callbacks.EarlyStopping(\n",
    "            patience = 3,\n",
    "            restore_best_weights = True,\n",
    "            verbose = 1,\n",
    "            monitor = \"val_accuracy\",\n",
    "            mode = \"max\"\n",
    "        ),\n",
    "        tf.keras.callbacks.CSVLogger(str(log_path), append = True),\n",
    "        tf.keras.callbacks.ModelCheckpoint(\n",
    "            str(checkpoint_path),\n",
    "            monitor = \"val_accuracy\",\n",
    "            mode = \"max\",\n",
    "            save_best_only = True\n",
    "        )\n",
    "    ]\n",
    ")"
   ]
  },
  {
   "cell_type": "code",
   "execution_count": null,
   "metadata": {},
   "outputs": [],
   "source": [
    "acc = history.history[\"accuracy\"]\n",
    "loss = history.history[\"loss\"]\n",
    "validation_acc = history.history[\"val_accuracy\"]\n",
    "validation_loss = history.history[\"val_loss\"]\n",
    "\n",
    "epochs_range = range(len(history.history[\"accuracy\"]))\n",
    "\n",
    "plt.figure(figsize = (8, 8))\n",
    "plt.subplot(1, 2, 1)\n",
    "plt.plot(epochs_range, acc, label = \"Training Accuracy\")\n",
    "plt.plot(epochs_range, validation_acc, label = \"Validation Accuracy\")\n",
    "plt.legend(loc = \"lower right\")\n",
    "plt.title(\"Training and Validation Accuracy\")\n",
    "\n",
    "plt.subplot(1, 2, 2)\n",
    "plt.plot(epochs_range, loss, label = \"Training Loss\")\n",
    "plt.plot(epochs_range, validation_loss, label = \"Validation Loss\")\n",
    "plt.legend(loc = \"lower right\")\n",
    "plt.title(\"Training and Validation Loss\")\n",
    "plt.show()"
   ]
  },
  {
   "cell_type": "code",
   "execution_count": 19,
   "metadata": {},
   "outputs": [],
   "source": [
    "# Remove cache directory if available\n",
    "if CACHE_DIR.exists():\n",
    "    shutil.rmtree(CACHE_DIR, ignore_errors = True)"
   ]
  },
  {
   "cell_type": "code",
   "execution_count": null,
   "metadata": {},
   "outputs": [],
   "source": []
  }
 ],
 "metadata": {
  "kernelspec": {
   "display_name": "Python 3",
   "language": "python",
   "name": "python3"
  },
  "language_info": {
   "codemirror_mode": {
    "name": "ipython",
    "version": 3
   },
   "file_extension": ".py",
   "mimetype": "text/x-python",
   "name": "python",
   "nbconvert_exporter": "python",
   "pygments_lexer": "ipython3",
   "version": "3.7.6"
  },
  "toc": {
   "base_numbering": 1,
   "nav_menu": {},
   "number_sections": false,
   "sideBar": true,
   "skip_h1_title": false,
   "title_cell": "Table of Contents",
   "title_sidebar": "Contents",
   "toc_cell": false,
   "toc_position": {
    "height": "calc(100% - 180px)",
    "left": "10px",
    "top": "150px",
    "width": "273px"
   },
   "toc_section_display": true,
   "toc_window_display": false
  }
 },
 "nbformat": 4,
 "nbformat_minor": 2
}
