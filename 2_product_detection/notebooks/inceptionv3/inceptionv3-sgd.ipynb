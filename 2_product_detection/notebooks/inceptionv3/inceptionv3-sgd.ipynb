{
 "cells": [
  {
   "cell_type": "markdown",
   "metadata": {},
   "source": [
    "# Inception V3"
   ]
  },
  {
   "cell_type": "code",
   "execution_count": 1,
   "metadata": {
    "tags": []
   },
   "outputs": [],
   "source": [
    "import os\n",
    "import shutil\n",
    "import numpy as np\n",
    "import matplotlib.pyplot as plt\n",
    "import tensorflow as tf\n",
    "from pathlib import Path\n",
    "from sklearn.model_selection import train_test_split\n",
    "from imgaug import augmenters as iaa"
   ]
  },
  {
   "cell_type": "code",
   "execution_count": 2,
   "metadata": {
    "code_folding": []
   },
   "outputs": [],
   "source": [
    "MODEL_ID = \"iv3_sgd\"\n",
    "\n",
    "TRAIN_DIR = Path(\"../../data/train\")\n",
    "MODEL_DIR = Path(\"./models\")\n",
    "LOG_DIR = Path(\"./log\")\n",
    "CACHE_DIR = Path(\"./tmp/cache\")\n",
    "\n",
    "BATCH_SIZE = 64\n",
    "VAL_SPLIT = 0.25\n",
    "IMG_HEIGHT = IMG_WIDTH = 200\n",
    "GPU_MEMORY_LIMIT = None\n",
    "SEED = 1\n",
    "\n",
    "NUM_EPOCHS = 100\n",
    "INITIAL_EPOCH = 0\n",
    "LOAD_MODEL_PATH = None"
   ]
  },
  {
   "cell_type": "code",
   "execution_count": 3,
   "metadata": {},
   "outputs": [],
   "source": [
    "# Remove cache directory if available\n",
    "if CACHE_DIR.exists():\n",
    "    shutil.rmtree(CACHE_DIR, ignore_errors = True)\n",
    "\n",
    "MODEL_DIR.mkdir(parents = True, exist_ok = True)\n",
    "LOG_DIR.mkdir(parents = True, exist_ok = True)\n",
    "CACHE_DIR.mkdir(parents = True, exist_ok = True)"
   ]
  },
  {
   "cell_type": "code",
   "execution_count": 4,
   "metadata": {},
   "outputs": [],
   "source": [
    "# Set global seed for reproducible results\n",
    "tf.random.set_seed(SEED)"
   ]
  },
  {
   "cell_type": "code",
   "execution_count": 5,
   "metadata": {},
   "outputs": [],
   "source": [
    "# Limit GPU Memory Usage to GPU_MEMORY_LIMIT\n",
    "gpus = tf.config.experimental.list_physical_devices('GPU')\n",
    "if gpus and GPU_MEMORY_LIMIT:\n",
    "    try:\n",
    "        tf.config.experimental.set_virtual_device_configuration(\n",
    "            gpus[0],\n",
    "            [tf.config.experimental.VirtualDeviceConfiguration(memory_limit = GPU_MEMORY_LIMIT)])\n",
    "        logical_gpus = tf.config.experimental.list_logical_devices('GPU')\n",
    "        print(len(gpus), \"Physical GPUs,\", len(logical_gpus), \"Logical GPUs\")\n",
    "    except RuntimeError as e:\n",
    "        # Virtual devices must be set before GPUs have been initialized\n",
    "        print(e)"
   ]
  },
  {
   "cell_type": "markdown",
   "metadata": {},
   "source": [
    "## Loading Images"
   ]
  },
  {
   "cell_type": "code",
   "execution_count": 6,
   "metadata": {},
   "outputs": [
    {
     "name": "stdout",
     "output_type": "stream",
     "text": [
      "Train: Found 79044 images belonging to 42 classes\n",
      "Validation: Found 26348 images belonging to 42 classes\n"
     ]
    }
   ],
   "source": [
    "X_train, X_test = train_test_split(\n",
    "    list(TRAIN_DIR.glob(\"**/*.jpg\")),\n",
    "    test_size = VAL_SPLIT,\n",
    "    random_state = SEED\n",
    ")\n",
    "\n",
    "train_filepaths = []\n",
    "train_classes = set()\n",
    "\n",
    "val_filepaths = []\n",
    "val_classes = set()\n",
    "\n",
    "for filepath in X_train:\n",
    "    train_filepaths.append(str(filepath))\n",
    "    train_classes.add(filepath.parts[-2])\n",
    "print(\"Train: Found {} images belonging to {} classes\".format(len(train_filepaths), len(train_classes)))\n",
    "    \n",
    "for filepath in X_test:\n",
    "    val_filepaths.append(str(filepath))\n",
    "    val_classes.add(filepath.parts[-2])\n",
    "print(\"Validation: Found {} images belonging to {} classes\".format(len(val_filepaths), len(val_classes)))\n",
    "    \n",
    "train_filepaths = np.array(train_filepaths)\n",
    "val_filepaths = np.array(val_filepaths)\n",
    "\n",
    "classes = np.array(list(train_classes.union(val_classes)))\n",
    "classes = np.sort(classes)"
   ]
  },
  {
   "cell_type": "code",
   "execution_count": 7,
   "metadata": {
    "scrolled": false
   },
   "outputs": [
    {
     "name": "stdout",
     "output_type": "stream",
     "text": [
      "b'..\\\\..\\\\data\\\\train\\\\32\\\\5f2dba1fbf124f2db0f3918b37aeab9e.jpg'\n",
      "b'..\\\\..\\\\data\\\\train\\\\19\\\\adf95fd3be74f7a53a7ea901d3043126.jpg'\n",
      "b'..\\\\..\\\\data\\\\train\\\\01\\\\f7be16f17e1d3367f2d4d99a1c5544a6.jpg'\n"
     ]
    }
   ],
   "source": [
    "train_fp_ds = tf.data.Dataset.from_tensor_slices(train_filepaths)\n",
    "for f in train_fp_ds.take(3):\n",
    "    print(f.numpy())"
   ]
  },
  {
   "cell_type": "code",
   "execution_count": 8,
   "metadata": {
    "scrolled": false
   },
   "outputs": [
    {
     "name": "stdout",
     "output_type": "stream",
     "text": [
      "b'..\\\\..\\\\data\\\\train\\\\04\\\\0272e1c91b21303d22915d5d2c384c7f.jpg'\n",
      "b'..\\\\..\\\\data\\\\train\\\\25\\\\9e977c57d2686943ba637c92f51c9f7d.jpg'\n",
      "b'..\\\\..\\\\data\\\\train\\\\21\\\\29443df248d863814e40ad72f0c9a65b.jpg'\n"
     ]
    }
   ],
   "source": [
    "val_fp_ds = tf.data.Dataset.from_tensor_slices(val_filepaths)\n",
    "for f in val_fp_ds.take(3):\n",
    "    print(f.numpy())"
   ]
  },
  {
   "cell_type": "code",
   "execution_count": 9,
   "metadata": {},
   "outputs": [],
   "source": [
    "def load_img(file_path):\n",
    "    parts = tf.strings.split(file_path, os.path.sep)\n",
    "    label = parts[-2] == classes\n",
    "    \n",
    "    img = tf.io.read_file(file_path)\n",
    "    img = tf.image.decode_jpeg(img, channels = 3)\n",
    "    img = tf.image.convert_image_dtype(img, tf.float32)\n",
    "    img = tf.image.resize(img, [IMG_HEIGHT, IMG_WIDTH]) \n",
    "    \n",
    "    return img, label"
   ]
  },
  {
   "cell_type": "code",
   "execution_count": 10,
   "metadata": {},
   "outputs": [
    {
     "name": "stdout",
     "output_type": "stream",
     "text": [
      "Image shape:  (200, 200, 3)\n",
      "Label:  [False False False False False False False False False False False False\n",
      " False False False False False False False False False False False False\n",
      " False False False False False False False False  True False False False\n",
      " False False False False False False]\n"
     ]
    }
   ],
   "source": [
    "train_img_ds = train_fp_ds.map(load_img, num_parallel_calls = tf.data.experimental.AUTOTUNE)\n",
    "for image, label in train_img_ds.take(1):\n",
    "    print(\"Image shape: \", image.numpy().shape)\n",
    "    print(\"Label: \", label.numpy())"
   ]
  },
  {
   "cell_type": "code",
   "execution_count": 11,
   "metadata": {
    "scrolled": true
   },
   "outputs": [
    {
     "name": "stdout",
     "output_type": "stream",
     "text": [
      "Image shape:  (200, 200, 3)\n",
      "Label:  [False False False False  True False False False False False False False\n",
      " False False False False False False False False False False False False\n",
      " False False False False False False False False False False False False\n",
      " False False False False False False]\n"
     ]
    }
   ],
   "source": [
    "val_img_ds = val_fp_ds.map(load_img, num_parallel_calls = tf.data.experimental.AUTOTUNE)\n",
    "for image, label in val_img_ds.take(1):\n",
    "    print(\"Image shape: \", image.numpy().shape)\n",
    "    print(\"Label: \", label.numpy())"
   ]
  },
  {
   "cell_type": "markdown",
   "metadata": {},
   "source": [
    "## Image Preprocessing"
   ]
  },
  {
   "cell_type": "code",
   "execution_count": 12,
   "metadata": {},
   "outputs": [],
   "source": [
    "def augment(img, label):\n",
    "    def augment_inner(img, label):\n",
    "        img = img.numpy()\n",
    "        augmenters = iaa.OneOf([\n",
    "            iaa.Affine(scale=(1.0, 1.4)),\n",
    "            iaa.Affine(rotate=(-35, 35), mode=\"edge\"),\n",
    "            iaa.Affine(scale=(1.0, 1.2), rotate=(-22.5, 22.5), mode=\"edge\"),\n",
    "            iaa.LinearContrast((0.8, 1.3)),\n",
    "            iaa.Sequential([iaa.Affine(scale=(1.0, 1.2)), iaa.LinearContrast((0.8, 1.3))]),\n",
    "            iaa.Sequential([iaa.Affine(rotate=(-22.5, 22.5), mode=\"edge\"), iaa.LinearContrast((0.7, 1.2))]),\n",
    "            iaa.Fliplr(1),\n",
    "            iaa.Sequential([iaa.Fliplr(1), iaa.Affine(rotate=(-35, 35), mode=\"edge\")]),\n",
    "            iaa.Sequential([iaa.Fliplr(1), iaa.Affine(scale=(1.0, 1.2))]),\n",
    "            iaa.Sequential([iaa.Fliplr(1), iaa.Affine(scale=(1.0, 1.2), rotate=(-22.5, 22.5), mode=\"edge\")]),\n",
    "            iaa.GaussianBlur(sigma=(0.0, 1.3)),\n",
    "            iaa.Cutout(nb_iterations=(1, 3), size=0.2)\n",
    "        ]) \n",
    "        img = augmenters.augment_image(img)\n",
    "        img = tf.clip_by_value(img, 0, 1)\n",
    "        return img, label\n",
    "    output = tf.py_function(augment_inner, [img, label], [tf.float32, tf.bool])\n",
    "    output[0].set_shape(img.get_shape())\n",
    "    output[1].set_shape(label.get_shape())\n",
    "    return output"
   ]
  },
  {
   "cell_type": "code",
   "execution_count": 13,
   "metadata": {},
   "outputs": [],
   "source": [
    "processed_train_ds = train_img_ds \\\n",
    "                        .cache(str(CACHE_DIR / \"train.tfcache\")) \\\n",
    "                        .map(augment, num_parallel_calls = tf.data.experimental.AUTOTUNE) \\\n",
    "                        .shuffle(BATCH_SIZE * 20, seed = SEED) \\\n",
    "                        .repeat() \\\n",
    "                        .batch(BATCH_SIZE) \\\n",
    "                        .prefetch(tf.data.experimental.AUTOTUNE)"
   ]
  },
  {
   "cell_type": "code",
   "execution_count": 14,
   "metadata": {},
   "outputs": [],
   "source": [
    "processed_val_ds = val_img_ds \\\n",
    "                        .batch(BATCH_SIZE) \\\n",
    "                        .prefetch(tf.data.experimental.AUTOTUNE)"
   ]
  },
  {
   "cell_type": "markdown",
   "metadata": {},
   "source": [
    "## Training Model"
   ]
  },
  {
   "cell_type": "code",
   "execution_count": 15,
   "metadata": {},
   "outputs": [],
   "source": [
    "if not LOAD_MODEL_PATH:\n",
    "    model = tf.keras.models.Sequential()\n",
    "    model.add(tf.keras.applications.InceptionV3(\n",
    "            include_top = False,\n",
    "            pooling = \"avg\",\n",
    "            input_shape = (IMG_HEIGHT, IMG_WIDTH, 3)\n",
    "    ))\n",
    "    model.add(tf.keras.layers.Dense(2048, activation = \"relu\"))\n",
    "    model.add(tf.keras.layers.Dropout(0.3))\n",
    "    model.add(tf.keras.layers.Dense(len(classes), activation = \"softmax\"))\n",
    "    \n",
    "    model.layers[0].trainable = False\n",
    "    for layer in model.layers[0].layers:\n",
    "        layer.trainable = False\n",
    "\n",
    "    model.compile(\n",
    "        optimizer = tf.keras.optimizers.SGD(),\n",
    "        loss = tf.keras.losses.CategoricalCrossentropy(label_smoothing = 0.1),\n",
    "        metrics = [\"accuracy\"]\n",
    "    )\n",
    "else:\n",
    "    model = tf.keras.models.load_model(str(LOAD_MODEL_PATH))"
   ]
  },
  {
   "cell_type": "code",
   "execution_count": 16,
   "metadata": {
    "scrolled": false
   },
   "outputs": [
    {
     "name": "stdout",
     "output_type": "stream",
     "text": [
      "Model: \"sequential\"\n",
      "_________________________________________________________________\n",
      "Layer (type)                 Output Shape              Param #   \n",
      "=================================================================\n",
      "inception_v3 (Model)         (None, 2048)              21802784  \n",
      "_________________________________________________________________\n",
      "dense (Dense)                (None, 2048)              4196352   \n",
      "_________________________________________________________________\n",
      "dropout (Dropout)            (None, 2048)              0         \n",
      "_________________________________________________________________\n",
      "dense_1 (Dense)              (None, 42)                86058     \n",
      "=================================================================\n",
      "Total params: 26,085,194\n",
      "Trainable params: 4,282,410\n",
      "Non-trainable params: 21,802,784\n",
      "_________________________________________________________________\n"
     ]
    }
   ],
   "source": [
    "model.summary()"
   ]
  },
  {
   "cell_type": "code",
   "execution_count": 17,
   "metadata": {
    "scrolled": true
   },
   "outputs": [
    {
     "name": "stdout",
     "output_type": "stream",
     "text": [
      "models\\iv3_sgd.{epoch:03d}-{val_accuracy:.4f}.h5\n",
      "log\\iv3_sgd.csv\n"
     ]
    }
   ],
   "source": [
    "checkpoint_path = MODEL_DIR / (MODEL_ID + \".{epoch:03d}-{val_accuracy:.4f}.h5\")\n",
    "log_path = (LOG_DIR / MODEL_ID).with_suffix(\".csv\")\n",
    "\n",
    "print(checkpoint_path)\n",
    "print(log_path)"
   ]
  },
  {
   "cell_type": "code",
   "execution_count": 18,
   "metadata": {
    "scrolled": false,
    "tags": []
   },
   "outputs": [
    {
     "name": "stdout",
     "output_type": "stream",
     "text": [
      "Epoch 1/100\n",
      "1235/1235 [==============================] - 529s 428ms/step - loss: 2.3374 - accuracy: 0.4728 - val_loss: 1.9614 - val_accuracy: 0.5875\n",
      "Epoch 2/100\n",
      "1235/1235 [==============================] - 403s 326ms/step - loss: 2.0464 - accuracy: 0.5579 - val_loss: 1.8968 - val_accuracy: 0.6124\n",
      "Epoch 3/100\n",
      "1235/1235 [==============================] - 406s 328ms/step - loss: 1.9771 - accuracy: 0.5828 - val_loss: 1.8638 - val_accuracy: 0.6225\n",
      "Epoch 4/100\n",
      "1235/1235 [==============================] - 416s 337ms/step - loss: 1.9360 - accuracy: 0.5957 - val_loss: 1.8345 - val_accuracy: 0.6330\n",
      "Epoch 5/100\n",
      "1235/1235 [==============================] - 417s 338ms/step - loss: 1.9018 - accuracy: 0.6072 - val_loss: 1.8171 - val_accuracy: 0.6401\n",
      "Epoch 6/100\n",
      "1235/1235 [==============================] - 424s 343ms/step - loss: 1.8742 - accuracy: 0.6164 - val_loss: 1.8085 - val_accuracy: 0.6401\n",
      "Epoch 7/100\n",
      "1235/1235 [==============================] - 421s 341ms/step - loss: 1.8533 - accuracy: 0.6209 - val_loss: 1.7928 - val_accuracy: 0.6460\n",
      "Epoch 8/100\n",
      "1235/1235 [==============================] - 444s 360ms/step - loss: 1.8279 - accuracy: 0.6312 - val_loss: 1.7835 - val_accuracy: 0.6498\n",
      "Epoch 9/100\n",
      "1235/1235 [==============================] - 431s 349ms/step - loss: 1.8172 - accuracy: 0.6339 - val_loss: 1.7727 - val_accuracy: 0.6518\n",
      "Epoch 10/100\n",
      "1235/1235 [==============================] - 430s 348ms/step - loss: 1.7980 - accuracy: 0.6407 - val_loss: 1.7686 - val_accuracy: 0.6528\n",
      "Epoch 11/100\n",
      "1235/1235 [==============================] - 422s 342ms/step - loss: 1.7802 - accuracy: 0.6462 - val_loss: 1.7578 - val_accuracy: 0.6588\n",
      "Epoch 12/100\n",
      "1235/1235 [==============================] - 472s 382ms/step - loss: 1.7708 - accuracy: 0.6503 - val_loss: 1.7511 - val_accuracy: 0.6613\n",
      "Epoch 13/100\n",
      "1235/1235 [==============================] - 417s 338ms/step - loss: 1.7507 - accuracy: 0.6570 - val_loss: 1.7478 - val_accuracy: 0.6603\n",
      "Epoch 14/100\n",
      "1235/1235 [==============================] - 394s 319ms/step - loss: 1.7399 - accuracy: 0.6605 - val_loss: 1.7418 - val_accuracy: 0.6621\n",
      "Epoch 15/100\n",
      "1235/1235 [==============================] - 389s 315ms/step - loss: 1.7289 - accuracy: 0.6628 - val_loss: 1.7381 - val_accuracy: 0.6653\n",
      "Epoch 16/100\n",
      "1235/1235 [==============================] - 390s 316ms/step - loss: 1.7155 - accuracy: 0.6671 - val_loss: 1.7313 - val_accuracy: 0.6684\n",
      "Epoch 17/100\n",
      "1235/1235 [==============================] - 389s 315ms/step - loss: 1.7039 - accuracy: 0.6721 - val_loss: 1.7303 - val_accuracy: 0.6680\n",
      "Epoch 18/100\n",
      "1235/1235 [==============================] - 391s 317ms/step - loss: 1.6936 - accuracy: 0.6742 - val_loss: 1.7233 - val_accuracy: 0.6685\n",
      "Epoch 19/100\n",
      "1235/1235 [==============================] - 392s 317ms/step - loss: 1.6841 - accuracy: 0.6781 - val_loss: 1.7188 - val_accuracy: 0.6692\n",
      "Epoch 20/100\n",
      "1235/1235 [==============================] - 392s 317ms/step - loss: 1.6721 - accuracy: 0.6829 - val_loss: 1.7161 - val_accuracy: 0.6714\n",
      "Epoch 21/100\n",
      "1235/1235 [==============================] - 390s 316ms/step - loss: 1.6619 - accuracy: 0.6860 - val_loss: 1.7129 - val_accuracy: 0.6713\n",
      "Epoch 22/100\n",
      "1235/1235 [==============================] - 391s 316ms/step - loss: 1.6546 - accuracy: 0.6883 - val_loss: 1.7090 - val_accuracy: 0.6740\n",
      "Epoch 23/100\n",
      "1235/1235 [==============================] - 392s 317ms/step - loss: 1.6443 - accuracy: 0.6905 - val_loss: 1.7039 - val_accuracy: 0.6763\n",
      "Epoch 24/100\n",
      "1235/1235 [==============================] - 394s 319ms/step - loss: 1.6369 - accuracy: 0.6933 - val_loss: 1.7027 - val_accuracy: 0.6745\n",
      "Epoch 25/100\n",
      "1235/1235 [==============================] - 391s 316ms/step - loss: 1.6261 - accuracy: 0.6969 - val_loss: 1.7026 - val_accuracy: 0.6762\n",
      "Epoch 26/100\n",
      "1235/1235 [==============================] - 392s 317ms/step - loss: 1.6191 - accuracy: 0.6998 - val_loss: 1.6960 - val_accuracy: 0.6775\n",
      "Epoch 27/100\n",
      "1235/1235 [==============================] - 393s 318ms/step - loss: 1.6069 - accuracy: 0.7044 - val_loss: 1.6995 - val_accuracy: 0.6776\n",
      "Epoch 28/100\n",
      "1235/1235 [==============================] - 391s 317ms/step - loss: 1.6017 - accuracy: 0.7060 - val_loss: 1.6917 - val_accuracy: 0.6802\n",
      "Epoch 29/100\n",
      "1235/1235 [==============================] - 391s 317ms/step - loss: 1.5935 - accuracy: 0.7098 - val_loss: 1.6930 - val_accuracy: 0.6786\n",
      "Epoch 30/100\n",
      "1235/1235 [==============================] - 391s 317ms/step - loss: 1.5903 - accuracy: 0.7103 - val_loss: 1.6923 - val_accuracy: 0.6792\n",
      "Epoch 31/100\n",
      "1235/1235 [==============================] - 389s 315ms/step - loss: 1.5785 - accuracy: 0.7137 - val_loss: 1.6929 - val_accuracy: 0.6772\n",
      "Epoch 32/100\n",
      "1235/1235 [==============================] - 393s 318ms/step - loss: 1.5725 - accuracy: 0.7163 - val_loss: 1.6856 - val_accuracy: 0.6812 - loss: 1.5727 - accuracy\n",
      "Epoch 33/100\n",
      "1235/1235 [==============================] - 391s 317ms/step - loss: 1.5651 - accuracy: 0.7192 - val_loss: 1.6883 - val_accuracy: 0.6803\n",
      "Epoch 34/100\n",
      "1235/1235 [==============================] - 391s 317ms/step - loss: 1.5546 - accuracy: 0.7233 - val_loss: 1.6851 - val_accuracy: 0.6823\n",
      "Epoch 35/100\n",
      "1235/1235 [==============================] - 391s 316ms/step - loss: 1.5480 - accuracy: 0.7251 - val_loss: 1.6817 - val_accuracy: 0.6839\n",
      "Epoch 36/100\n",
      "1235/1235 [==============================] - 388s 315ms/step - loss: 1.5423 - accuracy: 0.7271 - val_loss: 1.6831 - val_accuracy: 0.6828\n",
      "Epoch 37/100\n",
      "1235/1235 [==============================] - 391s 317ms/step - loss: 1.5376 - accuracy: 0.7287 - val_loss: 1.6780 - val_accuracy: 0.6843\n",
      "Epoch 38/100\n",
      "1235/1235 [==============================] - 390s 316ms/step - loss: 1.5261 - accuracy: 0.7302 - val_loss: 1.6777 - val_accuracy: 0.6850\n",
      "Epoch 39/100\n",
      "1235/1235 [==============================] - 390s 316ms/step - loss: 1.5209 - accuracy: 0.7340 - val_loss: 1.6775 - val_accuracy: 0.6845\n",
      "Epoch 40/100\n",
      "1235/1235 [==============================] - 391s 316ms/step - loss: 1.5165 - accuracy: 0.7362 - val_loss: 1.6775 - val_accuracy: 0.6845\n",
      "Epoch 41/100\n",
      "1235/1235 [==============================] - 391s 317ms/step - loss: 1.5068 - accuracy: 0.7382 - val_loss: 1.6770 - val_accuracy: 0.6853\n",
      "Epoch 42/100\n",
      "1235/1235 [==============================] - 391s 317ms/step - loss: 1.5028 - accuracy: 0.7395 - val_loss: 1.6744 - val_accuracy: 0.6866\n",
      "Epoch 43/100\n",
      "1235/1235 [==============================] - 387s 313ms/step - loss: 1.4982 - accuracy: 0.7416 - val_loss: 1.6737 - val_accuracy: 0.6864\n",
      "Epoch 44/100\n",
      "1235/1235 [==============================] - 391s 316ms/step - loss: 1.4905 - accuracy: 0.7433 - val_loss: 1.6737 - val_accuracy: 0.6866racy: 0.\n",
      "Epoch 45/100\n",
      "1235/1235 [==============================] - 396s 320ms/step - loss: 1.4870 - accuracy: 0.7474 - val_loss: 1.6728 - val_accuracy: 0.6867\n",
      "Epoch 46/100\n",
      "1235/1235 [==============================] - 390s 316ms/step - loss: 1.4774 - accuracy: 0.7506 - val_loss: 1.6720 - val_accuracy: 0.6878\n",
      "Epoch 47/100\n",
      "1235/1235 [==============================] - 391s 317ms/step - loss: 1.4698 - accuracy: 0.7526 - val_loss: 1.6741 - val_accuracy: 0.6892\n",
      "Epoch 48/100\n",
      "1235/1235 [==============================] - 389s 315ms/step - loss: 1.4674 - accuracy: 0.7536 - val_loss: 1.6738 - val_accuracy: 0.6880\n",
      "Epoch 49/100\n",
      "1235/1235 [==============================] - 391s 316ms/step - loss: 1.4613 - accuracy: 0.7561 - val_loss: 1.6715 - val_accuracy: 0.6885\n",
      "Epoch 50/100\n",
      "1235/1235 [==============================] - 392s 317ms/step - loss: 1.4545 - accuracy: 0.7571 - val_loss: 1.6740 - val_accuracy: 0.6879\n",
      "Epoch 51/100\n",
      "1235/1235 [==============================] - 393s 318ms/step - loss: 1.4534 - accuracy: 0.7604 - val_loss: 1.6684 - val_accuracy: 0.6911s: 1.4533 - accuracy: \n",
      "Epoch 52/100\n",
      "1235/1235 [==============================] - 389s 315ms/step - loss: 1.4434 - accuracy: 0.7631 - val_loss: 1.6710 - val_accuracy: 0.6895 - loss: 1.4434 - accuracy: 0. - ETA: 1s - loss: 1.4436 - \n",
      "Epoch 53/100\n",
      "1235/1235 [==============================] - 390s 316ms/step - loss: 1.4381 - accuracy: 0.7640 - val_loss: 1.6712 - val_accuracy: 0.6899\n",
      "Epoch 54/100\n"
     ]
    },
    {
     "name": "stdout",
     "output_type": "stream",
     "text": [
      "1235/1235 [==============================] - 392s 317ms/step - loss: 1.4309 - accuracy: 0.7670 - val_loss: 1.6699 - val_accuracy: 0.6897\n",
      "Epoch 55/100\n",
      "1235/1235 [==============================] - 389s 315ms/step - loss: 1.4264 - accuracy: 0.7680 - val_loss: 1.6707 - val_accuracy: 0.6881\n",
      "Epoch 56/100\n",
      "1235/1235 [==============================] - 445s 360ms/step - loss: 1.4220 - accuracy: 0.7716 - val_loss: 1.6675 - val_accuracy: 0.6908\n",
      "Epoch 57/100\n",
      "1235/1235 [==============================] - 460s 373ms/step - loss: 1.4176 - accuracy: 0.7732 - val_loss: 1.6697 - val_accuracy: 0.6899\n",
      "Epoch 58/100\n",
      "1235/1235 [==============================] - 424s 344ms/step - loss: 1.4175 - accuracy: 0.7735 - val_loss: 1.6671 - val_accuracy: 0.6906\n",
      "Epoch 59/100\n",
      "1235/1235 [==============================] - 558s 452ms/step - loss: 1.4108 - accuracy: 0.7746 - val_loss: 1.6660 - val_accuracy: 0.6904\n",
      "Epoch 60/100\n",
      "1235/1235 [==============================] - 739s 598ms/step - loss: 1.4046 - accuracy: 0.7755 - val_loss: 1.6677 - val_accuracy: 0.6910\n",
      "Epoch 61/100\n",
      "1235/1235 [==============================] - 556s 450ms/step - loss: 1.4025 - accuracy: 0.7785 - val_loss: 1.6627 - val_accuracy: 0.6938\n",
      "Epoch 62/100\n",
      "1235/1235 [==============================] - 467s 378ms/step - loss: 1.3930 - accuracy: 0.7805 - val_loss: 1.6644 - val_accuracy: 0.6923\n",
      "Epoch 63/100\n",
      "1235/1235 [==============================] - 460s 372ms/step - loss: 1.3898 - accuracy: 0.7819 - val_loss: 1.6647 - val_accuracy: 0.6921\n",
      "Epoch 64/100\n",
      "1235/1235 [==============================] - 439s 356ms/step - loss: 1.3893 - accuracy: 0.7837 - val_loss: 1.6628 - val_accuracy: 0.6932\n",
      "Epoch 65/100\n",
      "1235/1235 [==============================] - 435s 353ms/step - loss: 1.3798 - accuracy: 0.7874 - val_loss: 1.6675 - val_accuracy: 0.6944\n",
      "Epoch 66/100\n",
      " 184/1235 [===>..........................] - ETA: 1:39 - loss: 1.3920 - accuracy: 0.7823 ETA: 1:40 - loss: 1 - ETA: 1:39 - loss: 1.3918 - accuracy: 0.7825"
     ]
    },
    {
     "ename": "KeyboardInterrupt",
     "evalue": "",
     "output_type": "error",
     "traceback": [
      "\u001b[1;31m---------------------------------------------------------------------------\u001b[0m",
      "\u001b[1;31mKeyboardInterrupt\u001b[0m                         Traceback (most recent call last)",
      "\u001b[1;32m<ipython-input-18-99525e283015>\u001b[0m in \u001b[0;36m<module>\u001b[1;34m\u001b[0m\n\u001b[0;32m     19\u001b[0m             \u001b[0mmonitor\u001b[0m \u001b[1;33m=\u001b[0m \u001b[1;34m\"val_accuracy\"\u001b[0m\u001b[1;33m,\u001b[0m\u001b[1;33m\u001b[0m\u001b[1;33m\u001b[0m\u001b[0m\n\u001b[0;32m     20\u001b[0m             \u001b[0mmode\u001b[0m \u001b[1;33m=\u001b[0m \u001b[1;34m\"max\"\u001b[0m\u001b[1;33m,\u001b[0m\u001b[1;33m\u001b[0m\u001b[1;33m\u001b[0m\u001b[0m\n\u001b[1;32m---> 21\u001b[1;33m             \u001b[0msave_best_only\u001b[0m \u001b[1;33m=\u001b[0m \u001b[1;32mTrue\u001b[0m\u001b[1;33m\u001b[0m\u001b[1;33m\u001b[0m\u001b[0m\n\u001b[0m\u001b[0;32m     22\u001b[0m         )\n\u001b[0;32m     23\u001b[0m     ]\n",
      "\u001b[1;32m~\\anaconda3\\lib\\site-packages\\tensorflow\\python\\keras\\engine\\training.py\u001b[0m in \u001b[0;36m_method_wrapper\u001b[1;34m(self, *args, **kwargs)\u001b[0m\n\u001b[0;32m     64\u001b[0m   \u001b[1;32mdef\u001b[0m \u001b[0m_method_wrapper\u001b[0m\u001b[1;33m(\u001b[0m\u001b[0mself\u001b[0m\u001b[1;33m,\u001b[0m \u001b[1;33m*\u001b[0m\u001b[0margs\u001b[0m\u001b[1;33m,\u001b[0m \u001b[1;33m**\u001b[0m\u001b[0mkwargs\u001b[0m\u001b[1;33m)\u001b[0m\u001b[1;33m:\u001b[0m\u001b[1;33m\u001b[0m\u001b[1;33m\u001b[0m\u001b[0m\n\u001b[0;32m     65\u001b[0m     \u001b[1;32mif\u001b[0m \u001b[1;32mnot\u001b[0m \u001b[0mself\u001b[0m\u001b[1;33m.\u001b[0m\u001b[0m_in_multi_worker_mode\u001b[0m\u001b[1;33m(\u001b[0m\u001b[1;33m)\u001b[0m\u001b[1;33m:\u001b[0m  \u001b[1;31m# pylint: disable=protected-access\u001b[0m\u001b[1;33m\u001b[0m\u001b[1;33m\u001b[0m\u001b[0m\n\u001b[1;32m---> 66\u001b[1;33m       \u001b[1;32mreturn\u001b[0m \u001b[0mmethod\u001b[0m\u001b[1;33m(\u001b[0m\u001b[0mself\u001b[0m\u001b[1;33m,\u001b[0m \u001b[1;33m*\u001b[0m\u001b[0margs\u001b[0m\u001b[1;33m,\u001b[0m \u001b[1;33m**\u001b[0m\u001b[0mkwargs\u001b[0m\u001b[1;33m)\u001b[0m\u001b[1;33m\u001b[0m\u001b[1;33m\u001b[0m\u001b[0m\n\u001b[0m\u001b[0;32m     67\u001b[0m \u001b[1;33m\u001b[0m\u001b[0m\n\u001b[0;32m     68\u001b[0m     \u001b[1;31m# Running inside `run_distribute_coordinator` already.\u001b[0m\u001b[1;33m\u001b[0m\u001b[1;33m\u001b[0m\u001b[1;33m\u001b[0m\u001b[0m\n",
      "\u001b[1;32m~\\anaconda3\\lib\\site-packages\\tensorflow\\python\\keras\\engine\\training.py\u001b[0m in \u001b[0;36mfit\u001b[1;34m(self, x, y, batch_size, epochs, verbose, callbacks, validation_split, validation_data, shuffle, class_weight, sample_weight, initial_epoch, steps_per_epoch, validation_steps, validation_batch_size, validation_freq, max_queue_size, workers, use_multiprocessing)\u001b[0m\n\u001b[0;32m    853\u001b[0m                 \u001b[0mcontext\u001b[0m\u001b[1;33m.\u001b[0m\u001b[0masync_wait\u001b[0m\u001b[1;33m(\u001b[0m\u001b[1;33m)\u001b[0m\u001b[1;33m\u001b[0m\u001b[1;33m\u001b[0m\u001b[0m\n\u001b[0;32m    854\u001b[0m               \u001b[0mlogs\u001b[0m \u001b[1;33m=\u001b[0m \u001b[0mtmp_logs\u001b[0m  \u001b[1;31m# No error, now safe to assign to logs.\u001b[0m\u001b[1;33m\u001b[0m\u001b[1;33m\u001b[0m\u001b[0m\n\u001b[1;32m--> 855\u001b[1;33m               \u001b[0mcallbacks\u001b[0m\u001b[1;33m.\u001b[0m\u001b[0mon_train_batch_end\u001b[0m\u001b[1;33m(\u001b[0m\u001b[0mstep\u001b[0m\u001b[1;33m,\u001b[0m \u001b[0mlogs\u001b[0m\u001b[1;33m)\u001b[0m\u001b[1;33m\u001b[0m\u001b[1;33m\u001b[0m\u001b[0m\n\u001b[0m\u001b[0;32m    856\u001b[0m         \u001b[0mepoch_logs\u001b[0m \u001b[1;33m=\u001b[0m \u001b[0mcopy\u001b[0m\u001b[1;33m.\u001b[0m\u001b[0mcopy\u001b[0m\u001b[1;33m(\u001b[0m\u001b[0mlogs\u001b[0m\u001b[1;33m)\u001b[0m\u001b[1;33m\u001b[0m\u001b[1;33m\u001b[0m\u001b[0m\n\u001b[0;32m    857\u001b[0m \u001b[1;33m\u001b[0m\u001b[0m\n",
      "\u001b[1;32m~\\anaconda3\\lib\\site-packages\\tensorflow\\python\\keras\\callbacks.py\u001b[0m in \u001b[0;36mon_train_batch_end\u001b[1;34m(self, batch, logs)\u001b[0m\n\u001b[0;32m    387\u001b[0m     \"\"\"\n\u001b[0;32m    388\u001b[0m     \u001b[1;32mif\u001b[0m \u001b[0mself\u001b[0m\u001b[1;33m.\u001b[0m\u001b[0m_should_call_train_batch_hooks\u001b[0m\u001b[1;33m:\u001b[0m\u001b[1;33m\u001b[0m\u001b[1;33m\u001b[0m\u001b[0m\n\u001b[1;32m--> 389\u001b[1;33m       \u001b[0mlogs\u001b[0m \u001b[1;33m=\u001b[0m \u001b[0mself\u001b[0m\u001b[1;33m.\u001b[0m\u001b[0m_process_logs\u001b[0m\u001b[1;33m(\u001b[0m\u001b[0mlogs\u001b[0m\u001b[1;33m)\u001b[0m\u001b[1;33m\u001b[0m\u001b[1;33m\u001b[0m\u001b[0m\n\u001b[0m\u001b[0;32m    390\u001b[0m       \u001b[0mself\u001b[0m\u001b[1;33m.\u001b[0m\u001b[0m_call_batch_hook\u001b[0m\u001b[1;33m(\u001b[0m\u001b[0mModeKeys\u001b[0m\u001b[1;33m.\u001b[0m\u001b[0mTRAIN\u001b[0m\u001b[1;33m,\u001b[0m \u001b[1;34m'end'\u001b[0m\u001b[1;33m,\u001b[0m \u001b[0mbatch\u001b[0m\u001b[1;33m,\u001b[0m \u001b[0mlogs\u001b[0m\u001b[1;33m=\u001b[0m\u001b[0mlogs\u001b[0m\u001b[1;33m)\u001b[0m\u001b[1;33m\u001b[0m\u001b[1;33m\u001b[0m\u001b[0m\n\u001b[0;32m    391\u001b[0m \u001b[1;33m\u001b[0m\u001b[0m\n",
      "\u001b[1;32m~\\anaconda3\\lib\\site-packages\\tensorflow\\python\\keras\\callbacks.py\u001b[0m in \u001b[0;36m_process_logs\u001b[1;34m(self, logs)\u001b[0m\n\u001b[0;32m    263\u001b[0m     \u001b[1;34m\"\"\"Turns tensors into numpy arrays or Python scalars.\"\"\"\u001b[0m\u001b[1;33m\u001b[0m\u001b[1;33m\u001b[0m\u001b[0m\n\u001b[0;32m    264\u001b[0m     \u001b[1;32mif\u001b[0m \u001b[0mlogs\u001b[0m\u001b[1;33m:\u001b[0m\u001b[1;33m\u001b[0m\u001b[1;33m\u001b[0m\u001b[0m\n\u001b[1;32m--> 265\u001b[1;33m       \u001b[1;32mreturn\u001b[0m \u001b[0mtf_utils\u001b[0m\u001b[1;33m.\u001b[0m\u001b[0mto_numpy_or_python_type\u001b[0m\u001b[1;33m(\u001b[0m\u001b[0mlogs\u001b[0m\u001b[1;33m)\u001b[0m\u001b[1;33m\u001b[0m\u001b[1;33m\u001b[0m\u001b[0m\n\u001b[0m\u001b[0;32m    266\u001b[0m     \u001b[1;32mreturn\u001b[0m \u001b[1;33m{\u001b[0m\u001b[1;33m}\u001b[0m\u001b[1;33m\u001b[0m\u001b[1;33m\u001b[0m\u001b[0m\n\u001b[0;32m    267\u001b[0m \u001b[1;33m\u001b[0m\u001b[0m\n",
      "\u001b[1;32m~\\anaconda3\\lib\\site-packages\\tensorflow\\python\\keras\\utils\\tf_utils.py\u001b[0m in \u001b[0;36mto_numpy_or_python_type\u001b[1;34m(tensors)\u001b[0m\n\u001b[0;32m    521\u001b[0m     \u001b[1;32mreturn\u001b[0m \u001b[0mt\u001b[0m  \u001b[1;31m# Don't turn ragged or sparse tensors to NumPy.\u001b[0m\u001b[1;33m\u001b[0m\u001b[1;33m\u001b[0m\u001b[0m\n\u001b[0;32m    522\u001b[0m \u001b[1;33m\u001b[0m\u001b[0m\n\u001b[1;32m--> 523\u001b[1;33m   \u001b[1;32mreturn\u001b[0m \u001b[0mnest\u001b[0m\u001b[1;33m.\u001b[0m\u001b[0mmap_structure\u001b[0m\u001b[1;33m(\u001b[0m\u001b[0m_to_single_numpy_or_python_type\u001b[0m\u001b[1;33m,\u001b[0m \u001b[0mtensors\u001b[0m\u001b[1;33m)\u001b[0m\u001b[1;33m\u001b[0m\u001b[1;33m\u001b[0m\u001b[0m\n\u001b[0m\u001b[0;32m    524\u001b[0m \u001b[1;33m\u001b[0m\u001b[0m\n",
      "\u001b[1;32m~\\anaconda3\\lib\\site-packages\\tensorflow\\python\\util\\nest.py\u001b[0m in \u001b[0;36mmap_structure\u001b[1;34m(func, *structure, **kwargs)\u001b[0m\n\u001b[0;32m    615\u001b[0m \u001b[1;33m\u001b[0m\u001b[0m\n\u001b[0;32m    616\u001b[0m   return pack_sequence_as(\n\u001b[1;32m--> 617\u001b[1;33m       \u001b[0mstructure\u001b[0m\u001b[1;33m[\u001b[0m\u001b[1;36m0\u001b[0m\u001b[1;33m]\u001b[0m\u001b[1;33m,\u001b[0m \u001b[1;33m[\u001b[0m\u001b[0mfunc\u001b[0m\u001b[1;33m(\u001b[0m\u001b[1;33m*\u001b[0m\u001b[0mx\u001b[0m\u001b[1;33m)\u001b[0m \u001b[1;32mfor\u001b[0m \u001b[0mx\u001b[0m \u001b[1;32min\u001b[0m \u001b[0mentries\u001b[0m\u001b[1;33m]\u001b[0m\u001b[1;33m,\u001b[0m\u001b[1;33m\u001b[0m\u001b[1;33m\u001b[0m\u001b[0m\n\u001b[0m\u001b[0;32m    618\u001b[0m       expand_composites=expand_composites)\n\u001b[0;32m    619\u001b[0m \u001b[1;33m\u001b[0m\u001b[0m\n",
      "\u001b[1;32m~\\anaconda3\\lib\\site-packages\\tensorflow\\python\\util\\nest.py\u001b[0m in \u001b[0;36m<listcomp>\u001b[1;34m(.0)\u001b[0m\n\u001b[0;32m    615\u001b[0m \u001b[1;33m\u001b[0m\u001b[0m\n\u001b[0;32m    616\u001b[0m   return pack_sequence_as(\n\u001b[1;32m--> 617\u001b[1;33m       \u001b[0mstructure\u001b[0m\u001b[1;33m[\u001b[0m\u001b[1;36m0\u001b[0m\u001b[1;33m]\u001b[0m\u001b[1;33m,\u001b[0m \u001b[1;33m[\u001b[0m\u001b[0mfunc\u001b[0m\u001b[1;33m(\u001b[0m\u001b[1;33m*\u001b[0m\u001b[0mx\u001b[0m\u001b[1;33m)\u001b[0m \u001b[1;32mfor\u001b[0m \u001b[0mx\u001b[0m \u001b[1;32min\u001b[0m \u001b[0mentries\u001b[0m\u001b[1;33m]\u001b[0m\u001b[1;33m,\u001b[0m\u001b[1;33m\u001b[0m\u001b[1;33m\u001b[0m\u001b[0m\n\u001b[0m\u001b[0;32m    618\u001b[0m       expand_composites=expand_composites)\n\u001b[0;32m    619\u001b[0m \u001b[1;33m\u001b[0m\u001b[0m\n",
      "\u001b[1;32m~\\anaconda3\\lib\\site-packages\\tensorflow\\python\\keras\\utils\\tf_utils.py\u001b[0m in \u001b[0;36m_to_single_numpy_or_python_type\u001b[1;34m(t)\u001b[0m\n\u001b[0;32m    517\u001b[0m   \u001b[1;32mdef\u001b[0m \u001b[0m_to_single_numpy_or_python_type\u001b[0m\u001b[1;33m(\u001b[0m\u001b[0mt\u001b[0m\u001b[1;33m)\u001b[0m\u001b[1;33m:\u001b[0m\u001b[1;33m\u001b[0m\u001b[1;33m\u001b[0m\u001b[0m\n\u001b[0;32m    518\u001b[0m     \u001b[1;32mif\u001b[0m \u001b[0misinstance\u001b[0m\u001b[1;33m(\u001b[0m\u001b[0mt\u001b[0m\u001b[1;33m,\u001b[0m \u001b[0mops\u001b[0m\u001b[1;33m.\u001b[0m\u001b[0mTensor\u001b[0m\u001b[1;33m)\u001b[0m\u001b[1;33m:\u001b[0m\u001b[1;33m\u001b[0m\u001b[1;33m\u001b[0m\u001b[0m\n\u001b[1;32m--> 519\u001b[1;33m       \u001b[0mx\u001b[0m \u001b[1;33m=\u001b[0m \u001b[0mt\u001b[0m\u001b[1;33m.\u001b[0m\u001b[0mnumpy\u001b[0m\u001b[1;33m(\u001b[0m\u001b[1;33m)\u001b[0m\u001b[1;33m\u001b[0m\u001b[1;33m\u001b[0m\u001b[0m\n\u001b[0m\u001b[0;32m    520\u001b[0m       \u001b[1;32mreturn\u001b[0m \u001b[0mx\u001b[0m\u001b[1;33m.\u001b[0m\u001b[0mitem\u001b[0m\u001b[1;33m(\u001b[0m\u001b[1;33m)\u001b[0m \u001b[1;32mif\u001b[0m \u001b[0mnp\u001b[0m\u001b[1;33m.\u001b[0m\u001b[0mndim\u001b[0m\u001b[1;33m(\u001b[0m\u001b[0mx\u001b[0m\u001b[1;33m)\u001b[0m \u001b[1;33m==\u001b[0m \u001b[1;36m0\u001b[0m \u001b[1;32melse\u001b[0m \u001b[0mx\u001b[0m\u001b[1;33m\u001b[0m\u001b[1;33m\u001b[0m\u001b[0m\n\u001b[0;32m    521\u001b[0m     \u001b[1;32mreturn\u001b[0m \u001b[0mt\u001b[0m  \u001b[1;31m# Don't turn ragged or sparse tensors to NumPy.\u001b[0m\u001b[1;33m\u001b[0m\u001b[1;33m\u001b[0m\u001b[0m\n",
      "\u001b[1;32m~\\anaconda3\\lib\\site-packages\\tensorflow\\python\\framework\\ops.py\u001b[0m in \u001b[0;36mnumpy\u001b[1;34m(self)\u001b[0m\n\u001b[0;32m    959\u001b[0m     \"\"\"\n\u001b[0;32m    960\u001b[0m     \u001b[1;31m# TODO(slebedev): Consider avoiding a copy for non-CPU or remote tensors.\u001b[0m\u001b[1;33m\u001b[0m\u001b[1;33m\u001b[0m\u001b[1;33m\u001b[0m\u001b[0m\n\u001b[1;32m--> 961\u001b[1;33m     \u001b[0mmaybe_arr\u001b[0m \u001b[1;33m=\u001b[0m \u001b[0mself\u001b[0m\u001b[1;33m.\u001b[0m\u001b[0m_numpy\u001b[0m\u001b[1;33m(\u001b[0m\u001b[1;33m)\u001b[0m  \u001b[1;31m# pylint: disable=protected-access\u001b[0m\u001b[1;33m\u001b[0m\u001b[1;33m\u001b[0m\u001b[0m\n\u001b[0m\u001b[0;32m    962\u001b[0m     \u001b[1;32mreturn\u001b[0m \u001b[0mmaybe_arr\u001b[0m\u001b[1;33m.\u001b[0m\u001b[0mcopy\u001b[0m\u001b[1;33m(\u001b[0m\u001b[1;33m)\u001b[0m \u001b[1;32mif\u001b[0m \u001b[0misinstance\u001b[0m\u001b[1;33m(\u001b[0m\u001b[0mmaybe_arr\u001b[0m\u001b[1;33m,\u001b[0m \u001b[0mnp\u001b[0m\u001b[1;33m.\u001b[0m\u001b[0mndarray\u001b[0m\u001b[1;33m)\u001b[0m \u001b[1;32melse\u001b[0m \u001b[0mmaybe_arr\u001b[0m\u001b[1;33m\u001b[0m\u001b[1;33m\u001b[0m\u001b[0m\n\u001b[0;32m    963\u001b[0m \u001b[1;33m\u001b[0m\u001b[0m\n",
      "\u001b[1;32m~\\anaconda3\\lib\\site-packages\\tensorflow\\python\\framework\\ops.py\u001b[0m in \u001b[0;36m_numpy\u001b[1;34m(self)\u001b[0m\n\u001b[0;32m    925\u001b[0m     \u001b[1;31m# pylint: disable=protected-access\u001b[0m\u001b[1;33m\u001b[0m\u001b[1;33m\u001b[0m\u001b[1;33m\u001b[0m\u001b[0m\n\u001b[0;32m    926\u001b[0m     \u001b[1;32mtry\u001b[0m\u001b[1;33m:\u001b[0m\u001b[1;33m\u001b[0m\u001b[1;33m\u001b[0m\u001b[0m\n\u001b[1;32m--> 927\u001b[1;33m       \u001b[1;32mreturn\u001b[0m \u001b[0mself\u001b[0m\u001b[1;33m.\u001b[0m\u001b[0m_numpy_internal\u001b[0m\u001b[1;33m(\u001b[0m\u001b[1;33m)\u001b[0m\u001b[1;33m\u001b[0m\u001b[1;33m\u001b[0m\u001b[0m\n\u001b[0m\u001b[0;32m    928\u001b[0m     \u001b[1;32mexcept\u001b[0m \u001b[0mcore\u001b[0m\u001b[1;33m.\u001b[0m\u001b[0m_NotOkStatusException\u001b[0m \u001b[1;32mas\u001b[0m \u001b[0me\u001b[0m\u001b[1;33m:\u001b[0m\u001b[1;33m\u001b[0m\u001b[1;33m\u001b[0m\u001b[0m\n\u001b[0;32m    929\u001b[0m       \u001b[0msix\u001b[0m\u001b[1;33m.\u001b[0m\u001b[0mraise_from\u001b[0m\u001b[1;33m(\u001b[0m\u001b[0mcore\u001b[0m\u001b[1;33m.\u001b[0m\u001b[0m_status_to_exception\u001b[0m\u001b[1;33m(\u001b[0m\u001b[0me\u001b[0m\u001b[1;33m.\u001b[0m\u001b[0mcode\u001b[0m\u001b[1;33m,\u001b[0m \u001b[0me\u001b[0m\u001b[1;33m.\u001b[0m\u001b[0mmessage\u001b[0m\u001b[1;33m)\u001b[0m\u001b[1;33m,\u001b[0m \u001b[1;32mNone\u001b[0m\u001b[1;33m)\u001b[0m\u001b[1;33m\u001b[0m\u001b[1;33m\u001b[0m\u001b[0m\n",
      "\u001b[1;31mKeyboardInterrupt\u001b[0m: "
     ]
    }
   ],
   "source": [
    "history = model.fit(\n",
    "    processed_train_ds,\n",
    "    epochs = NUM_EPOCHS,\n",
    "    initial_epoch = INITIAL_EPOCH,\n",
    "    steps_per_epoch = len(train_filepaths) // BATCH_SIZE,\n",
    "    validation_data = processed_val_ds,\n",
    "    validation_steps = len(val_filepaths) // BATCH_SIZE,\n",
    "    callbacks = [\n",
    "        tf.keras.callbacks.EarlyStopping(\n",
    "            patience = 10,\n",
    "            restore_best_weights = True,\n",
    "            verbose = 1,\n",
    "            monitor = \"val_accuracy\",\n",
    "            mode = \"max\"\n",
    "        ),\n",
    "        tf.keras.callbacks.CSVLogger(str(log_path), append = True),\n",
    "        tf.keras.callbacks.ModelCheckpoint(\n",
    "            str(checkpoint_path),\n",
    "            monitor = \"val_accuracy\",\n",
    "            mode = \"max\",\n",
    "            save_best_only = True\n",
    "        )\n",
    "    ]\n",
    ")"
   ]
  },
  {
   "cell_type": "code",
   "execution_count": 20,
   "metadata": {},
   "outputs": [
    {
     "ename": "NameError",
     "evalue": "name 'history' is not defined",
     "output_type": "error",
     "traceback": [
      "\u001b[1;31m---------------------------------------------------------------------------\u001b[0m",
      "\u001b[1;31mNameError\u001b[0m                                 Traceback (most recent call last)",
      "\u001b[1;32m<ipython-input-20-007459ff489a>\u001b[0m in \u001b[0;36m<module>\u001b[1;34m\u001b[0m\n\u001b[1;32m----> 1\u001b[1;33m \u001b[0macc\u001b[0m \u001b[1;33m=\u001b[0m \u001b[0mhistory\u001b[0m\u001b[1;33m.\u001b[0m\u001b[0mhistory\u001b[0m\u001b[1;33m[\u001b[0m\u001b[1;34m\"accuracy\"\u001b[0m\u001b[1;33m]\u001b[0m\u001b[1;33m\u001b[0m\u001b[1;33m\u001b[0m\u001b[0m\n\u001b[0m\u001b[0;32m      2\u001b[0m \u001b[0mloss\u001b[0m \u001b[1;33m=\u001b[0m \u001b[0mhistory\u001b[0m\u001b[1;33m.\u001b[0m\u001b[0mhistory\u001b[0m\u001b[1;33m[\u001b[0m\u001b[1;34m\"loss\"\u001b[0m\u001b[1;33m]\u001b[0m\u001b[1;33m\u001b[0m\u001b[1;33m\u001b[0m\u001b[0m\n\u001b[0;32m      3\u001b[0m \u001b[0mvalidation_acc\u001b[0m \u001b[1;33m=\u001b[0m \u001b[0mhistory\u001b[0m\u001b[1;33m.\u001b[0m\u001b[0mhistory\u001b[0m\u001b[1;33m[\u001b[0m\u001b[1;34m\"val_accuracy\"\u001b[0m\u001b[1;33m]\u001b[0m\u001b[1;33m\u001b[0m\u001b[1;33m\u001b[0m\u001b[0m\n\u001b[0;32m      4\u001b[0m \u001b[0mvalidation_loss\u001b[0m \u001b[1;33m=\u001b[0m \u001b[0mhistory\u001b[0m\u001b[1;33m.\u001b[0m\u001b[0mhistory\u001b[0m\u001b[1;33m[\u001b[0m\u001b[1;34m\"val_loss\"\u001b[0m\u001b[1;33m]\u001b[0m\u001b[1;33m\u001b[0m\u001b[1;33m\u001b[0m\u001b[0m\n\u001b[0;32m      5\u001b[0m \u001b[1;33m\u001b[0m\u001b[0m\n",
      "\u001b[1;31mNameError\u001b[0m: name 'history' is not defined"
     ]
    }
   ],
   "source": [
    "acc = history.history[\"accuracy\"]\n",
    "loss = history.history[\"loss\"]\n",
    "validation_acc = history.history[\"val_accuracy\"]\n",
    "validation_loss = history.history[\"val_loss\"]\n",
    "\n",
    "epochs_range = range(len(history.history[\"accuracy\"]))\n",
    "\n",
    "plt.figure(figsize = (8, 8))\n",
    "plt.subplot(1, 2, 1)\n",
    "plt.plot(epochs_range, acc, label = \"Training Accuracy\")\n",
    "plt.plot(epochs_range, validation_acc, label = \"Validation Accuracy\")\n",
    "plt.legend(loc = \"lower right\")\n",
    "plt.title(\"Training and Validation Accuracy\")\n",
    "\n",
    "plt.subplot(1, 2, 2)\n",
    "plt.plot(epochs_range, loss, label = \"Training Loss\")\n",
    "plt.plot(epochs_range, validation_loss, label = \"Validation Loss\")\n",
    "plt.legend(loc = \"lower right\")\n",
    "plt.title(\"Training and Validation Loss\")\n",
    "plt.show()"
   ]
  },
  {
   "cell_type": "code",
   "execution_count": 21,
   "metadata": {},
   "outputs": [],
   "source": [
    "# Remove cache directory if available\n",
    "if CACHE_DIR.exists():\n",
    "    shutil.rmtree(CACHE_DIR, ignore_errors = True)"
   ]
  },
  {
   "cell_type": "code",
   "execution_count": null,
   "metadata": {},
   "outputs": [],
   "source": []
  }
 ],
 "metadata": {
  "kernelspec": {
   "display_name": "Python 3",
   "language": "python",
   "name": "python3"
  },
  "language_info": {
   "codemirror_mode": {
    "name": "ipython",
    "version": 3
   },
   "file_extension": ".py",
   "mimetype": "text/x-python",
   "name": "python",
   "nbconvert_exporter": "python",
   "pygments_lexer": "ipython3",
   "version": "3.7.6"
  },
  "toc": {
   "base_numbering": 1,
   "nav_menu": {},
   "number_sections": false,
   "sideBar": true,
   "skip_h1_title": false,
   "title_cell": "Table of Contents",
   "title_sidebar": "Contents",
   "toc_cell": false,
   "toc_position": {
    "height": "calc(100% - 180px)",
    "left": "10px",
    "top": "150px",
    "width": "273px"
   },
   "toc_section_display": true,
   "toc_window_display": false
  }
 },
 "nbformat": 4,
 "nbformat_minor": 2
}
