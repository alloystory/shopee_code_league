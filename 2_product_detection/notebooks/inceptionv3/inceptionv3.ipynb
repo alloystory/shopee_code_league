{
 "cells": [
  {
   "cell_type": "markdown",
   "metadata": {},
   "source": [
    "# Inception V3"
   ]
  },
  {
   "cell_type": "code",
   "execution_count": 1,
   "metadata": {
    "tags": []
   },
   "outputs": [],
   "source": [
    "import os\n",
    "import shutil\n",
    "import numpy as np\n",
    "import matplotlib.pyplot as plt\n",
    "import tensorflow as tf\n",
    "from pathlib import Path\n",
    "from sklearn.model_selection import train_test_split"
   ]
  },
  {
   "cell_type": "code",
   "execution_count": 2,
   "metadata": {
    "code_folding": []
   },
   "outputs": [],
   "source": [
    "MODEL_ID = \"inceptionv3\"\n",
    "\n",
    "TRAIN_DIR = Path(\"../../data/train\")\n",
    "MODEL_DIR = Path(\"./models\")\n",
    "LOG_DIR = Path(\"./log\")\n",
    "CACHE_DIR = Path(\"./tmp/cache\")\n",
    "\n",
    "BATCH_SIZE = 64\n",
    "VAL_SPLIT = 0.25\n",
    "IMG_HEIGHT = IMG_WIDTH = 200\n",
    "GPU_MEMORY_LIMIT = None\n",
    "SEED = 1\n",
    "\n",
    "NUM_EPOCHS = 100\n",
    "INITIAL_EPOCH = 0\n",
    "LOAD_MODEL_PATH = None"
   ]
  },
  {
   "cell_type": "code",
   "execution_count": 3,
   "metadata": {},
   "outputs": [],
   "source": [
    "# Remove cache directory if available\n",
    "if CACHE_DIR.exists():\n",
    "    shutil.rmtree(CACHE_DIR, ignore_errors = True)\n",
    "\n",
    "MODEL_DIR.mkdir(parents = True, exist_ok = True)\n",
    "LOG_DIR.mkdir(parents = True, exist_ok = True)\n",
    "CACHE_DIR.mkdir(parents = True, exist_ok = True)"
   ]
  },
  {
   "cell_type": "code",
   "execution_count": 4,
   "metadata": {},
   "outputs": [],
   "source": [
    "# Set global seed for reproducible results\n",
    "tf.random.set_seed(SEED)"
   ]
  },
  {
   "cell_type": "code",
   "execution_count": 5,
   "metadata": {},
   "outputs": [],
   "source": [
    "# Limit GPU Memory Usage to GPU_MEMORY_LIMIT\n",
    "gpus = tf.config.experimental.list_physical_devices('GPU')\n",
    "if gpus and GPU_MEMORY_LIMIT:\n",
    "    try:\n",
    "        tf.config.experimental.set_virtual_device_configuration(\n",
    "            gpus[0],\n",
    "            [tf.config.experimental.VirtualDeviceConfiguration(memory_limit = GPU_MEMORY_LIMIT)])\n",
    "        logical_gpus = tf.config.experimental.list_logical_devices('GPU')\n",
    "        print(len(gpus), \"Physical GPUs,\", len(logical_gpus), \"Logical GPUs\")\n",
    "    except RuntimeError as e:\n",
    "        # Virtual devices must be set before GPUs have been initialized\n",
    "        print(e)"
   ]
  },
  {
   "cell_type": "markdown",
   "metadata": {},
   "source": [
    "## Loading Images"
   ]
  },
  {
   "cell_type": "code",
   "execution_count": 6,
   "metadata": {},
   "outputs": [
    {
     "name": "stdout",
     "output_type": "stream",
     "text": [
      "Train: Found 79044 images belonging to 42 classes\n",
      "Validation: Found 26348 images belonging to 42 classes\n"
     ]
    }
   ],
   "source": [
    "X_train, X_test = train_test_split(\n",
    "    list(TRAIN_DIR.glob(\"**/*.jpg\")),\n",
    "    test_size = VAL_SPLIT,\n",
    "    random_state = SEED\n",
    ")\n",
    "\n",
    "train_filepaths = []\n",
    "train_classes = set()\n",
    "\n",
    "val_filepaths = []\n",
    "val_classes = set()\n",
    "\n",
    "for filepath in X_train:\n",
    "    train_filepaths.append(str(filepath))\n",
    "    train_classes.add(filepath.parts[-2])\n",
    "print(\"Train: Found {} images belonging to {} classes\".format(len(train_filepaths), len(train_classes)))\n",
    "    \n",
    "for filepath in X_test:\n",
    "    val_filepaths.append(str(filepath))\n",
    "    val_classes.add(filepath.parts[-2])\n",
    "print(\"Validation: Found {} images belonging to {} classes\".format(len(val_filepaths), len(val_classes)))\n",
    "    \n",
    "train_filepaths = np.array(train_filepaths)\n",
    "val_filepaths = np.array(val_filepaths)\n",
    "\n",
    "classes = np.array(list(train_classes.union(val_classes)))\n",
    "classes = np.sort(classes)"
   ]
  },
  {
   "cell_type": "code",
   "execution_count": 7,
   "metadata": {
    "scrolled": false
   },
   "outputs": [
    {
     "name": "stdout",
     "output_type": "stream",
     "text": [
      "b'..\\\\..\\\\data\\\\train\\\\32\\\\5f2dba1fbf124f2db0f3918b37aeab9e.jpg'\n",
      "b'..\\\\..\\\\data\\\\train\\\\19\\\\adf95fd3be74f7a53a7ea901d3043126.jpg'\n",
      "b'..\\\\..\\\\data\\\\train\\\\01\\\\f7be16f17e1d3367f2d4d99a1c5544a6.jpg'\n"
     ]
    }
   ],
   "source": [
    "train_fp_ds = tf.data.Dataset.from_tensor_slices(train_filepaths)\n",
    "for f in train_fp_ds.take(3):\n",
    "    print(f.numpy())"
   ]
  },
  {
   "cell_type": "code",
   "execution_count": 8,
   "metadata": {
    "scrolled": false
   },
   "outputs": [
    {
     "name": "stdout",
     "output_type": "stream",
     "text": [
      "b'..\\\\..\\\\data\\\\train\\\\04\\\\0272e1c91b21303d22915d5d2c384c7f.jpg'\n",
      "b'..\\\\..\\\\data\\\\train\\\\25\\\\9e977c57d2686943ba637c92f51c9f7d.jpg'\n",
      "b'..\\\\..\\\\data\\\\train\\\\21\\\\29443df248d863814e40ad72f0c9a65b.jpg'\n"
     ]
    }
   ],
   "source": [
    "val_fp_ds = tf.data.Dataset.from_tensor_slices(val_filepaths)\n",
    "for f in val_fp_ds.take(3):\n",
    "    print(f.numpy())"
   ]
  },
  {
   "cell_type": "code",
   "execution_count": 9,
   "metadata": {},
   "outputs": [],
   "source": [
    "def load_img(file_path):\n",
    "    parts = tf.strings.split(file_path, os.path.sep)\n",
    "    label = parts[-2] == classes\n",
    "    \n",
    "    img = tf.io.read_file(file_path)\n",
    "    img = tf.image.decode_jpeg(img, channels = 3)\n",
    "    img = tf.image.convert_image_dtype(img, tf.float32)\n",
    "    img = tf.image.resize(img, [IMG_HEIGHT, IMG_WIDTH]) \n",
    "    \n",
    "    return img, label"
   ]
  },
  {
   "cell_type": "code",
   "execution_count": 10,
   "metadata": {},
   "outputs": [
    {
     "name": "stdout",
     "output_type": "stream",
     "text": [
      "Image shape:  (200, 200, 3)\n",
      "Label:  [False False False False False False False False False False False False\n",
      " False False False False False False False False False False False False\n",
      " False False False False False False False False  True False False False\n",
      " False False False False False False]\n"
     ]
    }
   ],
   "source": [
    "train_img_ds = train_fp_ds.map(load_img, num_parallel_calls = tf.data.experimental.AUTOTUNE)\n",
    "for image, label in train_img_ds.take(1):\n",
    "    print(\"Image shape: \", image.numpy().shape)\n",
    "    print(\"Label: \", label.numpy())"
   ]
  },
  {
   "cell_type": "code",
   "execution_count": 11,
   "metadata": {},
   "outputs": [
    {
     "name": "stdout",
     "output_type": "stream",
     "text": [
      "Image shape:  (200, 200, 3)\n",
      "Label:  [False False False False  True False False False False False False False\n",
      " False False False False False False False False False False False False\n",
      " False False False False False False False False False False False False\n",
      " False False False False False False]\n"
     ]
    }
   ],
   "source": [
    "val_img_ds = val_fp_ds.map(load_img, num_parallel_calls = tf.data.experimental.AUTOTUNE)\n",
    "for image, label in val_img_ds.take(1):\n",
    "    print(\"Image shape: \", image.numpy().shape)\n",
    "    print(\"Label: \", label.numpy())"
   ]
  },
  {
   "cell_type": "markdown",
   "metadata": {},
   "source": [
    "## Image Preprocessing"
   ]
  },
  {
   "cell_type": "code",
   "execution_count": 12,
   "metadata": {},
   "outputs": [],
   "source": [
    "def augment(img, label):\n",
    "    img = tf.image.random_flip_left_right(img, seed = SEED)\n",
    "#     img = tf.image.random_brightness(img, max_delta = 0.4, seed = SEED)\n",
    "#     img = tf.keras.preprocessing.image.random_zoom(img, 0.4)\n",
    "    \n",
    "    return img, label"
   ]
  },
  {
   "cell_type": "code",
   "execution_count": 13,
   "metadata": {},
   "outputs": [],
   "source": [
    "processed_train_ds = train_img_ds \\\n",
    "                        .cache(str(CACHE_DIR / \"train.tfcache\")) \\\n",
    "                        .shuffle(BATCH_SIZE * 20, seed = SEED) \\\n",
    "                        .map(augment, num_parallel_calls = tf.data.experimental.AUTOTUNE) \\\n",
    "                        .repeat() \\\n",
    "                        .batch(BATCH_SIZE) \\\n",
    "                        .prefetch(tf.data.experimental.AUTOTUNE) \\"
   ]
  },
  {
   "cell_type": "code",
   "execution_count": 14,
   "metadata": {},
   "outputs": [],
   "source": [
    "processed_val_ds = val_img_ds \\\n",
    "                        .batch(BATCH_SIZE) \\\n",
    "                        .prefetch(tf.data.experimental.AUTOTUNE)"
   ]
  },
  {
   "cell_type": "markdown",
   "metadata": {},
   "source": [
    "## Training Model"
   ]
  },
  {
   "cell_type": "code",
   "execution_count": 15,
   "metadata": {},
   "outputs": [],
   "source": [
    "if not LOAD_MODEL_PATH:\n",
    "    model = tf.keras.models.Sequential()\n",
    "    model.add(tf.keras.applications.InceptionV3(\n",
    "            include_top = False,\n",
    "            pooling = \"avg\",\n",
    "            input_shape = (IMG_HEIGHT, IMG_WIDTH, 3)\n",
    "    ))\n",
    "    model.add(tf.keras.layers.Dense(1024, activation = \"relu\"))\n",
    "    model.add(tf.keras.layers.Dropout(0.3))\n",
    "    model.add(tf.keras.layers.Dense(len(classes), activation = \"softmax\"))\n",
    "    \n",
    "    model.layers[0].trainable = False\n",
    "    for layer in model.layers[0].layers:\n",
    "        layer.trainable = False\n",
    "\n",
    "    model.compile(\n",
    "        optimizer = tf.keras.optimizers.Adam(),\n",
    "        loss = tf.keras.losses.CategoricalCrossentropy(),\n",
    "        metrics = [\"accuracy\"]\n",
    "    )\n",
    "else:\n",
    "    model = tf.keras.models.load_model(str(LOAD_MODEL_PATH))"
   ]
  },
  {
   "cell_type": "code",
   "execution_count": 16,
   "metadata": {
    "scrolled": true
   },
   "outputs": [
    {
     "name": "stdout",
     "output_type": "stream",
     "text": [
      "Model: \"sequential\"\n",
      "_________________________________________________________________\n",
      "Layer (type)                 Output Shape              Param #   \n",
      "=================================================================\n",
      "inception_v3 (Model)         (None, 2048)              21802784  \n",
      "_________________________________________________________________\n",
      "dense (Dense)                (None, 1024)              2098176   \n",
      "_________________________________________________________________\n",
      "dropout (Dropout)            (None, 1024)              0         \n",
      "_________________________________________________________________\n",
      "dense_1 (Dense)              (None, 42)                43050     \n",
      "=================================================================\n",
      "Total params: 23,944,010\n",
      "Trainable params: 2,141,226\n",
      "Non-trainable params: 21,802,784\n",
      "_________________________________________________________________\n"
     ]
    }
   ],
   "source": [
    "model.summary()"
   ]
  },
  {
   "cell_type": "code",
   "execution_count": 17,
   "metadata": {
    "scrolled": true
   },
   "outputs": [
    {
     "name": "stdout",
     "output_type": "stream",
     "text": [
      "tmp\\chkpt\\inceptionv3.{epoch:03d}-{val_accuracy:.4f}.h5\n",
      "models\\inceptionv3.h5\n",
      "log\\inceptionv3.csv\n"
     ]
    }
   ],
   "source": [
    "checkpoint_path = MODEL_DIR / (MODEL_ID + \".{epoch:03d}-{val_accuracy:.4f}.h5\")\n",
    "log_path = (LOG_DIR / MODEL_ID).with_suffix(\".csv\")\n",
    "\n",
    "print(checkpoint_path)\n",
    "print(log_path)"
   ]
  },
  {
   "cell_type": "code",
   "execution_count": 18,
   "metadata": {
    "scrolled": false,
    "tags": []
   },
   "outputs": [
    {
     "name": "stdout",
     "output_type": "stream",
     "text": [
      "Epoch 1/100\n",
      "1235/1235 [==============================] - 404s 327ms/step - loss: 1.7571 - accuracy: 0.5262 - val_loss: 1.4577 - val_accuracy: 0.5987\n",
      "Epoch 2/100\n",
      "1235/1235 [==============================] - 204s 165ms/step - loss: 1.5214 - accuracy: 0.5820 - val_loss: 1.4318 - val_accuracy: 0.6051\n",
      "Epoch 3/100\n",
      "1235/1235 [==============================] - 202s 163ms/step - loss: 1.4517 - accuracy: 0.5977 - val_loss: 1.4323 - val_accuracy: 0.6141\n",
      "Epoch 4/100\n",
      "1235/1235 [==============================] - 201s 163ms/step - loss: 1.4047 - accuracy: 0.6082 - val_loss: 1.3652 - val_accuracy: 0.6279\n",
      "Epoch 5/100\n",
      "1235/1235 [==============================] - 194s 157ms/step - loss: 1.3575 - accuracy: 0.6211 - val_loss: 1.3546 - val_accuracy: 0.6348\n",
      "Epoch 6/100\n",
      "1235/1235 [==============================] - 191s 155ms/step - loss: 1.3253 - accuracy: 0.6280 - val_loss: 1.3672 - val_accuracy: 0.6302\n",
      "Epoch 7/100\n",
      "1235/1235 [==============================] - 189s 153ms/step - loss: 1.2922 - accuracy: 0.6371 - val_loss: 1.3596 - val_accuracy: 0.6325\n",
      "Epoch 8/100\n",
      "1235/1235 [==============================] - 187s 152ms/step - loss: 1.2558 - accuracy: 0.6444 - val_loss: 1.3811 - val_accuracy: 0.6272\n",
      "Epoch 9/100\n",
      "1235/1235 [==============================] - 175s 142ms/step - loss: 1.2348 - accuracy: 0.6493 - val_loss: 1.3655 - val_accuracy: 0.6340\n",
      "Epoch 10/100\n",
      "1235/1235 [==============================] - 174s 141ms/step - loss: 1.1999 - accuracy: 0.6564 - val_loss: 1.3890 - val_accuracy: 0.6329\n",
      "Epoch 11/100\n",
      "1235/1235 [==============================] - 175s 141ms/step - loss: 1.1816 - accuracy: 0.6611 - val_loss: 1.3686 - val_accuracy: 0.6356\n",
      "Epoch 12/100\n",
      "1235/1235 [==============================] - 174s 141ms/step - loss: 1.1547 - accuracy: 0.6674 - val_loss: 1.4375 - val_accuracy: 0.6330\n",
      "Epoch 13/100\n",
      "1235/1235 [==============================] - 175s 142ms/step - loss: 1.1381 - accuracy: 0.6704 - val_loss: 1.3835 - val_accuracy: 0.6383\n",
      "Epoch 14/100\n",
      "1235/1235 [==============================] - 175s 141ms/step - loss: 1.1185 - accuracy: 0.6745 - val_loss: 1.4284 - val_accuracy: 0.6334\n",
      "Epoch 15/100\n",
      "1235/1235 [==============================] - 175s 142ms/step - loss: 1.1030 - accuracy: 0.6773 - val_loss: 1.3794 - val_accuracy: 0.6365\n",
      "Epoch 16/100\n",
      "1235/1235 [==============================] - 175s 142ms/step - loss: 1.0857 - accuracy: 0.6820 - val_loss: 1.4485 - val_accuracy: 0.6407\n",
      "Epoch 17/100\n",
      "1235/1235 [==============================] - 175s 141ms/step - loss: 1.0662 - accuracy: 0.6860 - val_loss: 1.4395 - val_accuracy: 0.6373\n",
      "Epoch 18/100\n",
      "1235/1235 [==============================] - 175s 141ms/step - loss: 1.0526 - accuracy: 0.6885 - val_loss: 1.4245 - val_accuracy: 0.6393\n",
      "Epoch 19/100\n",
      "1235/1235 [==============================] - 174s 141ms/step - loss: 1.0321 - accuracy: 0.6935 - val_loss: 1.4442 - val_accuracy: 0.6395\n",
      "Epoch 20/100\n",
      "1235/1235 [==============================] - 175s 141ms/step - loss: 1.0183 - accuracy: 0.6962 - val_loss: 1.4951 - val_accuracy: 0.6358\n",
      "Epoch 21/100\n",
      "1235/1235 [==============================] - 174s 141ms/step - loss: 1.0056 - accuracy: 0.7001 - val_loss: 1.4904 - val_accuracy: 0.6326\n",
      "Epoch 22/100\n",
      "1235/1235 [==============================] - 174s 141ms/step - loss: 0.9897 - accuracy: 0.7038 - val_loss: 1.4577 - val_accuracy: 0.6395\n",
      "Epoch 23/100\n",
      "1235/1235 [==============================] - 174s 141ms/step - loss: 0.9763 - accuracy: 0.7069 - val_loss: 1.5096 - val_accuracy: 0.6378\n",
      "Epoch 24/100\n",
      "1235/1235 [==============================] - 175s 141ms/step - loss: 0.9670 - accuracy: 0.7074 - val_loss: 1.5012 - val_accuracy: 0.6389\n",
      "Epoch 25/100\n",
      "1235/1235 [==============================] - 176s 142ms/step - loss: 0.9530 - accuracy: 0.7125 - val_loss: 1.5133 - val_accuracy: 0.6351\n",
      "Epoch 26/100\n",
      "1235/1235 [==============================] - ETA: 0s - loss: 0.9486 - accuracy: 0.7141Restoring model weights from the end of the best epoch.\n",
      "1235/1235 [==============================] - 174s 141ms/step - loss: 0.9486 - accuracy: 0.7141 - val_loss: 1.5146 - val_accuracy: 0.6361\n",
      "Epoch 00026: early stopping\n"
     ]
    }
   ],
   "source": [
    "history = model.fit(\n",
    "    processed_train_ds,\n",
    "    epochs = NUM_EPOCHS,\n",
    "    initial_epoch = INITIAL_EPOCH,\n",
    "    steps_per_epoch = len(train_filepaths) // BATCH_SIZE,\n",
    "    validation_data = processed_val_ds,\n",
    "    validation_steps = len(val_filepaths) // BATCH_SIZE,\n",
    "    callbacks = [\n",
    "        tf.keras.callbacks.EarlyStopping(\n",
    "            patience = 10,\n",
    "            restore_best_weights = True,\n",
    "            verbose = 1,\n",
    "            monitor = \"val_accuracy\",\n",
    "            mode = \"max\"\n",
    "        ),\n",
    "        tf.keras.callbacks.CSVLogger(str(log_path), append = True),\n",
    "        tf.keras.callbacks.ModelCheckpoint(\n",
    "            str(checkpoint_path),\n",
    "            monitor = \"val_accuracy\",\n",
    "            mode = \"max\",\n",
    "            save_best_only = True\n",
    "        )\n",
    "    ]\n",
    ")"
   ]
  },
  {
   "cell_type": "code",
   "execution_count": 19,
   "metadata": {},
   "outputs": [
    {
     "data": {
      "image/png": "[encoded data removed]",
      "text/plain": [
       "<Figure size 576x576 with 2 Axes>"
      ]
     },
     "metadata": {
      "needs_background": "light"
     },
     "output_type": "display_data"
    }
   ],
   "source": [
    "acc = history.history[\"accuracy\"]\n",
    "loss = history.history[\"loss\"]\n",
    "validation_acc = history.history[\"val_accuracy\"]\n",
    "validation_loss = history.history[\"val_loss\"]\n",
    "\n",
    "epochs_range = range(len(history.history[\"accuracy\"]))\n",
    "\n",
    "plt.figure(figsize = (8, 8))\n",
    "plt.subplot(1, 2, 1)\n",
    "plt.plot(epochs_range, acc, label = \"Training Accuracy\")\n",
    "plt.plot(epochs_range, validation_acc, label = \"Validation Accuracy\")\n",
    "plt.legend(loc = \"lower right\")\n",
    "plt.title(\"Training and Validation Accuracy\")\n",
    "\n",
    "plt.subplot(1, 2, 2)\n",
    "plt.plot(epochs_range, loss, label = \"Training Loss\")\n",
    "plt.plot(epochs_range, validation_loss, label = \"Validation Loss\")\n",
    "plt.legend(loc = \"lower right\")\n",
    "plt.title(\"Training and Validation Loss\")\n",
    "plt.show()"
   ]
  },
  {
   "cell_type": "code",
   "execution_count": 21,
   "metadata": {},
   "outputs": [],
   "source": [
    "# Remove cache directory if available\n",
    "if CACHE_DIR.exists():\n",
    "    shutil.rmtree(CACHE_DIR, ignore_errors = True)"
   ]
  }
 ],
 "metadata": {
  "kernelspec": {
   "display_name": "Python 3",
   "language": "python",
   "name": "python3"
  },
  "language_info": {
   "codemirror_mode": {
    "name": "ipython",
    "version": 3
   },
   "file_extension": ".py",
   "mimetype": "text/x-python",
   "name": "python",
   "nbconvert_exporter": "python",
   "pygments_lexer": "ipython3",
   "version": "3.7.7"
  },
  "toc": {
   "base_numbering": 1,
   "nav_menu": {},
   "number_sections": false,
   "sideBar": true,
   "skip_h1_title": false,
   "title_cell": "Table of Contents",
   "title_sidebar": "Contents",
   "toc_cell": false,
   "toc_position": {
    "height": "calc(100% - 180px)",
    "left": "10px",
    "top": "150px",
    "width": "273px"
   },
   "toc_section_display": true,
   "toc_window_display": false
  }
 },
 "nbformat": 4,
 "nbformat_minor": 2
}
