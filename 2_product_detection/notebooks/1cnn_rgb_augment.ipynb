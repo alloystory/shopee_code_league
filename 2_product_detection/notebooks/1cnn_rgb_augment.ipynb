{
 "cells": [
  {
   "cell_type": "markdown",
   "metadata": {},
   "source": [
    "# Convolutional Neural Network"
   ]
  },
  {
   "cell_type": "code",
   "execution_count": 1,
   "metadata": {
    "tags": []
   },
   "outputs": [],
   "source": [
    "import matplotlib.pyplot as plt\n",
    "import tensorflow as tf\n",
    "from tensorflow import keras\n",
    "from tensorflow.keras.preprocessing.image import ImageDataGenerator"
   ]
  },
  {
   "cell_type": "code",
   "execution_count": 2,
   "metadata": {},
   "outputs": [],
   "source": [
    "# Constant Parameters\n",
    "# Preprocessing Parameters\n",
    "TRAIN_DIR = \"../data/train/\"\n",
    "MODEL_DIR = \"../models/\"\n",
    "VALIDATION_SPLIT = 0.2\n",
    "IMAGE_HEIGHT = IMAGE_WIDTH = 128\n",
    "SEED = 1\n",
    "\n",
    "# Training Parameters\n",
    "NUM_EPOCHS = 20\n",
    "OPTIMIZER = keras.optimizers.Adam()\n",
    "LOSS_FN = keras.losses.CategoricalCrossentropy()"
   ]
  },
  {
   "cell_type": "code",
   "execution_count": 3,
   "metadata": {},
   "outputs": [],
   "source": [
    "# Model Architecture\n",
    "def get_model(image_depth, num_classes):\n",
    "    return keras.models.Sequential([\n",
    "        keras.layers.Conv2D(32, 3, input_shape = (IMAGE_HEIGHT, IMAGE_WIDTH, image_depth)),\n",
    "        keras.layers.MaxPool2D(pool_size = (2, 2)),\n",
    "        keras.layers.Dropout(0.2),\n",
    "        keras.layers.Flatten(),\n",
    "        keras.layers.Dense(1024, activation = \"relu\"),\n",
    "        keras.layers.Dense(num_classes, activation = \"softmax\")\n",
    "    ])"
   ]
  },
  {
   "cell_type": "markdown",
   "metadata": {},
   "source": [
    "## Preprocessing - RGB + Augment"
   ]
  },
  {
   "cell_type": "code",
   "execution_count": 4,
   "metadata": {
    "code_folding": []
   },
   "outputs": [],
   "source": [
    "model_id = \"cnn_rgb_augment\"              # Unique Identifier used for saving model\n",
    "color_mode = \"rgb\"                        # \"rgb\", \"rgba\" or \"grayscale\"\n",
    "\n",
    "# DO NOT CHANGE\n",
    "if color_mode == \"grayscale\":\n",
    "    image_depth = 1\n",
    "elif color_mode == \"rgb\":\n",
    "    image_depth = 3\n",
    "elif color_mode == \"rgba\":\n",
    "    image_depth = 4\n",
    "else:\n",
    "    raise Exception()"
   ]
  },
  {
   "cell_type": "code",
   "execution_count": 5,
   "metadata": {},
   "outputs": [],
   "source": [
    "# Data Augmentation Parameters\n",
    "image_generator = ImageDataGenerator(\n",
    "    validation_split = VALIDATION_SPLIT,\n",
    "    rescale = 1./255,\n",
    "    rotation_range = 45,\n",
    "    horizontal_flip = True,\n",
    "    vertical_flip = True,\n",
    "    zoom_range = 0.4\n",
    ")"
   ]
  },
  {
   "cell_type": "code",
   "execution_count": 6,
   "metadata": {
    "tags": []
   },
   "outputs": [
    {
     "name": "stdout",
     "output_type": "stream",
     "text": [
      "Found 84331 images belonging to 42 classes.\n"
     ]
    }
   ],
   "source": [
    "train_data_gen = image_generator.flow_from_directory(\n",
    "    color_mode = color_mode,\n",
    "    directory = TRAIN_DIR,\n",
    "    target_size = (IMAGE_HEIGHT, IMAGE_WIDTH),\n",
    "    shuffle = True,\n",
    "    seed = SEED,\n",
    "    class_mode = \"categorical\",\n",
    "    subset = \"training\"\n",
    ")"
   ]
  },
  {
   "cell_type": "code",
   "execution_count": 7,
   "metadata": {
    "tags": []
   },
   "outputs": [
    {
     "name": "stdout",
     "output_type": "stream",
     "text": [
      "Found 21061 images belonging to 42 classes.\n"
     ]
    }
   ],
   "source": [
    "validation_data_gen = image_generator.flow_from_directory(\n",
    "    color_mode = color_mode,\n",
    "    directory = TRAIN_DIR,\n",
    "    target_size = (IMAGE_HEIGHT, IMAGE_WIDTH),\n",
    "    class_mode = \"categorical\",\n",
    "    subset = \"validation\"\n",
    ")"
   ]
  },
  {
   "cell_type": "code",
   "execution_count": 8,
   "metadata": {},
   "outputs": [],
   "source": [
    "model = get_model(image_depth, train_data_gen.num_classes)"
   ]
  },
  {
   "cell_type": "code",
   "execution_count": 9,
   "metadata": {},
   "outputs": [],
   "source": [
    "model.compile(\n",
    "    optimizer = OPTIMIZER,\n",
    "    loss = LOSS_FN,\n",
    "    metrics = [\"accuracy\"]\n",
    ")"
   ]
  },
  {
   "cell_type": "code",
   "execution_count": 10,
   "metadata": {
    "scrolled": false
   },
   "outputs": [
    {
     "name": "stdout",
     "output_type": "stream",
     "text": [
      "Model: \"sequential\"\n",
      "_________________________________________________________________\n",
      "Layer (type)                 Output Shape              Param #   \n",
      "=================================================================\n",
      "conv2d (Conv2D)              (None, 126, 126, 32)      896       \n",
      "_________________________________________________________________\n",
      "max_pooling2d (MaxPooling2D) (None, 63, 63, 32)        0         \n",
      "_________________________________________________________________\n",
      "dropout (Dropout)            (None, 63, 63, 32)        0         \n",
      "_________________________________________________________________\n",
      "flatten (Flatten)            (None, 127008)            0         \n",
      "_________________________________________________________________\n",
      "dense (Dense)                (None, 1024)              130057216 \n",
      "_________________________________________________________________\n",
      "dense_1 (Dense)              (None, 42)                43050     \n",
      "=================================================================\n",
      "Total params: 130,101,162\n",
      "Trainable params: 130,101,162\n",
      "Non-trainable params: 0\n",
      "_________________________________________________________________\n"
     ]
    }
   ],
   "source": [
    "model.summary()"
   ]
  },
  {
   "cell_type": "code",
   "execution_count": 11,
   "metadata": {
    "tags": []
   },
   "outputs": [
    {
     "name": "stdout",
     "output_type": "stream",
     "text": [
      "Epoch 1/20\n",
      "2636/2636 [==============================] - 1356s 515ms/step - loss: 3.5139 - accuracy: 0.0878 - val_loss: 3.4333 - val_accuracy: 0.1103\n",
      "Epoch 2/20\n",
      "2636/2636 [==============================] - 1340s 509ms/step - loss: 3.3924 - accuracy: 0.1184 - val_loss: 3.3529 - val_accuracy: 0.1279\n",
      "Epoch 3/20\n",
      "2636/2636 [==============================] - 1304s 495ms/step - loss: 3.3317 - accuracy: 0.1358 - val_loss: 3.3252 - val_accuracy: 0.1381\n",
      "Epoch 4/20\n",
      "2636/2636 [==============================] - 1287s 488ms/step - loss: 3.2861 - accuracy: 0.1462 - val_loss: 3.3092 - val_accuracy: 0.1404\n",
      "Epoch 5/20\n",
      "2636/2636 [==============================] - 1399s 531ms/step - loss: 3.2467 - accuracy: 0.1550 - val_loss: 3.2455 - val_accuracy: 0.1571\n",
      "Epoch 6/20\n",
      "2636/2636 [==============================] - 1295s 491ms/step - loss: 3.2188 - accuracy: 0.1620 - val_loss: 3.2148 - val_accuracy: 0.1690\n",
      "Epoch 7/20\n",
      "2636/2636 [==============================] - 1311s 497ms/step - loss: 3.1916 - accuracy: 0.1700 - val_loss: 3.2097 - val_accuracy: 0.1673\n",
      "Epoch 8/20\n",
      "2636/2636 [==============================] - 1298s 492ms/step - loss: 3.1683 - accuracy: 0.1751 - val_loss: 3.1743 - val_accuracy: 0.1761\n",
      "Epoch 9/20\n",
      "2636/2636 [==============================] - 1304s 495ms/step - loss: 3.1513 - accuracy: 0.1807 - val_loss: 3.1657 - val_accuracy: 0.1807\n",
      "Epoch 10/20\n",
      "2636/2636 [==============================] - 1321s 501ms/step - loss: 3.1307 - accuracy: 0.1866 - val_loss: 3.1400 - val_accuracy: 0.1851\n",
      "Epoch 11/20\n",
      "2636/2636 [==============================] - 1304s 495ms/step - loss: 3.1149 - accuracy: 0.1909 - val_loss: 3.1557 - val_accuracy: 0.1773\n",
      "Epoch 12/20\n",
      "2636/2636 [==============================] - 1302s 494ms/step - loss: 3.0996 - accuracy: 0.1958 - val_loss: 3.1163 - val_accuracy: 0.1885\n",
      "Epoch 13/20\n",
      "2636/2636 [==============================] - 1325s 503ms/step - loss: 3.0871 - accuracy: 0.1965 - val_loss: 3.1003 - val_accuracy: 0.1967\n",
      "Epoch 14/20\n",
      "2636/2636 [==============================] - 1316s 499ms/step - loss: 3.0729 - accuracy: 0.2009 - val_loss: 3.0953 - val_accuracy: 0.2002\n",
      "Epoch 15/20\n",
      "2636/2636 [==============================] - 1368s 519ms/step - loss: 3.0597 - accuracy: 0.2052 - val_loss: 3.0834 - val_accuracy: 0.2045\n",
      "Epoch 16/20\n",
      "2636/2636 [==============================] - 1311s 497ms/step - loss: 3.0510 - accuracy: 0.2062 - val_loss: 3.1447 - val_accuracy: 0.1873\n",
      "Epoch 17/20\n",
      "2636/2636 [==============================] - 1307s 496ms/step - loss: 3.0408 - accuracy: 0.2067 - val_loss: 3.0697 - val_accuracy: 0.2072\n",
      "Epoch 18/20\n",
      "2636/2636 [==============================] - 1318s 500ms/step - loss: 3.0267 - accuracy: 0.2123 - val_loss: 3.0781 - val_accuracy: 0.2005\n",
      "Epoch 19/20\n",
      "2636/2636 [==============================] - 1306s 495ms/step - loss: 3.0161 - accuracy: 0.2168 - val_loss: 3.0684 - val_accuracy: 0.2082\n",
      "Epoch 20/20\n",
      "2636/2636 [==============================] - 1306s 496ms/step - loss: 3.0103 - accuracy: 0.2162 - val_loss: 3.0347 - val_accuracy: 0.2161\n"
     ]
    }
   ],
   "source": [
    "history = model.fit(\n",
    "    train_data_gen,\n",
    "    epochs = NUM_EPOCHS,\n",
    "    validation_data = validation_data_gen\n",
    ")"
   ]
  },
  {
   "cell_type": "code",
   "execution_count": 12,
   "metadata": {},
   "outputs": [
    {
     "data": {
      "image/png": "[encoded data removed]",
      "text/plain": [
       "<Figure size 576x576 with 2 Axes>"
      ]
     },
     "metadata": {
      "needs_background": "light"
     },
     "output_type": "display_data"
    }
   ],
   "source": [
    "acc = history.history[\"accuracy\"]\n",
    "loss = history.history[\"loss\"]\n",
    "validation_acc = history.history[\"val_accuracy\"]\n",
    "validation_loss = history.history[\"val_loss\"]\n",
    "\n",
    "epochs_range = range(NUM_EPOCHS)\n",
    "\n",
    "plt.figure(figsize = (8, 8))\n",
    "plt.subplot(1, 2, 1)\n",
    "plt.plot(epochs_range, acc, label = \"Training Accuracy\")\n",
    "plt.plot(epochs_range, validation_acc, label = \"Validation Accuracy\")\n",
    "plt.legend(loc = \"lower right\")\n",
    "plt.title(\"Training and Validation Accuracy\")\n",
    "\n",
    "plt.subplot(1, 2, 2)\n",
    "plt.plot(epochs_range, loss, label = \"Training Loss\")\n",
    "plt.plot(epochs_range, validation_loss, label = \"Validation Loss\")\n",
    "plt.legend(loc = \"lower right\")\n",
    "plt.title(\"Training and Validation Loss\")\n",
    "plt.show()"
   ]
  },
  {
   "cell_type": "code",
   "execution_count": 13,
   "metadata": {},
   "outputs": [],
   "source": [
    "model.save(MODEL_DIR + \"{}.h5\".format(model_id))"
   ]
  }
 ],
 "metadata": {
  "kernelspec": {
   "display_name": "Python 3",
   "language": "python",
   "name": "python3"
  },
  "language_info": {
   "codemirror_mode": {
    "name": "ipython",
    "version": 3
   },
   "file_extension": ".py",
   "mimetype": "text/x-python",
   "name": "python",
   "nbconvert_exporter": "python",
   "pygments_lexer": "ipython3",
   "version": "3.7.6"
  },
  "toc": {
   "base_numbering": 1,
   "nav_menu": {},
   "number_sections": false,
   "sideBar": true,
   "skip_h1_title": false,
   "title_cell": "Table of Contents",
   "title_sidebar": "Contents",
   "toc_cell": false,
   "toc_position": {},
   "toc_section_display": true,
   "toc_window_display": false
  }
 },
 "nbformat": 4,
 "nbformat_minor": 2
}
