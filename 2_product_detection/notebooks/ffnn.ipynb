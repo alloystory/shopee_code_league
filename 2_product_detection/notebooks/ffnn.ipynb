{
 "cells": [
  {
   "cell_type": "markdown",
   "metadata": {},
   "source": [
    "# Feed Forward Neural Network"
   ]
  },
  {
   "cell_type": "code",
   "execution_count": 1,
   "metadata": {
    "tags": []
   },
   "outputs": [],
   "source": [
    "import matplotlib.pyplot as plt\n",
    "import tensorflow as tf\n",
    "from tensorflow import keras\n",
    "from tensorflow.keras.preprocessing.image import ImageDataGenerator"
   ]
  },
  {
   "cell_type": "code",
   "execution_count": 2,
   "metadata": {},
   "outputs": [],
   "source": [
    "# Constant Parameters\n",
    "# Preprocessing Parameters\n",
    "TRAIN_DIR = \"../data/sample_1/\"\n",
    "MODEL_DIR = \"../models/\"\n",
    "VALIDATION_SPLIT = 0.3\n",
    "IMAGE_HEIGHT = IMAGE_WIDTH = 128\n",
    "SEED = 1\n",
    "\n",
    "# Training Parameters\n",
    "NUM_EPOCHS = 20\n",
    "BATCH_SIZE = 64\n",
    "OPTIMIZER = keras.optimizers.Adam()\n",
    "LOSS_FN = keras.losses.CategoricalCrossentropy()"
   ]
  },
  {
   "cell_type": "code",
   "execution_count": 15,
   "metadata": {},
   "outputs": [],
   "source": [
    "# Model Architecture\n",
    "def get_model(image_depth, num_classes):\n",
    "    return keras.models.Sequential([\n",
    "        keras.layers.Flatten(input_shape = (IMAGE_HEIGHT, IMAGE_WIDTH, image_depth)),\n",
    "        keras.layers.Dense(1024, activation = \"relu\"),\n",
    "        keras.layers.Dense(512, activation = \"relu\"),\n",
    "        keras.layers.Dense(256, activation = \"relu\"),\n",
    "        keras.layers.Dense(num_classes, activation = \"softmax\")\n",
    "    ])"
   ]
  },
  {
   "cell_type": "markdown",
   "metadata": {},
   "source": [
    "## Preprocessing - Grayscale + Augment"
   ]
  },
  {
   "cell_type": "code",
   "execution_count": 4,
   "metadata": {
    "code_folding": []
   },
   "outputs": [],
   "source": [
    "model_id = \"ffnn_grayscale_augment\"              # Unique Identifier used for saving model\n",
    "color_mode = \"rgb\"                         # \"rgb\", \"rgba\" or \"grayscale\"\n",
    "\n",
    "# DO NOT CHANGE\n",
    "if color_mode == \"grayscale\":\n",
    "    image_depth = 1\n",
    "elif color_mode == \"rgb\":\n",
    "    image_depth = 3\n",
    "elif color_mode == \"rgba\":\n",
    "    image_depth = 4\n",
    "else:\n",
    "    raise Exception()"
   ]
  },
  {
   "cell_type": "code",
   "execution_count": 5,
   "metadata": {},
   "outputs": [],
   "source": [
    "# Data Augmentation Parameters\n",
    "image_generator = ImageDataGenerator(\n",
    "    validation_split = VALIDATION_SPLIT,\n",
    "    rescale = 1./255,\n",
    "    rotation_range = 45,\n",
    "    horizontal_flip = True,\n",
    "    vertical_flip = True,\n",
    "    zoom_range = 0.4\n",
    ")"
   ]
  },
  {
   "cell_type": "code",
   "execution_count": 6,
   "metadata": {
    "tags": []
   },
   "outputs": [
    {
     "name": "stdout",
     "output_type": "stream",
     "text": [
      "Found 2800 images belonging to 10 classes.\n"
     ]
    }
   ],
   "source": [
    "train_data_gen = image_generator.flow_from_directory(\n",
    "    color_mode = color_mode,\n",
    "    directory = TRAIN_DIR,\n",
    "    batch_size = BATCH_SIZE,\n",
    "    target_size = (IMAGE_HEIGHT, IMAGE_WIDTH),\n",
    "    shuffle = True,\n",
    "    seed = SEED,\n",
    "    class_mode = \"categorical\",\n",
    "    subset = \"training\"\n",
    ")"
   ]
  },
  {
   "cell_type": "code",
   "execution_count": 7,
   "metadata": {
    "tags": []
   },
   "outputs": [
    {
     "name": "stdout",
     "output_type": "stream",
     "text": [
      "Found 1200 images belonging to 10 classes.\n"
     ]
    }
   ],
   "source": [
    "validation_data_gen = image_generator.flow_from_directory(\n",
    "    color_mode = color_mode,\n",
    "    directory = TRAIN_DIR,\n",
    "    batch_size = BATCH_SIZE,\n",
    "    target_size = (IMAGE_HEIGHT, IMAGE_WIDTH),\n",
    "    class_mode = \"categorical\",\n",
    "    subset = \"validation\"\n",
    ")"
   ]
  },
  {
   "cell_type": "code",
   "execution_count": 16,
   "metadata": {},
   "outputs": [],
   "source": [
    "model = get_model(image_depth, train_data_gen.num_classes)"
   ]
  },
  {
   "cell_type": "code",
   "execution_count": 17,
   "metadata": {},
   "outputs": [],
   "source": [
    "model.compile(\n",
    "    optimizer = OPTIMIZER,\n",
    "    loss = LOSS_FN,\n",
    "    metrics = [\"accuracy\"]\n",
    ")"
   ]
  },
  {
   "cell_type": "code",
   "execution_count": 18,
   "metadata": {
    "scrolled": false
   },
   "outputs": [
    {
     "name": "stdout",
     "output_type": "stream",
     "text": [
      "Model: \"sequential_1\"\n",
      "_________________________________________________________________\n",
      "Layer (type)                 Output Shape              Param #   \n",
      "=================================================================\n",
      "flatten_1 (Flatten)          (None, 49152)             0         \n",
      "_________________________________________________________________\n",
      "dense_3 (Dense)              (None, 1024)              50332672  \n",
      "_________________________________________________________________\n",
      "dense_4 (Dense)              (None, 512)               524800    \n",
      "_________________________________________________________________\n",
      "dense_5 (Dense)              (None, 256)               131328    \n",
      "_________________________________________________________________\n",
      "dense_6 (Dense)              (None, 10)                2570      \n",
      "=================================================================\n",
      "Total params: 50,991,370\n",
      "Trainable params: 50,991,370\n",
      "Non-trainable params: 0\n",
      "_________________________________________________________________\n"
     ]
    }
   ],
   "source": [
    "model.summary()"
   ]
  },
  {
   "cell_type": "code",
   "execution_count": 19,
   "metadata": {
    "tags": []
   },
   "outputs": [
    {
     "name": "stdout",
     "output_type": "stream",
     "text": [
      "Epoch 1/20\n",
      "43/43 [==============================] - 35s 821ms/step - loss: 81.9280 - accuracy: 0.0967 - val_loss: 2.4883 - val_accuracy: 0.1000\n",
      "Epoch 2/20\n",
      "43/43 [==============================] - 35s 813ms/step - loss: 2.3613 - accuracy: 0.1056 - val_loss: 2.2678 - val_accuracy: 0.1417\n",
      "Epoch 3/20\n",
      "43/43 [==============================] - 35s 821ms/step - loss: 2.2693 - accuracy: 0.1417 - val_loss: 2.2373 - val_accuracy: 0.1450\n",
      "Epoch 4/20\n",
      "43/43 [==============================] - 36s 826ms/step - loss: 2.2440 - accuracy: 0.1550 - val_loss: 2.2320 - val_accuracy: 0.1525\n",
      "Epoch 5/20\n",
      "43/43 [==============================] - 35s 822ms/step - loss: 2.2317 - accuracy: 0.1623 - val_loss: 2.2232 - val_accuracy: 0.1633\n",
      "Epoch 6/20\n",
      "43/43 [==============================] - 35s 819ms/step - loss: 2.2268 - accuracy: 0.1572 - val_loss: 2.2222 - val_accuracy: 0.1700\n",
      "Epoch 7/20\n",
      "43/43 [==============================] - 35s 815ms/step - loss: 2.2157 - accuracy: 0.1689 - val_loss: 2.1981 - val_accuracy: 0.1658\n",
      "Epoch 8/20\n",
      "43/43 [==============================] - 35s 824ms/step - loss: 2.2089 - accuracy: 0.1663 - val_loss: 2.2102 - val_accuracy: 0.1483\n",
      "Epoch 9/20\n",
      "43/43 [==============================] - 35s 823ms/step - loss: 2.2035 - accuracy: 0.1732 - val_loss: 2.1953 - val_accuracy: 0.1867\n",
      "Epoch 10/20\n",
      "43/43 [==============================] - 35s 824ms/step - loss: 2.1985 - accuracy: 0.1784 - val_loss: 2.2073 - val_accuracy: 0.1675\n",
      "Epoch 11/20\n",
      "43/43 [==============================] - 35s 824ms/step - loss: 2.1949 - accuracy: 0.1787 - val_loss: 2.2055 - val_accuracy: 0.1733\n",
      "Epoch 12/20\n",
      "43/43 [==============================] - 35s 822ms/step - loss: 2.1873 - accuracy: 0.1795 - val_loss: 2.1913 - val_accuracy: 0.1692\n",
      "Epoch 13/20\n",
      "43/43 [==============================] - 35s 818ms/step - loss: 2.1695 - accuracy: 0.1948 - val_loss: 2.1990 - val_accuracy: 0.1883\n",
      "Epoch 14/20\n",
      "43/43 [==============================] - 35s 819ms/step - loss: 2.1836 - accuracy: 0.1860 - val_loss: 2.1997 - val_accuracy: 0.1783\n",
      "Epoch 15/20\n",
      "43/43 [==============================] - 35s 816ms/step - loss: 2.1764 - accuracy: 0.1919 - val_loss: 2.2103 - val_accuracy: 0.1642\n",
      "Epoch 16/20\n",
      "43/43 [==============================] - 35s 815ms/step - loss: 2.1702 - accuracy: 0.1948 - val_loss: 2.1968 - val_accuracy: 0.1958\n",
      "Epoch 17/20\n",
      "43/43 [==============================] - 35s 809ms/step - loss: 2.1547 - accuracy: 0.2050 - val_loss: 2.2127 - val_accuracy: 0.1517\n",
      "Epoch 18/20\n",
      "43/43 [==============================] - 35s 815ms/step - loss: 2.1769 - accuracy: 0.1802 - val_loss: 2.1936 - val_accuracy: 0.1917\n",
      "Epoch 19/20\n",
      "43/43 [==============================] - 35s 806ms/step - loss: 2.1679 - accuracy: 0.1923 - val_loss: 2.1845 - val_accuracy: 0.1933\n",
      "Epoch 20/20\n",
      "43/43 [==============================] - 35s 811ms/step - loss: 2.1653 - accuracy: 0.1985 - val_loss: 2.1800 - val_accuracy: 0.2050\n"
     ]
    }
   ],
   "source": [
    "history = model.fit(\n",
    "    train_data_gen,\n",
    "    steps_per_epoch = train_data_gen.n // BATCH_SIZE,\n",
    "    epochs = NUM_EPOCHS,\n",
    "    validation_data = validation_data_gen\n",
    ")"
   ]
  },
  {
   "cell_type": "code",
   "execution_count": 20,
   "metadata": {},
   "outputs": [
    {
     "data": {
      "image/png": "[encoded data removed]",
      "text/plain": [
       "<Figure size 576x576 with 2 Axes>"
      ]
     },
     "metadata": {
      "needs_background": "light"
     },
     "output_type": "display_data"
    }
   ],
   "source": [
    "acc = history.history[\"accuracy\"]\n",
    "loss = history.history[\"loss\"]\n",
    "validation_acc = history.history[\"val_accuracy\"]\n",
    "validation_loss = history.history[\"val_loss\"]\n",
    "\n",
    "epochs_range = range(NUM_EPOCHS)\n",
    "\n",
    "plt.figure(figsize = (8, 8))\n",
    "plt.subplot(1, 2, 1)\n",
    "plt.plot(epochs_range, acc, label = \"Training Accuracy\")\n",
    "plt.plot(epochs_range, validation_acc, label = \"Validation Accuracy\")\n",
    "plt.legend(loc = \"lower right\")\n",
    "plt.title(\"Training and Validation Accuracy\")\n",
    "\n",
    "plt.subplot(1, 2, 2)\n",
    "plt.plot(epochs_range, loss, label = \"Training Loss\")\n",
    "plt.plot(epochs_range, validation_loss, label = \"Validation Loss\")\n",
    "plt.legend(loc = \"lower right\")\n",
    "plt.title(\"Training and Validation Loss\")\n",
    "plt.show()"
   ]
  },
  {
   "cell_type": "code",
   "execution_count": 13,
   "metadata": {},
   "outputs": [],
   "source": [
    "model.save(MODEL_DIR + \"{}.h5\".format(model_id))"
   ]
  }
 ],
 "metadata": {
  "kernelspec": {
   "display_name": "Python 3",
   "language": "python",
   "name": "python3"
  },
  "language_info": {
   "codemirror_mode": {
    "name": "ipython",
    "version": 3
   },
   "file_extension": ".py",
   "mimetype": "text/x-python",
   "name": "python",
   "nbconvert_exporter": "python",
   "pygments_lexer": "ipython3",
   "version": "3.7.6"
  },
  "toc": {
   "base_numbering": 1,
   "nav_menu": {},
   "number_sections": false,
   "sideBar": true,
   "skip_h1_title": false,
   "title_cell": "Table of Contents",
   "title_sidebar": "Contents",
   "toc_cell": false,
   "toc_position": {},
   "toc_section_display": true,
   "toc_window_display": false
  }
 },
 "nbformat": 4,
 "nbformat_minor": 2
}
