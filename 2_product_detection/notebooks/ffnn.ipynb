{
 "cells": [
  {
   "cell_type": "markdown",
   "metadata": {},
   "source": [
    "# Feed Forward Neural Network"
   ]
  },
  {
   "cell_type": "code",
   "execution_count": 1,
   "metadata": {
    "tags": []
   },
   "outputs": [],
   "source": [
    "import matplotlib.pyplot as plt\n",
    "import tensorflow as tf\n",
    "from tensorflow.keras.models import Sequential\n",
    "from tensorflow.keras.layers import Dense, Flatten\n",
    "from tensorflow.keras.preprocessing.image import ImageDataGenerator\n",
    "from tensorflow.keras.losses import CategoricalCrossentropy"
   ]
  },
  {
   "cell_type": "code",
   "execution_count": 2,
   "metadata": {},
   "outputs": [],
   "source": [
    "# Constant Parameters\n",
    "# Preprocessing Parameters\n",
    "TRAIN_DIR = \"../data/sample/\"\n",
    "MODEL_DIR = \"../models/\"\n",
    "VALIDATION_SPLIT = 0.2\n",
    "IMAGE_HEIGHT = 128\n",
    "IMAGE_WIDTH = 128\n",
    "SEED = 1\n",
    "\n",
    "# Training Parameters\n",
    "NUM_CLASSES = 42\n",
    "NUM_EPOCHS = 20\n",
    "BATCH_SIZE = 64\n",
    "OPTIMIZER = \"adam\"\n",
    "LOSS_FN = \"categorical_crossentropy\"\n",
    "METRICS = [\"accuracy\"]"
   ]
  },
  {
   "cell_type": "code",
   "execution_count": null,
   "metadata": {},
   "outputs": [],
   "source": [
    "# Model Architecture\n",
    "def get_model(image_depth):\n",
    "    return Sequential([\n",
    "        Flatten(input_shape = (IMAGE_HEIGHT, IMAGE_WIDTH, image_depth)),\n",
    "        Dense(1024, activation = \"relu\"),\n",
    "        Dense(NUM_CLASSES, activation = \"softmax\")\n",
    "    ])"
   ]
  },
  {
   "cell_type": "markdown",
   "metadata": {},
   "source": [
    "## Preprocessing - Grayscale + Augment"
   ]
  },
  {
   "cell_type": "markdown",
   "metadata": {},
   "source": [
    "Augmentation:\n",
    "- 45 deg rotation rage\n",
    "- random horizontal and vertical flip\n",
    "- 40% zoom range"
   ]
  },
  {
   "cell_type": "code",
   "execution_count": 3,
   "metadata": {},
   "outputs": [],
   "source": [
    "model_id = \"ffnn_grayscale_augment\"              # Unique Identifier used for saving model\n",
    "color_mode = \"grayscale\"                        # \"rgb\", \"rgba\" or \"grayscale\"\n",
    "image_depth = 1                                 # Depth = Num of channels in image. Grayscale = 1, RGB = 3"
   ]
  },
  {
   "cell_type": "code",
   "execution_count": 4,
   "metadata": {},
   "outputs": [],
   "source": [
    "# Data Augmentation Parameters\n",
    "image_generator = ImageDataGenerator(\n",
    "    validation_split = VALIDATION_SPLIT,\n",
    "    rescale = 1./255,\n",
    "    rotation_range = 45,\n",
    "    horizontal_flip = True,\n",
    "    vertical_flip = True,\n",
    "    zoom_range = 0.4\n",
    ")"
   ]
  },
  {
   "cell_type": "code",
   "execution_count": 5,
   "metadata": {
    "tags": []
   },
   "outputs": [
    {
     "name": "stdout",
     "output_type": "stream",
     "text": [
      "Found 13440 images belonging to 42 classes.\n"
     ]
    }
   ],
   "source": [
    "train_data_gen = image_generator.flow_from_directory(\n",
    "    color_mode = color_mode,\n",
    "    directory = TRAIN_DIR,\n",
    "    batch_size = BATCH_SIZE,\n",
    "    target_size = (IMAGE_HEIGHT, IMAGE_WIDTH),\n",
    "    shuffle = True,\n",
    "    seed = SEED,\n",
    "    class_mode = \"categorical\",\n",
    "    subset = \"training\"\n",
    ")"
   ]
  },
  {
   "cell_type": "code",
   "execution_count": 6,
   "metadata": {
    "tags": []
   },
   "outputs": [
    {
     "name": "stdout",
     "output_type": "stream",
     "text": [
      "Found 3360 images belonging to 42 classes.\n"
     ]
    }
   ],
   "source": [
    "validation_data_gen = image_generator.flow_from_directory(\n",
    "    color_mode = color_mode,\n",
    "    directory = TRAIN_DIR,\n",
    "    batch_size = BATCH_SIZE,\n",
    "    target_size = (IMAGE_HEIGHT, IMAGE_WIDTH),\n",
    "    class_mode = \"categorical\",\n",
    "    subset = \"validation\"\n",
    ")"
   ]
  },
  {
   "cell_type": "code",
   "execution_count": 7,
   "metadata": {},
   "outputs": [],
   "source": [
    "model = get_model(image_depth)"
   ]
  },
  {
   "cell_type": "code",
   "execution_count": 8,
   "metadata": {},
   "outputs": [],
   "source": [
    "model.compile(\n",
    "    optimizer = OPTIMIZER,\n",
    "    loss = LOSS_FN,\n",
    "    metrics = METRICS\n",
    ")"
   ]
  },
  {
   "cell_type": "code",
   "execution_count": 9,
   "metadata": {},
   "outputs": [
    {
     "name": "stdout",
     "output_type": "stream",
     "text": [
      "Model: \"sequential\"\n",
      "_________________________________________________________________\n",
      "Layer (type)                 Output Shape              Param #   \n",
      "=================================================================\n",
      "flatten (Flatten)            (None, 16384)             0         \n",
      "_________________________________________________________________\n",
      "dense (Dense)                (None, 1024)              16778240  \n",
      "_________________________________________________________________\n",
      "dense_1 (Dense)              (None, 42)                43050     \n",
      "=================================================================\n",
      "Total params: 16,821,290\n",
      "Trainable params: 16,821,290\n",
      "Non-trainable params: 0\n",
      "_________________________________________________________________\n"
     ]
    }
   ],
   "source": [
    "model.summary()"
   ]
  },
  {
   "cell_type": "code",
   "execution_count": 10,
   "metadata": {
    "collapsed": true,
    "tags": []
   },
   "outputs": [
    {
     "name": "stdout",
     "output_type": "stream",
     "text": [
      "Epoch 1/20\n",
      "210/210 [==============================] - 131s 625ms/step - loss: 7.7668 - accuracy: 0.0310 - val_loss: 3.7373 - val_accuracy: 0.0274\n",
      "Epoch 2/20\n",
      "210/210 [==============================] - 119s 567ms/step - loss: 3.7380 - accuracy: 0.0257 - val_loss: 3.7378 - val_accuracy: 0.0238\n",
      "Epoch 3/20\n",
      "210/210 [==============================] - 119s 566ms/step - loss: 3.7380 - accuracy: 0.0238 - val_loss: 3.7376 - val_accuracy: 0.0229\n",
      "Epoch 4/20\n",
      "210/210 [==============================] - 119s 566ms/step - loss: 3.7379 - accuracy: 0.0234 - val_loss: 3.7376 - val_accuracy: 0.0238\n",
      "Epoch 5/20\n",
      "210/210 [==============================] - 119s 566ms/step - loss: 3.7380 - accuracy: 0.0226 - val_loss: 3.7376 - val_accuracy: 0.0238\n",
      "Epoch 6/20\n",
      "210/210 [==============================] - 119s 567ms/step - loss: 3.7380 - accuracy: 0.0205 - val_loss: 3.7375 - val_accuracy: 0.0238\n",
      "Epoch 7/20\n",
      "210/210 [==============================] - 119s 565ms/step - loss: 3.7380 - accuracy: 0.0209 - val_loss: 3.7376 - val_accuracy: 0.0241\n",
      "Epoch 8/20\n",
      "210/210 [==============================] - 119s 567ms/step - loss: 3.7380 - accuracy: 0.0204 - val_loss: 3.7375 - val_accuracy: 0.0238\n",
      "Epoch 9/20\n",
      "210/210 [==============================] - 119s 566ms/step - loss: 3.7380 - accuracy: 0.0200 - val_loss: 3.7372 - val_accuracy: 0.0241\n",
      "Epoch 10/20\n",
      "210/210 [==============================] - 119s 566ms/step - loss: 3.7377 - accuracy: 0.0232 - val_loss: 3.7370 - val_accuracy: 0.0241\n",
      "Epoch 11/20\n",
      "210/210 [==============================] - 119s 566ms/step - loss: 3.7379 - accuracy: 0.0200 - val_loss: 3.7376 - val_accuracy: 0.0238\n",
      "Epoch 12/20\n",
      "210/210 [==============================] - 119s 566ms/step - loss: 3.7380 - accuracy: 0.0204 - val_loss: 3.7370 - val_accuracy: 0.0244\n",
      "Epoch 13/20\n",
      "210/210 [==============================] - 119s 566ms/step - loss: 3.7380 - accuracy: 0.0211 - val_loss: 3.7373 - val_accuracy: 0.0244\n",
      "Epoch 14/20\n",
      "210/210 [==============================] - 119s 565ms/step - loss: 3.7384 - accuracy: 0.0217 - val_loss: 3.7375 - val_accuracy: 0.0244\n",
      "Epoch 15/20\n",
      "210/210 [==============================] - 118s 564ms/step - loss: 3.7371 - accuracy: 0.0192 - val_loss: 3.7380 - val_accuracy: 0.0241\n",
      "Epoch 16/20\n",
      "210/210 [==============================] - 119s 565ms/step - loss: 3.7378 - accuracy: 0.0205 - val_loss: 3.7368 - val_accuracy: 0.0244\n",
      "Epoch 17/20\n",
      "210/210 [==============================] - 118s 564ms/step - loss: 3.7379 - accuracy: 0.0211 - val_loss: 3.7385 - val_accuracy: 0.0238\n",
      "Epoch 18/20\n",
      "210/210 [==============================] - 119s 565ms/step - loss: 3.7374 - accuracy: 0.0219 - val_loss: 3.7382 - val_accuracy: 0.0244\n",
      "Epoch 19/20\n",
      "210/210 [==============================] - 119s 566ms/step - loss: 3.7378 - accuracy: 0.0220 - val_loss: 3.7501 - val_accuracy: 0.0226\n",
      "Epoch 20/20\n",
      "210/210 [==============================] - 119s 565ms/step - loss: 3.7381 - accuracy: 0.0206 - val_loss: 3.7376 - val_accuracy: 0.0241\n"
     ]
    }
   ],
   "source": [
    "history = model.fit(\n",
    "    train_data_gen,\n",
    "    steps_per_epoch = train_data_gen.n // BATCH_SIZE,\n",
    "    epochs = NUM_EPOCHS,\n",
    "    validation_data = validation_data_gen\n",
    ")"
   ]
  },
  {
   "cell_type": "code",
   "execution_count": 11,
   "metadata": {},
   "outputs": [
    {
     "data": {
      "image/png": "[encoded data removed]",
      "text/plain": [
       "<Figure size 576x576 with 2 Axes>"
      ]
     },
     "metadata": {
      "needs_background": "light"
     },
     "output_type": "display_data"
    }
   ],
   "source": [
    "acc = history.history[\"accuracy\"]\n",
    "loss = history.history[\"loss\"]\n",
    "validation_acc = history.history[\"val_accuracy\"]\n",
    "validation_loss = history.history[\"val_loss\"]\n",
    "\n",
    "epochs_range = range(NUM_EPOCHS)\n",
    "\n",
    "plt.figure(figsize = (8, 8))\n",
    "plt.subplot(1, 2, 1)\n",
    "plt.plot(epochs_range, acc, label = \"Training Accuracy\")\n",
    "plt.plot(epochs_range, validation_acc, label = \"Validation Accuracy\")\n",
    "plt.legend(loc = \"lower right\")\n",
    "plt.title(\"Training and Validation Accuracy\")\n",
    "\n",
    "plt.subplot(1, 2, 2)\n",
    "plt.plot(epochs_range, loss, label = \"Training Loss\")\n",
    "plt.plot(epochs_range, validation_loss, label = \"Validation Loss\")\n",
    "plt.legend(loc = \"lower right\")\n",
    "plt.title(\"Training and Validation Loss\")\n",
    "plt.show()"
   ]
  },
  {
   "cell_type": "code",
   "execution_count": 12,
   "metadata": {},
   "outputs": [],
   "source": [
    "model.save(MODEL_DIR + \"{}.h5\".format(model_id))"
   ]
  }
 ],
 "metadata": {
  "kernelspec": {
   "display_name": "Python 3",
   "language": "python",
   "name": "python3"
  },
  "language_info": {
   "codemirror_mode": {
    "name": "ipython",
    "version": 3
   },
   "file_extension": ".py",
   "mimetype": "text/x-python",
   "name": "python",
   "nbconvert_exporter": "python",
   "pygments_lexer": "ipython3",
   "version": "3.7.6"
  },
  "toc": {
   "base_numbering": 1,
   "nav_menu": {},
   "number_sections": false,
   "sideBar": true,
   "skip_h1_title": false,
   "title_cell": "Table of Contents",
   "title_sidebar": "Contents",
   "toc_cell": false,
   "toc_position": {},
   "toc_section_display": true,
   "toc_window_display": true
  }
 },
 "nbformat": 4,
 "nbformat_minor": 2
}
