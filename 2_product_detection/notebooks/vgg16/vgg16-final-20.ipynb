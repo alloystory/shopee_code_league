{
 "cells": [
  {
   "cell_type": "markdown",
   "metadata": {},
   "source": [
    "# VGG16 Final"
   ]
  },
  {
   "cell_type": "code",
   "execution_count": 1,
   "metadata": {
    "tags": []
   },
   "outputs": [],
   "source": [
    "import matplotlib.pyplot as plt\n",
    "import tensorflow as tf\n",
    "from tensorflow import keras\n",
    "from tensorflow.keras.preprocessing.image import ImageDataGenerator"
   ]
  },
  {
   "cell_type": "code",
   "execution_count": 2,
   "metadata": {},
   "outputs": [],
   "source": [
    "# Constant Parameters\n",
    "TRAIN_DIR = \"../data/train/\"\n",
    "MODEL_DIR = \"../models/\"\n",
    "VALIDATION_SPLIT = 0.2\n",
    "IMAGE_HEIGHT = IMAGE_WIDTH = 224\n",
    "BATCH_SIZE = 64\n",
    "SEED = 1\n",
    "\n",
    "# Training Parameters\n",
    "NUM_EPOCHS = 20\n",
    "STARTING_EPOCH = 20\n",
    "OPTIMIZER = keras.optimizers.Adam()\n",
    "LOSS_FN = keras.losses.CategoricalCrossentropy()"
   ]
  },
  {
   "cell_type": "code",
   "execution_count": 3,
   "metadata": {
    "code_folding": []
   },
   "outputs": [],
   "source": [
    "model_id = \"vgg16_final_15epochs\"              # Unique Identifier used for saving model\n",
    "color_mode = \"rgb\"                             # \"rgb\", \"rgba\" or \"grayscale\"\n",
    "image_depth = 3"
   ]
  },
  {
   "cell_type": "code",
   "execution_count": 4,
   "metadata": {},
   "outputs": [],
   "source": [
    "# Model Architecture\n",
    "def get_model(image_depth, num_classes):\n",
    "    model = keras.models.Sequential()\n",
    "    \n",
    "    model.add(keras.applications.VGG16(include_top = False,\n",
    "                                         pooling = \"avg\",\n",
    "                                         input_shape = (IMAGE_HEIGHT, IMAGE_WIDTH, image_depth)))\n",
    "    model.add(keras.layers.Dense(1024, activation = \"relu\"))\n",
    "    model.add(keras.layers.Dropout(0.3))\n",
    "    model.add(keras.layers.Dense(num_classes, activation = \"softmax\"))\n",
    "    \n",
    "    model.layers[0].trainable = False\n",
    "    return model"
   ]
  },
  {
   "cell_type": "code",
   "execution_count": 5,
   "metadata": {},
   "outputs": [],
   "source": [
    "# Data Augmentation Parameters\n",
    "image_generator = ImageDataGenerator(\n",
    "    validation_split = VALIDATION_SPLIT,\n",
    "    rescale = 1./255,\n",
    "    rotation_range = 45,\n",
    "    horizontal_flip = True,\n",
    "    zoom_range = 0.4\n",
    ")"
   ]
  },
  {
   "cell_type": "code",
   "execution_count": 6,
   "metadata": {
    "tags": []
   },
   "outputs": [
    {
     "name": "stdout",
     "output_type": "stream",
     "text": [
      "Found 84331 images belonging to 42 classes.\n"
     ]
    }
   ],
   "source": [
    "train_data_gen = image_generator.flow_from_directory(\n",
    "    color_mode = color_mode,\n",
    "    directory = TRAIN_DIR,\n",
    "    batch_size = BATCH_SIZE,\n",
    "    target_size = (IMAGE_HEIGHT, IMAGE_WIDTH),\n",
    "    shuffle = True,\n",
    "    seed = SEED,\n",
    "    class_mode = \"categorical\",\n",
    "    subset = \"training\"\n",
    ")"
   ]
  },
  {
   "cell_type": "code",
   "execution_count": 7,
   "metadata": {
    "tags": []
   },
   "outputs": [
    {
     "name": "stdout",
     "output_type": "stream",
     "text": [
      "Found 21061 images belonging to 42 classes.\n"
     ]
    }
   ],
   "source": [
    "validation_data_gen = image_generator.flow_from_directory(\n",
    "    color_mode = color_mode,\n",
    "    directory = TRAIN_DIR,\n",
    "    batch_size = BATCH_SIZE,\n",
    "    target_size = (IMAGE_HEIGHT, IMAGE_WIDTH),\n",
    "    class_mode = \"categorical\",\n",
    "    subset = \"validation\"\n",
    ")"
   ]
  },
  {
   "cell_type": "code",
   "execution_count": 8,
   "metadata": {},
   "outputs": [],
   "source": [
    "model = get_model(image_depth, train_data_gen.num_classes)"
   ]
  },
  {
   "cell_type": "code",
   "execution_count": 9,
   "metadata": {},
   "outputs": [],
   "source": [
    "model.compile(\n",
    "    optimizer = OPTIMIZER,\n",
    "    loss = LOSS_FN,\n",
    "    metrics = [\"accuracy\"]\n",
    ")"
   ]
  },
  {
   "cell_type": "code",
   "execution_count": 10,
   "metadata": {
    "scrolled": false
   },
   "outputs": [
    {
     "name": "stdout",
     "output_type": "stream",
     "text": [
      "Model: \"sequential\"\n",
      "_________________________________________________________________\n",
      "Layer (type)                 Output Shape              Param #   \n",
      "=================================================================\n",
      "vgg16 (Model)                (None, 512)               14714688  \n",
      "_________________________________________________________________\n",
      "dense (Dense)                (None, 1024)              525312    \n",
      "_________________________________________________________________\n",
      "dropout (Dropout)            (None, 1024)              0         \n",
      "_________________________________________________________________\n",
      "dense_1 (Dense)              (None, 42)                43050     \n",
      "=================================================================\n",
      "Total params: 15,283,050\n",
      "Trainable params: 568,362\n",
      "Non-trainable params: 14,714,688\n",
      "_________________________________________________________________\n"
     ]
    }
   ],
   "source": [
    "model.summary()"
   ]
  },
  {
   "cell_type": "code",
   "execution_count": 11,
   "metadata": {
    "tags": []
   },
   "outputs": [
    {
     "name": "stdout",
     "output_type": "stream",
     "text": [
      "WARNING:tensorflow:`period` argument is deprecated. Please use `save_freq` to specify the frequency in number of batches seen.\n",
      "Epoch 1/20\n",
      "1317/1317 [==============================] - 2027s 2s/step - loss: 2.5356 - accuracy: 0.3243 - val_loss: 2.1749 - val_accuracy: 0.4136\n",
      "Epoch 2/20\n",
      "1317/1317 [==============================] - 1800s 1s/step - loss: 2.1660 - accuracy: 0.4150 - val_loss: 2.0241 - val_accuracy: 0.4512\n",
      "Epoch 3/20\n",
      "1317/1317 [==============================] - 1819s 1s/step - loss: 2.0726 - accuracy: 0.4412 - val_loss: 1.9787 - val_accuracy: 0.4666\n",
      "Epoch 4/20\n",
      "1317/1317 [==============================] - 1798s 1s/step - loss: 2.0215 - accuracy: 0.4514 - val_loss: 1.9656 - val_accuracy: 0.4694\n",
      "Epoch 5/20\n",
      "1317/1317 [==============================] - ETA: 0s - loss: 1.9799 - accuracy: 0.4631\n",
      "Epoch 00005: saving model to ../models/checkpoints/model.005-0.4782.h5\n",
      "1317/1317 [==============================] - 1818s 1s/step - loss: 1.9799 - accuracy: 0.4631 - val_loss: 1.9151 - val_accuracy: 0.4782\n",
      "Epoch 6/20\n",
      "1317/1317 [==============================] - 1802s 1s/step - loss: 1.9534 - accuracy: 0.4681 - val_loss: 1.8740 - val_accuracy: 0.4913\n",
      "Epoch 7/20\n",
      "1317/1317 [==============================] - 1811s 1s/step - loss: 1.9233 - accuracy: 0.4785 - val_loss: 1.8820 - val_accuracy: 0.4919\n",
      "Epoch 8/20\n",
      "1317/1317 [==============================] - 1788s 1s/step - loss: 1.9031 - accuracy: 0.4820 - val_loss: 1.8788 - val_accuracy: 0.4897\n",
      "Epoch 9/20\n",
      "1317/1317 [==============================] - 1855s 1s/step - loss: 1.8896 - accuracy: 0.4872 - val_loss: 1.8274 - val_accuracy: 0.5090\n",
      "Epoch 10/20\n",
      "1317/1317 [==============================] - ETA: 0s - loss: 1.8717 - accuracy: 0.4903\n",
      "Epoch 00010: saving model to ../models/checkpoints/model.010-0.5084.h5\n",
      "1317/1317 [==============================] - 2279s 2s/step - loss: 1.8717 - accuracy: 0.4903 - val_loss: 1.8204 - val_accuracy: 0.5084\n",
      "Epoch 11/20\n",
      "1317/1317 [==============================] - 1999s 2s/step - loss: 1.8606 - accuracy: 0.4931 - val_loss: 1.8089 - val_accuracy: 0.5090\n",
      "Epoch 12/20\n",
      "1317/1317 [==============================] - 2024s 2s/step - loss: 1.8468 - accuracy: 0.4951 - val_loss: 1.8098 - val_accuracy: 0.5118\n",
      "Epoch 13/20\n",
      "1317/1317 [==============================] - 1875s 1s/step - loss: 1.8363 - accuracy: 0.5012 - val_loss: 1.8030 - val_accuracy: 0.5174\n",
      "Epoch 14/20\n",
      "1317/1317 [==============================] - 1869s 1s/step - loss: 1.8219 - accuracy: 0.5044 - val_loss: 1.7978 - val_accuracy: 0.5139\n",
      "Epoch 15/20\n",
      "1317/1317 [==============================] - ETA: 0s - loss: 1.8135 - accuracy: 0.5052\n",
      "Epoch 00015: saving model to ../models/checkpoints/model.015-0.5185.h5\n",
      "1317/1317 [==============================] - 1884s 1s/step - loss: 1.8135 - accuracy: 0.5052 - val_loss: 1.7900 - val_accuracy: 0.5185\n",
      "Epoch 16/20\n",
      "1317/1317 [==============================] - 1970s 1s/step - loss: 1.8057 - accuracy: 0.5056 - val_loss: 1.7822 - val_accuracy: 0.5214\n",
      "Epoch 17/20\n",
      "1317/1317 [==============================] - 2117s 2s/step - loss: 1.7904 - accuracy: 0.5088 - val_loss: 1.7684 - val_accuracy: 0.5190\n",
      "Epoch 18/20\n",
      "1317/1317 [==============================] - 2087s 2s/step - loss: 1.7844 - accuracy: 0.5114 - val_loss: 1.7480 - val_accuracy: 0.5277\n",
      "Epoch 19/20\n",
      "1317/1317 [==============================] - 2063s 2s/step - loss: 1.7762 - accuracy: 0.5139 - val_loss: 1.7710 - val_accuracy: 0.5249\n",
      "Epoch 20/20\n",
      "1317/1317 [==============================] - ETA: 0s - loss: 1.7738 - accuracy: 0.5138\n",
      "Epoch 00020: saving model to ../models/checkpoints/model.020-0.5270.h5\n",
      "1317/1317 [==============================] - 2089s 2s/step - loss: 1.7738 - accuracy: 0.5138 - val_loss: 1.7617 - val_accuracy: 0.5270\n"
     ]
    }
   ],
   "source": [
    "history = model.fit(\n",
    "    train_data_gen,\n",
    "    epochs = NUM_EPOCHS,\n",
    "    initial_epoch = STARTING_EPOCH,\n",
    "    steps_per_epoch = train_data_gen.n // BATCH_SIZE,\n",
    "    validation_data = validation_data_gen,\n",
    "    callbacks = [\n",
    "        keras.callbacks.CSVLogger(MODEL_DIR + \"{}.csv\".format(model_id)),\n",
    "        keras.callbacks.EarlyStopping(monitor = \"val_accuracy\",\n",
    "                                    mode = \"max\",\n",
    "                                    patience = 10,\n",
    "                                    verbose = 1,\n",
    "                                    restore_best_weights = True),\n",
    "        keras.callbacks.ModelCheckpoint(MODEL_DIR + \"checkpoints/\" + model_id + \".{epoch:03d}-{val_accuracy:.4f}\",\n",
    "                                      verbose = 1,\n",
    "                                      save_weights_only = False,\n",
    "                                      save_freq = \"epoch\",\n",
    "                                      period = 5)\n",
    "    ]\n",
    ")"
   ]
  },
  {
   "cell_type": "code",
   "execution_count": 12,
   "metadata": {},
   "outputs": [
    {
     "data": {
      "image/png": "[encoded data removed]",
      "text/plain": [
       "<Figure size 576x576 with 2 Axes>"
      ]
     },
     "metadata": {
      "needs_background": "light"
     },
     "output_type": "display_data"
    }
   ],
   "source": [
    "acc = history.history[\"accuracy\"]\n",
    "loss = history.history[\"loss\"]\n",
    "validation_acc = history.history[\"val_accuracy\"]\n",
    "validation_loss = history.history[\"val_loss\"]\n",
    "\n",
    "epochs_range = range(len(history.history[\"accuracy\"]))\n",
    "\n",
    "plt.figure(figsize = (8, 8))\n",
    "plt.subplot(1, 2, 1)\n",
    "plt.plot(epochs_range, acc, label = \"Training Accuracy\")\n",
    "plt.plot(epochs_range, validation_acc, label = \"Validation Accuracy\")\n",
    "plt.legend(loc = \"lower right\")\n",
    "plt.title(\"Training and Validation Accuracy\")\n",
    "\n",
    "plt.subplot(1, 2, 2)\n",
    "plt.plot(epochs_range, loss, label = \"Training Loss\")\n",
    "plt.plot(epochs_range, validation_loss, label = \"Validation Loss\")\n",
    "plt.legend(loc = \"lower right\")\n",
    "plt.title(\"Training and Validation Loss\")\n",
    "plt.show()"
   ]
  },
  {
   "cell_type": "code",
   "execution_count": 13,
   "metadata": {},
   "outputs": [],
   "source": [
    "model.save(MODEL_DIR + \"{}\".format(model_id), overwrite = False)"
   ]
  }
 ],
 "metadata": {
  "kernelspec": {
   "display_name": "Python 3",
   "language": "python",
   "name": "python3"
  },
  "language_info": {
   "codemirror_mode": {
    "name": "ipython",
    "version": 3
   },
   "file_extension": ".py",
   "mimetype": "text/x-python",
   "name": "python",
   "nbconvert_exporter": "python",
   "pygments_lexer": "ipython3",
   "version": "3.7.6"
  },
  "toc": {
   "base_numbering": 1,
   "nav_menu": {},
   "number_sections": false,
   "sideBar": true,
   "skip_h1_title": false,
   "title_cell": "Table of Contents",
   "title_sidebar": "Contents",
   "toc_cell": false,
   "toc_position": {},
   "toc_section_display": true,
   "toc_window_display": false
  }
 },
 "nbformat": 4,
 "nbformat_minor": 2
}
