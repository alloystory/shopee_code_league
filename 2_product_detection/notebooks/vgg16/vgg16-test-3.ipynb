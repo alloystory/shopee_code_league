{
 "cells": [
  {
   "cell_type": "markdown",
   "metadata": {},
   "source": [
    "# VGG16"
   ]
  },
  {
   "cell_type": "code",
   "execution_count": 1,
   "metadata": {
    "tags": []
   },
   "outputs": [],
   "source": [
    "import matplotlib.pyplot as plt\n",
    "import tensorflow as tf\n",
    "from tensorflow import keras\n",
    "from tensorflow.keras.preprocessing.image import ImageDataGenerator"
   ]
  },
  {
   "cell_type": "code",
   "execution_count": 2,
   "metadata": {},
   "outputs": [
    {
     "name": "stdout",
     "output_type": "stream",
     "text": [
      "1 Physical GPUs, 1 Logical GPUs\n"
     ]
    }
   ],
   "source": [
    "gpus = tf.config.experimental.list_physical_devices('GPU')\n",
    "if gpus:\n",
    "  # Restrict TensorFlow to only allocate 5GB of memory on the first GPU\n",
    "  try:\n",
    "    tf.config.experimental.set_virtual_device_configuration(\n",
    "        gpus[0],\n",
    "        [tf.config.experimental.VirtualDeviceConfiguration(memory_limit=2048)])\n",
    "    logical_gpus = tf.config.experimental.list_logical_devices('GPU')\n",
    "    print(len(gpus), \"Physical GPUs,\", len(logical_gpus), \"Logical GPUs\")\n",
    "  except RuntimeError as e:\n",
    "    # Virtual devices must be set before GPUs have been initialized\n",
    "    print(e)"
   ]
  },
  {
   "cell_type": "code",
   "execution_count": 3,
   "metadata": {
    "code_folding": []
   },
   "outputs": [],
   "source": [
    "model_id = \"vgg16_test\"\n",
    "train_dir = \"../data/sample-ub-9977\"\n",
    "batch_size = 128\n",
    "image_size = 128"
   ]
  },
  {
   "cell_type": "code",
   "execution_count": 4,
   "metadata": {},
   "outputs": [],
   "source": [
    "# Data Augmentation Parameters\n",
    "image_generator = ImageDataGenerator(\n",
    "    validation_split = 0.2,\n",
    "    rescale = 1./255,\n",
    "    rotation_range = 45,\n",
    "    horizontal_flip = True,\n",
    "    zoom_range = 0.4,\n",
    "    fill_mode = 'nearest'\n",
    ")"
   ]
  },
  {
   "cell_type": "code",
   "execution_count": 5,
   "metadata": {
    "tags": []
   },
   "outputs": [
    {
     "name": "stdout",
     "output_type": "stream",
     "text": [
      "Found 8001 images belonging to 42 classes.\n"
     ]
    }
   ],
   "source": [
    "train_data_gen = image_generator.flow_from_directory(\n",
    "    directory = train_dir,\n",
    "    batch_size = batch_size,\n",
    "    target_size = (image_size, image_size),\n",
    "    class_mode = \"categorical\",\n",
    "    subset = \"training\"\n",
    ")"
   ]
  },
  {
   "cell_type": "code",
   "execution_count": 6,
   "metadata": {
    "tags": []
   },
   "outputs": [
    {
     "name": "stdout",
     "output_type": "stream",
     "text": [
      "Found 1976 images belonging to 42 classes.\n"
     ]
    }
   ],
   "source": [
    "validation_data_gen = image_generator.flow_from_directory(\n",
    "    directory = train_dir,\n",
    "    batch_size = batch_size,\n",
    "    target_size = (image_size, image_size),\n",
    "    class_mode = \"categorical\",\n",
    "    subset = \"validation\"\n",
    ")"
   ]
  },
  {
   "cell_type": "code",
   "execution_count": 11,
   "metadata": {},
   "outputs": [],
   "source": [
    "model = keras.models.Sequential()\n",
    "\n",
    "model.add(keras.layers.Conv2D(32, kernel_size = (5, 5), input_shape = (image_size, image_size, 3)))\n",
    "model.add(keras.layers.Conv2D(32, kernel_size = (5, 5), activation = \"relu\"))\n",
    "model.add(keras.layers.BatchNormalization())\n",
    "model.add(keras.layers.MaxPool2D((2, 2)))\n",
    "\n",
    "model.add(keras.layers.Conv2D(64, kernel_size = (5, 5)))\n",
    "model.add(keras.layers.Conv2D(64, kernel_size = (5, 5), activation = \"relu\"))\n",
    "model.add(keras.layers.BatchNormalization())\n",
    "model.add(keras.layers.MaxPool2D((2, 2)))\n",
    "\n",
    "model.add(keras.layers.Conv2D(128, kernel_size = (3, 3)))\n",
    "model.add(keras.layers.Conv2D(128, kernel_size = (3, 3), activation = \"relu\"))\n",
    "model.add(keras.layers.BatchNormalization())\n",
    "model.add(keras.layers.MaxPool2D((2, 2)))\n",
    "\n",
    "model.add(keras.layers.Conv2D(256, kernel_size = (3, 3)))\n",
    "model.add(keras.layers.Conv2D(256, kernel_size = (3, 3), activation = \"relu\"))\n",
    "model.add(keras.layers.BatchNormalization())\n",
    "model.add(keras.layers.MaxPool2D((2, 2)))\n",
    "\n",
    "model.add(keras.layers.Flatten())\n",
    "model.add(keras.layers.Dense(512, activation = \"relu\"))\n",
    "model.add(keras.layers.Dropout(0.2))\n",
    "model.add(keras.layers.Dense(train_data_gen.num_classes, activation = \"softmax\"))"
   ]
  },
  {
   "cell_type": "code",
   "execution_count": 12,
   "metadata": {},
   "outputs": [],
   "source": [
    "model.compile(\n",
    "    optimizer = keras.optimizers.Adam(),\n",
    "    loss = keras.losses.CategoricalCrossentropy(),\n",
    "    metrics = [\"accuracy\"]\n",
    ")"
   ]
  },
  {
   "cell_type": "code",
   "execution_count": 13,
   "metadata": {
    "scrolled": false
   },
   "outputs": [
    {
     "name": "stdout",
     "output_type": "stream",
     "text": [
      "Model: \"sequential_2\"\n",
      "_________________________________________________________________\n",
      "Layer (type)                 Output Shape              Param #   \n",
      "=================================================================\n",
      "conv2d_16 (Conv2D)           (None, 124, 124, 32)      2432      \n",
      "_________________________________________________________________\n",
      "conv2d_17 (Conv2D)           (None, 120, 120, 32)      25632     \n",
      "_________________________________________________________________\n",
      "batch_normalization_8 (Batch (None, 120, 120, 32)      128       \n",
      "_________________________________________________________________\n",
      "max_pooling2d_8 (MaxPooling2 (None, 60, 60, 32)        0         \n",
      "_________________________________________________________________\n",
      "conv2d_18 (Conv2D)           (None, 56, 56, 64)        51264     \n",
      "_________________________________________________________________\n",
      "conv2d_19 (Conv2D)           (None, 52, 52, 64)        102464    \n",
      "_________________________________________________________________\n",
      "batch_normalization_9 (Batch (None, 52, 52, 64)        256       \n",
      "_________________________________________________________________\n",
      "max_pooling2d_9 (MaxPooling2 (None, 26, 26, 64)        0         \n",
      "_________________________________________________________________\n",
      "conv2d_20 (Conv2D)           (None, 24, 24, 128)       73856     \n",
      "_________________________________________________________________\n",
      "conv2d_21 (Conv2D)           (None, 22, 22, 128)       147584    \n",
      "_________________________________________________________________\n",
      "batch_normalization_10 (Batc (None, 22, 22, 128)       512       \n",
      "_________________________________________________________________\n",
      "max_pooling2d_10 (MaxPooling (None, 11, 11, 128)       0         \n",
      "_________________________________________________________________\n",
      "conv2d_22 (Conv2D)           (None, 9, 9, 256)         295168    \n",
      "_________________________________________________________________\n",
      "conv2d_23 (Conv2D)           (None, 7, 7, 256)         590080    \n",
      "_________________________________________________________________\n",
      "batch_normalization_11 (Batc (None, 7, 7, 256)         1024      \n",
      "_________________________________________________________________\n",
      "max_pooling2d_11 (MaxPooling (None, 3, 3, 256)         0         \n",
      "_________________________________________________________________\n",
      "flatten_2 (Flatten)          (None, 2304)              0         \n",
      "_________________________________________________________________\n",
      "dense_4 (Dense)              (None, 512)               1180160   \n",
      "_________________________________________________________________\n",
      "dropout_2 (Dropout)          (None, 512)               0         \n",
      "_________________________________________________________________\n",
      "dense_5 (Dense)              (None, 42)                21546     \n",
      "=================================================================\n",
      "Total params: 2,492,106\n",
      "Trainable params: 2,491,146\n",
      "Non-trainable params: 960\n",
      "_________________________________________________________________\n"
     ]
    }
   ],
   "source": [
    "model.summary()"
   ]
  },
  {
   "cell_type": "code",
   "execution_count": 11,
   "metadata": {
    "tags": []
   },
   "outputs": [
    {
     "name": "stdout",
     "output_type": "stream",
     "text": [
      "Epoch 1/20\n",
      "62/62 [==============================] - 91s 1s/step - loss: 3.8257 - accuracy: 0.0390 - val_loss: 3.7297 - val_accuracy: 0.0250\n",
      "Epoch 2/20\n",
      "62/62 [==============================] - 91s 1s/step - loss: 3.6279 - accuracy: 0.0556 - val_loss: 3.7110 - val_accuracy: 0.0276\n",
      "Epoch 3/20\n",
      "62/62 [==============================] - 93s 1s/step - loss: 3.5639 - accuracy: 0.0706 - val_loss: 3.6763 - val_accuracy: 0.0458\n",
      "Epoch 4/20\n",
      "62/62 [==============================] - 92s 1s/step - loss: 3.4996 - accuracy: 0.0878 - val_loss: 3.6432 - val_accuracy: 0.0896\n",
      "Epoch 5/20\n",
      "62/62 [==============================] - 92s 1s/step - loss: 3.4569 - accuracy: 0.1043 - val_loss: 3.6311 - val_accuracy: 0.0604\n",
      "Epoch 6/20\n",
      "62/62 [==============================] - 93s 2s/step - loss: 3.4023 - accuracy: 0.1096 - val_loss: 3.5644 - val_accuracy: 0.0896\n",
      "Epoch 7/20\n",
      "62/62 [==============================] - 92s 1s/step - loss: 3.3707 - accuracy: 0.1165 - val_loss: 3.5096 - val_accuracy: 0.1005\n",
      "Epoch 8/20\n",
      "62/62 [==============================] - 92s 1s/step - loss: 3.3225 - accuracy: 0.1299 - val_loss: 3.5838 - val_accuracy: 0.0719\n",
      "Epoch 9/20\n",
      "62/62 [==============================] - 92s 1s/step - loss: 3.2701 - accuracy: 0.1426 - val_loss: 3.5678 - val_accuracy: 0.0724\n",
      "Epoch 10/20\n",
      "62/62 [==============================] - 93s 1s/step - loss: 3.2261 - accuracy: 0.1538 - val_loss: 3.2792 - val_accuracy: 0.1437\n",
      "Epoch 11/20\n",
      "62/62 [==============================] - 92s 1s/step - loss: 3.1711 - accuracy: 0.1612 - val_loss: 3.9203 - val_accuracy: 0.0839\n",
      "Epoch 12/20\n",
      "62/62 [==============================] - 93s 1s/step - loss: 3.1387 - accuracy: 0.1727 - val_loss: 3.2839 - val_accuracy: 0.1500\n",
      "Epoch 13/20\n",
      "62/62 [==============================] - 93s 1s/step - loss: 3.0794 - accuracy: 0.1879 - val_loss: 3.2757 - val_accuracy: 0.1292\n",
      "Epoch 14/20\n",
      "62/62 [==============================] - 93s 2s/step - loss: 3.0247 - accuracy: 0.1938 - val_loss: 3.6866 - val_accuracy: 0.1063\n",
      "Epoch 15/20\n",
      "62/62 [==============================] - 92s 1s/step - loss: 3.0260 - accuracy: 0.1971 - val_loss: 3.3281 - val_accuracy: 0.1396\n",
      "Epoch 16/20\n",
      "62/62 [==============================] - ETA: 0s - loss: 2.9700 - accuracy: 0.2081Restoring model weights from the end of the best epoch.\n",
      "62/62 [==============================] - 93s 1s/step - loss: 2.9700 - accuracy: 0.2081 - val_loss: 3.2796 - val_accuracy: 0.1693\n",
      "Epoch 00016: early stopping\n"
     ]
    }
   ],
   "source": [
    "history = model.fit(\n",
    "    train_data_gen,\n",
    "    epochs = 20,\n",
    "    steps_per_epoch = train_data_gen.n // batch_size,\n",
    "    validation_data = validation_data_gen,\n",
    "    validation_steps = validation_data_gen.n // batch_size,\n",
    "    callbacks = [\n",
    "        keras.callbacks.EarlyStopping(patience = 3, restore_best_weights = True, verbose = 1)\n",
    "#         keras.callbacks.CSVLogger(MODEL_DIR + \"{}.csv\".format(model_id))\n",
    "    ]\n",
    ")"
   ]
  },
  {
   "cell_type": "code",
   "execution_count": 12,
   "metadata": {},
   "outputs": [
    {
     "data": {
      "image/png": "[encoded data removed]",
      "text/plain": [
       "<Figure size 576x576 with 2 Axes>"
      ]
     },
     "metadata": {
      "needs_background": "light"
     },
     "output_type": "display_data"
    }
   ],
   "source": [
    "acc = history.history[\"accuracy\"]\n",
    "loss = history.history[\"loss\"]\n",
    "validation_acc = history.history[\"val_accuracy\"]\n",
    "validation_loss = history.history[\"val_loss\"]\n",
    "\n",
    "epochs_range = range(len(history.history[\"accuracy\"]))\n",
    "\n",
    "plt.figure(figsize = (8, 8))\n",
    "plt.subplot(1, 2, 1)\n",
    "plt.plot(epochs_range, acc, label = \"Training Accuracy\")\n",
    "plt.plot(epochs_range, validation_acc, label = \"Validation Accuracy\")\n",
    "plt.legend(loc = \"lower right\")\n",
    "plt.title(\"Training and Validation Accuracy\")\n",
    "\n",
    "plt.subplot(1, 2, 2)\n",
    "plt.plot(epochs_range, loss, label = \"Training Loss\")\n",
    "plt.plot(epochs_range, validation_loss, label = \"Validation Loss\")\n",
    "plt.legend(loc = \"lower right\")\n",
    "plt.title(\"Training and Validation Loss\")\n",
    "plt.show()"
   ]
  },
  {
   "cell_type": "code",
   "execution_count": 13,
   "metadata": {},
   "outputs": [],
   "source": [
    "# model.save(MODEL_DIR + \"{}.h5\".format(model_id), overwrite = False)"
   ]
  }
 ],
 "metadata": {
  "kernelspec": {
   "display_name": "Python 3",
   "language": "python",
   "name": "python3"
  },
  "language_info": {
   "codemirror_mode": {
    "name": "ipython",
    "version": 3
   },
   "file_extension": ".py",
   "mimetype": "text/x-python",
   "name": "python",
   "nbconvert_exporter": "python",
   "pygments_lexer": "ipython3",
   "version": "3.7.6"
  },
  "toc": {
   "base_numbering": 1,
   "nav_menu": {},
   "number_sections": false,
   "sideBar": true,
   "skip_h1_title": false,
   "title_cell": "Table of Contents",
   "title_sidebar": "Contents",
   "toc_cell": false,
   "toc_position": {},
   "toc_section_display": true,
   "toc_window_display": false
  }
 },
 "nbformat": 4,
 "nbformat_minor": 2
}
