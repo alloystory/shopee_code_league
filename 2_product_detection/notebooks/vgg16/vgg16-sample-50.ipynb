{
 "cells": [
  {
   "cell_type": "markdown",
   "metadata": {},
   "source": [
    "# VGG16 Sample 100 Epochs"
   ]
  },
  {
   "cell_type": "code",
   "execution_count": 1,
   "metadata": {
    "tags": []
   },
   "outputs": [],
   "source": [
    "import matplotlib.pyplot as plt\n",
    "import tensorflow as tf\n",
    "from tensorflow import keras\n",
    "from tensorflow.keras.preprocessing.image import ImageDataGenerator"
   ]
  },
  {
   "cell_type": "code",
   "execution_count": 2,
   "metadata": {},
   "outputs": [
    {
     "name": "stdout",
     "output_type": "stream",
     "text": [
      "1 Physical GPUs, 1 Logical GPUs\n"
     ]
    }
   ],
   "source": [
    "gpus = tf.config.experimental.list_physical_devices('GPU')\n",
    "if gpus:\n",
    "  # Restrict TensorFlow to only allocate 5GB of memory on the first GPU\n",
    "  try:\n",
    "    tf.config.experimental.set_virtual_device_configuration(\n",
    "        gpus[0],\n",
    "        [tf.config.experimental.VirtualDeviceConfiguration(memory_limit=4096)])\n",
    "    logical_gpus = tf.config.experimental.list_logical_devices('GPU')\n",
    "    print(len(gpus), \"Physical GPUs,\", len(logical_gpus), \"Logical GPUs\")\n",
    "  except RuntimeError as e:\n",
    "    # Virtual devices must be set before GPUs have been initialized\n",
    "    print(e)"
   ]
  },
  {
   "cell_type": "code",
   "execution_count": 3,
   "metadata": {},
   "outputs": [],
   "source": [
    "# Constant Parameters\n",
    "TRAIN_DIR = \"../data/sample/\"\n",
    "MODEL_DIR = \"../models/\"\n",
    "VALIDATION_SPLIT = 0.2\n",
    "IMAGE_HEIGHT = IMAGE_WIDTH = 224\n",
    "BATCH_SIZE = 64\n",
    "SEED = 1\n",
    "\n",
    "# Training Parameters\n",
    "NUM_EPOCHS = 100\n",
    "STARTING_EPOCH = 15\n",
    "OPTIMIZER = keras.optimizers.Adam()\n",
    "LOSS_FN = keras.losses.CategoricalCrossentropy()"
   ]
  },
  {
   "cell_type": "code",
   "execution_count": 4,
   "metadata": {
    "code_folding": []
   },
   "outputs": [],
   "source": [
    "model_id = \"vgg16_8_100epochs\"              # Unique Identifier used for saving model\n",
    "color_mode = \"rgb\"                             # \"rgb\", \"rgba\" or \"grayscale\"\n",
    "image_depth = 3"
   ]
  },
  {
   "cell_type": "code",
   "execution_count": 5,
   "metadata": {},
   "outputs": [],
   "source": [
    "# Model Architecture\n",
    "def get_model(image_depth, num_classes):\n",
    "    model = keras.models.load_model(MODEL_DIR + \"vgg16_8_15epochs.h5\")\n",
    "    return model"
   ]
  },
  {
   "cell_type": "code",
   "execution_count": 6,
   "metadata": {
    "code_folding": []
   },
   "outputs": [],
   "source": [
    "# Data Augmentation Parameters\n",
    "image_generator = ImageDataGenerator(\n",
    "    validation_split = VALIDATION_SPLIT,\n",
    "    rescale = 1./255,\n",
    "    rotation_range = 45,\n",
    "    horizontal_flip = True,\n",
    "    zoom_range = 0.4\n",
    ")"
   ]
  },
  {
   "cell_type": "code",
   "execution_count": 7,
   "metadata": {
    "tags": []
   },
   "outputs": [
    {
     "name": "stdout",
     "output_type": "stream",
     "text": [
      "Found 13440 images belonging to 42 classes.\n"
     ]
    }
   ],
   "source": [
    "train_data_gen = image_generator.flow_from_directory(\n",
    "    color_mode = color_mode,\n",
    "    directory = TRAIN_DIR,\n",
    "    batch_size = BATCH_SIZE,\n",
    "    target_size = (IMAGE_HEIGHT, IMAGE_WIDTH),\n",
    "    shuffle = True,\n",
    "    seed = SEED,\n",
    "    class_mode = \"categorical\",\n",
    "    subset = \"training\"\n",
    ")"
   ]
  },
  {
   "cell_type": "code",
   "execution_count": 8,
   "metadata": {
    "tags": []
   },
   "outputs": [
    {
     "name": "stdout",
     "output_type": "stream",
     "text": [
      "Found 3360 images belonging to 42 classes.\n"
     ]
    }
   ],
   "source": [
    "validation_data_gen = image_generator.flow_from_directory(\n",
    "    color_mode = color_mode,\n",
    "    directory = TRAIN_DIR,\n",
    "    batch_size = BATCH_SIZE,\n",
    "    target_size = (IMAGE_HEIGHT, IMAGE_WIDTH),\n",
    "    class_mode = \"categorical\",\n",
    "    subset = \"validation\"\n",
    ")"
   ]
  },
  {
   "cell_type": "code",
   "execution_count": 9,
   "metadata": {},
   "outputs": [],
   "source": [
    "model = get_model(image_depth, train_data_gen.num_classes)"
   ]
  },
  {
   "cell_type": "code",
   "execution_count": 10,
   "metadata": {
    "scrolled": false
   },
   "outputs": [
    {
     "name": "stdout",
     "output_type": "stream",
     "text": [
      "Model: \"sequential\"\n",
      "_________________________________________________________________\n",
      "Layer (type)                 Output Shape              Param #   \n",
      "=================================================================\n",
      "vgg16 (Model)                (None, 512)               14714688  \n",
      "_________________________________________________________________\n",
      "dense (Dense)                (None, 1024)              525312    \n",
      "_________________________________________________________________\n",
      "dropout (Dropout)            (None, 1024)              0         \n",
      "_________________________________________________________________\n",
      "dense_1 (Dense)              (None, 42)                43050     \n",
      "=================================================================\n",
      "Total params: 15,283,050\n",
      "Trainable params: 568,362\n",
      "Non-trainable params: 14,714,688\n",
      "_________________________________________________________________\n"
     ]
    }
   ],
   "source": [
    "model.summary()"
   ]
  },
  {
   "cell_type": "code",
   "execution_count": 11,
   "metadata": {
    "scrolled": false,
    "tags": []
   },
   "outputs": [
    {
     "name": "stdout",
     "output_type": "stream",
     "text": [
      "Epoch 16/100\n",
      "210/210 [==============================] - ETA: 0s - loss: 1.9132 - accuracy: 0.4715\n",
      "Epoch 00016: saving model to ../models/checkpoints/vgg16_8_100epochs.016-0.4390\n",
      "WARNING:tensorflow:From C:\\Users\\Aloysius\\anaconda3\\lib\\site-packages\\tensorflow\\python\\ops\\resource_variable_ops.py:1817: calling BaseResourceVariable.__init__ (from tensorflow.python.ops.resource_variable_ops) with constraint is deprecated and will be removed in a future version.\n",
      "Instructions for updating:\n",
      "If using Keras pass *_constraint arguments to layers.\n",
      "INFO:tensorflow:Assets written to: ../models/checkpoints/vgg16_8_100epochs.016-0.4390\\assets\n",
      "210/210 [==============================] - 264s 1s/step - loss: 1.9132 - accuracy: 0.4715 - val_loss: 2.0553 - val_accuracy: 0.4390\n",
      "Epoch 17/100\n",
      "210/210 [==============================] - ETA: 0s - loss: 1.8950 - accuracy: 0.4798\n",
      "Epoch 00017: saving model to ../models/checkpoints/vgg16_8_100epochs.017-0.4506\n",
      "INFO:tensorflow:Assets written to: ../models/checkpoints/vgg16_8_100epochs.017-0.4506\\assets\n",
      "210/210 [==============================] - 257s 1s/step - loss: 1.8950 - accuracy: 0.4798 - val_loss: 2.0561 - val_accuracy: 0.4506\n",
      "Epoch 18/100\n",
      "210/210 [==============================] - ETA: 0s - loss: 1.8723 - accuracy: 0.4838\n",
      "Epoch 00018: saving model to ../models/checkpoints/vgg16_8_100epochs.018-0.4530\n",
      "INFO:tensorflow:Assets written to: ../models/checkpoints/vgg16_8_100epochs.018-0.4530\\assets\n",
      "210/210 [==============================] - 258s 1s/step - loss: 1.8723 - accuracy: 0.4838 - val_loss: 2.0330 - val_accuracy: 0.4530\n",
      "Epoch 19/100\n",
      "210/210 [==============================] - ETA: 0s - loss: 1.8618 - accuracy: 0.4883\n",
      "Epoch 00019: saving model to ../models/checkpoints/vgg16_8_100epochs.019-0.4500\n",
      "INFO:tensorflow:Assets written to: ../models/checkpoints/vgg16_8_100epochs.019-0.4500\\assets\n",
      "210/210 [==============================] - 245s 1s/step - loss: 1.8618 - accuracy: 0.4883 - val_loss: 2.0369 - val_accuracy: 0.4500\n",
      "Epoch 20/100\n",
      "210/210 [==============================] - ETA: 0s - loss: 1.8433 - accuracy: 0.4891\n",
      "Epoch 00020: saving model to ../models/checkpoints/vgg16_8_100epochs.020-0.4655\n",
      "INFO:tensorflow:Assets written to: ../models/checkpoints/vgg16_8_100epochs.020-0.4655\\assets\n",
      "210/210 [==============================] - 246s 1s/step - loss: 1.8433 - accuracy: 0.4891 - val_loss: 2.0114 - val_accuracy: 0.4655\n",
      "Epoch 21/100\n",
      "210/210 [==============================] - ETA: 0s - loss: 1.8138 - accuracy: 0.4958\n",
      "Epoch 00021: saving model to ../models/checkpoints/vgg16_8_100epochs.021-0.4583\n",
      "INFO:tensorflow:Assets written to: ../models/checkpoints/vgg16_8_100epochs.021-0.4583\\assets\n",
      "210/210 [==============================] - 245s 1s/step - loss: 1.8138 - accuracy: 0.4958 - val_loss: 2.0035 - val_accuracy: 0.4583\n",
      "Epoch 22/100\n",
      "210/210 [==============================] - ETA: 0s - loss: 1.8166 - accuracy: 0.4999\n",
      "Epoch 00022: saving model to ../models/checkpoints/vgg16_8_100epochs.022-0.4557\n",
      "INFO:tensorflow:Assets written to: ../models/checkpoints/vgg16_8_100epochs.022-0.4557\\assets\n",
      "210/210 [==============================] - 245s 1s/step - loss: 1.8166 - accuracy: 0.4999 - val_loss: 2.0262 - val_accuracy: 0.4557\n",
      "Epoch 23/100\n",
      "210/210 [==============================] - ETA: 0s - loss: 1.8128 - accuracy: 0.4982\n",
      "Epoch 00023: saving model to ../models/checkpoints/vgg16_8_100epochs.023-0.4628\n",
      "INFO:tensorflow:Assets written to: ../models/checkpoints/vgg16_8_100epochs.023-0.4628\\assets\n",
      "210/210 [==============================] - 246s 1s/step - loss: 1.8128 - accuracy: 0.4982 - val_loss: 1.9839 - val_accuracy: 0.4628\n",
      "Epoch 24/100\n",
      "210/210 [==============================] - ETA: 0s - loss: 1.7975 - accuracy: 0.5010\n",
      "Epoch 00024: saving model to ../models/checkpoints/vgg16_8_100epochs.024-0.4631\n",
      "INFO:tensorflow:Assets written to: ../models/checkpoints/vgg16_8_100epochs.024-0.4631\\assets\n",
      "210/210 [==============================] - 247s 1s/step - loss: 1.7975 - accuracy: 0.5010 - val_loss: 1.9862 - val_accuracy: 0.4631\n",
      "Epoch 25/100\n",
      "210/210 [==============================] - ETA: 0s - loss: 1.7753 - accuracy: 0.5057\n",
      "Epoch 00025: saving model to ../models/checkpoints/vgg16_8_100epochs.025-0.4652\n",
      "INFO:tensorflow:Assets written to: ../models/checkpoints/vgg16_8_100epochs.025-0.4652\\assets\n",
      "210/210 [==============================] - 247s 1s/step - loss: 1.7753 - accuracy: 0.5057 - val_loss: 1.9980 - val_accuracy: 0.4652\n",
      "Epoch 26/100\n",
      "210/210 [==============================] - ETA: 0s - loss: 1.7617 - accuracy: 0.5104\n",
      "Epoch 00026: saving model to ../models/checkpoints/vgg16_8_100epochs.026-0.4693\n",
      "INFO:tensorflow:Assets written to: ../models/checkpoints/vgg16_8_100epochs.026-0.4693\\assets\n",
      "210/210 [==============================] - 247s 1s/step - loss: 1.7617 - accuracy: 0.5104 - val_loss: 1.9940 - val_accuracy: 0.4693\n",
      "Epoch 27/100\n",
      "210/210 [==============================] - ETA: 0s - loss: 1.7490 - accuracy: 0.5164\n",
      "Epoch 00027: saving model to ../models/checkpoints/vgg16_8_100epochs.027-0.4750\n",
      "INFO:tensorflow:Assets written to: ../models/checkpoints/vgg16_8_100epochs.027-0.4750\\assets\n",
      "210/210 [==============================] - 248s 1s/step - loss: 1.7490 - accuracy: 0.5164 - val_loss: 1.9883 - val_accuracy: 0.4750\n",
      "Epoch 28/100\n",
      "210/210 [==============================] - ETA: 0s - loss: 1.7412 - accuracy: 0.5151\n",
      "Epoch 00028: saving model to ../models/checkpoints/vgg16_8_100epochs.028-0.4759\n",
      "INFO:tensorflow:Assets written to: ../models/checkpoints/vgg16_8_100epochs.028-0.4759\\assets\n",
      "210/210 [==============================] - 247s 1s/step - loss: 1.7412 - accuracy: 0.5151 - val_loss: 1.9922 - val_accuracy: 0.4759\n",
      "Epoch 29/100\n",
      "210/210 [==============================] - ETA: 0s - loss: 1.7255 - accuracy: 0.5176\n",
      "Epoch 00029: saving model to ../models/checkpoints/vgg16_8_100epochs.029-0.4699\n",
      "INFO:tensorflow:Assets written to: ../models/checkpoints/vgg16_8_100epochs.029-0.4699\\assets\n",
      "210/210 [==============================] - 247s 1s/step - loss: 1.7255 - accuracy: 0.5176 - val_loss: 1.9963 - val_accuracy: 0.4699\n",
      "Epoch 30/100\n",
      "210/210 [==============================] - ETA: 0s - loss: 1.7115 - accuracy: 0.5220\n",
      "Epoch 00030: saving model to ../models/checkpoints/vgg16_8_100epochs.030-0.4741\n",
      "INFO:tensorflow:Assets written to: ../models/checkpoints/vgg16_8_100epochs.030-0.4741\\assets\n",
      "210/210 [==============================] - 246s 1s/step - loss: 1.7115 - accuracy: 0.5220 - val_loss: 1.9887 - val_accuracy: 0.4741\n",
      "Epoch 31/100\n",
      "210/210 [==============================] - ETA: 0s - loss: 1.7007 - accuracy: 0.5288\n",
      "Epoch 00031: saving model to ../models/checkpoints/vgg16_8_100epochs.031-0.4765\n",
      "INFO:tensorflow:Assets written to: ../models/checkpoints/vgg16_8_100epochs.031-0.4765\\assets\n",
      "210/210 [==============================] - 246s 1s/step - loss: 1.7007 - accuracy: 0.5288 - val_loss: 1.9809 - val_accuracy: 0.4765\n",
      "Epoch 32/100\n",
      "210/210 [==============================] - ETA: 0s - loss: 1.6897 - accuracy: 0.5283\n",
      "Epoch 00032: saving model to ../models/checkpoints/vgg16_8_100epochs.032-0.4768\n",
      "INFO:tensorflow:Assets written to: ../models/checkpoints/vgg16_8_100epochs.032-0.4768\\assets\n",
      "210/210 [==============================] - 247s 1s/step - loss: 1.6897 - accuracy: 0.5283 - val_loss: 1.9790 - val_accuracy: 0.4768\n",
      "Epoch 33/100\n",
      "210/210 [==============================] - ETA: 0s - loss: 1.6810 - accuracy: 0.5300\n",
      "Epoch 00033: saving model to ../models/checkpoints/vgg16_8_100epochs.033-0.4708\n",
      "INFO:tensorflow:Assets written to: ../models/checkpoints/vgg16_8_100epochs.033-0.4708\\assets\n",
      "210/210 [==============================] - 249s 1s/step - loss: 1.6810 - accuracy: 0.5300 - val_loss: 1.9975 - val_accuracy: 0.4708\n",
      "Epoch 34/100\n",
      "210/210 [==============================] - ETA: 0s - loss: 1.6701 - accuracy: 0.5317\n",
      "Epoch 00034: saving model to ../models/checkpoints/vgg16_8_100epochs.034-0.4685\n",
      "INFO:tensorflow:Assets written to: ../models/checkpoints/vgg16_8_100epochs.034-0.4685\\assets\n",
      "210/210 [==============================] - 271s 1s/step - loss: 1.6701 - accuracy: 0.5317 - val_loss: 1.9893 - val_accuracy: 0.4685\n",
      "Epoch 35/100\n",
      "210/210 [==============================] - ETA: 0s - loss: 1.6633 - accuracy: 0.5333\n",
      "Epoch 00035: saving model to ../models/checkpoints/vgg16_8_100epochs.035-0.4747\n"
     ]
    },
    {
     "name": "stdout",
     "output_type": "stream",
     "text": [
      "INFO:tensorflow:Assets written to: ../models/checkpoints/vgg16_8_100epochs.035-0.4747\\assets\n",
      "210/210 [==============================] - 280s 1s/step - loss: 1.6633 - accuracy: 0.5333 - val_loss: 1.9798 - val_accuracy: 0.4747\n",
      "Epoch 36/100\n",
      "210/210 [==============================] - ETA: 0s - loss: 1.6589 - accuracy: 0.5400\n",
      "Epoch 00036: saving model to ../models/checkpoints/vgg16_8_100epochs.036-0.4774\n",
      "INFO:tensorflow:Assets written to: ../models/checkpoints/vgg16_8_100epochs.036-0.4774\\assets\n",
      "210/210 [==============================] - 282s 1s/step - loss: 1.6589 - accuracy: 0.5400 - val_loss: 1.9694 - val_accuracy: 0.4774\n",
      "Epoch 37/100\n",
      "210/210 [==============================] - ETA: 0s - loss: 1.6559 - accuracy: 0.5354\n",
      "Epoch 00037: saving model to ../models/checkpoints/vgg16_8_100epochs.037-0.4753\n",
      "INFO:tensorflow:Assets written to: ../models/checkpoints/vgg16_8_100epochs.037-0.4753\\assets\n",
      "210/210 [==============================] - 279s 1s/step - loss: 1.6559 - accuracy: 0.5354 - val_loss: 1.9710 - val_accuracy: 0.4753\n",
      "Epoch 38/100\n",
      "210/210 [==============================] - ETA: 0s - loss: 1.6257 - accuracy: 0.5464\n",
      "Epoch 00038: saving model to ../models/checkpoints/vgg16_8_100epochs.038-0.4664\n",
      "INFO:tensorflow:Assets written to: ../models/checkpoints/vgg16_8_100epochs.038-0.4664\\assets\n",
      "210/210 [==============================] - 280s 1s/step - loss: 1.6257 - accuracy: 0.5464 - val_loss: 1.9868 - val_accuracy: 0.4664\n",
      "Epoch 39/100\n",
      "210/210 [==============================] - ETA: 0s - loss: 1.6152 - accuracy: 0.5429\n",
      "Epoch 00039: saving model to ../models/checkpoints/vgg16_8_100epochs.039-0.4824\n",
      "INFO:tensorflow:Assets written to: ../models/checkpoints/vgg16_8_100epochs.039-0.4824\\assets\n",
      "210/210 [==============================] - 280s 1s/step - loss: 1.6152 - accuracy: 0.5429 - val_loss: 1.9845 - val_accuracy: 0.4824\n",
      "Epoch 40/100\n",
      "210/210 [==============================] - ETA: 0s - loss: 1.6186 - accuracy: 0.5472\n",
      "Epoch 00040: saving model to ../models/checkpoints/vgg16_8_100epochs.040-0.4830\n",
      "INFO:tensorflow:Assets written to: ../models/checkpoints/vgg16_8_100epochs.040-0.4830\\assets\n",
      "210/210 [==============================] - 285s 1s/step - loss: 1.6186 - accuracy: 0.5472 - val_loss: 1.9581 - val_accuracy: 0.4830\n",
      "Epoch 41/100\n",
      "210/210 [==============================] - ETA: 0s - loss: 1.6053 - accuracy: 0.5459\n",
      "Epoch 00041: saving model to ../models/checkpoints/vgg16_8_100epochs.041-0.4771\n",
      "INFO:tensorflow:Assets written to: ../models/checkpoints/vgg16_8_100epochs.041-0.4771\\assets\n",
      "210/210 [==============================] - 278s 1s/step - loss: 1.6053 - accuracy: 0.5459 - val_loss: 1.9579 - val_accuracy: 0.4771\n",
      "Epoch 42/100\n",
      "210/210 [==============================] - ETA: 0s - loss: 1.6049 - accuracy: 0.5528\n",
      "Epoch 00042: saving model to ../models/checkpoints/vgg16_8_100epochs.042-0.4768\n",
      "INFO:tensorflow:Assets written to: ../models/checkpoints/vgg16_8_100epochs.042-0.4768\\assets\n",
      "210/210 [==============================] - 284s 1s/step - loss: 1.6049 - accuracy: 0.5528 - val_loss: 1.9565 - val_accuracy: 0.4768\n",
      "Epoch 43/100\n",
      "210/210 [==============================] - ETA: 0s - loss: 1.5894 - accuracy: 0.5507\n",
      "Epoch 00043: saving model to ../models/checkpoints/vgg16_8_100epochs.043-0.4786\n",
      "INFO:tensorflow:Assets written to: ../models/checkpoints/vgg16_8_100epochs.043-0.4786\\assets\n",
      "210/210 [==============================] - 278s 1s/step - loss: 1.5894 - accuracy: 0.5507 - val_loss: 1.9848 - val_accuracy: 0.4786\n",
      "Epoch 44/100\n",
      "210/210 [==============================] - ETA: 0s - loss: 1.5847 - accuracy: 0.5497\n",
      "Epoch 00044: saving model to ../models/checkpoints/vgg16_8_100epochs.044-0.4753\n",
      "INFO:tensorflow:Assets written to: ../models/checkpoints/vgg16_8_100epochs.044-0.4753\\assets\n",
      "210/210 [==============================] - 280s 1s/step - loss: 1.5847 - accuracy: 0.5497 - val_loss: 1.9939 - val_accuracy: 0.4753\n",
      "Epoch 45/100\n",
      "210/210 [==============================] - ETA: 0s - loss: 1.5642 - accuracy: 0.5541\n",
      "Epoch 00045: saving model to ../models/checkpoints/vgg16_8_100epochs.045-0.4812\n",
      "INFO:tensorflow:Assets written to: ../models/checkpoints/vgg16_8_100epochs.045-0.4812\\assets\n",
      "210/210 [==============================] - 275s 1s/step - loss: 1.5642 - accuracy: 0.5541 - val_loss: 1.9676 - val_accuracy: 0.4812\n",
      "Epoch 46/100\n",
      "210/210 [==============================] - ETA: 0s - loss: 1.5599 - accuracy: 0.5537\n",
      "Epoch 00046: saving model to ../models/checkpoints/vgg16_8_100epochs.046-0.4762\n",
      "INFO:tensorflow:Assets written to: ../models/checkpoints/vgg16_8_100epochs.046-0.4762\\assets\n",
      "210/210 [==============================] - 281s 1s/step - loss: 1.5599 - accuracy: 0.5537 - val_loss: 1.9639 - val_accuracy: 0.4762\n",
      "Epoch 47/100\n",
      "210/210 [==============================] - ETA: 0s - loss: 1.5577 - accuracy: 0.5606\n",
      "Epoch 00047: saving model to ../models/checkpoints/vgg16_8_100epochs.047-0.4798\n",
      "INFO:tensorflow:Assets written to: ../models/checkpoints/vgg16_8_100epochs.047-0.4798\\assets\n",
      "210/210 [==============================] - 263s 1s/step - loss: 1.5577 - accuracy: 0.5606 - val_loss: 1.9780 - val_accuracy: 0.4798\n",
      "Epoch 48/100\n",
      "210/210 [==============================] - ETA: 0s - loss: 1.5519 - accuracy: 0.5580\n",
      "Epoch 00048: saving model to ../models/checkpoints/vgg16_8_100epochs.048-0.4887\n",
      "INFO:tensorflow:Assets written to: ../models/checkpoints/vgg16_8_100epochs.048-0.4887\\assets\n",
      "210/210 [==============================] - 265s 1s/step - loss: 1.5519 - accuracy: 0.5580 - val_loss: 1.9175 - val_accuracy: 0.4887\n",
      "Epoch 49/100\n",
      "210/210 [==============================] - ETA: 0s - loss: 1.5443 - accuracy: 0.5617\n",
      "Epoch 00049: saving model to ../models/checkpoints/vgg16_8_100epochs.049-0.4780\n",
      "INFO:tensorflow:Assets written to: ../models/checkpoints/vgg16_8_100epochs.049-0.4780\\assets\n",
      "210/210 [==============================] - 266s 1s/step - loss: 1.5443 - accuracy: 0.5617 - val_loss: 1.9857 - val_accuracy: 0.4780\n",
      "Epoch 50/100\n",
      "210/210 [==============================] - ETA: 0s - loss: 1.5316 - accuracy: 0.5648\n",
      "Epoch 00050: saving model to ../models/checkpoints/vgg16_8_100epochs.050-0.4908\n",
      "INFO:tensorflow:Assets written to: ../models/checkpoints/vgg16_8_100epochs.050-0.4908\\assets\n",
      "210/210 [==============================] - 266s 1s/step - loss: 1.5316 - accuracy: 0.5648 - val_loss: 1.9614 - val_accuracy: 0.4908\n",
      "Epoch 51/100\n",
      "  4/210 [..............................] - ETA: 2:34 - loss: 1.5794 - accuracy: 0.5273"
     ]
    },
    {
     "ename": "KeyboardInterrupt",
     "evalue": "",
     "output_type": "error",
     "traceback": [
      "\u001b[1;31m---------------------------------------------------------------------------\u001b[0m",
      "\u001b[1;31mKeyboardInterrupt\u001b[0m                         Traceback (most recent call last)",
      "\u001b[1;32m<ipython-input-11-caea9d5f4ab4>\u001b[0m in \u001b[0;36m<module>\u001b[1;34m\u001b[0m\n\u001b[0;32m     15\u001b[0m                                       \u001b[0mverbose\u001b[0m \u001b[1;33m=\u001b[0m \u001b[1;36m1\u001b[0m\u001b[1;33m,\u001b[0m\u001b[1;33m\u001b[0m\u001b[1;33m\u001b[0m\u001b[0m\n\u001b[0;32m     16\u001b[0m                                       \u001b[0msave_weights_only\u001b[0m \u001b[1;33m=\u001b[0m \u001b[1;32mFalse\u001b[0m\u001b[1;33m,\u001b[0m\u001b[1;33m\u001b[0m\u001b[1;33m\u001b[0m\u001b[0m\n\u001b[1;32m---> 17\u001b[1;33m                                       save_freq = \"epoch\")\n\u001b[0m\u001b[0;32m     18\u001b[0m     ]\n\u001b[0;32m     19\u001b[0m )\n",
      "\u001b[1;32m~\\anaconda3\\lib\\site-packages\\tensorflow\\python\\keras\\engine\\training.py\u001b[0m in \u001b[0;36m_method_wrapper\u001b[1;34m(self, *args, **kwargs)\u001b[0m\n\u001b[0;32m     64\u001b[0m   \u001b[1;32mdef\u001b[0m \u001b[0m_method_wrapper\u001b[0m\u001b[1;33m(\u001b[0m\u001b[0mself\u001b[0m\u001b[1;33m,\u001b[0m \u001b[1;33m*\u001b[0m\u001b[0margs\u001b[0m\u001b[1;33m,\u001b[0m \u001b[1;33m**\u001b[0m\u001b[0mkwargs\u001b[0m\u001b[1;33m)\u001b[0m\u001b[1;33m:\u001b[0m\u001b[1;33m\u001b[0m\u001b[1;33m\u001b[0m\u001b[0m\n\u001b[0;32m     65\u001b[0m     \u001b[1;32mif\u001b[0m \u001b[1;32mnot\u001b[0m \u001b[0mself\u001b[0m\u001b[1;33m.\u001b[0m\u001b[0m_in_multi_worker_mode\u001b[0m\u001b[1;33m(\u001b[0m\u001b[1;33m)\u001b[0m\u001b[1;33m:\u001b[0m  \u001b[1;31m# pylint: disable=protected-access\u001b[0m\u001b[1;33m\u001b[0m\u001b[1;33m\u001b[0m\u001b[0m\n\u001b[1;32m---> 66\u001b[1;33m       \u001b[1;32mreturn\u001b[0m \u001b[0mmethod\u001b[0m\u001b[1;33m(\u001b[0m\u001b[0mself\u001b[0m\u001b[1;33m,\u001b[0m \u001b[1;33m*\u001b[0m\u001b[0margs\u001b[0m\u001b[1;33m,\u001b[0m \u001b[1;33m**\u001b[0m\u001b[0mkwargs\u001b[0m\u001b[1;33m)\u001b[0m\u001b[1;33m\u001b[0m\u001b[1;33m\u001b[0m\u001b[0m\n\u001b[0m\u001b[0;32m     67\u001b[0m \u001b[1;33m\u001b[0m\u001b[0m\n\u001b[0;32m     68\u001b[0m     \u001b[1;31m# Running inside `run_distribute_coordinator` already.\u001b[0m\u001b[1;33m\u001b[0m\u001b[1;33m\u001b[0m\u001b[1;33m\u001b[0m\u001b[0m\n",
      "\u001b[1;32m~\\anaconda3\\lib\\site-packages\\tensorflow\\python\\keras\\engine\\training.py\u001b[0m in \u001b[0;36mfit\u001b[1;34m(self, x, y, batch_size, epochs, verbose, callbacks, validation_split, validation_data, shuffle, class_weight, sample_weight, initial_epoch, steps_per_epoch, validation_steps, validation_batch_size, validation_freq, max_queue_size, workers, use_multiprocessing)\u001b[0m\n\u001b[0;32m    846\u001b[0m                 batch_size=batch_size):\n\u001b[0;32m    847\u001b[0m               \u001b[0mcallbacks\u001b[0m\u001b[1;33m.\u001b[0m\u001b[0mon_train_batch_begin\u001b[0m\u001b[1;33m(\u001b[0m\u001b[0mstep\u001b[0m\u001b[1;33m)\u001b[0m\u001b[1;33m\u001b[0m\u001b[1;33m\u001b[0m\u001b[0m\n\u001b[1;32m--> 848\u001b[1;33m               \u001b[0mtmp_logs\u001b[0m \u001b[1;33m=\u001b[0m \u001b[0mtrain_function\u001b[0m\u001b[1;33m(\u001b[0m\u001b[0miterator\u001b[0m\u001b[1;33m)\u001b[0m\u001b[1;33m\u001b[0m\u001b[1;33m\u001b[0m\u001b[0m\n\u001b[0m\u001b[0;32m    849\u001b[0m               \u001b[1;31m# Catch OutOfRangeError for Datasets of unknown size.\u001b[0m\u001b[1;33m\u001b[0m\u001b[1;33m\u001b[0m\u001b[1;33m\u001b[0m\u001b[0m\n\u001b[0;32m    850\u001b[0m               \u001b[1;31m# This blocks until the batch has finished executing.\u001b[0m\u001b[1;33m\u001b[0m\u001b[1;33m\u001b[0m\u001b[1;33m\u001b[0m\u001b[0m\n",
      "\u001b[1;32m~\\anaconda3\\lib\\site-packages\\tensorflow\\python\\eager\\def_function.py\u001b[0m in \u001b[0;36m__call__\u001b[1;34m(self, *args, **kwds)\u001b[0m\n\u001b[0;32m    578\u001b[0m         \u001b[0mxla_context\u001b[0m\u001b[1;33m.\u001b[0m\u001b[0mExit\u001b[0m\u001b[1;33m(\u001b[0m\u001b[1;33m)\u001b[0m\u001b[1;33m\u001b[0m\u001b[1;33m\u001b[0m\u001b[0m\n\u001b[0;32m    579\u001b[0m     \u001b[1;32melse\u001b[0m\u001b[1;33m:\u001b[0m\u001b[1;33m\u001b[0m\u001b[1;33m\u001b[0m\u001b[0m\n\u001b[1;32m--> 580\u001b[1;33m       \u001b[0mresult\u001b[0m \u001b[1;33m=\u001b[0m \u001b[0mself\u001b[0m\u001b[1;33m.\u001b[0m\u001b[0m_call\u001b[0m\u001b[1;33m(\u001b[0m\u001b[1;33m*\u001b[0m\u001b[0margs\u001b[0m\u001b[1;33m,\u001b[0m \u001b[1;33m**\u001b[0m\u001b[0mkwds\u001b[0m\u001b[1;33m)\u001b[0m\u001b[1;33m\u001b[0m\u001b[1;33m\u001b[0m\u001b[0m\n\u001b[0m\u001b[0;32m    581\u001b[0m \u001b[1;33m\u001b[0m\u001b[0m\n\u001b[0;32m    582\u001b[0m     \u001b[1;32mif\u001b[0m \u001b[0mtracing_count\u001b[0m \u001b[1;33m==\u001b[0m \u001b[0mself\u001b[0m\u001b[1;33m.\u001b[0m\u001b[0m_get_tracing_count\u001b[0m\u001b[1;33m(\u001b[0m\u001b[1;33m)\u001b[0m\u001b[1;33m:\u001b[0m\u001b[1;33m\u001b[0m\u001b[1;33m\u001b[0m\u001b[0m\n",
      "\u001b[1;32m~\\anaconda3\\lib\\site-packages\\tensorflow\\python\\eager\\def_function.py\u001b[0m in \u001b[0;36m_call\u001b[1;34m(self, *args, **kwds)\u001b[0m\n\u001b[0;32m    609\u001b[0m       \u001b[1;31m# In this case we have created variables on the first call, so we run the\u001b[0m\u001b[1;33m\u001b[0m\u001b[1;33m\u001b[0m\u001b[1;33m\u001b[0m\u001b[0m\n\u001b[0;32m    610\u001b[0m       \u001b[1;31m# defunned version which is guaranteed to never create variables.\u001b[0m\u001b[1;33m\u001b[0m\u001b[1;33m\u001b[0m\u001b[1;33m\u001b[0m\u001b[0m\n\u001b[1;32m--> 611\u001b[1;33m       \u001b[1;32mreturn\u001b[0m \u001b[0mself\u001b[0m\u001b[1;33m.\u001b[0m\u001b[0m_stateless_fn\u001b[0m\u001b[1;33m(\u001b[0m\u001b[1;33m*\u001b[0m\u001b[0margs\u001b[0m\u001b[1;33m,\u001b[0m \u001b[1;33m**\u001b[0m\u001b[0mkwds\u001b[0m\u001b[1;33m)\u001b[0m  \u001b[1;31m# pylint: disable=not-callable\u001b[0m\u001b[1;33m\u001b[0m\u001b[1;33m\u001b[0m\u001b[0m\n\u001b[0m\u001b[0;32m    612\u001b[0m     \u001b[1;32melif\u001b[0m \u001b[0mself\u001b[0m\u001b[1;33m.\u001b[0m\u001b[0m_stateful_fn\u001b[0m \u001b[1;32mis\u001b[0m \u001b[1;32mnot\u001b[0m \u001b[1;32mNone\u001b[0m\u001b[1;33m:\u001b[0m\u001b[1;33m\u001b[0m\u001b[1;33m\u001b[0m\u001b[0m\n\u001b[0;32m    613\u001b[0m       \u001b[1;31m# Release the lock early so that multiple threads can perform the call\u001b[0m\u001b[1;33m\u001b[0m\u001b[1;33m\u001b[0m\u001b[1;33m\u001b[0m\u001b[0m\n",
      "\u001b[1;32m~\\anaconda3\\lib\\site-packages\\tensorflow\\python\\eager\\function.py\u001b[0m in \u001b[0;36m__call__\u001b[1;34m(self, *args, **kwargs)\u001b[0m\n\u001b[0;32m   2418\u001b[0m     \u001b[1;32mwith\u001b[0m \u001b[0mself\u001b[0m\u001b[1;33m.\u001b[0m\u001b[0m_lock\u001b[0m\u001b[1;33m:\u001b[0m\u001b[1;33m\u001b[0m\u001b[1;33m\u001b[0m\u001b[0m\n\u001b[0;32m   2419\u001b[0m       \u001b[0mgraph_function\u001b[0m\u001b[1;33m,\u001b[0m \u001b[0margs\u001b[0m\u001b[1;33m,\u001b[0m \u001b[0mkwargs\u001b[0m \u001b[1;33m=\u001b[0m \u001b[0mself\u001b[0m\u001b[1;33m.\u001b[0m\u001b[0m_maybe_define_function\u001b[0m\u001b[1;33m(\u001b[0m\u001b[0margs\u001b[0m\u001b[1;33m,\u001b[0m \u001b[0mkwargs\u001b[0m\u001b[1;33m)\u001b[0m\u001b[1;33m\u001b[0m\u001b[1;33m\u001b[0m\u001b[0m\n\u001b[1;32m-> 2420\u001b[1;33m     \u001b[1;32mreturn\u001b[0m \u001b[0mgraph_function\u001b[0m\u001b[1;33m.\u001b[0m\u001b[0m_filtered_call\u001b[0m\u001b[1;33m(\u001b[0m\u001b[0margs\u001b[0m\u001b[1;33m,\u001b[0m \u001b[0mkwargs\u001b[0m\u001b[1;33m)\u001b[0m  \u001b[1;31m# pylint: disable=protected-access\u001b[0m\u001b[1;33m\u001b[0m\u001b[1;33m\u001b[0m\u001b[0m\n\u001b[0m\u001b[0;32m   2421\u001b[0m \u001b[1;33m\u001b[0m\u001b[0m\n\u001b[0;32m   2422\u001b[0m   \u001b[1;33m@\u001b[0m\u001b[0mproperty\u001b[0m\u001b[1;33m\u001b[0m\u001b[1;33m\u001b[0m\u001b[0m\n",
      "\u001b[1;32m~\\anaconda3\\lib\\site-packages\\tensorflow\\python\\eager\\function.py\u001b[0m in \u001b[0;36m_filtered_call\u001b[1;34m(self, args, kwargs)\u001b[0m\n\u001b[0;32m   1663\u001b[0m          if isinstance(t, (ops.Tensor,\n\u001b[0;32m   1664\u001b[0m                            resource_variable_ops.BaseResourceVariable))),\n\u001b[1;32m-> 1665\u001b[1;33m         self.captured_inputs)\n\u001b[0m\u001b[0;32m   1666\u001b[0m \u001b[1;33m\u001b[0m\u001b[0m\n\u001b[0;32m   1667\u001b[0m   \u001b[1;32mdef\u001b[0m \u001b[0m_call_flat\u001b[0m\u001b[1;33m(\u001b[0m\u001b[0mself\u001b[0m\u001b[1;33m,\u001b[0m \u001b[0margs\u001b[0m\u001b[1;33m,\u001b[0m \u001b[0mcaptured_inputs\u001b[0m\u001b[1;33m,\u001b[0m \u001b[0mcancellation_manager\u001b[0m\u001b[1;33m=\u001b[0m\u001b[1;32mNone\u001b[0m\u001b[1;33m)\u001b[0m\u001b[1;33m:\u001b[0m\u001b[1;33m\u001b[0m\u001b[1;33m\u001b[0m\u001b[0m\n",
      "\u001b[1;32m~\\anaconda3\\lib\\site-packages\\tensorflow\\python\\eager\\function.py\u001b[0m in \u001b[0;36m_call_flat\u001b[1;34m(self, args, captured_inputs, cancellation_manager)\u001b[0m\n\u001b[0;32m   1744\u001b[0m       \u001b[1;31m# No tape is watching; skip to running the function.\u001b[0m\u001b[1;33m\u001b[0m\u001b[1;33m\u001b[0m\u001b[1;33m\u001b[0m\u001b[0m\n\u001b[0;32m   1745\u001b[0m       return self._build_call_outputs(self._inference_function.call(\n\u001b[1;32m-> 1746\u001b[1;33m           ctx, args, cancellation_manager=cancellation_manager))\n\u001b[0m\u001b[0;32m   1747\u001b[0m     forward_backward = self._select_forward_and_backward_functions(\n\u001b[0;32m   1748\u001b[0m         \u001b[0margs\u001b[0m\u001b[1;33m,\u001b[0m\u001b[1;33m\u001b[0m\u001b[1;33m\u001b[0m\u001b[0m\n",
      "\u001b[1;32m~\\anaconda3\\lib\\site-packages\\tensorflow\\python\\eager\\function.py\u001b[0m in \u001b[0;36mcall\u001b[1;34m(self, ctx, args, cancellation_manager)\u001b[0m\n\u001b[0;32m    596\u001b[0m               \u001b[0minputs\u001b[0m\u001b[1;33m=\u001b[0m\u001b[0margs\u001b[0m\u001b[1;33m,\u001b[0m\u001b[1;33m\u001b[0m\u001b[1;33m\u001b[0m\u001b[0m\n\u001b[0;32m    597\u001b[0m               \u001b[0mattrs\u001b[0m\u001b[1;33m=\u001b[0m\u001b[0mattrs\u001b[0m\u001b[1;33m,\u001b[0m\u001b[1;33m\u001b[0m\u001b[1;33m\u001b[0m\u001b[0m\n\u001b[1;32m--> 598\u001b[1;33m               ctx=ctx)\n\u001b[0m\u001b[0;32m    599\u001b[0m         \u001b[1;32melse\u001b[0m\u001b[1;33m:\u001b[0m\u001b[1;33m\u001b[0m\u001b[1;33m\u001b[0m\u001b[0m\n\u001b[0;32m    600\u001b[0m           outputs = execute.execute_with_cancellation(\n",
      "\u001b[1;32m~\\anaconda3\\lib\\site-packages\\tensorflow\\python\\eager\\execute.py\u001b[0m in \u001b[0;36mquick_execute\u001b[1;34m(op_name, num_outputs, inputs, attrs, ctx, name)\u001b[0m\n\u001b[0;32m     58\u001b[0m     \u001b[0mctx\u001b[0m\u001b[1;33m.\u001b[0m\u001b[0mensure_initialized\u001b[0m\u001b[1;33m(\u001b[0m\u001b[1;33m)\u001b[0m\u001b[1;33m\u001b[0m\u001b[1;33m\u001b[0m\u001b[0m\n\u001b[0;32m     59\u001b[0m     tensors = pywrap_tfe.TFE_Py_Execute(ctx._handle, device_name, op_name,\n\u001b[1;32m---> 60\u001b[1;33m                                         inputs, attrs, num_outputs)\n\u001b[0m\u001b[0;32m     61\u001b[0m   \u001b[1;32mexcept\u001b[0m \u001b[0mcore\u001b[0m\u001b[1;33m.\u001b[0m\u001b[0m_NotOkStatusException\u001b[0m \u001b[1;32mas\u001b[0m \u001b[0me\u001b[0m\u001b[1;33m:\u001b[0m\u001b[1;33m\u001b[0m\u001b[1;33m\u001b[0m\u001b[0m\n\u001b[0;32m     62\u001b[0m     \u001b[1;32mif\u001b[0m \u001b[0mname\u001b[0m \u001b[1;32mis\u001b[0m \u001b[1;32mnot\u001b[0m \u001b[1;32mNone\u001b[0m\u001b[1;33m:\u001b[0m\u001b[1;33m\u001b[0m\u001b[1;33m\u001b[0m\u001b[0m\n",
      "\u001b[1;31mKeyboardInterrupt\u001b[0m: "
     ]
    }
   ],
   "source": [
    "history = model.fit(\n",
    "    train_data_gen,\n",
    "    epochs = NUM_EPOCHS,\n",
    "    initial_epoch = STARTING_EPOCH,\n",
    "    steps_per_epoch = train_data_gen.n // BATCH_SIZE,\n",
    "    validation_data = validation_data_gen,\n",
    "    callbacks = [\n",
    "        keras.callbacks.CSVLogger(MODEL_DIR + \"{}.csv\".format(model_id), append = True),\n",
    "        keras.callbacks.EarlyStopping(monitor = \"val_accuracy\",\n",
    "                                    mode = \"max\",\n",
    "                                    patience = 10,\n",
    "                                    verbose = 1,\n",
    "                                    restore_best_weights = True),\n",
    "        keras.callbacks.ModelCheckpoint(MODEL_DIR + \"checkpoints/\" + model_id + \".{epoch:03d}-{val_accuracy:.4f}\",\n",
    "                                      verbose = 1,\n",
    "                                      save_weights_only = False,\n",
    "                                      save_freq = \"epoch\")\n",
    "    ]\n",
    ")"
   ]
  },
  {
   "cell_type": "code",
   "execution_count": null,
   "metadata": {},
   "outputs": [],
   "source": [
    "acc = history.history[\"accuracy\"]\n",
    "loss = history.history[\"loss\"]\n",
    "validation_acc = history.history[\"val_accuracy\"]\n",
    "validation_loss = history.history[\"val_loss\"]\n",
    "\n",
    "epochs_range = range(len(history.history[\"accuracy\"]))\n",
    "\n",
    "plt.figure(figsize = (8, 8))\n",
    "plt.subplot(1, 2, 1)\n",
    "plt.plot(epochs_range, acc, label = \"Training Accuracy\")\n",
    "plt.plot(epochs_range, validation_acc, label = \"Validation Accuracy\")\n",
    "plt.legend(loc = \"lower right\")\n",
    "plt.title(\"Training and Validation Accuracy\")\n",
    "\n",
    "plt.subplot(1, 2, 2)\n",
    "plt.plot(epochs_range, loss, label = \"Training Loss\")\n",
    "plt.plot(epochs_range, validation_loss, label = \"Validation Loss\")\n",
    "plt.legend(loc = \"lower right\")\n",
    "plt.title(\"Training and Validation Loss\")\n",
    "plt.show()"
   ]
  },
  {
   "cell_type": "code",
   "execution_count": null,
   "metadata": {},
   "outputs": [],
   "source": [
    "model.save(MODEL_DIR + \"{}\".format(model_id), overwrite = False)"
   ]
  },
  {
   "cell_type": "code",
   "execution_count": null,
   "metadata": {},
   "outputs": [],
   "source": []
  }
 ],
 "metadata": {
  "kernelspec": {
   "display_name": "Python 3",
   "language": "python",
   "name": "python3"
  },
  "language_info": {
   "codemirror_mode": {
    "name": "ipython",
    "version": 3
   },
   "file_extension": ".py",
   "mimetype": "text/x-python",
   "name": "python",
   "nbconvert_exporter": "python",
   "pygments_lexer": "ipython3",
   "version": "3.7.6"
  },
  "toc": {
   "base_numbering": 1,
   "nav_menu": {},
   "number_sections": false,
   "sideBar": true,
   "skip_h1_title": false,
   "title_cell": "Table of Contents",
   "title_sidebar": "Contents",
   "toc_cell": false,
   "toc_position": {},
   "toc_section_display": true,
   "toc_window_display": false
  }
 },
 "nbformat": 4,
 "nbformat_minor": 2
}
