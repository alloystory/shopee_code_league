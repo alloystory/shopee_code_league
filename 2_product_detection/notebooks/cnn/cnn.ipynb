{
 "cells": [
  {
   "cell_type": "markdown",
   "metadata": {},
   "source": [
    "# CNN"
   ]
  },
  {
   "cell_type": "code",
   "execution_count": 1,
   "metadata": {
    "tags": []
   },
   "outputs": [],
   "source": [
    "import os\n",
    "import shutil\n",
    "import numpy as np\n",
    "import matplotlib.pyplot as plt\n",
    "import tensorflow as tf\n",
    "from pathlib import Path\n",
    "from sklearn.model_selection import train_test_split\n",
    "from sklearn.utils import class_weight\n",
    "from imgaug import augmenters as iaa"
   ]
  },
  {
   "cell_type": "code",
   "execution_count": 2,
   "metadata": {
    "code_folding": []
   },
   "outputs": [],
   "source": [
    "MODEL_ID = \"cnn\"\n",
    "\n",
    "TRAIN_DIR = Path(\"../../data/train_clean\")\n",
    "MODEL_DIR = Path(\"./models\")\n",
    "LOG_DIR = Path(\"./log\")\n",
    "CACHE_DIR = Path(\"./tmp/cache\")\n",
    "\n",
    "BATCH_SIZE = 64\n",
    "VAL_SPLIT = 0.25\n",
    "IMG_HEIGHT = IMG_WIDTH = 150\n",
    "GPU_MEMORY_LIMIT = None\n",
    "SEED = 1\n",
    "\n",
    "NUM_EPOCHS = 100\n",
    "INITIAL_EPOCH = 0\n",
    "LOAD_MODEL_PATH = None"
   ]
  },
  {
   "cell_type": "code",
   "execution_count": 3,
   "metadata": {},
   "outputs": [],
   "source": [
    "# Remove cache directory if available\n",
    "if CACHE_DIR.exists():\n",
    "    shutil.rmtree(CACHE_DIR, ignore_errors = True)\n",
    "\n",
    "MODEL_DIR.mkdir(parents = True, exist_ok = True)\n",
    "LOG_DIR.mkdir(parents = True, exist_ok = True)\n",
    "CACHE_DIR.mkdir(parents = True, exist_ok = True)"
   ]
  },
  {
   "cell_type": "code",
   "execution_count": 4,
   "metadata": {},
   "outputs": [],
   "source": [
    "# Set global seed for reproducible results\n",
    "tf.random.set_seed(SEED)"
   ]
  },
  {
   "cell_type": "code",
   "execution_count": 5,
   "metadata": {},
   "outputs": [],
   "source": [
    "# Limit GPU Memory Usage to GPU_MEMORY_LIMIT\n",
    "gpus = tf.config.experimental.list_physical_devices('GPU')\n",
    "if gpus and GPU_MEMORY_LIMIT:\n",
    "    try:\n",
    "        tf.config.experimental.set_virtual_device_configuration(\n",
    "            gpus[0],\n",
    "            [tf.config.experimental.VirtualDeviceConfiguration(memory_limit = GPU_MEMORY_LIMIT)])\n",
    "        logical_gpus = tf.config.experimental.list_logical_devices('GPU')\n",
    "        print(len(gpus), \"Physical GPUs,\", len(logical_gpus), \"Logical GPUs\")\n",
    "    except RuntimeError as e:\n",
    "        # Virtual devices must be set before GPUs have been initialized\n",
    "        print(e)"
   ]
  },
  {
   "cell_type": "markdown",
   "metadata": {},
   "source": [
    "## Loading Images"
   ]
  },
  {
   "cell_type": "code",
   "execution_count": 6,
   "metadata": {},
   "outputs": [
    {
     "name": "stdout",
     "output_type": "stream",
     "text": [
      "Train: Found 76660 images belonging to 42 classes\n",
      "Validation: Found 25554 images belonging to 42 classes\n"
     ]
    }
   ],
   "source": [
    "X_train, X_test = train_test_split(\n",
    "    list(TRAIN_DIR.glob(\"**/*.jpg\")),\n",
    "    test_size = VAL_SPLIT,\n",
    "    random_state = SEED\n",
    ")\n",
    "\n",
    "train_filepaths = []\n",
    "train_classes = []\n",
    "\n",
    "val_filepaths = []\n",
    "val_classes = []\n",
    "\n",
    "for filepath in X_train:\n",
    "    train_filepaths.append(str(filepath))\n",
    "    train_classes.append(filepath.parts[-2])\n",
    "print(\"Train: Found {} images belonging to {} classes\".format(len(train_filepaths), len(set(train_classes))))\n",
    "    \n",
    "for filepath in X_test:\n",
    "    val_filepaths.append(str(filepath))\n",
    "    val_classes.append(filepath.parts[-2])\n",
    "print(\"Validation: Found {} images belonging to {} classes\".format(len(val_filepaths), len(set(val_classes))))\n",
    "    \n",
    "train_filepaths = np.array(train_filepaths)\n",
    "val_filepaths = np.array(val_filepaths)\n",
    "\n",
    "classes = np.array(train_classes + val_classes)\n",
    "classes = np.unique(classes)\n",
    "classes = np.sort(classes)\n",
    "\n",
    "class_weights = class_weight.compute_class_weight(\"balanced\", np.unique(train_classes), train_classes)"
   ]
  },
  {
   "cell_type": "code",
   "execution_count": 7,
   "metadata": {
    "scrolled": false
   },
   "outputs": [
    {
     "name": "stdout",
     "output_type": "stream",
     "text": [
      "b'..\\\\..\\\\data\\\\train_clean\\\\15\\\\aea73be6a13ef3f176ea83af10d3a44f.jpg'\n",
      "b'..\\\\..\\\\data\\\\train_clean\\\\15\\\\0f266821a01473426ad2a4c1eea6559b.jpg'\n",
      "b'..\\\\..\\\\data\\\\train_clean\\\\22\\\\fda5669644e01774dee3589b6b3096ff.jpg'\n"
     ]
    }
   ],
   "source": [
    "train_fp_ds = tf.data.Dataset.from_tensor_slices(train_filepaths)\n",
    "for f in train_fp_ds.take(3):\n",
    "    print(f.numpy())"
   ]
  },
  {
   "cell_type": "code",
   "execution_count": 8,
   "metadata": {
    "scrolled": false
   },
   "outputs": [
    {
     "name": "stdout",
     "output_type": "stream",
     "text": [
      "b'..\\\\..\\\\data\\\\train_clean\\\\41\\\\6c56a80536904eb7e9d9d189e9a61e40.jpg'\n",
      "b'..\\\\..\\\\data\\\\train_clean\\\\28\\\\dc96785cf7bea661993b0149dfca0f68.jpg'\n",
      "b'..\\\\..\\\\data\\\\train_clean\\\\23\\\\6e4d7a14361d145621d7ab5424ad766a.jpg'\n"
     ]
    }
   ],
   "source": [
    "val_fp_ds = tf.data.Dataset.from_tensor_slices(val_filepaths)\n",
    "for f in val_fp_ds.take(3):\n",
    "    print(f.numpy())"
   ]
  },
  {
   "cell_type": "code",
   "execution_count": 9,
   "metadata": {},
   "outputs": [],
   "source": [
    "def load_img(file_path):\n",
    "    parts = tf.strings.split(file_path, os.path.sep)\n",
    "    label = parts[-2] == classes\n",
    "    \n",
    "    img = tf.io.read_file(file_path)\n",
    "    img = tf.image.decode_jpeg(img, channels = 3)\n",
    "    img = tf.image.convert_image_dtype(img, tf.float32)\n",
    "    img = tf.image.resize(img, [IMG_HEIGHT, IMG_WIDTH]) \n",
    "    \n",
    "    return img, label"
   ]
  },
  {
   "cell_type": "code",
   "execution_count": 10,
   "metadata": {},
   "outputs": [
    {
     "name": "stdout",
     "output_type": "stream",
     "text": [
      "Image shape:  (150, 150, 3)\n",
      "Label:  [False False False False False False False False False False False False\n",
      " False False False  True False False False False False False False False\n",
      " False False False False False False False False False False False False\n",
      " False False False False False False]\n"
     ]
    }
   ],
   "source": [
    "train_img_ds = train_fp_ds.map(load_img, num_parallel_calls = tf.data.experimental.AUTOTUNE)\n",
    "for image, label in train_img_ds.take(1):\n",
    "    print(\"Image shape: \", image.numpy().shape)\n",
    "    print(\"Label: \", label.numpy())"
   ]
  },
  {
   "cell_type": "code",
   "execution_count": 11,
   "metadata": {
    "scrolled": true
   },
   "outputs": [
    {
     "name": "stdout",
     "output_type": "stream",
     "text": [
      "Image shape:  (150, 150, 3)\n",
      "Label:  [False False False False False False False False False False False False\n",
      " False False False False False False False False False False False False\n",
      " False False False False False False False False False False False False\n",
      " False False False False False  True]\n"
     ]
    }
   ],
   "source": [
    "val_img_ds = val_fp_ds.map(load_img, num_parallel_calls = tf.data.experimental.AUTOTUNE)\n",
    "for image, label in val_img_ds.take(1):\n",
    "    print(\"Image shape: \", image.numpy().shape)\n",
    "    print(\"Label: \", label.numpy())"
   ]
  },
  {
   "cell_type": "markdown",
   "metadata": {},
   "source": [
    "## Image Preprocessing"
   ]
  },
  {
   "cell_type": "code",
   "execution_count": 12,
   "metadata": {},
   "outputs": [],
   "source": [
    "def augment(img, label):\n",
    "    def augment_inner(img, label):\n",
    "        img = img.numpy()\n",
    "        augmenters = iaa.OneOf([\n",
    "            iaa.Affine(scale=(1.0, 1.4)),\n",
    "            iaa.Affine(rotate=(-35, 35), mode=\"edge\"),\n",
    "            iaa.Affine(scale=(1.0, 1.2), rotate=(-22.5, 22.5), mode=\"edge\"),\n",
    "            iaa.LinearContrast((0.8, 1.3)),\n",
    "            iaa.Sequential([iaa.Affine(scale=(1.0, 1.2)), iaa.LinearContrast((0.8, 1.3))]),\n",
    "            iaa.Sequential([iaa.Affine(rotate=(-22.5, 22.5), mode=\"edge\"), iaa.LinearContrast((0.7, 1.2))]),\n",
    "            iaa.Fliplr(1),\n",
    "            iaa.Sequential([iaa.Fliplr(1), iaa.Affine(rotate=(-35, 35), mode=\"edge\")]),\n",
    "            iaa.Sequential([iaa.Fliplr(1), iaa.Affine(scale=(1.0, 1.2))]),\n",
    "            iaa.Sequential([iaa.Fliplr(1), iaa.Affine(scale=(1.0, 1.2), rotate=(-22.5, 22.5), mode=\"edge\")]),\n",
    "            iaa.GaussianBlur(sigma=(0.0, 1.3)),\n",
    "            iaa.Cutout(nb_iterations=(1, 3), size=0.2)\n",
    "        ]) \n",
    "        img = augmenters.augment_image(img)\n",
    "        img = tf.clip_by_value(img, 0, 1)\n",
    "        return img, label\n",
    "    output = tf.py_function(augment_inner, [img, label], [tf.float32, tf.bool])\n",
    "    output[0].set_shape(img.get_shape())\n",
    "    output[1].set_shape(label.get_shape())\n",
    "    return output"
   ]
  },
  {
   "cell_type": "code",
   "execution_count": 13,
   "metadata": {},
   "outputs": [],
   "source": [
    "processed_train_ds = train_img_ds \\\n",
    "                        .cache(str(CACHE_DIR / \"train.tfcache\")) \\\n",
    "                        .map(augment, num_parallel_calls = tf.data.experimental.AUTOTUNE) \\\n",
    "                        .shuffle(BATCH_SIZE * 20, seed = SEED) \\\n",
    "                        .repeat() \\\n",
    "                        .batch(BATCH_SIZE) \\\n",
    "                        .prefetch(tf.data.experimental.AUTOTUNE)"
   ]
  },
  {
   "cell_type": "code",
   "execution_count": 14,
   "metadata": {},
   "outputs": [],
   "source": [
    "processed_val_ds = val_img_ds \\\n",
    "                        .batch(BATCH_SIZE) \\\n",
    "                        .prefetch(tf.data.experimental.AUTOTUNE)"
   ]
  },
  {
   "cell_type": "markdown",
   "metadata": {},
   "source": [
    "## Training Model"
   ]
  },
  {
   "cell_type": "code",
   "execution_count": 15,
   "metadata": {},
   "outputs": [],
   "source": [
    "if not LOAD_MODEL_PATH:\n",
    "    model = tf.keras.models.Sequential()\n",
    "    model.add(tf.keras.layers.Conv2D(64, kernel_size = (7, 7), input_shape = (IMG_HEIGHT, IMG_WIDTH, 3)))\n",
    "    model.add(tf.keras.layers.Activation(\"relu\"))\n",
    "    model.add(tf.keras.layers.MaxPool2D(pool_size = (2, 2)))\n",
    "    \n",
    "    model.add(tf.keras.layers.Conv2D(128, kernel_size = (5, 5)))\n",
    "    model.add(tf.keras.layers.Activation(\"relu\"))\n",
    "    model.add(tf.keras.layers.BatchNormalization())\n",
    "    model.add(tf.keras.layers.MaxPool2D(pool_size = (2, 2)))\n",
    "    \n",
    "    model.add(tf.keras.layers.Conv2D(128, kernel_size = (3, 3)))\n",
    "    model.add(tf.keras.layers.Activation(\"relu\"))\n",
    "    model.add(tf.keras.layers.MaxPool2D(pool_size = (2, 2)))\n",
    "    \n",
    "    model.add(tf.keras.layers.Conv2D(256, kernel_size = (3, 3)))\n",
    "    model.add(tf.keras.layers.Activation(\"relu\"))\n",
    "    model.add(tf.keras.layers.BatchNormalization())\n",
    "    model.add(tf.keras.layers.MaxPool2D(pool_size = (2, 2)))\n",
    "    \n",
    "    model.add(tf.keras.layers.Flatten())\n",
    "    model.add(tf.keras.layers.Dense(2048))\n",
    "    model.add(tf.keras.layers.Activation(\"relu\"))\n",
    "    \n",
    "    model.add(tf.keras.layers.Dense(512))\n",
    "    model.add(tf.keras.layers.Activation(\"relu\"))\n",
    "    \n",
    "    model.add(tf.keras.layers.Dropout(0.2))\n",
    "    model.add(tf.keras.layers.Dense(len(classes), activation = \"softmax\"))\n",
    "\n",
    "    model.compile(\n",
    "        optimizer = tf.keras.optimizers.Adam(),\n",
    "        loss = tf.keras.losses.CategoricalCrossentropy(label_smoothing = 0.15),\n",
    "        metrics = [\"accuracy\"]\n",
    "    )\n",
    "else:\n",
    "    model = tf.keras.models.load_model(str(LOAD_MODEL_PATH))"
   ]
  },
  {
   "cell_type": "code",
   "execution_count": 16,
   "metadata": {
    "scrolled": false
   },
   "outputs": [
    {
     "name": "stdout",
     "output_type": "stream",
     "text": [
      "Model: \"sequential\"\n",
      "_________________________________________________________________\n",
      "Layer (type)                 Output Shape              Param #   \n",
      "=================================================================\n",
      "conv2d (Conv2D)              (None, 144, 144, 64)      9472      \n",
      "_________________________________________________________________\n",
      "activation (Activation)      (None, 144, 144, 64)      0         \n",
      "_________________________________________________________________\n",
      "max_pooling2d (MaxPooling2D) (None, 72, 72, 64)        0         \n",
      "_________________________________________________________________\n",
      "conv2d_1 (Conv2D)            (None, 68, 68, 128)       204928    \n",
      "_________________________________________________________________\n",
      "activation_1 (Activation)    (None, 68, 68, 128)       0         \n",
      "_________________________________________________________________\n",
      "batch_normalization (BatchNo (None, 68, 68, 128)       512       \n",
      "_________________________________________________________________\n",
      "max_pooling2d_1 (MaxPooling2 (None, 34, 34, 128)       0         \n",
      "_________________________________________________________________\n",
      "conv2d_2 (Conv2D)            (None, 32, 32, 128)       147584    \n",
      "_________________________________________________________________\n",
      "activation_2 (Activation)    (None, 32, 32, 128)       0         \n",
      "_________________________________________________________________\n",
      "max_pooling2d_2 (MaxPooling2 (None, 16, 16, 128)       0         \n",
      "_________________________________________________________________\n",
      "conv2d_3 (Conv2D)            (None, 14, 14, 256)       295168    \n",
      "_________________________________________________________________\n",
      "activation_3 (Activation)    (None, 14, 14, 256)       0         \n",
      "_________________________________________________________________\n",
      "batch_normalization_1 (Batch (None, 14, 14, 256)       1024      \n",
      "_________________________________________________________________\n",
      "max_pooling2d_3 (MaxPooling2 (None, 7, 7, 256)         0         \n",
      "_________________________________________________________________\n",
      "flatten (Flatten)            (None, 12544)             0         \n",
      "_________________________________________________________________\n",
      "dense (Dense)                (None, 2048)              25692160  \n",
      "_________________________________________________________________\n",
      "activation_4 (Activation)    (None, 2048)              0         \n",
      "_________________________________________________________________\n",
      "dense_1 (Dense)              (None, 512)               1049088   \n",
      "_________________________________________________________________\n",
      "activation_5 (Activation)    (None, 512)               0         \n",
      "_________________________________________________________________\n",
      "dropout (Dropout)            (None, 512)               0         \n",
      "_________________________________________________________________\n",
      "dense_2 (Dense)              (None, 42)                21546     \n",
      "=================================================================\n",
      "Total params: 27,421,482\n",
      "Trainable params: 27,420,714\n",
      "Non-trainable params: 768\n",
      "_________________________________________________________________\n"
     ]
    }
   ],
   "source": [
    "model.summary()"
   ]
  },
  {
   "cell_type": "code",
   "execution_count": 17,
   "metadata": {
    "scrolled": true
   },
   "outputs": [
    {
     "name": "stdout",
     "output_type": "stream",
     "text": [
      "models\\cnn.{epoch:03d}-{val_accuracy:.4f}.h5\n",
      "log\\cnn.csv\n"
     ]
    }
   ],
   "source": [
    "checkpoint_path = MODEL_DIR / (MODEL_ID + \".{epoch:03d}-{val_accuracy:.4f}.h5\")\n",
    "log_path = (LOG_DIR / MODEL_ID).with_suffix(\".csv\")\n",
    "\n",
    "print(checkpoint_path)\n",
    "print(log_path)"
   ]
  },
  {
   "cell_type": "code",
   "execution_count": 18,
   "metadata": {
    "scrolled": false,
    "tags": []
   },
   "outputs": [
    {
     "name": "stdout",
     "output_type": "stream",
     "text": [
      "Epoch 1/100\n",
      "1197/1197 [==============================] - 466s 389ms/step - loss: 3.6601 - accuracy: 0.0706 - val_loss: 3.5531 - val_accuracy: 0.0898\n",
      "Epoch 2/100\n",
      "1197/1197 [==============================] - 397s 331ms/step - loss: 3.3619 - accuracy: 0.1498 - val_loss: 3.1906 - val_accuracy: 0.2179\n",
      "Epoch 3/100\n",
      "1197/1197 [==============================] - 396s 331ms/step - loss: 3.1078 - accuracy: 0.2506 - val_loss: 2.9633 - val_accuracy: 0.2952\n",
      "Epoch 4/100\n",
      "1197/1197 [==============================] - 396s 331ms/step - loss: 2.9230 - accuracy: 0.3175 - val_loss: 2.9168 - val_accuracy: 0.3184\n",
      "Epoch 5/100\n",
      "1197/1197 [==============================] - 397s 332ms/step - loss: 2.7948 - accuracy: 0.3634 - val_loss: 2.7279 - val_accuracy: 0.3854\n",
      "Epoch 6/100\n",
      "1197/1197 [==============================] - 396s 330ms/step - loss: 2.6854 - accuracy: 0.4038 - val_loss: 2.8436 - val_accuracy: 0.3487\n",
      "Epoch 7/100\n",
      "1197/1197 [==============================] - 398s 332ms/step - loss: 2.5913 - accuracy: 0.4381 - val_loss: 2.6040 - val_accuracy: 0.4342\n",
      "Epoch 8/100\n",
      "1197/1197 [==============================] - 396s 331ms/step - loss: 2.5017 - accuracy: 0.4702 - val_loss: 2.5931 - val_accuracy: 0.4371\n",
      "Epoch 9/100\n",
      "1197/1197 [==============================] - 376s 314ms/step - loss: 2.4263 - accuracy: 0.4955 - val_loss: 3.4508 - val_accuracy: 0.3697\n",
      "Epoch 10/100\n",
      "1197/1197 [==============================] - 366s 306ms/step - loss: 2.3480 - accuracy: 0.5260 - val_loss: 2.4853 - val_accuracy: 0.4797\n",
      "Epoch 11/100\n",
      "1197/1197 [==============================] - 367s 306ms/step - loss: 2.2757 - accuracy: 0.5532 - val_loss: 2.4765 - val_accuracy: 0.4834\n",
      "Epoch 12/100\n",
      "1197/1197 [==============================] - 365s 305ms/step - loss: 2.2086 - accuracy: 0.5784 - val_loss: 2.4826 - val_accuracy: 0.4817\n",
      "Epoch 13/100\n",
      "1197/1197 [==============================] - 367s 306ms/step - loss: 2.1483 - accuracy: 0.6011 - val_loss: 2.4772 - val_accuracy: 0.4915\n",
      "Epoch 14/100\n",
      "1197/1197 [==============================] - 367s 307ms/step - loss: 2.0840 - accuracy: 0.6267 - val_loss: 2.4636 - val_accuracy: 0.4954\n",
      "Epoch 15/100\n",
      "1197/1197 [==============================] - 367s 306ms/step - loss: 2.0292 - accuracy: 0.6470 - val_loss: 2.4687 - val_accuracy: 0.4978\n",
      "Epoch 16/100\n",
      "1197/1197 [==============================] - 368s 307ms/step - loss: 1.9756 - accuracy: 0.6679 - val_loss: 2.4592 - val_accuracy: 0.5036\n",
      "Epoch 17/100\n",
      "1197/1197 [==============================] - 367s 307ms/step - loss: 1.9282 - accuracy: 0.6865 - val_loss: 2.4576 - val_accuracy: 0.5038\n",
      "Epoch 18/100\n",
      "1197/1197 [==============================] - 368s 307ms/step - loss: 1.8879 - accuracy: 0.7041 - val_loss: 2.4639 - val_accuracy: 0.5049\n",
      "Epoch 19/100\n",
      "1197/1197 [==============================] - 367s 306ms/step - loss: 1.8431 - accuracy: 0.7213 - val_loss: 2.4598 - val_accuracy: 0.5055\n",
      "Epoch 20/100\n",
      "1197/1197 [==============================] - 367s 307ms/step - loss: 1.8078 - accuracy: 0.7342 - val_loss: 2.4523 - val_accuracy: 0.5102\n",
      "Epoch 21/100\n",
      "1197/1197 [==============================] - 366s 305ms/step - loss: 1.7730 - accuracy: 0.7516 - val_loss: 2.4790 - val_accuracy: 0.5061\n",
      "Epoch 22/100\n",
      "1197/1197 [==============================] - 366s 306ms/step - loss: 1.7407 - accuracy: 0.7628 - val_loss: 2.5032 - val_accuracy: 0.5035\n",
      "Epoch 23/100\n",
      "1197/1197 [==============================] - 367s 307ms/step - loss: 1.7146 - accuracy: 0.7739 - val_loss: 2.4831 - val_accuracy: 0.5018\n",
      "Epoch 24/100\n",
      "1197/1197 [==============================] - 367s 307ms/step - loss: 1.6764 - accuracy: 0.7883 - val_loss: 2.4342 - val_accuracy: 0.5183\n",
      "Epoch 25/100\n",
      "1197/1197 [==============================] - 366s 306ms/step - loss: 1.6554 - accuracy: 0.7957 - val_loss: 2.4823 - val_accuracy: 0.5115\n",
      "Epoch 26/100\n",
      "1197/1197 [==============================] - 366s 305ms/step - loss: 1.6405 - accuracy: 0.8036 - val_loss: 2.4804 - val_accuracy: 0.5042\n",
      "Epoch 27/100\n",
      "1197/1197 [==============================] - 365s 305ms/step - loss: 1.6180 - accuracy: 0.8120 - val_loss: 2.4439 - val_accuracy: 0.5145\n",
      "Epoch 28/100\n",
      " 906/1197 [=====================>........] - ETA: 1:02 - loss: 1.5967 - accuracy: 0.8202"
     ]
    },
    {
     "ename": "KeyboardInterrupt",
     "evalue": "",
     "output_type": "error",
     "traceback": [
      "\u001b[1;31m---------------------------------------------------------------------------\u001b[0m",
      "\u001b[1;31mKeyboardInterrupt\u001b[0m                         Traceback (most recent call last)",
      "\u001b[1;32m<ipython-input-18-99525e283015>\u001b[0m in \u001b[0;36m<module>\u001b[1;34m\u001b[0m\n\u001b[0;32m     19\u001b[0m             \u001b[0mmonitor\u001b[0m \u001b[1;33m=\u001b[0m \u001b[1;34m\"val_accuracy\"\u001b[0m\u001b[1;33m,\u001b[0m\u001b[1;33m\u001b[0m\u001b[1;33m\u001b[0m\u001b[0m\n\u001b[0;32m     20\u001b[0m             \u001b[0mmode\u001b[0m \u001b[1;33m=\u001b[0m \u001b[1;34m\"max\"\u001b[0m\u001b[1;33m,\u001b[0m\u001b[1;33m\u001b[0m\u001b[1;33m\u001b[0m\u001b[0m\n\u001b[1;32m---> 21\u001b[1;33m             \u001b[0msave_best_only\u001b[0m \u001b[1;33m=\u001b[0m \u001b[1;32mTrue\u001b[0m\u001b[1;33m\u001b[0m\u001b[1;33m\u001b[0m\u001b[0m\n\u001b[0m\u001b[0;32m     22\u001b[0m         )\n\u001b[0;32m     23\u001b[0m     ]\n",
      "\u001b[1;32m~\\anaconda3\\lib\\site-packages\\tensorflow\\python\\keras\\engine\\training.py\u001b[0m in \u001b[0;36m_method_wrapper\u001b[1;34m(self, *args, **kwargs)\u001b[0m\n\u001b[0;32m     64\u001b[0m   \u001b[1;32mdef\u001b[0m \u001b[0m_method_wrapper\u001b[0m\u001b[1;33m(\u001b[0m\u001b[0mself\u001b[0m\u001b[1;33m,\u001b[0m \u001b[1;33m*\u001b[0m\u001b[0margs\u001b[0m\u001b[1;33m,\u001b[0m \u001b[1;33m**\u001b[0m\u001b[0mkwargs\u001b[0m\u001b[1;33m)\u001b[0m\u001b[1;33m:\u001b[0m\u001b[1;33m\u001b[0m\u001b[1;33m\u001b[0m\u001b[0m\n\u001b[0;32m     65\u001b[0m     \u001b[1;32mif\u001b[0m \u001b[1;32mnot\u001b[0m \u001b[0mself\u001b[0m\u001b[1;33m.\u001b[0m\u001b[0m_in_multi_worker_mode\u001b[0m\u001b[1;33m(\u001b[0m\u001b[1;33m)\u001b[0m\u001b[1;33m:\u001b[0m  \u001b[1;31m# pylint: disable=protected-access\u001b[0m\u001b[1;33m\u001b[0m\u001b[1;33m\u001b[0m\u001b[0m\n\u001b[1;32m---> 66\u001b[1;33m       \u001b[1;32mreturn\u001b[0m \u001b[0mmethod\u001b[0m\u001b[1;33m(\u001b[0m\u001b[0mself\u001b[0m\u001b[1;33m,\u001b[0m \u001b[1;33m*\u001b[0m\u001b[0margs\u001b[0m\u001b[1;33m,\u001b[0m \u001b[1;33m**\u001b[0m\u001b[0mkwargs\u001b[0m\u001b[1;33m)\u001b[0m\u001b[1;33m\u001b[0m\u001b[1;33m\u001b[0m\u001b[0m\n\u001b[0m\u001b[0;32m     67\u001b[0m \u001b[1;33m\u001b[0m\u001b[0m\n\u001b[0;32m     68\u001b[0m     \u001b[1;31m# Running inside `run_distribute_coordinator` already.\u001b[0m\u001b[1;33m\u001b[0m\u001b[1;33m\u001b[0m\u001b[1;33m\u001b[0m\u001b[0m\n",
      "\u001b[1;32m~\\anaconda3\\lib\\site-packages\\tensorflow\\python\\keras\\engine\\training.py\u001b[0m in \u001b[0;36mfit\u001b[1;34m(self, x, y, batch_size, epochs, verbose, callbacks, validation_split, validation_data, shuffle, class_weight, sample_weight, initial_epoch, steps_per_epoch, validation_steps, validation_batch_size, validation_freq, max_queue_size, workers, use_multiprocessing)\u001b[0m\n\u001b[0;32m    846\u001b[0m                 batch_size=batch_size):\n\u001b[0;32m    847\u001b[0m               \u001b[0mcallbacks\u001b[0m\u001b[1;33m.\u001b[0m\u001b[0mon_train_batch_begin\u001b[0m\u001b[1;33m(\u001b[0m\u001b[0mstep\u001b[0m\u001b[1;33m)\u001b[0m\u001b[1;33m\u001b[0m\u001b[1;33m\u001b[0m\u001b[0m\n\u001b[1;32m--> 848\u001b[1;33m               \u001b[0mtmp_logs\u001b[0m \u001b[1;33m=\u001b[0m \u001b[0mtrain_function\u001b[0m\u001b[1;33m(\u001b[0m\u001b[0miterator\u001b[0m\u001b[1;33m)\u001b[0m\u001b[1;33m\u001b[0m\u001b[1;33m\u001b[0m\u001b[0m\n\u001b[0m\u001b[0;32m    849\u001b[0m               \u001b[1;31m# Catch OutOfRangeError for Datasets of unknown size.\u001b[0m\u001b[1;33m\u001b[0m\u001b[1;33m\u001b[0m\u001b[1;33m\u001b[0m\u001b[0m\n\u001b[0;32m    850\u001b[0m               \u001b[1;31m# This blocks until the batch has finished executing.\u001b[0m\u001b[1;33m\u001b[0m\u001b[1;33m\u001b[0m\u001b[1;33m\u001b[0m\u001b[0m\n",
      "\u001b[1;32m~\\anaconda3\\lib\\site-packages\\tensorflow\\python\\eager\\def_function.py\u001b[0m in \u001b[0;36m__call__\u001b[1;34m(self, *args, **kwds)\u001b[0m\n\u001b[0;32m    578\u001b[0m         \u001b[0mxla_context\u001b[0m\u001b[1;33m.\u001b[0m\u001b[0mExit\u001b[0m\u001b[1;33m(\u001b[0m\u001b[1;33m)\u001b[0m\u001b[1;33m\u001b[0m\u001b[1;33m\u001b[0m\u001b[0m\n\u001b[0;32m    579\u001b[0m     \u001b[1;32melse\u001b[0m\u001b[1;33m:\u001b[0m\u001b[1;33m\u001b[0m\u001b[1;33m\u001b[0m\u001b[0m\n\u001b[1;32m--> 580\u001b[1;33m       \u001b[0mresult\u001b[0m \u001b[1;33m=\u001b[0m \u001b[0mself\u001b[0m\u001b[1;33m.\u001b[0m\u001b[0m_call\u001b[0m\u001b[1;33m(\u001b[0m\u001b[1;33m*\u001b[0m\u001b[0margs\u001b[0m\u001b[1;33m,\u001b[0m \u001b[1;33m**\u001b[0m\u001b[0mkwds\u001b[0m\u001b[1;33m)\u001b[0m\u001b[1;33m\u001b[0m\u001b[1;33m\u001b[0m\u001b[0m\n\u001b[0m\u001b[0;32m    581\u001b[0m \u001b[1;33m\u001b[0m\u001b[0m\n\u001b[0;32m    582\u001b[0m     \u001b[1;32mif\u001b[0m \u001b[0mtracing_count\u001b[0m \u001b[1;33m==\u001b[0m \u001b[0mself\u001b[0m\u001b[1;33m.\u001b[0m\u001b[0m_get_tracing_count\u001b[0m\u001b[1;33m(\u001b[0m\u001b[1;33m)\u001b[0m\u001b[1;33m:\u001b[0m\u001b[1;33m\u001b[0m\u001b[1;33m\u001b[0m\u001b[0m\n",
      "\u001b[1;32m~\\anaconda3\\lib\\site-packages\\tensorflow\\python\\eager\\def_function.py\u001b[0m in \u001b[0;36m_call\u001b[1;34m(self, *args, **kwds)\u001b[0m\n\u001b[0;32m    609\u001b[0m       \u001b[1;31m# In this case we have created variables on the first call, so we run the\u001b[0m\u001b[1;33m\u001b[0m\u001b[1;33m\u001b[0m\u001b[1;33m\u001b[0m\u001b[0m\n\u001b[0;32m    610\u001b[0m       \u001b[1;31m# defunned version which is guaranteed to never create variables.\u001b[0m\u001b[1;33m\u001b[0m\u001b[1;33m\u001b[0m\u001b[1;33m\u001b[0m\u001b[0m\n\u001b[1;32m--> 611\u001b[1;33m       \u001b[1;32mreturn\u001b[0m \u001b[0mself\u001b[0m\u001b[1;33m.\u001b[0m\u001b[0m_stateless_fn\u001b[0m\u001b[1;33m(\u001b[0m\u001b[1;33m*\u001b[0m\u001b[0margs\u001b[0m\u001b[1;33m,\u001b[0m \u001b[1;33m**\u001b[0m\u001b[0mkwds\u001b[0m\u001b[1;33m)\u001b[0m  \u001b[1;31m# pylint: disable=not-callable\u001b[0m\u001b[1;33m\u001b[0m\u001b[1;33m\u001b[0m\u001b[0m\n\u001b[0m\u001b[0;32m    612\u001b[0m     \u001b[1;32melif\u001b[0m \u001b[0mself\u001b[0m\u001b[1;33m.\u001b[0m\u001b[0m_stateful_fn\u001b[0m \u001b[1;32mis\u001b[0m \u001b[1;32mnot\u001b[0m \u001b[1;32mNone\u001b[0m\u001b[1;33m:\u001b[0m\u001b[1;33m\u001b[0m\u001b[1;33m\u001b[0m\u001b[0m\n\u001b[0;32m    613\u001b[0m       \u001b[1;31m# Release the lock early so that multiple threads can perform the call\u001b[0m\u001b[1;33m\u001b[0m\u001b[1;33m\u001b[0m\u001b[1;33m\u001b[0m\u001b[0m\n",
      "\u001b[1;32m~\\anaconda3\\lib\\site-packages\\tensorflow\\python\\eager\\function.py\u001b[0m in \u001b[0;36m__call__\u001b[1;34m(self, *args, **kwargs)\u001b[0m\n\u001b[0;32m   2418\u001b[0m     \u001b[1;32mwith\u001b[0m \u001b[0mself\u001b[0m\u001b[1;33m.\u001b[0m\u001b[0m_lock\u001b[0m\u001b[1;33m:\u001b[0m\u001b[1;33m\u001b[0m\u001b[1;33m\u001b[0m\u001b[0m\n\u001b[0;32m   2419\u001b[0m       \u001b[0mgraph_function\u001b[0m\u001b[1;33m,\u001b[0m \u001b[0margs\u001b[0m\u001b[1;33m,\u001b[0m \u001b[0mkwargs\u001b[0m \u001b[1;33m=\u001b[0m \u001b[0mself\u001b[0m\u001b[1;33m.\u001b[0m\u001b[0m_maybe_define_function\u001b[0m\u001b[1;33m(\u001b[0m\u001b[0margs\u001b[0m\u001b[1;33m,\u001b[0m \u001b[0mkwargs\u001b[0m\u001b[1;33m)\u001b[0m\u001b[1;33m\u001b[0m\u001b[1;33m\u001b[0m\u001b[0m\n\u001b[1;32m-> 2420\u001b[1;33m     \u001b[1;32mreturn\u001b[0m \u001b[0mgraph_function\u001b[0m\u001b[1;33m.\u001b[0m\u001b[0m_filtered_call\u001b[0m\u001b[1;33m(\u001b[0m\u001b[0margs\u001b[0m\u001b[1;33m,\u001b[0m \u001b[0mkwargs\u001b[0m\u001b[1;33m)\u001b[0m  \u001b[1;31m# pylint: disable=protected-access\u001b[0m\u001b[1;33m\u001b[0m\u001b[1;33m\u001b[0m\u001b[0m\n\u001b[0m\u001b[0;32m   2421\u001b[0m \u001b[1;33m\u001b[0m\u001b[0m\n\u001b[0;32m   2422\u001b[0m   \u001b[1;33m@\u001b[0m\u001b[0mproperty\u001b[0m\u001b[1;33m\u001b[0m\u001b[1;33m\u001b[0m\u001b[0m\n",
      "\u001b[1;32m~\\anaconda3\\lib\\site-packages\\tensorflow\\python\\eager\\function.py\u001b[0m in \u001b[0;36m_filtered_call\u001b[1;34m(self, args, kwargs)\u001b[0m\n\u001b[0;32m   1663\u001b[0m          if isinstance(t, (ops.Tensor,\n\u001b[0;32m   1664\u001b[0m                            resource_variable_ops.BaseResourceVariable))),\n\u001b[1;32m-> 1665\u001b[1;33m         self.captured_inputs)\n\u001b[0m\u001b[0;32m   1666\u001b[0m \u001b[1;33m\u001b[0m\u001b[0m\n\u001b[0;32m   1667\u001b[0m   \u001b[1;32mdef\u001b[0m \u001b[0m_call_flat\u001b[0m\u001b[1;33m(\u001b[0m\u001b[0mself\u001b[0m\u001b[1;33m,\u001b[0m \u001b[0margs\u001b[0m\u001b[1;33m,\u001b[0m \u001b[0mcaptured_inputs\u001b[0m\u001b[1;33m,\u001b[0m \u001b[0mcancellation_manager\u001b[0m\u001b[1;33m=\u001b[0m\u001b[1;32mNone\u001b[0m\u001b[1;33m)\u001b[0m\u001b[1;33m:\u001b[0m\u001b[1;33m\u001b[0m\u001b[1;33m\u001b[0m\u001b[0m\n",
      "\u001b[1;32m~\\anaconda3\\lib\\site-packages\\tensorflow\\python\\eager\\function.py\u001b[0m in \u001b[0;36m_call_flat\u001b[1;34m(self, args, captured_inputs, cancellation_manager)\u001b[0m\n\u001b[0;32m   1744\u001b[0m       \u001b[1;31m# No tape is watching; skip to running the function.\u001b[0m\u001b[1;33m\u001b[0m\u001b[1;33m\u001b[0m\u001b[1;33m\u001b[0m\u001b[0m\n\u001b[0;32m   1745\u001b[0m       return self._build_call_outputs(self._inference_function.call(\n\u001b[1;32m-> 1746\u001b[1;33m           ctx, args, cancellation_manager=cancellation_manager))\n\u001b[0m\u001b[0;32m   1747\u001b[0m     forward_backward = self._select_forward_and_backward_functions(\n\u001b[0;32m   1748\u001b[0m         \u001b[0margs\u001b[0m\u001b[1;33m,\u001b[0m\u001b[1;33m\u001b[0m\u001b[1;33m\u001b[0m\u001b[0m\n",
      "\u001b[1;32m~\\anaconda3\\lib\\site-packages\\tensorflow\\python\\eager\\function.py\u001b[0m in \u001b[0;36mcall\u001b[1;34m(self, ctx, args, cancellation_manager)\u001b[0m\n\u001b[0;32m    596\u001b[0m               \u001b[0minputs\u001b[0m\u001b[1;33m=\u001b[0m\u001b[0margs\u001b[0m\u001b[1;33m,\u001b[0m\u001b[1;33m\u001b[0m\u001b[1;33m\u001b[0m\u001b[0m\n\u001b[0;32m    597\u001b[0m               \u001b[0mattrs\u001b[0m\u001b[1;33m=\u001b[0m\u001b[0mattrs\u001b[0m\u001b[1;33m,\u001b[0m\u001b[1;33m\u001b[0m\u001b[1;33m\u001b[0m\u001b[0m\n\u001b[1;32m--> 598\u001b[1;33m               ctx=ctx)\n\u001b[0m\u001b[0;32m    599\u001b[0m         \u001b[1;32melse\u001b[0m\u001b[1;33m:\u001b[0m\u001b[1;33m\u001b[0m\u001b[1;33m\u001b[0m\u001b[0m\n\u001b[0;32m    600\u001b[0m           outputs = execute.execute_with_cancellation(\n",
      "\u001b[1;32m~\\anaconda3\\lib\\site-packages\\tensorflow\\python\\eager\\execute.py\u001b[0m in \u001b[0;36mquick_execute\u001b[1;34m(op_name, num_outputs, inputs, attrs, ctx, name)\u001b[0m\n\u001b[0;32m     58\u001b[0m     \u001b[0mctx\u001b[0m\u001b[1;33m.\u001b[0m\u001b[0mensure_initialized\u001b[0m\u001b[1;33m(\u001b[0m\u001b[1;33m)\u001b[0m\u001b[1;33m\u001b[0m\u001b[1;33m\u001b[0m\u001b[0m\n\u001b[0;32m     59\u001b[0m     tensors = pywrap_tfe.TFE_Py_Execute(ctx._handle, device_name, op_name,\n\u001b[1;32m---> 60\u001b[1;33m                                         inputs, attrs, num_outputs)\n\u001b[0m\u001b[0;32m     61\u001b[0m   \u001b[1;32mexcept\u001b[0m \u001b[0mcore\u001b[0m\u001b[1;33m.\u001b[0m\u001b[0m_NotOkStatusException\u001b[0m \u001b[1;32mas\u001b[0m \u001b[0me\u001b[0m\u001b[1;33m:\u001b[0m\u001b[1;33m\u001b[0m\u001b[1;33m\u001b[0m\u001b[0m\n\u001b[0;32m     62\u001b[0m     \u001b[1;32mif\u001b[0m \u001b[0mname\u001b[0m \u001b[1;32mis\u001b[0m \u001b[1;32mnot\u001b[0m \u001b[1;32mNone\u001b[0m\u001b[1;33m:\u001b[0m\u001b[1;33m\u001b[0m\u001b[1;33m\u001b[0m\u001b[0m\n",
      "\u001b[1;31mKeyboardInterrupt\u001b[0m: "
     ]
    }
   ],
   "source": [
    "history = model.fit(\n",
    "    processed_train_ds,\n",
    "    epochs = NUM_EPOCHS,\n",
    "    initial_epoch = INITIAL_EPOCH,\n",
    "    steps_per_epoch = len(train_filepaths) // BATCH_SIZE,\n",
    "    validation_data = processed_val_ds,\n",
    "    validation_steps = len(val_filepaths) // BATCH_SIZE,\n",
    "    callbacks = [\n",
    "        tf.keras.callbacks.EarlyStopping(\n",
    "            patience = 10,\n",
    "            restore_best_weights = True,\n",
    "            verbose = 1,\n",
    "            monitor = \"val_accuracy\",\n",
    "            mode = \"max\"\n",
    "        ),\n",
    "        tf.keras.callbacks.CSVLogger(str(log_path), append = True),\n",
    "        tf.keras.callbacks.ModelCheckpoint(\n",
    "            str(checkpoint_path),\n",
    "            monitor = \"val_accuracy\",\n",
    "            mode = \"max\",\n",
    "            save_best_only = True\n",
    "        )\n",
    "    ]\n",
    ")"
   ]
  },
  {
   "cell_type": "code",
   "execution_count": null,
   "metadata": {},
   "outputs": [],
   "source": [
    "acc = history.history[\"accuracy\"]\n",
    "loss = history.history[\"loss\"]\n",
    "validation_acc = history.history[\"val_accuracy\"]\n",
    "validation_loss = history.history[\"val_loss\"]\n",
    "\n",
    "epochs_range = range(len(history.history[\"accuracy\"]))\n",
    "\n",
    "plt.figure(figsize = (8, 8))\n",
    "plt.subplot(1, 2, 1)\n",
    "plt.plot(epochs_range, acc, label = \"Training Accuracy\")\n",
    "plt.plot(epochs_range, validation_acc, label = \"Validation Accuracy\")\n",
    "plt.legend(loc = \"lower right\")\n",
    "plt.title(\"Training and Validation Accuracy\")\n",
    "\n",
    "plt.subplot(1, 2, 2)\n",
    "plt.plot(epochs_range, loss, label = \"Training Loss\")\n",
    "plt.plot(epochs_range, validation_loss, label = \"Validation Loss\")\n",
    "plt.legend(loc = \"lower right\")\n",
    "plt.title(\"Training and Validation Loss\")\n",
    "plt.show()"
   ]
  },
  {
   "cell_type": "code",
   "execution_count": null,
   "metadata": {},
   "outputs": [],
   "source": [
    "# Remove cache directory if available\n",
    "if CACHE_DIR.exists():\n",
    "    shutil.rmtree(CACHE_DIR, ignore_errors = True)"
   ]
  },
  {
   "cell_type": "code",
   "execution_count": null,
   "metadata": {},
   "outputs": [],
   "source": []
  }
 ],
 "metadata": {
  "kernelspec": {
   "display_name": "Python 3",
   "language": "python",
   "name": "python3"
  },
  "language_info": {
   "codemirror_mode": {
    "name": "ipython",
    "version": 3
   },
   "file_extension": ".py",
   "mimetype": "text/x-python",
   "name": "python",
   "nbconvert_exporter": "python",
   "pygments_lexer": "ipython3",
   "version": "3.7.6"
  },
  "toc": {
   "base_numbering": 1,
   "nav_menu": {},
   "number_sections": false,
   "sideBar": true,
   "skip_h1_title": false,
   "title_cell": "Table of Contents",
   "title_sidebar": "Contents",
   "toc_cell": false,
   "toc_position": {
    "height": "calc(100% - 180px)",
    "left": "10px",
    "top": "150px",
    "width": "273px"
   },
   "toc_section_display": true,
   "toc_window_display": false
  }
 },
 "nbformat": 4,
 "nbformat_minor": 2
}
