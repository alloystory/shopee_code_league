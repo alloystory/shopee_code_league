{
 "cells": [
  {
   "cell_type": "markdown",
   "metadata": {},
   "source": [
    "# CNN Overfitting"
   ]
  },
  {
   "cell_type": "code",
   "execution_count": 1,
   "metadata": {
    "tags": []
   },
   "outputs": [],
   "source": [
    "import os\n",
    "import shutil\n",
    "import numpy as np\n",
    "import matplotlib.pyplot as plt\n",
    "import tensorflow as tf\n",
    "from pathlib import Path\n",
    "from sklearn.model_selection import train_test_split\n",
    "from sklearn.utils import class_weight\n",
    "from imgaug import augmenters as iaa"
   ]
  },
  {
   "cell_type": "code",
   "execution_count": 2,
   "metadata": {
    "code_folding": []
   },
   "outputs": [],
   "source": [
    "MODEL_ID = \"cnn_of\"\n",
    "\n",
    "TRAIN_DIR = Path(\"../../data/train_clean\")\n",
    "MODEL_DIR = Path(\"./models\")\n",
    "LOG_DIR = Path(\"./log\")\n",
    "CACHE_DIR = Path(\"./tmp/cache\")\n",
    "\n",
    "BATCH_SIZE = 64\n",
    "VAL_SPLIT = 0.25\n",
    "IMG_HEIGHT = IMG_WIDTH = 200\n",
    "GPU_MEMORY_LIMIT = None\n",
    "SEED = 1\n",
    "\n",
    "NUM_EPOCHS = 100\n",
    "INITIAL_EPOCH = 0\n",
    "LOAD_MODEL_PATH = None"
   ]
  },
  {
   "cell_type": "code",
   "execution_count": 3,
   "metadata": {},
   "outputs": [],
   "source": [
    "# Remove cache directory if available\n",
    "if CACHE_DIR.exists():\n",
    "    shutil.rmtree(CACHE_DIR, ignore_errors = True)\n",
    "\n",
    "MODEL_DIR.mkdir(parents = True, exist_ok = True)\n",
    "LOG_DIR.mkdir(parents = True, exist_ok = True)\n",
    "CACHE_DIR.mkdir(parents = True, exist_ok = True)"
   ]
  },
  {
   "cell_type": "code",
   "execution_count": 4,
   "metadata": {},
   "outputs": [],
   "source": [
    "# Set global seed for reproducible results\n",
    "tf.random.set_seed(SEED)"
   ]
  },
  {
   "cell_type": "code",
   "execution_count": 5,
   "metadata": {},
   "outputs": [],
   "source": [
    "# Limit GPU Memory Usage to GPU_MEMORY_LIMIT\n",
    "gpus = tf.config.experimental.list_physical_devices('GPU')\n",
    "if gpus and GPU_MEMORY_LIMIT:\n",
    "    try:\n",
    "        tf.config.experimental.set_virtual_device_configuration(\n",
    "            gpus[0],\n",
    "            [tf.config.experimental.VirtualDeviceConfiguration(memory_limit = GPU_MEMORY_LIMIT)])\n",
    "        logical_gpus = tf.config.experimental.list_logical_devices('GPU')\n",
    "        print(len(gpus), \"Physical GPUs,\", len(logical_gpus), \"Logical GPUs\")\n",
    "    except RuntimeError as e:\n",
    "        # Virtual devices must be set before GPUs have been initialized\n",
    "        print(e)"
   ]
  },
  {
   "cell_type": "markdown",
   "metadata": {},
   "source": [
    "## Loading Images"
   ]
  },
  {
   "cell_type": "code",
   "execution_count": 6,
   "metadata": {},
   "outputs": [
    {
     "name": "stdout",
     "output_type": "stream",
     "text": [
      "Train: Found 76660 images belonging to 42 classes\n",
      "Validation: Found 25554 images belonging to 42 classes\n"
     ]
    }
   ],
   "source": [
    "X_train, X_test = train_test_split(\n",
    "    list(TRAIN_DIR.glob(\"**/*.jpg\")),\n",
    "    test_size = VAL_SPLIT,\n",
    "    random_state = SEED\n",
    ")\n",
    "\n",
    "train_filepaths = []\n",
    "train_classes = []\n",
    "\n",
    "val_filepaths = []\n",
    "val_classes = []\n",
    "\n",
    "for filepath in X_train:\n",
    "    train_filepaths.append(str(filepath))\n",
    "    train_classes.append(filepath.parts[-2])\n",
    "print(\"Train: Found {} images belonging to {} classes\".format(len(train_filepaths), len(set(train_classes))))\n",
    "    \n",
    "for filepath in X_test:\n",
    "    val_filepaths.append(str(filepath))\n",
    "    val_classes.append(filepath.parts[-2])\n",
    "print(\"Validation: Found {} images belonging to {} classes\".format(len(val_filepaths), len(set(val_classes))))\n",
    "    \n",
    "train_filepaths = np.array(train_filepaths)\n",
    "val_filepaths = np.array(val_filepaths)\n",
    "\n",
    "classes = np.array(train_classes + val_classes)\n",
    "classes = np.unique(classes)\n",
    "classes = np.sort(classes)\n",
    "\n",
    "class_weights = class_weight.compute_class_weight(\"balanced\", np.unique(train_classes), train_classes)"
   ]
  },
  {
   "cell_type": "code",
   "execution_count": 7,
   "metadata": {
    "scrolled": false
   },
   "outputs": [
    {
     "name": "stdout",
     "output_type": "stream",
     "text": [
      "b'..\\\\..\\\\data\\\\train_clean\\\\15\\\\aea73be6a13ef3f176ea83af10d3a44f.jpg'\n",
      "b'..\\\\..\\\\data\\\\train_clean\\\\15\\\\0f266821a01473426ad2a4c1eea6559b.jpg'\n",
      "b'..\\\\..\\\\data\\\\train_clean\\\\22\\\\fda5669644e01774dee3589b6b3096ff.jpg'\n"
     ]
    }
   ],
   "source": [
    "train_fp_ds = tf.data.Dataset.from_tensor_slices(train_filepaths)\n",
    "for f in train_fp_ds.take(3):\n",
    "    print(f.numpy())"
   ]
  },
  {
   "cell_type": "code",
   "execution_count": 8,
   "metadata": {
    "scrolled": false
   },
   "outputs": [
    {
     "name": "stdout",
     "output_type": "stream",
     "text": [
      "b'..\\\\..\\\\data\\\\train_clean\\\\41\\\\6c56a80536904eb7e9d9d189e9a61e40.jpg'\n",
      "b'..\\\\..\\\\data\\\\train_clean\\\\28\\\\dc96785cf7bea661993b0149dfca0f68.jpg'\n",
      "b'..\\\\..\\\\data\\\\train_clean\\\\23\\\\6e4d7a14361d145621d7ab5424ad766a.jpg'\n"
     ]
    }
   ],
   "source": [
    "val_fp_ds = tf.data.Dataset.from_tensor_slices(val_filepaths)\n",
    "for f in val_fp_ds.take(3):\n",
    "    print(f.numpy())"
   ]
  },
  {
   "cell_type": "code",
   "execution_count": 9,
   "metadata": {},
   "outputs": [],
   "source": [
    "def load_img(file_path):\n",
    "    parts = tf.strings.split(file_path, os.path.sep)\n",
    "    label = parts[-2] == classes\n",
    "    \n",
    "    img = tf.io.read_file(file_path)\n",
    "    img = tf.image.decode_jpeg(img, channels = 3)\n",
    "    img = tf.image.convert_image_dtype(img, tf.float32)\n",
    "    img = tf.image.resize(img, [IMG_HEIGHT, IMG_WIDTH]) \n",
    "    \n",
    "    return img, label"
   ]
  },
  {
   "cell_type": "code",
   "execution_count": 10,
   "metadata": {},
   "outputs": [
    {
     "name": "stdout",
     "output_type": "stream",
     "text": [
      "Image shape:  (200, 200, 3)\n",
      "Label:  [False False False False False False False False False False False False\n",
      " False False False  True False False False False False False False False\n",
      " False False False False False False False False False False False False\n",
      " False False False False False False]\n"
     ]
    }
   ],
   "source": [
    "train_img_ds = train_fp_ds.map(load_img, num_parallel_calls = tf.data.experimental.AUTOTUNE)\n",
    "for image, label in train_img_ds.take(1):\n",
    "    print(\"Image shape: \", image.numpy().shape)\n",
    "    print(\"Label: \", label.numpy())"
   ]
  },
  {
   "cell_type": "code",
   "execution_count": 11,
   "metadata": {
    "scrolled": true
   },
   "outputs": [
    {
     "name": "stdout",
     "output_type": "stream",
     "text": [
      "Image shape:  (200, 200, 3)\n",
      "Label:  [False False False False False False False False False False False False\n",
      " False False False False False False False False False False False False\n",
      " False False False False False False False False False False False False\n",
      " False False False False False  True]\n"
     ]
    }
   ],
   "source": [
    "val_img_ds = val_fp_ds.map(load_img, num_parallel_calls = tf.data.experimental.AUTOTUNE)\n",
    "for image, label in val_img_ds.take(1):\n",
    "    print(\"Image shape: \", image.numpy().shape)\n",
    "    print(\"Label: \", label.numpy())"
   ]
  },
  {
   "cell_type": "markdown",
   "metadata": {},
   "source": [
    "## Image Preprocessing"
   ]
  },
  {
   "cell_type": "code",
   "execution_count": 12,
   "metadata": {},
   "outputs": [],
   "source": [
    "def augment(img, label):\n",
    "    def augment_inner(img, label):\n",
    "        img = img.numpy()\n",
    "        augmenters = iaa.OneOf([\n",
    "            iaa.Affine(scale=(1.0, 1.4)),\n",
    "            iaa.Affine(rotate=(-35, 35), mode=\"edge\"),\n",
    "            iaa.Affine(scale=(1.0, 1.2), rotate=(-22.5, 22.5), mode=\"edge\"),\n",
    "            iaa.LinearContrast((0.8, 1.3)),\n",
    "            iaa.Sequential([iaa.Affine(scale=(1.0, 1.2)), iaa.LinearContrast((0.8, 1.3))]),\n",
    "            iaa.Sequential([iaa.Affine(rotate=(-22.5, 22.5), mode=\"edge\"), iaa.LinearContrast((0.7, 1.2))]),\n",
    "            iaa.Fliplr(1),\n",
    "            iaa.Sequential([iaa.Fliplr(1), iaa.Affine(rotate=(-35, 35), mode=\"edge\")]),\n",
    "            iaa.Sequential([iaa.Fliplr(1), iaa.Affine(scale=(1.0, 1.2))]),\n",
    "            iaa.Sequential([iaa.Fliplr(1), iaa.Affine(scale=(1.0, 1.2), rotate=(-22.5, 22.5), mode=\"edge\")]),\n",
    "            iaa.GaussianBlur(sigma=(0.0, 1.3)),\n",
    "            iaa.Cutout(nb_iterations=(1, 3), size=0.2)\n",
    "        ]) \n",
    "        img = augmenters.augment_image(img)\n",
    "        img = tf.clip_by_value(img, 0, 1)\n",
    "        return img, label\n",
    "    output = tf.py_function(augment_inner, [img, label], [tf.float32, tf.bool])\n",
    "    output[0].set_shape(img.get_shape())\n",
    "    output[1].set_shape(label.get_shape())\n",
    "    return output"
   ]
  },
  {
   "cell_type": "code",
   "execution_count": 13,
   "metadata": {},
   "outputs": [],
   "source": [
    "processed_train_ds = train_img_ds \\\n",
    "                        .cache(str(CACHE_DIR / \"train.tfcache\")) \\\n",
    "                        .map(augment, num_parallel_calls = tf.data.experimental.AUTOTUNE) \\\n",
    "                        .shuffle(BATCH_SIZE * 20, seed = SEED) \\\n",
    "                        .repeat() \\\n",
    "                        .batch(BATCH_SIZE) \\\n",
    "                        .prefetch(tf.data.experimental.AUTOTUNE)"
   ]
  },
  {
   "cell_type": "code",
   "execution_count": 14,
   "metadata": {},
   "outputs": [],
   "source": [
    "processed_val_ds = val_img_ds \\\n",
    "                        .batch(BATCH_SIZE) \\\n",
    "                        .prefetch(tf.data.experimental.AUTOTUNE)"
   ]
  },
  {
   "cell_type": "markdown",
   "metadata": {},
   "source": [
    "## Training Model"
   ]
  },
  {
   "cell_type": "code",
   "execution_count": 15,
   "metadata": {},
   "outputs": [],
   "source": [
    "if not LOAD_MODEL_PATH:\n",
    "    model = tf.keras.models.Sequential()\n",
    "    model.add(tf.keras.layers.Conv2D(64, kernel_size = (7, 7), strides = (2, 2), input_shape = (IMG_HEIGHT, IMG_WIDTH, 3)))\n",
    "    model.add(tf.keras.layers.Activation(\"relu\"))\n",
    "    model.add(tf.keras.layers.BatchNormalization())\n",
    "    model.add(tf.keras.layers.MaxPool2D(pool_size = (2, 2)))\n",
    "    \n",
    "    model.add(tf.keras.layers.Conv2D(128, kernel_size = (5, 5)))\n",
    "    model.add(tf.keras.layers.Activation(\"relu\"))\n",
    "    model.add(tf.keras.layers.BatchNormalization())\n",
    "    model.add(tf.keras.layers.MaxPool2D(pool_size = (2, 2)))\n",
    "    \n",
    "    model.add(tf.keras.layers.Conv2D(128, kernel_size = (3, 3)))\n",
    "    model.add(tf.keras.layers.Activation(\"relu\"))\n",
    "    model.add(tf.keras.layers.MaxPool2D(pool_size = (2, 2)))\n",
    "    \n",
    "    model.add(tf.keras.layers.Conv2D(256, kernel_size = (3, 3)))\n",
    "    model.add(tf.keras.layers.Activation(\"relu\"))\n",
    "    model.add(tf.keras.layers.BatchNormalization())\n",
    "    model.add(tf.keras.layers.MaxPool2D(pool_size = (2, 2)))\n",
    "    \n",
    "    model.add(tf.keras.layers.Flatten())\n",
    "    model.add(tf.keras.layers.Dense(1024))\n",
    "    model.add(tf.keras.layers.Activation(\"relu\"))\n",
    "    model.add(tf.keras.layers.Dropout(0.3))\n",
    "    \n",
    "    model.add(tf.keras.layers.Dense(512))\n",
    "    model.add(tf.keras.layers.Activation(\"relu\"))\n",
    "    model.add(tf.keras.layers.Dropout(0.2))\n",
    "    \n",
    "    model.add(tf.keras.layers.Dense(len(classes), activation = \"softmax\"))\n",
    "\n",
    "    model.compile(\n",
    "        optimizer = tf.keras.optimizers.Adam(),\n",
    "        loss = tf.keras.losses.CategoricalCrossentropy(label_smoothing = 0.15),\n",
    "        metrics = [\"accuracy\"]\n",
    "    )\n",
    "else:\n",
    "    model = tf.keras.models.load_model(str(LOAD_MODEL_PATH))"
   ]
  },
  {
   "cell_type": "code",
   "execution_count": 16,
   "metadata": {
    "scrolled": true
   },
   "outputs": [
    {
     "name": "stdout",
     "output_type": "stream",
     "text": [
      "Model: \"sequential\"\n",
      "_________________________________________________________________\n",
      "Layer (type)                 Output Shape              Param #   \n",
      "=================================================================\n",
      "conv2d (Conv2D)              (None, 97, 97, 64)        9472      \n",
      "_________________________________________________________________\n",
      "activation (Activation)      (None, 97, 97, 64)        0         \n",
      "_________________________________________________________________\n",
      "batch_normalization (BatchNo (None, 97, 97, 64)        256       \n",
      "_________________________________________________________________\n",
      "max_pooling2d (MaxPooling2D) (None, 48, 48, 64)        0         \n",
      "_________________________________________________________________\n",
      "conv2d_1 (Conv2D)            (None, 44, 44, 128)       204928    \n",
      "_________________________________________________________________\n",
      "activation_1 (Activation)    (None, 44, 44, 128)       0         \n",
      "_________________________________________________________________\n",
      "batch_normalization_1 (Batch (None, 44, 44, 128)       512       \n",
      "_________________________________________________________________\n",
      "max_pooling2d_1 (MaxPooling2 (None, 22, 22, 128)       0         \n",
      "_________________________________________________________________\n",
      "conv2d_2 (Conv2D)            (None, 20, 20, 128)       147584    \n",
      "_________________________________________________________________\n",
      "activation_2 (Activation)    (None, 20, 20, 128)       0         \n",
      "_________________________________________________________________\n",
      "max_pooling2d_2 (MaxPooling2 (None, 10, 10, 128)       0         \n",
      "_________________________________________________________________\n",
      "conv2d_3 (Conv2D)            (None, 8, 8, 256)         295168    \n",
      "_________________________________________________________________\n",
      "activation_3 (Activation)    (None, 8, 8, 256)         0         \n",
      "_________________________________________________________________\n",
      "batch_normalization_2 (Batch (None, 8, 8, 256)         1024      \n",
      "_________________________________________________________________\n",
      "max_pooling2d_3 (MaxPooling2 (None, 4, 4, 256)         0         \n",
      "_________________________________________________________________\n",
      "flatten (Flatten)            (None, 4096)              0         \n",
      "_________________________________________________________________\n",
      "dense (Dense)                (None, 1024)              4195328   \n",
      "_________________________________________________________________\n",
      "activation_4 (Activation)    (None, 1024)              0         \n",
      "_________________________________________________________________\n",
      "dropout (Dropout)            (None, 1024)              0         \n",
      "_________________________________________________________________\n",
      "dense_1 (Dense)              (None, 512)               524800    \n",
      "_________________________________________________________________\n",
      "activation_5 (Activation)    (None, 512)               0         \n",
      "_________________________________________________________________\n",
      "dropout_1 (Dropout)          (None, 512)               0         \n",
      "_________________________________________________________________\n",
      "dense_2 (Dense)              (None, 42)                21546     \n",
      "=================================================================\n",
      "Total params: 5,400,618\n",
      "Trainable params: 5,399,722\n",
      "Non-trainable params: 896\n",
      "_________________________________________________________________\n"
     ]
    }
   ],
   "source": [
    "model.summary()"
   ]
  },
  {
   "cell_type": "code",
   "execution_count": 17,
   "metadata": {
    "scrolled": true
   },
   "outputs": [
    {
     "name": "stdout",
     "output_type": "stream",
     "text": [
      "models\\cnn_of.{epoch:03d}-{val_accuracy:.4f}.h5\n",
      "log\\cnn_of.csv\n"
     ]
    }
   ],
   "source": [
    "checkpoint_path = MODEL_DIR / (MODEL_ID + \".{epoch:03d}-{val_accuracy:.4f}.h5\")\n",
    "log_path = (LOG_DIR / MODEL_ID).with_suffix(\".csv\")\n",
    "\n",
    "print(checkpoint_path)\n",
    "print(log_path)"
   ]
  },
  {
   "cell_type": "code",
   "execution_count": 18,
   "metadata": {
    "scrolled": false,
    "tags": []
   },
   "outputs": [
    {
     "name": "stdout",
     "output_type": "stream",
     "text": [
      "Epoch 1/100\n",
      "1197/1197 [==============================] - 457s 382ms/step - loss: 3.5302 - accuracy: 0.1073 - val_loss: 3.2784 - val_accuracy: 0.1798\n",
      "Epoch 2/100\n",
      "1197/1197 [==============================] - 358s 299ms/step - loss: 3.2226 - accuracy: 0.2064 - val_loss: 3.2786 - val_accuracy: 0.1946\n",
      "Epoch 3/100\n",
      "1197/1197 [==============================] - 359s 300ms/step - loss: 3.0530 - accuracy: 0.2713 - val_loss: 3.2225 - val_accuracy: 0.2126\n",
      "Epoch 4/100\n",
      "1197/1197 [==============================] - 358s 299ms/step - loss: 2.9141 - accuracy: 0.3212 - val_loss: 2.9009 - val_accuracy: 0.3183\n",
      "Epoch 5/100\n",
      "1197/1197 [==============================] - 357s 298ms/step - loss: 2.8017 - accuracy: 0.3622 - val_loss: 2.7335 - val_accuracy: 0.3821\n",
      "Epoch 6/100\n",
      "1197/1197 [==============================] - 358s 299ms/step - loss: 2.7039 - accuracy: 0.3964 - val_loss: 2.7488 - val_accuracy: 0.3755\n",
      "Epoch 7/100\n",
      "1197/1197 [==============================] - 357s 298ms/step - loss: 2.6334 - accuracy: 0.4216 - val_loss: 2.6282 - val_accuracy: 0.4186\n",
      "Epoch 8/100\n",
      "1197/1197 [==============================] - 362s 302ms/step - loss: 2.5556 - accuracy: 0.4484 - val_loss: 2.6224 - val_accuracy: 0.4217\n",
      "Epoch 9/100\n",
      "1197/1197 [==============================] - 362s 302ms/step - loss: 2.4900 - accuracy: 0.4708 - val_loss: 2.4697 - val_accuracy: 0.4736\n",
      "Epoch 10/100\n",
      "1197/1197 [==============================] - 387s 323ms/step - loss: 2.4306 - accuracy: 0.4932 - val_loss: 2.5309 - val_accuracy: 0.4536\n",
      "Epoch 11/100\n",
      "1197/1197 [==============================] - 330s 276ms/step - loss: 2.3798 - accuracy: 0.5079 - val_loss: 2.5176 - val_accuracy: 0.4568\n",
      "Epoch 12/100\n",
      "1197/1197 [==============================] - 330s 276ms/step - loss: 2.3319 - accuracy: 0.5236 - val_loss: 2.3754 - val_accuracy: 0.5061\n",
      "Epoch 13/100\n",
      "1197/1197 [==============================] - 327s 273ms/step - loss: 2.2827 - accuracy: 0.5436 - val_loss: 2.3414 - val_accuracy: 0.5168\n",
      "Epoch 14/100\n",
      "1197/1197 [==============================] - 327s 273ms/step - loss: 2.2429 - accuracy: 0.5525 - val_loss: 2.3195 - val_accuracy: 0.5219\n",
      "Epoch 15/100\n",
      "1197/1197 [==============================] - 327s 273ms/step - loss: 2.2069 - accuracy: 0.5669 - val_loss: 2.3210 - val_accuracy: 0.5252\n",
      "Epoch 16/100\n",
      "1197/1197 [==============================] - 329s 275ms/step - loss: 2.1589 - accuracy: 0.5838 - val_loss: 2.2902 - val_accuracy: 0.5327\n",
      "Epoch 17/100\n",
      "1197/1197 [==============================] - 330s 275ms/step - loss: 2.1338 - accuracy: 0.5931 - val_loss: 2.3923 - val_accuracy: 0.4978\n",
      "Epoch 18/100\n",
      "1197/1197 [==============================] - 345s 288ms/step - loss: 2.1027 - accuracy: 0.6030 - val_loss: 2.3745 - val_accuracy: 0.5073\n",
      "Epoch 19/100\n",
      "1197/1197 [==============================] - 350s 293ms/step - loss: 2.0730 - accuracy: 0.6139 - val_loss: 2.2122 - val_accuracy: 0.5614\n",
      "Epoch 20/100\n",
      "1197/1197 [==============================] - 344s 287ms/step - loss: 2.0543 - accuracy: 0.6192 - val_loss: 2.4500 - val_accuracy: 0.4832\n",
      "Epoch 21/100\n",
      "1197/1197 [==============================] - 334s 279ms/step - loss: 2.0240 - accuracy: 0.6311 - val_loss: 2.2360 - val_accuracy: 0.5551\n",
      "Epoch 22/100\n",
      "1197/1197 [==============================] - 340s 284ms/step - loss: 2.0042 - accuracy: 0.6405 - val_loss: 2.2523 - val_accuracy: 0.5522\n",
      "Epoch 23/100\n",
      "1197/1197 [==============================] - 332s 278ms/step - loss: 1.9902 - accuracy: 0.6464 - val_loss: 2.3327 - val_accuracy: 0.5232\n",
      "Epoch 24/100\n",
      "1197/1197 [==============================] - 328s 274ms/step - loss: 1.9704 - accuracy: 0.6525 - val_loss: 2.2203 - val_accuracy: 0.5596\n",
      "Epoch 25/100\n",
      "1197/1197 [==============================] - 328s 274ms/step - loss: 1.9385 - accuracy: 0.6647 - val_loss: 2.2181 - val_accuracy: 0.5630\n",
      "Epoch 26/100\n",
      "1197/1197 [==============================] - 335s 280ms/step - loss: 1.9280 - accuracy: 0.6670 - val_loss: 2.2226 - val_accuracy: 0.5633\n",
      "Epoch 27/100\n",
      "1197/1197 [==============================] - 331s 277ms/step - loss: 1.9073 - accuracy: 0.6755 - val_loss: 2.1764 - val_accuracy: 0.5783\n",
      "Epoch 28/100\n",
      "1197/1197 [==============================] - 346s 289ms/step - loss: 1.8983 - accuracy: 0.6793 - val_loss: 2.1894 - val_accuracy: 0.5753\n",
      "Epoch 29/100\n",
      "1197/1197 [==============================] - 345s 288ms/step - loss: 1.8815 - accuracy: 0.6849 - val_loss: 2.1888 - val_accuracy: 0.5779\n",
      "Epoch 30/100\n",
      "1197/1197 [==============================] - 343s 286ms/step - loss: 1.8677 - accuracy: 0.6900 - val_loss: 2.1915 - val_accuracy: 0.5721\n",
      "Epoch 31/100\n",
      "1197/1197 [==============================] - 338s 283ms/step - loss: 1.8528 - accuracy: 0.6973 - val_loss: 2.3124 - val_accuracy: 0.5320\n",
      "Epoch 32/100\n",
      "1197/1197 [==============================] - 362s 303ms/step - loss: 1.8415 - accuracy: 0.6999 - val_loss: 2.1902 - val_accuracy: 0.5744\n",
      "Epoch 33/100\n",
      "1197/1197 [==============================] - 333s 278ms/step - loss: 1.8295 - accuracy: 0.7056 - val_loss: 2.2249 - val_accuracy: 0.5602\n",
      "Epoch 34/100\n",
      "1197/1197 [==============================] - 340s 284ms/step - loss: 1.8096 - accuracy: 0.7133 - val_loss: 2.1872 - val_accuracy: 0.5762\n",
      "Epoch 35/100\n",
      "1197/1197 [==============================] - 329s 275ms/step - loss: 1.8070 - accuracy: 0.7146 - val_loss: 2.1787 - val_accuracy: 0.5779\n",
      "Epoch 36/100\n",
      "1197/1197 [==============================] - 351s 293ms/step - loss: 1.7961 - accuracy: 0.7189 - val_loss: 2.2966 - val_accuracy: 0.5413\n",
      "Epoch 37/100\n",
      "1197/1197 [==============================] - ETA: 0s - loss: 1.7826 - accuracy: 0.7244Restoring model weights from the end of the best epoch.\n",
      "1197/1197 [==============================] - 342s 286ms/step - loss: 1.7826 - accuracy: 0.7244 - val_loss: 2.1876 - val_accuracy: 0.5783\n",
      "Epoch 00037: early stopping\n"
     ]
    }
   ],
   "source": [
    "history = model.fit(\n",
    "    processed_train_ds,\n",
    "    epochs = NUM_EPOCHS,\n",
    "    initial_epoch = INITIAL_EPOCH,\n",
    "    steps_per_epoch = len(train_filepaths) // BATCH_SIZE,\n",
    "    validation_data = processed_val_ds,\n",
    "    validation_steps = len(val_filepaths) // BATCH_SIZE,\n",
    "    callbacks = [\n",
    "        tf.keras.callbacks.EarlyStopping(\n",
    "            patience = 10,\n",
    "            restore_best_weights = True,\n",
    "            verbose = 1,\n",
    "            monitor = \"val_accuracy\",\n",
    "            mode = \"max\"\n",
    "        ),\n",
    "        tf.keras.callbacks.CSVLogger(str(log_path), append = True),\n",
    "        tf.keras.callbacks.ModelCheckpoint(\n",
    "            str(checkpoint_path),\n",
    "            monitor = \"val_accuracy\",\n",
    "            mode = \"max\",\n",
    "            save_best_only = True\n",
    "        )\n",
    "    ]\n",
    ")"
   ]
  },
  {
   "cell_type": "code",
   "execution_count": 19,
   "metadata": {},
   "outputs": [
    {
     "data": {
      "image/png": "[encoded data removed]",
      "text/plain": [
       "<Figure size 576x576 with 2 Axes>"
      ]
     },
     "metadata": {
      "needs_background": "light"
     },
     "output_type": "display_data"
    }
   ],
   "source": [
    "acc = history.history[\"accuracy\"]\n",
    "loss = history.history[\"loss\"]\n",
    "validation_acc = history.history[\"val_accuracy\"]\n",
    "validation_loss = history.history[\"val_loss\"]\n",
    "\n",
    "epochs_range = range(len(history.history[\"accuracy\"]))\n",
    "\n",
    "plt.figure(figsize = (8, 8))\n",
    "plt.subplot(1, 2, 1)\n",
    "plt.plot(epochs_range, acc, label = \"Training Accuracy\")\n",
    "plt.plot(epochs_range, validation_acc, label = \"Validation Accuracy\")\n",
    "plt.legend(loc = \"lower right\")\n",
    "plt.title(\"Training and Validation Accuracy\")\n",
    "\n",
    "plt.subplot(1, 2, 2)\n",
    "plt.plot(epochs_range, loss, label = \"Training Loss\")\n",
    "plt.plot(epochs_range, validation_loss, label = \"Validation Loss\")\n",
    "plt.legend(loc = \"lower right\")\n",
    "plt.title(\"Training and Validation Loss\")\n",
    "plt.show()"
   ]
  },
  {
   "cell_type": "code",
   "execution_count": 20,
   "metadata": {},
   "outputs": [],
   "source": [
    "# Remove cache directory if available\n",
    "if CACHE_DIR.exists():\n",
    "    shutil.rmtree(CACHE_DIR, ignore_errors = True)"
   ]
  },
  {
   "cell_type": "code",
   "execution_count": null,
   "metadata": {},
   "outputs": [],
   "source": []
  }
 ],
 "metadata": {
  "kernelspec": {
   "display_name": "Python 3",
   "language": "python",
   "name": "python3"
  },
  "language_info": {
   "codemirror_mode": {
    "name": "ipython",
    "version": 3
   },
   "file_extension": ".py",
   "mimetype": "text/x-python",
   "name": "python",
   "nbconvert_exporter": "python",
   "pygments_lexer": "ipython3",
   "version": "3.7.6"
  },
  "toc": {
   "base_numbering": 1,
   "nav_menu": {},
   "number_sections": false,
   "sideBar": true,
   "skip_h1_title": false,
   "title_cell": "Table of Contents",
   "title_sidebar": "Contents",
   "toc_cell": false,
   "toc_position": {
    "height": "calc(100% - 180px)",
    "left": "10px",
    "top": "150px",
    "width": "273px"
   },
   "toc_section_display": true,
   "toc_window_display": false
  }
 },
 "nbformat": 4,
 "nbformat_minor": 2
}
