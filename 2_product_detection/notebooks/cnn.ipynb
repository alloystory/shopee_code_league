{
 "cells": [
  {
   "cell_type": "markdown",
   "metadata": {},
   "source": [
    "# Convolutional Neural Network"
   ]
  },
  {
   "cell_type": "code",
   "execution_count": 11,
   "metadata": {
    "tags": []
   },
   "outputs": [],
   "source": [
    "import matplotlib.pyplot as plt\n",
    "import tensorflow as tf\n",
    "from tensorflow.keras.models import Sequential\n",
    "from tensorflow.keras.layers import Dense, Flatten, Conv2D, MaxPool2D, Dropout\n",
    "from tensorflow.keras.preprocessing.image import ImageDataGenerator\n",
    "from tensorflow.keras.losses import CategoricalCrossentropy"
   ]
  },
  {
   "cell_type": "code",
   "execution_count": 12,
   "metadata": {},
   "outputs": [],
   "source": [
    "# Constant Parameters\n",
    "# Preprocessing Parameters\n",
    "TRAIN_DIR = \"../data/sample/\"\n",
    "MODEL_DIR = \"../models/\"\n",
    "VALIDATION_SPLIT = 0.2\n",
    "IMAGE_HEIGHT = 128\n",
    "IMAGE_WIDTH = 128\n",
    "SEED = 1\n",
    "\n",
    "# Training Parameters\n",
    "NUM_CLASSES = 42\n",
    "NUM_EPOCHS = 20\n",
    "BATCH_SIZE = 64\n",
    "OPTIMIZER = \"adam\"\n",
    "LOSS_FN = \"categorical_crossentropy\"\n",
    "METRICS = [\"accuracy\"]"
   ]
  },
  {
   "cell_type": "code",
   "execution_count": null,
   "metadata": {},
   "outputs": [],
   "source": [
    "# Model Architecture\n",
    "def get_model(image_depth):\n",
    "    return Sequential([\n",
    "        Conv2D(32, 3, input_shape = (IMAGE_HEIGHT, IMAGE_WIDTH, image_depth)),\n",
    "        MaxPool2D(pool_size = (2, 2)),\n",
    "        Dropout(0.2),\n",
    "        Flatten(),\n",
    "        Dense(1024, activation = \"relu\"),\n",
    "        Dense(NUM_CLASSES, activation = \"softmax\")\n",
    "    ])"
   ]
  },
  {
   "cell_type": "markdown",
   "metadata": {},
   "source": [
    "## Preprocessing - Grayscale + Augment"
   ]
  },
  {
   "cell_type": "markdown",
   "metadata": {},
   "source": [
    "Augmentation:\n",
    "- 45 deg rotation rage\n",
    "- random horizontal and vertical flip\n",
    "- 40% zoom range"
   ]
  },
  {
   "cell_type": "code",
   "execution_count": 13,
   "metadata": {},
   "outputs": [],
   "source": [
    "model_id = \"cnn_grayscale_augment\"              # Unique Identifier used for saving model\n",
    "color_mode = \"grayscale\"                        # \"rgb\", \"rgba\" or \"grayscale\"\n",
    "image_depth = 1                                 # Depth = Num of channels in image. Grayscale = 1, RGB = 3"
   ]
  },
  {
   "cell_type": "code",
   "execution_count": 14,
   "metadata": {},
   "outputs": [],
   "source": [
    "# Data Augmentation Parameters\n",
    "image_generator = ImageDataGenerator(\n",
    "    validation_split = VALIDATION_SPLIT,\n",
    "    rescale = 1./255,\n",
    "    rotation_range = 45,\n",
    "    horizontal_flip = True,\n",
    "    vertical_flip = True,\n",
    "    zoom_range = 0.4\n",
    ")"
   ]
  },
  {
   "cell_type": "code",
   "execution_count": 15,
   "metadata": {
    "tags": []
   },
   "outputs": [
    {
     "name": "stdout",
     "output_type": "stream",
     "text": [
      "Found 13440 images belonging to 42 classes.\n"
     ]
    }
   ],
   "source": [
    "train_data_gen = image_generator.flow_from_directory(\n",
    "    color_mode = color_mode,\n",
    "    directory = TRAIN_DIR,\n",
    "    batch_size = BATCH_SIZE,\n",
    "    target_size = (IMAGE_HEIGHT, IMAGE_WIDTH),\n",
    "    shuffle = True,\n",
    "    seed = SEED,\n",
    "    class_mode = \"categorical\",\n",
    "    subset = \"training\"\n",
    ")"
   ]
  },
  {
   "cell_type": "code",
   "execution_count": 16,
   "metadata": {
    "tags": []
   },
   "outputs": [
    {
     "name": "stdout",
     "output_type": "stream",
     "text": [
      "Found 3360 images belonging to 42 classes.\n"
     ]
    }
   ],
   "source": [
    "validation_data_gen = image_generator.flow_from_directory(\n",
    "    color_mode = color_mode,\n",
    "    directory = TRAIN_DIR,\n",
    "    batch_size = BATCH_SIZE,\n",
    "    target_size = (IMAGE_HEIGHT, IMAGE_WIDTH),\n",
    "    class_mode = \"categorical\",\n",
    "    subset = \"validation\"\n",
    ")"
   ]
  },
  {
   "cell_type": "code",
   "execution_count": 17,
   "metadata": {},
   "outputs": [],
   "source": [
    "model = get_model(image_depth)"
   ]
  },
  {
   "cell_type": "code",
   "execution_count": 18,
   "metadata": {},
   "outputs": [],
   "source": [
    "model.compile(\n",
    "    optimizer = OPTIMIZER,\n",
    "    loss = LOSS_FN,\n",
    "    metrics = METRICS\n",
    ")"
   ]
  },
  {
   "cell_type": "code",
   "execution_count": 19,
   "metadata": {
    "scrolled": true
   },
   "outputs": [
    {
     "name": "stdout",
     "output_type": "stream",
     "text": [
      "Model: \"sequential_1\"\n",
      "_________________________________________________________________\n",
      "Layer (type)                 Output Shape              Param #   \n",
      "=================================================================\n",
      "conv2d_1 (Conv2D)            (None, 126, 126, 32)      320       \n",
      "_________________________________________________________________\n",
      "max_pooling2d_1 (MaxPooling2 (None, 63, 63, 32)        0         \n",
      "_________________________________________________________________\n",
      "dropout_1 (Dropout)          (None, 63, 63, 32)        0         \n",
      "_________________________________________________________________\n",
      "flatten_1 (Flatten)          (None, 127008)            0         \n",
      "_________________________________________________________________\n",
      "dense_2 (Dense)              (None, 1024)              130057216 \n",
      "_________________________________________________________________\n",
      "dense_3 (Dense)              (None, 42)                43050     \n",
      "=================================================================\n",
      "Total params: 130,100,586\n",
      "Trainable params: 130,100,586\n",
      "Non-trainable params: 0\n",
      "_________________________________________________________________\n"
     ]
    }
   ],
   "source": [
    "model.summary()"
   ]
  },
  {
   "cell_type": "code",
   "execution_count": 20,
   "metadata": {
    "collapsed": true,
    "tags": []
   },
   "outputs": [
    {
     "name": "stdout",
     "output_type": "stream",
     "text": [
      "Epoch 1/20\n",
      "210/210 [==============================] - 131s 625ms/step - loss: 6.1254 - accuracy: 0.0343 - val_loss: 3.7080 - val_accuracy: 0.0387\n",
      "Epoch 2/20\n",
      "210/210 [==============================] - 119s 568ms/step - loss: 3.6830 - accuracy: 0.0388 - val_loss: 3.6722 - val_accuracy: 0.0467\n",
      "Epoch 3/20\n",
      "210/210 [==============================] - 119s 568ms/step - loss: 3.6627 - accuracy: 0.0459 - val_loss: 3.6567 - val_accuracy: 0.0524\n",
      "Epoch 4/20\n",
      "210/210 [==============================] - 119s 568ms/step - loss: 3.6515 - accuracy: 0.0499 - val_loss: 3.6488 - val_accuracy: 0.0509\n",
      "Epoch 5/20\n",
      "210/210 [==============================] - 119s 567ms/step - loss: 3.6286 - accuracy: 0.0557 - val_loss: 3.6200 - val_accuracy: 0.0577\n",
      "Epoch 6/20\n",
      "210/210 [==============================] - 119s 569ms/step - loss: 3.6087 - accuracy: 0.0647 - val_loss: 3.6133 - val_accuracy: 0.0604\n",
      "Epoch 7/20\n",
      "210/210 [==============================] - 119s 568ms/step - loss: 3.6011 - accuracy: 0.0627 - val_loss: 3.5988 - val_accuracy: 0.0673\n",
      "Epoch 8/20\n",
      "210/210 [==============================] - 119s 568ms/step - loss: 3.5934 - accuracy: 0.0663 - val_loss: 3.6047 - val_accuracy: 0.0592\n",
      "Epoch 9/20\n",
      "210/210 [==============================] - 120s 569ms/step - loss: 3.5714 - accuracy: 0.0713 - val_loss: 3.5592 - val_accuracy: 0.0708\n",
      "Epoch 10/20\n",
      "210/210 [==============================] - 119s 567ms/step - loss: 3.5592 - accuracy: 0.0742 - val_loss: 3.5566 - val_accuracy: 0.0744\n",
      "Epoch 11/20\n",
      "210/210 [==============================] - 119s 568ms/step - loss: 3.5471 - accuracy: 0.0711 - val_loss: 3.5723 - val_accuracy: 0.0765\n",
      "Epoch 12/20\n",
      "210/210 [==============================] - 119s 568ms/step - loss: 3.5413 - accuracy: 0.0734 - val_loss: 3.5426 - val_accuracy: 0.0762\n",
      "Epoch 13/20\n",
      "210/210 [==============================] - 119s 568ms/step - loss: 3.5292 - accuracy: 0.0788 - val_loss: 3.5239 - val_accuracy: 0.0798\n",
      "Epoch 14/20\n",
      "210/210 [==============================] - 119s 568ms/step - loss: 3.5175 - accuracy: 0.0788 - val_loss: 3.5175 - val_accuracy: 0.0851\n",
      "Epoch 15/20\n",
      "210/210 [==============================] - 119s 567ms/step - loss: 3.5018 - accuracy: 0.0821 - val_loss: 3.5154 - val_accuracy: 0.0842\n",
      "Epoch 16/20\n",
      "210/210 [==============================] - 119s 567ms/step - loss: 3.5007 - accuracy: 0.0830 - val_loss: 3.5309 - val_accuracy: 0.0741\n",
      "Epoch 17/20\n",
      "210/210 [==============================] - 119s 567ms/step - loss: 3.5014 - accuracy: 0.0827 - val_loss: 3.5155 - val_accuracy: 0.0869\n",
      "Epoch 18/20\n",
      "210/210 [==============================] - 119s 568ms/step - loss: 3.4934 - accuracy: 0.0854 - val_loss: 3.4958 - val_accuracy: 0.0842\n",
      "Epoch 19/20\n",
      "210/210 [==============================] - 119s 568ms/step - loss: 3.4869 - accuracy: 0.0867 - val_loss: 3.5139 - val_accuracy: 0.0804\n",
      "Epoch 20/20\n",
      "210/210 [==============================] - 119s 568ms/step - loss: 3.4774 - accuracy: 0.0920 - val_loss: 3.5487 - val_accuracy: 0.0833\n"
     ]
    }
   ],
   "source": [
    "history = model.fit(\n",
    "    train_data_gen,\n",
    "    steps_per_epoch = train_data_gen.n // BATCH_SIZE,\n",
    "    epochs = NUM_EPOCHS,\n",
    "    validation_data = validation_data_gen\n",
    ")"
   ]
  },
  {
   "cell_type": "code",
   "execution_count": 21,
   "metadata": {
    "collapsed": true
   },
   "outputs": [
    {
     "data": {
      "image/png": "[encoded data removed]",
      "text/plain": [
       "<Figure size 576x576 with 2 Axes>"
      ]
     },
     "metadata": {
      "needs_background": "light"
     },
     "output_type": "display_data"
    }
   ],
   "source": [
    "acc = history.history[\"accuracy\"]\n",
    "loss = history.history[\"loss\"]\n",
    "validation_acc = history.history[\"val_accuracy\"]\n",
    "validation_loss = history.history[\"val_loss\"]\n",
    "\n",
    "epochs_range = range(NUM_EPOCHS)\n",
    "\n",
    "plt.figure(figsize = (8, 8))\n",
    "plt.subplot(1, 2, 1)\n",
    "plt.plot(epochs_range, acc, label = \"Training Accuracy\")\n",
    "plt.plot(epochs_range, validation_acc, label = \"Validation Accuracy\")\n",
    "plt.legend(loc = \"lower right\")\n",
    "plt.title(\"Training and Validation Accuracy\")\n",
    "\n",
    "plt.subplot(1, 2, 2)\n",
    "plt.plot(epochs_range, loss, label = \"Training Loss\")\n",
    "plt.plot(epochs_range, validation_loss, label = \"Validation Loss\")\n",
    "plt.legend(loc = \"lower right\")\n",
    "plt.title(\"Training and Validation Loss\")\n",
    "plt.show()"
   ]
  },
  {
   "cell_type": "code",
   "execution_count": 23,
   "metadata": {},
   "outputs": [],
   "source": [
    "model.save(MODEL_DIR + \"{}.h5\".format(model_id))"
   ]
  }
 ],
 "metadata": {
  "kernelspec": {
   "display_name": "Python 3",
   "language": "python",
   "name": "python3"
  },
  "language_info": {
   "codemirror_mode": {
    "name": "ipython",
    "version": 3
   },
   "file_extension": ".py",
   "mimetype": "text/x-python",
   "name": "python",
   "nbconvert_exporter": "python",
   "pygments_lexer": "ipython3",
   "version": "3.7.6"
  },
  "toc": {
   "base_numbering": 1,
   "nav_menu": {},
   "number_sections": false,
   "sideBar": true,
   "skip_h1_title": false,
   "title_cell": "Table of Contents",
   "title_sidebar": "Contents",
   "toc_cell": false,
   "toc_position": {},
   "toc_section_display": true,
   "toc_window_display": true
  }
 },
 "nbformat": 4,
 "nbformat_minor": 2
}
