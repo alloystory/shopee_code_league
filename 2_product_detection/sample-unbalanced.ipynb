{
 "cells": [
  {
   "cell_type": "code",
   "execution_count": 1,
   "metadata": {},
   "outputs": [],
   "source": [
    "import pandas as pd\n",
    "import shutil\n",
    "import time\n",
    "from pathlib import Path\n",
    "\n",
    "MAX_SAMPLE_SIZE = 40000"
   ]
  },
  {
   "cell_type": "code",
   "execution_count": 2,
   "metadata": {},
   "outputs": [
    {
     "data": {
      "text/html": [
       "<div>\n",
       "<style scoped>\n",
       "    .dataframe tbody tr th:only-of-type {\n",
       "        vertical-align: middle;\n",
       "    }\n",
       "\n",
       "    .dataframe tbody tr th {\n",
       "        vertical-align: top;\n",
       "    }\n",
       "\n",
       "    .dataframe thead th {\n",
       "        text-align: right;\n",
       "    }\n",
       "</style>\n",
       "<table border=\"1\" class=\"dataframe\">\n",
       "  <thead>\n",
       "    <tr style=\"text-align: right;\">\n",
       "      <th></th>\n",
       "      <th>filename</th>\n",
       "      <th>category</th>\n",
       "    </tr>\n",
       "  </thead>\n",
       "  <tbody>\n",
       "    <tr>\n",
       "      <th>0</th>\n",
       "      <td>45e2d0c97f7bdf8cbf3594beb6fdcda0.jpg</td>\n",
       "      <td>3</td>\n",
       "    </tr>\n",
       "    <tr>\n",
       "      <th>1</th>\n",
       "      <td>f74d1a5fc2498bbbfa045c74e3cc333e.jpg</td>\n",
       "      <td>3</td>\n",
       "    </tr>\n",
       "    <tr>\n",
       "      <th>2</th>\n",
       "      <td>f6c172096818c5fab10ecae722840798.jpg</td>\n",
       "      <td>3</td>\n",
       "    </tr>\n",
       "    <tr>\n",
       "      <th>3</th>\n",
       "      <td>251ffd610399ac00fea7709c642676ee.jpg</td>\n",
       "      <td>3</td>\n",
       "    </tr>\n",
       "    <tr>\n",
       "      <th>4</th>\n",
       "      <td>73c7328b8eda399199fdedec6e4badaf.jpg</td>\n",
       "      <td>3</td>\n",
       "    </tr>\n",
       "  </tbody>\n",
       "</table>\n",
       "</div>"
      ],
      "text/plain": [
       "                               filename  category\n",
       "0  45e2d0c97f7bdf8cbf3594beb6fdcda0.jpg         3\n",
       "1  f74d1a5fc2498bbbfa045c74e3cc333e.jpg         3\n",
       "2  f6c172096818c5fab10ecae722840798.jpg         3\n",
       "3  251ffd610399ac00fea7709c642676ee.jpg         3\n",
       "4  73c7328b8eda399199fdedec6e4badaf.jpg         3"
      ]
     },
     "execution_count": 2,
     "metadata": {},
     "output_type": "execute_result"
    }
   ],
   "source": [
    "train_df = pd.read_csv(\"./data/train.csv\")\n",
    "train_df.head()"
   ]
  },
  {
   "cell_type": "code",
   "execution_count": 3,
   "metadata": {},
   "outputs": [
    {
     "data": {
      "text/plain": [
       "<matplotlib.axes._subplots.AxesSubplot at 0x19edbe9b508>"
      ]
     },
     "execution_count": 3,
     "metadata": {},
     "output_type": "execute_result"
    },
    {
     "data": {
      "image/png": "[encoded data removed]",
      "text/plain": [
       "<Figure size 432x288 with 1 Axes>"
      ]
     },
     "metadata": {
      "needs_background": "light"
     },
     "output_type": "display_data"
    }
   ],
   "source": [
    "cat_df = train_df.groupby(\"category\").count()\n",
    "cat_df = cat_df.rename(columns = {\"filename\": \"weight\"})\n",
    "cat_df[\"normalised_weight\"] = cat_df[\"weight\"].apply(lambda x: x / cat_df[\"weight\"].sum())\n",
    "cat_df[\"normalised_weight\"].plot()"
   ]
  },
  {
   "cell_type": "code",
   "execution_count": 4,
   "metadata": {},
   "outputs": [
    {
     "data": {
      "text/html": [
       "<div>\n",
       "<style scoped>\n",
       "    .dataframe tbody tr th:only-of-type {\n",
       "        vertical-align: middle;\n",
       "    }\n",
       "\n",
       "    .dataframe tbody tr th {\n",
       "        vertical-align: top;\n",
       "    }\n",
       "\n",
       "    .dataframe thead th {\n",
       "        text-align: right;\n",
       "    }\n",
       "</style>\n",
       "<table border=\"1\" class=\"dataframe\">\n",
       "  <thead>\n",
       "    <tr style=\"text-align: right;\">\n",
       "      <th></th>\n",
       "      <th>filename</th>\n",
       "      <th>category</th>\n",
       "    </tr>\n",
       "  </thead>\n",
       "  <tbody>\n",
       "    <tr>\n",
       "      <th>104459</th>\n",
       "      <td>4671f23768d9d6e702bd68bf4011864f.jpg</td>\n",
       "      <td>25</td>\n",
       "    </tr>\n",
       "    <tr>\n",
       "      <th>69933</th>\n",
       "      <td>ba7d40bc04b3f000396311c593404a25.jpg</td>\n",
       "      <td>8</td>\n",
       "    </tr>\n",
       "    <tr>\n",
       "      <th>50934</th>\n",
       "      <td>47be2fda96ce827e8898712805e5daa6.jpg</td>\n",
       "      <td>38</td>\n",
       "    </tr>\n",
       "    <tr>\n",
       "      <th>27130</th>\n",
       "      <td>1452757f8039cf8099502052b1f5dbd4.jpg</td>\n",
       "      <td>11</td>\n",
       "    </tr>\n",
       "    <tr>\n",
       "      <th>90231</th>\n",
       "      <td>25b557d193af7b3089b803f1b57fadfa.jpg</td>\n",
       "      <td>12</td>\n",
       "    </tr>\n",
       "  </tbody>\n",
       "</table>\n",
       "</div>"
      ],
      "text/plain": [
       "                                    filename category\n",
       "104459  4671f23768d9d6e702bd68bf4011864f.jpg       25\n",
       "69933   ba7d40bc04b3f000396311c593404a25.jpg        8\n",
       "50934   47be2fda96ce827e8898712805e5daa6.jpg       38\n",
       "27130   1452757f8039cf8099502052b1f5dbd4.jpg       11\n",
       "90231   25b557d193af7b3089b803f1b57fadfa.jpg       12"
      ]
     },
     "execution_count": 4,
     "metadata": {},
     "output_type": "execute_result"
    }
   ],
   "source": [
    "grouped_df = train_df.sample(frac = 1).groupby(\"category\")\n",
    "sample_df = pd.DataFrame(columns = [\"filename\", \"category\"])\n",
    "for idx, group in grouped_df:\n",
    "    num_items = int(cat_df.loc[idx][\"normalised_weight\"] * MAX_SAMPLE_SIZE)\n",
    "    sample = group.head(num_items)\n",
    "    sample_df = pd.concat([sample_df, sample])\n",
    "sample_df = sample_df.sample(frac = 1)\n",
    "sample_df.head()"
   ]
  },
  {
   "cell_type": "code",
   "execution_count": 5,
   "metadata": {},
   "outputs": [
    {
     "data": {
      "text/plain": [
       "<matplotlib.axes._subplots.AxesSubplot at 0x19edc4f72c8>"
      ]
     },
     "execution_count": 5,
     "metadata": {},
     "output_type": "execute_result"
    },
    {
     "data": {
      "image/png": "[encoded data removed]",
      "text/plain": [
       "<Figure size 432x288 with 1 Axes>"
      ]
     },
     "metadata": {
      "needs_background": "light"
     },
     "output_type": "display_data"
    }
   ],
   "source": [
    "sample_df.groupby(\"category\").count().plot()"
   ]
  },
  {
   "cell_type": "code",
   "execution_count": 6,
   "metadata": {},
   "outputs": [
    {
     "data": {
      "text/html": [
       "<div>\n",
       "<style scoped>\n",
       "    .dataframe tbody tr th:only-of-type {\n",
       "        vertical-align: middle;\n",
       "    }\n",
       "\n",
       "    .dataframe tbody tr th {\n",
       "        vertical-align: top;\n",
       "    }\n",
       "\n",
       "    .dataframe thead th {\n",
       "        text-align: right;\n",
       "    }\n",
       "</style>\n",
       "<table border=\"1\" class=\"dataframe\">\n",
       "  <thead>\n",
       "    <tr style=\"text-align: right;\">\n",
       "      <th></th>\n",
       "      <th>filename</th>\n",
       "      <th>category</th>\n",
       "      <th>path</th>\n",
       "    </tr>\n",
       "  </thead>\n",
       "  <tbody>\n",
       "    <tr>\n",
       "      <th>104459</th>\n",
       "      <td>4671f23768d9d6e702bd68bf4011864f.jpg</td>\n",
       "      <td>25</td>\n",
       "      <td>25/4671f23768d9d6e702bd68bf4011864f.jpg</td>\n",
       "    </tr>\n",
       "    <tr>\n",
       "      <th>69933</th>\n",
       "      <td>ba7d40bc04b3f000396311c593404a25.jpg</td>\n",
       "      <td>8</td>\n",
       "      <td>08/ba7d40bc04b3f000396311c593404a25.jpg</td>\n",
       "    </tr>\n",
       "    <tr>\n",
       "      <th>50934</th>\n",
       "      <td>47be2fda96ce827e8898712805e5daa6.jpg</td>\n",
       "      <td>38</td>\n",
       "      <td>38/47be2fda96ce827e8898712805e5daa6.jpg</td>\n",
       "    </tr>\n",
       "    <tr>\n",
       "      <th>27130</th>\n",
       "      <td>1452757f8039cf8099502052b1f5dbd4.jpg</td>\n",
       "      <td>11</td>\n",
       "      <td>11/1452757f8039cf8099502052b1f5dbd4.jpg</td>\n",
       "    </tr>\n",
       "    <tr>\n",
       "      <th>90231</th>\n",
       "      <td>25b557d193af7b3089b803f1b57fadfa.jpg</td>\n",
       "      <td>12</td>\n",
       "      <td>12/25b557d193af7b3089b803f1b57fadfa.jpg</td>\n",
       "    </tr>\n",
       "  </tbody>\n",
       "</table>\n",
       "</div>"
      ],
      "text/plain": [
       "                                    filename category  \\\n",
       "104459  4671f23768d9d6e702bd68bf4011864f.jpg       25   \n",
       "69933   ba7d40bc04b3f000396311c593404a25.jpg        8   \n",
       "50934   47be2fda96ce827e8898712805e5daa6.jpg       38   \n",
       "27130   1452757f8039cf8099502052b1f5dbd4.jpg       11   \n",
       "90231   25b557d193af7b3089b803f1b57fadfa.jpg       12   \n",
       "\n",
       "                                           path  \n",
       "104459  25/4671f23768d9d6e702bd68bf4011864f.jpg  \n",
       "69933   08/ba7d40bc04b3f000396311c593404a25.jpg  \n",
       "50934   38/47be2fda96ce827e8898712805e5daa6.jpg  \n",
       "27130   11/1452757f8039cf8099502052b1f5dbd4.jpg  \n",
       "90231   12/25b557d193af7b3089b803f1b57fadfa.jpg  "
      ]
     },
     "execution_count": 6,
     "metadata": {},
     "output_type": "execute_result"
    }
   ],
   "source": [
    "sample_df[\"path\"] = sample_df[\"category\"].apply(lambda x: \"{:02d}/\".format(x))\n",
    "sample_df[\"path\"] = sample_df[\"path\"] + sample_df[\"filename\"]\n",
    "sample_df.head()"
   ]
  },
  {
   "cell_type": "code",
   "execution_count": 7,
   "metadata": {},
   "outputs": [
    {
     "name": "stdout",
     "output_type": "stream",
     "text": [
      "Completed 39977 in 210.49s\r"
     ]
    }
   ],
   "source": [
    "train_dir = Path(\"./data/train/\")\n",
    "sample_dir = Path(\"./data/sample-ub-{}/\".format(MAX_SAMPLE_SIZE))\n",
    "\n",
    "start_time = time.time()\n",
    "count = 0\n",
    "for path in sample_df[\"path\"]:\n",
    "    input_filepath = train_dir / path\n",
    "    output_filepath = sample_dir / path\n",
    "    output_filepath.parent.mkdir(parents = True, exist_ok = True)\n",
    "    shutil.copy(str(input_filepath), str(output_filepath))\n",
    "    count += 1\n",
    "    print(\"Completed {} in {:.2f}s\".format(count, time.time() - start_time), end = \"\\r\")"
   ]
  }
 ],
 "metadata": {
  "kernelspec": {
   "display_name": "Python 3",
   "language": "python",
   "name": "python3"
  },
  "language_info": {
   "codemirror_mode": {
    "name": "ipython",
    "version": 3
   },
   "file_extension": ".py",
   "mimetype": "text/x-python",
   "name": "python",
   "nbconvert_exporter": "python",
   "pygments_lexer": "ipython3",
   "version": "3.7.6"
  },
  "toc": {
   "base_numbering": 1,
   "nav_menu": {},
   "number_sections": false,
   "sideBar": true,
   "skip_h1_title": false,
   "title_cell": "Table of Contents",
   "title_sidebar": "Contents",
   "toc_cell": false,
   "toc_position": {},
   "toc_section_display": true,
   "toc_window_display": true
  }
 },
 "nbformat": 4,
 "nbformat_minor": 4
}
