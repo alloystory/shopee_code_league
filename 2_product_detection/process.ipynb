{
 "cells": [
  {
   "cell_type": "code",
   "execution_count": 2,
   "metadata": {},
   "outputs": [],
   "source": [
    "import pandas as pd"
   ]
  },
  {
   "cell_type": "code",
   "execution_count": 3,
   "metadata": {
    "tags": []
   },
   "outputs": [
    {
     "output_type": "execute_result",
     "data": {
      "text/plain": "                                    filename  category\n0       45e2d0c97f7bdf8cbf3594beb6fdcda0.jpg         3\n1       f74d1a5fc2498bbbfa045c74e3cc333e.jpg         3\n2       f6c172096818c5fab10ecae722840798.jpg         3\n3       251ffd610399ac00fea7709c642676ee.jpg         3\n4       73c7328b8eda399199fdedec6e4badaf.jpg         3\n...                                      ...       ...\n105387  047a60001de0331608ba64092cc7ae2b.jpg        25\n105388  ea39ac66ccdc4b4d4c6443f6c54d8ae3.jpg        25\n105389  6215f8c52c5bbcfe3e63e0f3ac6265f8.jpg        25\n105390  1733d8286f6658149c7b7cdeb40d6461.jpg        25\n105391  8ee42460e9b6f3d909e32fdef2b6052f.jpg        25\n\n[105392 rows x 2 columns]",
      "text/html": "<div>\n<style scoped>\n    .dataframe tbody tr th:only-of-type {\n        vertical-align: middle;\n    }\n\n    .dataframe tbody tr th {\n        vertical-align: top;\n    }\n\n    .dataframe thead th {\n        text-align: right;\n    }\n</style>\n<table border=\"1\" class=\"dataframe\">\n  <thead>\n    <tr style=\"text-align: right;\">\n      <th></th>\n      <th>filename</th>\n      <th>category</th>\n    </tr>\n  </thead>\n  <tbody>\n    <tr>\n      <th>0</th>\n      <td>45e2d0c97f7bdf8cbf3594beb6fdcda0.jpg</td>\n      <td>3</td>\n    </tr>\n    <tr>\n      <th>1</th>\n      <td>f74d1a5fc2498bbbfa045c74e3cc333e.jpg</td>\n      <td>3</td>\n    </tr>\n    <tr>\n      <th>2</th>\n      <td>f6c172096818c5fab10ecae722840798.jpg</td>\n      <td>3</td>\n    </tr>\n    <tr>\n      <th>3</th>\n      <td>251ffd610399ac00fea7709c642676ee.jpg</td>\n      <td>3</td>\n    </tr>\n    <tr>\n      <th>4</th>\n      <td>73c7328b8eda399199fdedec6e4badaf.jpg</td>\n      <td>3</td>\n    </tr>\n    <tr>\n      <th>...</th>\n      <td>...</td>\n      <td>...</td>\n    </tr>\n    <tr>\n      <th>105387</th>\n      <td>047a60001de0331608ba64092cc7ae2b.jpg</td>\n      <td>25</td>\n    </tr>\n    <tr>\n      <th>105388</th>\n      <td>ea39ac66ccdc4b4d4c6443f6c54d8ae3.jpg</td>\n      <td>25</td>\n    </tr>\n    <tr>\n      <th>105389</th>\n      <td>6215f8c52c5bbcfe3e63e0f3ac6265f8.jpg</td>\n      <td>25</td>\n    </tr>\n    <tr>\n      <th>105390</th>\n      <td>1733d8286f6658149c7b7cdeb40d6461.jpg</td>\n      <td>25</td>\n    </tr>\n    <tr>\n      <th>105391</th>\n      <td>8ee42460e9b6f3d909e32fdef2b6052f.jpg</td>\n      <td>25</td>\n    </tr>\n  </tbody>\n</table>\n<p>105392 rows × 2 columns</p>\n</div>"
     },
     "metadata": {},
     "execution_count": 3
    }
   ],
   "source": [
    "train_df = pd.read_csv(\"./train.csv\")\n",
    "train_df"
   ]
  },
  {
   "cell_type": "code",
   "execution_count": 4,
   "metadata": {},
   "outputs": [
    {
     "output_type": "execute_result",
     "data": {
      "text/plain": "                                   filename  category\n0      fd663cf2b6e1d7b02938c6aaae0a32d2.jpg        43\n1      c7fd77508a8c355eaab0d4e10efd6b15.jpg        43\n2      127f3e6d6e3491b2459812353f33a913.jpg        43\n3      5ca4f2da11eda083064e6c36f37eeb81.jpg        43\n4      46d681a542f2c71be017eef6aae23313.jpg        43\n...                                     ...       ...\n12181  5ba958eacb23cd7d1673bad4dae55784.jpg        43\n12182  efbe41a1c2b666b70e337e438559808b.jpg        43\n12183  79fdaa5ac5ba10dbe8004cabd8c35eb3.jpg        43\n12184  ac3d136124617637a05ba66694e381ef.jpg        43\n12185  7ef61d7cfbad9cfe2db4f64560e3dddd.jpg        43\n\n[12186 rows x 2 columns]",
      "text/html": "<div>\n<style scoped>\n    .dataframe tbody tr th:only-of-type {\n        vertical-align: middle;\n    }\n\n    .dataframe tbody tr th {\n        vertical-align: top;\n    }\n\n    .dataframe thead th {\n        text-align: right;\n    }\n</style>\n<table border=\"1\" class=\"dataframe\">\n  <thead>\n    <tr style=\"text-align: right;\">\n      <th></th>\n      <th>filename</th>\n      <th>category</th>\n    </tr>\n  </thead>\n  <tbody>\n    <tr>\n      <th>0</th>\n      <td>fd663cf2b6e1d7b02938c6aaae0a32d2.jpg</td>\n      <td>43</td>\n    </tr>\n    <tr>\n      <th>1</th>\n      <td>c7fd77508a8c355eaab0d4e10efd6b15.jpg</td>\n      <td>43</td>\n    </tr>\n    <tr>\n      <th>2</th>\n      <td>127f3e6d6e3491b2459812353f33a913.jpg</td>\n      <td>43</td>\n    </tr>\n    <tr>\n      <th>3</th>\n      <td>5ca4f2da11eda083064e6c36f37eeb81.jpg</td>\n      <td>43</td>\n    </tr>\n    <tr>\n      <th>4</th>\n      <td>46d681a542f2c71be017eef6aae23313.jpg</td>\n      <td>43</td>\n    </tr>\n    <tr>\n      <th>...</th>\n      <td>...</td>\n      <td>...</td>\n    </tr>\n    <tr>\n      <th>12181</th>\n      <td>5ba958eacb23cd7d1673bad4dae55784.jpg</td>\n      <td>43</td>\n    </tr>\n    <tr>\n      <th>12182</th>\n      <td>efbe41a1c2b666b70e337e438559808b.jpg</td>\n      <td>43</td>\n    </tr>\n    <tr>\n      <th>12183</th>\n      <td>79fdaa5ac5ba10dbe8004cabd8c35eb3.jpg</td>\n      <td>43</td>\n    </tr>\n    <tr>\n      <th>12184</th>\n      <td>ac3d136124617637a05ba66694e381ef.jpg</td>\n      <td>43</td>\n    </tr>\n    <tr>\n      <th>12185</th>\n      <td>7ef61d7cfbad9cfe2db4f64560e3dddd.jpg</td>\n      <td>43</td>\n    </tr>\n  </tbody>\n</table>\n<p>12186 rows × 2 columns</p>\n</div>"
     },
     "metadata": {},
     "execution_count": 4
    }
   ],
   "source": [
    "test_df = pd.read_csv(\"./test.csv\")\n",
    "test_df"
   ]
  },
  {
   "cell_type": "code",
   "execution_count": 10,
   "metadata": {},
   "outputs": [
    {
     "output_type": "display_data",
     "data": {
      "text/plain": "          filename\ncategory          \n0             2683\n1             2702\n2             2687\n3             2703\n4             2703\n5             2641\n6             2641\n7             2660\n8             2700\n9             2698\n10            2672\n11            1843\n12            2691\n13            2682\n14            2684\n15            2632\n16            2665\n17            1553\n18            2103\n19            2679\n20            2653\n21            2598\n22            2623\n23            2540\n24            2705\n25            2692\n26            2684\n27            2702\n28            2561\n29            2138\n30            2705\n31            2677\n32            2157\n33             573\n34            2599\n35            2658\n36            2686\n37            1725\n38            2673\n39            2678\n40            2681\n41            2662",
      "text/html": "<div>\n<style scoped>\n    .dataframe tbody tr th:only-of-type {\n        vertical-align: middle;\n    }\n\n    .dataframe tbody tr th {\n        vertical-align: top;\n    }\n\n    .dataframe thead th {\n        text-align: right;\n    }\n</style>\n<table border=\"1\" class=\"dataframe\">\n  <thead>\n    <tr style=\"text-align: right;\">\n      <th></th>\n      <th>filename</th>\n    </tr>\n    <tr>\n      <th>category</th>\n      <th></th>\n    </tr>\n  </thead>\n  <tbody>\n    <tr>\n      <th>0</th>\n      <td>2683</td>\n    </tr>\n    <tr>\n      <th>1</th>\n      <td>2702</td>\n    </tr>\n    <tr>\n      <th>2</th>\n      <td>2687</td>\n    </tr>\n    <tr>\n      <th>3</th>\n      <td>2703</td>\n    </tr>\n    <tr>\n      <th>4</th>\n      <td>2703</td>\n    </tr>\n    <tr>\n      <th>5</th>\n      <td>2641</td>\n    </tr>\n    <tr>\n      <th>6</th>\n      <td>2641</td>\n    </tr>\n    <tr>\n      <th>7</th>\n      <td>2660</td>\n    </tr>\n    <tr>\n      <th>8</th>\n      <td>2700</td>\n    </tr>\n    <tr>\n      <th>9</th>\n      <td>2698</td>\n    </tr>\n    <tr>\n      <th>10</th>\n      <td>2672</td>\n    </tr>\n    <tr>\n      <th>11</th>\n      <td>1843</td>\n    </tr>\n    <tr>\n      <th>12</th>\n      <td>2691</td>\n    </tr>\n    <tr>\n      <th>13</th>\n      <td>2682</td>\n    </tr>\n    <tr>\n      <th>14</th>\n      <td>2684</td>\n    </tr>\n    <tr>\n      <th>15</th>\n      <td>2632</td>\n    </tr>\n    <tr>\n      <th>16</th>\n      <td>2665</td>\n    </tr>\n    <tr>\n      <th>17</th>\n      <td>1553</td>\n    </tr>\n    <tr>\n      <th>18</th>\n      <td>2103</td>\n    </tr>\n    <tr>\n      <th>19</th>\n      <td>2679</td>\n    </tr>\n    <tr>\n      <th>20</th>\n      <td>2653</td>\n    </tr>\n    <tr>\n      <th>21</th>\n      <td>2598</td>\n    </tr>\n    <tr>\n      <th>22</th>\n      <td>2623</td>\n    </tr>\n    <tr>\n      <th>23</th>\n      <td>2540</td>\n    </tr>\n    <tr>\n      <th>24</th>\n      <td>2705</td>\n    </tr>\n    <tr>\n      <th>25</th>\n      <td>2692</td>\n    </tr>\n    <tr>\n      <th>26</th>\n      <td>2684</td>\n    </tr>\n    <tr>\n      <th>27</th>\n      <td>2702</td>\n    </tr>\n    <tr>\n      <th>28</th>\n      <td>2561</td>\n    </tr>\n    <tr>\n      <th>29</th>\n      <td>2138</td>\n    </tr>\n    <tr>\n      <th>30</th>\n      <td>2705</td>\n    </tr>\n    <tr>\n      <th>31</th>\n      <td>2677</td>\n    </tr>\n    <tr>\n      <th>32</th>\n      <td>2157</td>\n    </tr>\n    <tr>\n      <th>33</th>\n      <td>573</td>\n    </tr>\n    <tr>\n      <th>34</th>\n      <td>2599</td>\n    </tr>\n    <tr>\n      <th>35</th>\n      <td>2658</td>\n    </tr>\n    <tr>\n      <th>36</th>\n      <td>2686</td>\n    </tr>\n    <tr>\n      <th>37</th>\n      <td>1725</td>\n    </tr>\n    <tr>\n      <th>38</th>\n      <td>2673</td>\n    </tr>\n    <tr>\n      <th>39</th>\n      <td>2678</td>\n    </tr>\n    <tr>\n      <th>40</th>\n      <td>2681</td>\n    </tr>\n    <tr>\n      <th>41</th>\n      <td>2662</td>\n    </tr>\n  </tbody>\n</table>\n</div>"
     },
     "metadata": {}
    },
    {
     "output_type": "display_data",
     "data": {
      "text/plain": "          filename\ncategory          \n43           12186",
      "text/html": "<div>\n<style scoped>\n    .dataframe tbody tr th:only-of-type {\n        vertical-align: middle;\n    }\n\n    .dataframe tbody tr th {\n        vertical-align: top;\n    }\n\n    .dataframe thead th {\n        text-align: right;\n    }\n</style>\n<table border=\"1\" class=\"dataframe\">\n  <thead>\n    <tr style=\"text-align: right;\">\n      <th></th>\n      <th>filename</th>\n    </tr>\n    <tr>\n      <th>category</th>\n      <th></th>\n    </tr>\n  </thead>\n  <tbody>\n    <tr>\n      <th>43</th>\n      <td>12186</td>\n    </tr>\n  </tbody>\n</table>\n</div>"
     },
     "metadata": {}
    }
   ],
   "source": [
    "display(train_df.groupby(\"category\").count())\n",
    "display(test_df.groupby(\"category\").count())"
   ]
  },
  {
   "cell_type": "code",
   "execution_count": null,
   "metadata": {},
   "outputs": [],
   "source": []
  }
 ],
 "metadata": {
  "language_info": {
   "codemirror_mode": {
    "name": "ipython",
    "version": 3
   },
   "file_extension": ".py",
   "mimetype": "text/x-python",
   "name": "python",
   "nbconvert_exporter": "python",
   "pygments_lexer": "ipython3",
   "version": "3.8.2-final"
  },
  "orig_nbformat": 2,
  "kernelspec": {
   "name": "python38264bitc33b5bec8ffd4f23bb1994339b3553a2",
   "display_name": "Python 3.8.2 64-bit"
  }
 },
 "nbformat": 4,
 "nbformat_minor": 2
}