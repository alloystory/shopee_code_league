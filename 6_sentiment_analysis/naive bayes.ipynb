{
 "cells": [
  {
   "cell_type": "code",
   "execution_count": 1,
   "metadata": {},
   "outputs": [],
   "source": [
    "import numpy as pd\n",
    "import pandas as pd\n",
    "from sklearn import model_selection, preprocessing\n",
    "from sklearn.feature_extraction.text import TfidfVectorizer, CountVectorizer, HashingVectorizer\n",
    "from sklearn import decomposition, ensemble\n",
    "import textblob, string\n",
    "\n",
    "import seaborn as sns\n",
    "from sklearn.model_selection import train_test_split\n",
    "from sklearn.naive_bayes import GaussianNB, BernoulliNB, MultinomialNB\n",
    "from sklearn.metrics import classification_report, accuracy_score"
   ]
  },
  {
   "cell_type": "code",
   "execution_count": 2,
   "metadata": {},
   "outputs": [],
   "source": [
    "df = pd.read_csv(\"../data/raw.csv\")\n",
    "df = df.set_index(\"id\")"
   ]
  },
  {
   "cell_type": "code",
   "execution_count": 232,
   "metadata": {},
   "outputs": [
    {
     "data": {
      "text/plain": [
       "title     0\n",
       "author    0\n",
       "text      0\n",
       "label     0\n",
       "length    0\n",
       "dtype: int64"
      ]
     },
     "execution_count": 232,
     "metadata": {},
     "output_type": "execute_result"
    }
   ],
   "source": [
    "# drop null values\n",
    "df = df.dropna()\n",
    "df.isnull().sum()"
   ]
  },
  {
   "cell_type": "code",
   "execution_count": 320,
   "metadata": {
    "scrolled": false
   },
   "outputs": [
    {
     "name": "stderr",
     "output_type": "stream",
     "text": [
      "C:\\Users\\Aloysius\\anaconda3\\lib\\site-packages\\ipykernel_launcher.py:37: SettingWithCopyWarning: \n",
      "A value is trying to be set on a copy of a slice from a DataFrame\n",
      "\n",
      "See the caveats in the documentation: https://pandas.pydata.org/pandas-docs/stable/user_guide/indexing.html#returning-a-view-versus-a-copy\n"
     ]
    }
   ],
   "source": [
    "from nltk.corpus import stopwords\n",
    "from nltk.stem.porter import PorterStemmer\n",
    "from nltk.stem import WordNetLemmatizer\n",
    "from nltk.corpus import wordnet\n",
    "import re\n",
    "\n",
    "ps = PorterStemmer()\n",
    "lemmatizer = WordNetLemmatizer()\n",
    "def get_wordnet_pos(word):\n",
    "    \"\"\"Map POS tag to first character lemmatize() accepts\"\"\"\n",
    "    tag = nltk.pos_tag([word])[0][1][0].upper()\n",
    "    tag_dict = {\"J\": wordnet.ADJ,\n",
    "                \"N\": wordnet.NOUN,\n",
    "                \"V\": wordnet.VERB,\n",
    "                \"R\": wordnet.ADV}\n",
    "\n",
    "    return tag_dict.get(tag, wordnet.NOUN)\n",
    "\n",
    "stop_words = set(stopwords.words(\"english\"))\n",
    "sanitised_df = df.copy()\n",
    "\n",
    "for idx, row in sanitised_df.iterrows():\n",
    "    review = re.sub(\"[^a-zA-Z]\", \" \", row[\"title\"])\n",
    "    review = re.sub(\"\\s{2,}\", \" \", review)\n",
    "    review = review.lower()\n",
    "    review = review.split()\n",
    "    review = list(filter(lambda word: word not in stop_words, review))\n",
    "#     review = list(map(ps.stem, review))\n",
    "    lemmatized = []\n",
    "    for word in review:\n",
    "        tag = nltk.pos_tag([word])[0][1][0].upper()\n",
    "        tag_dict = {\"J\": wordnet.ADJ,\n",
    "                    \"N\": wordnet.NOUN,\n",
    "                    \"V\": wordnet.VERB,\n",
    "                    \"R\": wordnet.ADV}\n",
    "        lemmatized.append(lemmatizer.lemmatize(word, tag_dict.get(tag, wordnet.NOUN)))\n",
    "    sanitised_df[\"title\"][idx] = \" \".join(lemmatized)"
   ]
  },
  {
   "cell_type": "code",
   "execution_count": 321,
   "metadata": {},
   "outputs": [
    {
     "data": {
      "text/html": [
       "<div>\n",
       "<style scoped>\n",
       "    .dataframe tbody tr th:only-of-type {\n",
       "        vertical-align: middle;\n",
       "    }\n",
       "\n",
       "    .dataframe tbody tr th {\n",
       "        vertical-align: top;\n",
       "    }\n",
       "\n",
       "    .dataframe thead th {\n",
       "        text-align: right;\n",
       "    }\n",
       "</style>\n",
       "<table border=\"1\" class=\"dataframe\">\n",
       "  <thead>\n",
       "    <tr style=\"text-align: right;\">\n",
       "      <th></th>\n",
       "      <th>title</th>\n",
       "      <th>author</th>\n",
       "      <th>text</th>\n",
       "      <th>label</th>\n",
       "      <th>length</th>\n",
       "    </tr>\n",
       "    <tr>\n",
       "      <th>id</th>\n",
       "      <th></th>\n",
       "      <th></th>\n",
       "      <th></th>\n",
       "      <th></th>\n",
       "      <th></th>\n",
       "    </tr>\n",
       "  </thead>\n",
       "  <tbody>\n",
       "    <tr>\n",
       "      <th>14704</th>\n",
       "      <td>playlist taylor swift jesus mary chain offer d...</td>\n",
       "      <td>Jon Pareles, Jon Caramanica and Nate Chinen</td>\n",
       "      <td>Every Friday, pop critics for The New York Tim...</td>\n",
       "      <td>0</td>\n",
       "      <td>80</td>\n",
       "    </tr>\n",
       "    <tr>\n",
       "      <th>3465</th>\n",
       "      <td>fire white house staff claim see fence levee f...</td>\n",
       "      <td>Matthew Boyle</td>\n",
       "      <td>President Donald Trump’s White House communica...</td>\n",
       "      <td>0</td>\n",
       "      <td>80</td>\n",
       "    </tr>\n",
       "    <tr>\n",
       "      <th>4714</th>\n",
       "      <td>legislature reach deal extend mayoral control ...</td>\n",
       "      <td>Vivian Yee and Jesse McKinley</td>\n",
       "      <td>ALBANY  —   State lawmakers on Friday reached ...</td>\n",
       "      <td>0</td>\n",
       "      <td>80</td>\n",
       "    </tr>\n",
       "    <tr>\n",
       "      <th>10362</th>\n",
       "      <td>donald trump invite conservative medium white ...</td>\n",
       "      <td>Charlie Spiering</td>\n",
       "      <td>President Donald Trump met with a group of con...</td>\n",
       "      <td>0</td>\n",
       "      <td>80</td>\n",
       "    </tr>\n",
       "    <tr>\n",
       "      <th>2804</th>\n",
       "      <td>thursday even briefing golden state warrior hi...</td>\n",
       "      <td>Andrea Kannapell and Erica Ackerberg</td>\n",
       "      <td>(Want to get this briefing by email? Here’s th...</td>\n",
       "      <td>0</td>\n",
       "      <td>80</td>\n",
       "    </tr>\n",
       "    <tr>\n",
       "      <th>...</th>\n",
       "      <td>...</td>\n",
       "      <td>...</td>\n",
       "      <td>...</td>\n",
       "      <td>...</td>\n",
       "      <td>...</td>\n",
       "    </tr>\n",
       "    <tr>\n",
       "      <th>15611</th>\n",
       "      <td>another u false flag</td>\n",
       "      <td>Joachim Hagopian</td>\n",
       "      <td>By Joachim Hagopian October 29, 2016 \\r\\nThe W...</td>\n",
       "      <td>1</td>\n",
       "      <td>20</td>\n",
       "    </tr>\n",
       "    <tr>\n",
       "      <th>7895</th>\n",
       "      <td>orphan new york time</td>\n",
       "      <td>Rachel Kushner</td>\n",
       "      <td>Standing at an intersection in Shuafat Refugee...</td>\n",
       "      <td>0</td>\n",
       "      <td>20</td>\n",
       "    </tr>\n",
       "    <tr>\n",
       "      <th>2025</th>\n",
       "      <td>would happen u nuked</td>\n",
       "      <td>EV</td>\n",
       "      <td>Ever wonder what would happen if the U.S. was ...</td>\n",
       "      <td>1</td>\n",
       "      <td>20</td>\n",
       "    </tr>\n",
       "    <tr>\n",
       "      <th>1590</th>\n",
       "      <td>top damage wikileaks</td>\n",
       "      <td>Eddy Lavine</td>\n",
       "      <td>vault.fbi.gov (p. 44) “Early in Clinton’s tenu...</td>\n",
       "      <td>1</td>\n",
       "      <td>20</td>\n",
       "    </tr>\n",
       "    <tr>\n",
       "      <th>11838</th>\n",
       "      <td>top damage wikileaks</td>\n",
       "      <td>HangTheBankers.com</td>\n",
       "      <td>https://vault.fbi.gov/hillary-r.-clinton/hilla...</td>\n",
       "      <td>1</td>\n",
       "      <td>20</td>\n",
       "    </tr>\n",
       "  </tbody>\n",
       "</table>\n",
       "<p>16444 rows × 5 columns</p>\n",
       "</div>"
      ],
      "text/plain": [
       "                                                   title  \\\n",
       "id                                                         \n",
       "14704  playlist taylor swift jesus mary chain offer d...   \n",
       "3465   fire white house staff claim see fence levee f...   \n",
       "4714   legislature reach deal extend mayoral control ...   \n",
       "10362  donald trump invite conservative medium white ...   \n",
       "2804   thursday even briefing golden state warrior hi...   \n",
       "...                                                  ...   \n",
       "15611                               another u false flag   \n",
       "7895                                orphan new york time   \n",
       "2025                                would happen u nuked   \n",
       "1590                                top damage wikileaks   \n",
       "11838                               top damage wikileaks   \n",
       "\n",
       "                                            author  \\\n",
       "id                                                   \n",
       "14704  Jon Pareles, Jon Caramanica and Nate Chinen   \n",
       "3465                                 Matthew Boyle   \n",
       "4714                 Vivian Yee and Jesse McKinley   \n",
       "10362                             Charlie Spiering   \n",
       "2804          Andrea Kannapell and Erica Ackerberg   \n",
       "...                                            ...   \n",
       "15611                             Joachim Hagopian   \n",
       "7895                                Rachel Kushner   \n",
       "2025                                            EV   \n",
       "1590                                   Eddy Lavine   \n",
       "11838                           HangTheBankers.com   \n",
       "\n",
       "                                                    text  label  length  \n",
       "id                                                                       \n",
       "14704  Every Friday, pop critics for The New York Tim...      0      80  \n",
       "3465   President Donald Trump’s White House communica...      0      80  \n",
       "4714   ALBANY  —   State lawmakers on Friday reached ...      0      80  \n",
       "10362  President Donald Trump met with a group of con...      0      80  \n",
       "2804   (Want to get this briefing by email? Here’s th...      0      80  \n",
       "...                                                  ...    ...     ...  \n",
       "15611  By Joachim Hagopian October 29, 2016 \\r\\nThe W...      1      20  \n",
       "7895   Standing at an intersection in Shuafat Refugee...      0      20  \n",
       "2025   Ever wonder what would happen if the U.S. was ...      1      20  \n",
       "1590   vault.fbi.gov (p. 44) “Early in Clinton’s tenu...      1      20  \n",
       "11838  https://vault.fbi.gov/hillary-r.-clinton/hilla...      1      20  \n",
       "\n",
       "[16444 rows x 5 columns]"
      ]
     },
     "execution_count": 321,
     "metadata": {},
     "output_type": "execute_result"
    }
   ],
   "source": [
    "# remove\n",
    "working_df = sanitised_df.copy()\n",
    "working_df[\"length\"] = working_df[\"title\"].map(len)\n",
    "working_df = working_df[(working_df[\"length\"] >= 20) & (working_df[\"length\"] <= 80)]\n",
    "working_df.sort_values(\"length\", ascending = False)"
   ]
  },
  {
   "cell_type": "code",
   "execution_count": 322,
   "metadata": {},
   "outputs": [],
   "source": [
    "# split\n",
    "X_train, X_test, y_train, y_test = train_test_split(\n",
    "    working_df[\"title\"], \n",
    "    working_df[\"label\"], \n",
    "    test_size = 0.25, \n",
    "    random_state = 0)"
   ]
  },
  {
   "cell_type": "markdown",
   "metadata": {},
   "source": [
    "# Bag of Words"
   ]
  },
  {
   "cell_type": "code",
   "execution_count": 498,
   "metadata": {},
   "outputs": [],
   "source": [
    "features = 8000\n",
    "ngram = (1, 3)\n",
    "mindf = 1"
   ]
  },
  {
   "cell_type": "code",
   "execution_count": 499,
   "metadata": {},
   "outputs": [],
   "source": [
    "#bag of words with ngram for more meaning from the document\n",
    "cv = CountVectorizer(ngram_range = ngram,\n",
    "                     max_features = features,\n",
    "                    min_df = mindf)\n",
    "X_train_cv = cv.fit_transform(X_train)\n",
    "X_test_cv = cv.transform(X_test)"
   ]
  },
  {
   "cell_type": "code",
   "execution_count": 500,
   "metadata": {
    "scrolled": false
   },
   "outputs": [
    {
     "data": {
      "text/html": [
       "<div>\n",
       "<style scoped>\n",
       "    .dataframe tbody tr th:only-of-type {\n",
       "        vertical-align: middle;\n",
       "    }\n",
       "\n",
       "    .dataframe tbody tr th {\n",
       "        vertical-align: top;\n",
       "    }\n",
       "\n",
       "    .dataframe thead th {\n",
       "        text-align: right;\n",
       "    }\n",
       "</style>\n",
       "<table border=\"1\" class=\"dataframe\">\n",
       "  <thead>\n",
       "    <tr style=\"text-align: right;\">\n",
       "      <th></th>\n",
       "      <th>0</th>\n",
       "    </tr>\n",
       "  </thead>\n",
       "  <tbody>\n",
       "    <tr>\n",
       "      <th>new</th>\n",
       "      <td>5121</td>\n",
       "    </tr>\n",
       "    <tr>\n",
       "      <th>time</th>\n",
       "      <td>4744</td>\n",
       "    </tr>\n",
       "    <tr>\n",
       "      <th>york</th>\n",
       "      <td>4656</td>\n",
       "    </tr>\n",
       "    <tr>\n",
       "      <th>new york</th>\n",
       "      <td>4655</td>\n",
       "    </tr>\n",
       "    <tr>\n",
       "      <th>york time</th>\n",
       "      <td>4578</td>\n",
       "    </tr>\n",
       "    <tr>\n",
       "      <th>...</th>\n",
       "      <td>...</td>\n",
       "    </tr>\n",
       "    <tr>\n",
       "      <th>ptsd new</th>\n",
       "      <td>3</td>\n",
       "    </tr>\n",
       "    <tr>\n",
       "      <th>ptsd new york</th>\n",
       "      <td>3</td>\n",
       "    </tr>\n",
       "    <tr>\n",
       "      <th>public faith</th>\n",
       "      <td>3</td>\n",
       "    </tr>\n",
       "    <tr>\n",
       "      <th>publicly</th>\n",
       "      <td>3</td>\n",
       "    </tr>\n",
       "    <tr>\n",
       "      <th>lightly</th>\n",
       "      <td>3</td>\n",
       "    </tr>\n",
       "  </tbody>\n",
       "</table>\n",
       "<p>8000 rows × 1 columns</p>\n",
       "</div>"
      ],
      "text/plain": [
       "                  0\n",
       "new            5121\n",
       "time           4744\n",
       "york           4656\n",
       "new york       4655\n",
       "york time      4578\n",
       "...             ...\n",
       "ptsd new          3\n",
       "ptsd new york     3\n",
       "public faith      3\n",
       "publicly          3\n",
       "lightly           3\n",
       "\n",
       "[8000 rows x 1 columns]"
      ]
     },
     "execution_count": 500,
     "metadata": {},
     "output_type": "execute_result"
    }
   ],
   "source": [
    "X_train_cv_df = pd.DataFrame(X_train_cv.toarray(), columns = cv.get_feature_names())\n",
    "top_words_df = pd.DataFrame(X_train_cv_df.sum()).sort_values(0, ascending=False)\n",
    "top_words_df"
   ]
  },
  {
   "cell_type": "markdown",
   "metadata": {},
   "source": [
    "# TFIDF"
   ]
  },
  {
   "cell_type": "code",
   "execution_count": 501,
   "metadata": {},
   "outputs": [],
   "source": [
    "#using TFIDF which down weights unimportant words that appear with high frequency\n",
    "tv = TfidfVectorizer(\n",
    "    max_features = features,\n",
    "    ngram_range = ngram,\n",
    "    min_df = mindf)\n",
    "X_train_tv = tv.fit_transform(X_train)\n",
    "X_test_tv = tv.transform(X_test)"
   ]
  },
  {
   "cell_type": "code",
   "execution_count": 502,
   "metadata": {
    "scrolled": true
   },
   "outputs": [
    {
     "data": {
      "text/html": [
       "<div>\n",
       "<style scoped>\n",
       "    .dataframe tbody tr th:only-of-type {\n",
       "        vertical-align: middle;\n",
       "    }\n",
       "\n",
       "    .dataframe tbody tr th {\n",
       "        vertical-align: top;\n",
       "    }\n",
       "\n",
       "    .dataframe thead th {\n",
       "        text-align: right;\n",
       "    }\n",
       "</style>\n",
       "<table border=\"1\" class=\"dataframe\">\n",
       "  <thead>\n",
       "    <tr style=\"text-align: right;\">\n",
       "      <th></th>\n",
       "      <th>0</th>\n",
       "    </tr>\n",
       "  </thead>\n",
       "  <tbody>\n",
       "    <tr>\n",
       "      <th>new</th>\n",
       "      <td>504.769285</td>\n",
       "    </tr>\n",
       "    <tr>\n",
       "      <th>time</th>\n",
       "      <td>480.499239</td>\n",
       "    </tr>\n",
       "    <tr>\n",
       "      <th>york</th>\n",
       "      <td>475.540986</td>\n",
       "    </tr>\n",
       "    <tr>\n",
       "      <th>new york</th>\n",
       "      <td>475.495310</td>\n",
       "    </tr>\n",
       "    <tr>\n",
       "      <th>york time</th>\n",
       "      <td>468.972417</td>\n",
       "    </tr>\n",
       "    <tr>\n",
       "      <th>...</th>\n",
       "      <td>...</td>\n",
       "    </tr>\n",
       "    <tr>\n",
       "      <th>line camp stand</th>\n",
       "      <td>0.649496</td>\n",
       "    </tr>\n",
       "    <tr>\n",
       "      <th>police prep assault</th>\n",
       "      <td>0.649496</td>\n",
       "    </tr>\n",
       "    <tr>\n",
       "      <th>police prep</th>\n",
       "      <td>0.649496</td>\n",
       "    </tr>\n",
       "    <tr>\n",
       "      <th>militarize police prep</th>\n",
       "      <td>0.649496</td>\n",
       "    </tr>\n",
       "    <tr>\n",
       "      <th>declare militarize</th>\n",
       "      <td>0.649496</td>\n",
       "    </tr>\n",
       "  </tbody>\n",
       "</table>\n",
       "<p>8000 rows × 1 columns</p>\n",
       "</div>"
      ],
      "text/plain": [
       "                                 0\n",
       "new                     504.769285\n",
       "time                    480.499239\n",
       "york                    475.540986\n",
       "new york                475.495310\n",
       "york time               468.972417\n",
       "...                            ...\n",
       "line camp stand           0.649496\n",
       "police prep assault       0.649496\n",
       "police prep               0.649496\n",
       "militarize police prep    0.649496\n",
       "declare militarize        0.649496\n",
       "\n",
       "[8000 rows x 1 columns]"
      ]
     },
     "execution_count": 502,
     "metadata": {},
     "output_type": "execute_result"
    }
   ],
   "source": [
    "X_train_tv_df = pd.DataFrame(X_train_tv.toarray(), columns = tv.get_feature_names())\n",
    "top_words_df = pd.DataFrame(X_train_tv_df.sum()).sort_values(0, ascending=False)\n",
    "top_words_df"
   ]
  },
  {
   "cell_type": "markdown",
   "metadata": {},
   "source": [
    "# Bernoulli Naive Bayes"
   ]
  },
  {
   "cell_type": "code",
   "execution_count": 503,
   "metadata": {},
   "outputs": [
    {
     "name": "stdout",
     "output_type": "stream",
     "text": [
      "0.9124300656774508\n",
      "0.878131841401119\n"
     ]
    }
   ],
   "source": [
    "m_model = MultinomialNB()\n",
    "m_model.fit(pd.DataFrame(X_train_cv.toarray(), columns = cv.get_feature_names()), y_train)\n",
    "pred = m_model.predict(pd.DataFrame(X_test_cv.toarray(), columns = cv.get_feature_names()))\n",
    "print(accuracy_score(pred, y_test))\n",
    "\n",
    "m_model.fit(pd.DataFrame(X_train_tv.toarray(), columns = tv.get_feature_names()), y_train)\n",
    "pred = m_model.predict(pd.DataFrame(X_test_tv.toarray(), columns = tv.get_feature_names()))\n",
    "print(accuracy_score(pred, y_test))"
   ]
  },
  {
   "cell_type": "code",
   "execution_count": 504,
   "metadata": {},
   "outputs": [
    {
     "name": "stdout",
     "output_type": "stream",
     "text": [
      "0.8946728289953783\n",
      "0.8946728289953783\n"
     ]
    }
   ],
   "source": [
    "b_model = BernoulliNB()\n",
    "b_model.fit(pd.DataFrame(X_train_cv.toarray(), columns = cv.get_feature_names()), y_train)\n",
    "pred = b_model.predict(pd.DataFrame(X_test_cv.toarray(), columns = cv.get_feature_names()))\n",
    "print(accuracy_score(pred, y_test))\n",
    "\n",
    "b_model.fit(pd.DataFrame(X_train_tv.toarray(), columns = tv.get_feature_names()), y_train)\n",
    "pred = b_model.predict(pd.DataFrame(X_test_tv.toarray(), columns = tv.get_feature_names()))\n",
    "print(accuracy_score(pred, y_test))"
   ]
  },
  {
   "cell_type": "code",
   "execution_count": 505,
   "metadata": {},
   "outputs": [],
   "source": [
    "bow_accuracy_bnb = dict()\n",
    "tfidf_accuracy_bnb = dict()\n",
    "\n",
    "x = 100\n",
    "for alpha_val in range(1, x + 1):\n",
    "    alpha_val = alpha_val / x\n",
    "    \n",
    "    # Set Model\n",
    "    model = MultinomialNB(alpha = alpha_val)\n",
    "\n",
    "    # BOW\n",
    "    model.fit(X_train_cv, y_train)\n",
    "    bow_pred = model.predict(X_test_cv)\n",
    "    bow_accuracy_bnb[alpha_val] = accuracy_score(y_test, bow_pred)\n",
    "\n",
    "    # TFIDF\n",
    "    model.fit(X_train_tv, y_train)\n",
    "    bow_pred = model.predict(X_test_tv)\n",
    "    tfidf_accuracy_bnb[alpha_val] = accuracy_score(y_test, bow_pred)"
   ]
  },
  {
   "cell_type": "code",
   "execution_count": 506,
   "metadata": {
    "scrolled": true
   },
   "outputs": [
    {
     "data": {
      "text/plain": [
       "<matplotlib.axes._subplots.AxesSubplot at 0x230927bfbc8>"
      ]
     },
     "execution_count": 506,
     "metadata": {},
     "output_type": "execute_result"
    },
    {
     "data": {
      "image/png": "[encoded data removed]",
      "text/plain": [
       "<Figure size 432x288 with 1 Axes>"
      ]
     },
     "metadata": {
      "needs_background": "light"
     },
     "output_type": "display_data"
    }
   ],
   "source": [
    "bow_acc_df = pd.DataFrame.from_dict(bow_accuracy_bnb, orient = \"index\", columns = [\"bnb\"])\n",
    "# bow_acc_df[\"bnb_uniform_prior\"] = bow_accuracy_bnb_uniform_prior.values()\n",
    "sns.lineplot(data = bow_acc_df)"
   ]
  },
  {
   "cell_type": "code",
   "execution_count": 507,
   "metadata": {
    "scrolled": true
   },
   "outputs": [
    {
     "data": {
      "text/plain": [
       "<matplotlib.axes._subplots.AxesSubplot at 0x230e79203c8>"
      ]
     },
     "execution_count": 507,
     "metadata": {},
     "output_type": "execute_result"
    },
    {
     "data": {
      "image/png": "[encoded data removed]",
      "text/plain": [
       "<Figure size 432x288 with 1 Axes>"
      ]
     },
     "metadata": {
      "needs_background": "light"
     },
     "output_type": "display_data"
    }
   ],
   "source": [
    "tfidf_acc_df = pd.DataFrame.from_dict(tfidf_accuracy_bnb, orient = \"index\", columns = [\"bnb\"])\n",
    "# tfidf_acc_df[\"bnb_uniform_prior\"] = tfidf_accuracy_bnb_uniform_prior.values()\n",
    "sns.lineplot(data = tfidf_acc_df)"
   ]
  },
  {
   "cell_type": "code",
   "execution_count": 508,
   "metadata": {},
   "outputs": [
    {
     "name": "stdout",
     "output_type": "stream",
     "text": [
      "0.62 0.9124300656774508\n",
      "0.31 0.8864023351982486\n"
     ]
    }
   ],
   "source": [
    "max_bow_key = max(bow_accuracy_bnb, key = bow_accuracy_bnb.get)\n",
    "print(max_bow_key, bow_accuracy_bnb[max_bow_key])\n",
    "max_tfidf_key = max(tfidf_accuracy_bnb, key = tfidf_accuracy_bnb.get)\n",
    "print(max_tfidf_key, tfidf_accuracy_bnb[max_tfidf_key])"
   ]
  }
 ],
 "metadata": {
  "kernelspec": {
   "display_name": "Python 3",
   "language": "python",
   "name": "python3"
  },
  "language_info": {
   "codemirror_mode": {
    "name": "ipython",
    "version": 3
   },
   "file_extension": ".py",
   "mimetype": "text/x-python",
   "name": "python",
   "nbconvert_exporter": "python",
   "pygments_lexer": "ipython3",
   "version": "3.7.7"
  }
 },
 "nbformat": 4,
 "nbformat_minor": 4
}
